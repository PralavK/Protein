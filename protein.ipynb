{
 "cells": [
  {
   "cell_type": "code",
   "execution_count": 1,
   "metadata": {},
   "outputs": [],
   "source": [
    "import pandas as pd\n",
    "import numpy as np\n",
    "import matplotlib.pyplot as plt\n",
    "import seaborn as sns\n"
   ]
  },
  {
   "cell_type": "code",
   "execution_count": 2,
   "metadata": {},
   "outputs": [],
   "source": [
    "%matplotlib inline"
   ]
  },
  {
   "cell_type": "code",
   "execution_count": 3,
   "metadata": {},
   "outputs": [],
   "source": [
    "df1 = pd.read_csv(\"pdb_data_no_dups.csv\")"
   ]
  },
  {
   "cell_type": "code",
   "execution_count": 4,
   "metadata": {
    "collapsed": true
   },
   "outputs": [],
   "source": [
    "#df1.head()"
   ]
  },
  {
   "cell_type": "code",
   "execution_count": 4,
   "metadata": {},
   "outputs": [
    {
     "data": {
      "text/plain": [
       "(141401, 14)"
      ]
     },
     "execution_count": 4,
     "metadata": {},
     "output_type": "execute_result"
    }
   ],
   "source": [
    "df1.shape"
   ]
  },
  {
   "cell_type": "code",
   "execution_count": 6,
   "metadata": {
    "collapsed": true
   },
   "outputs": [],
   "source": [
    "#df1.columns"
   ]
  },
  {
   "cell_type": "code",
   "execution_count": 7,
   "metadata": {
    "collapsed": true
   },
   "outputs": [],
   "source": [
    "#len((df1[\"classification\"].unique()))"
   ]
  },
  {
   "cell_type": "code",
   "execution_count": 8,
   "metadata": {},
   "outputs": [
    {
     "data": {
      "text/plain": [
       "140911"
      ]
     },
     "execution_count": 8,
     "metadata": {},
     "output_type": "execute_result"
    }
   ],
   "source": [
    "df1['structureId'].nunique()"
   ]
  },
  {
   "cell_type": "code",
   "execution_count": 5,
   "metadata": {},
   "outputs": [
    {
     "data": {
      "text/html": [
       "<div>\n",
       "<style scoped>\n",
       "    .dataframe tbody tr th:only-of-type {\n",
       "        vertical-align: middle;\n",
       "    }\n",
       "\n",
       "    .dataframe tbody tr th {\n",
       "        vertical-align: top;\n",
       "    }\n",
       "\n",
       "    .dataframe thead th {\n",
       "        text-align: right;\n",
       "    }\n",
       "</style>\n",
       "<table border=\"1\" class=\"dataframe\">\n",
       "  <thead>\n",
       "    <tr style=\"text-align: right;\">\n",
       "      <th></th>\n",
       "      <th>structureId</th>\n",
       "      <th>classification</th>\n",
       "      <th>experimentalTechnique</th>\n",
       "      <th>macromoleculeType</th>\n",
       "      <th>residueCount</th>\n",
       "      <th>resolution</th>\n",
       "      <th>structureMolecularWeight</th>\n",
       "      <th>crystallizationMethod</th>\n",
       "      <th>crystallizationTempK</th>\n",
       "      <th>densityMatthews</th>\n",
       "      <th>densityPercentSol</th>\n",
       "      <th>pdbxDetails</th>\n",
       "      <th>phValue</th>\n",
       "      <th>publicationYear</th>\n",
       "    </tr>\n",
       "  </thead>\n",
       "  <tbody>\n",
       "    <tr>\n",
       "      <th>113250</th>\n",
       "      <td>4WM2</td>\n",
       "      <td>NaN</td>\n",
       "      <td>X-RAY DIFFRACTION</td>\n",
       "      <td>Protein</td>\n",
       "      <td>129</td>\n",
       "      <td>1.6</td>\n",
       "      <td>14495.96</td>\n",
       "      <td>BATCH MODE</td>\n",
       "      <td>293.0</td>\n",
       "      <td>1.94</td>\n",
       "      <td>36.67</td>\n",
       "      <td>Sodium chloride</td>\n",
       "      <td>NaN</td>\n",
       "      <td>2015.0</td>\n",
       "    </tr>\n",
       "    <tr>\n",
       "      <th>138421</th>\n",
       "      <td>5VZL</td>\n",
       "      <td>NaN</td>\n",
       "      <td>ELECTRON MICROSCOPY</td>\n",
       "      <td>Protein#RNA</td>\n",
       "      <td>1574</td>\n",
       "      <td>3.9</td>\n",
       "      <td>207247.61</td>\n",
       "      <td>NaN</td>\n",
       "      <td>NaN</td>\n",
       "      <td>NaN</td>\n",
       "      <td>NaN</td>\n",
       "      <td>NaN</td>\n",
       "      <td>NaN</td>\n",
       "      <td>2017.0</td>\n",
       "    </tr>\n",
       "  </tbody>\n",
       "</table>\n",
       "</div>"
      ],
      "text/plain": [
       "       structureId classification experimentalTechnique macromoleculeType  \\\n",
       "113250        4WM2            NaN     X-RAY DIFFRACTION           Protein   \n",
       "138421        5VZL            NaN   ELECTRON MICROSCOPY       Protein#RNA   \n",
       "\n",
       "        residueCount  resolution  structureMolecularWeight  \\\n",
       "113250           129         1.6                  14495.96   \n",
       "138421          1574         3.9                 207247.61   \n",
       "\n",
       "       crystallizationMethod  crystallizationTempK  densityMatthews  \\\n",
       "113250            BATCH MODE                 293.0             1.94   \n",
       "138421                   NaN                   NaN              NaN   \n",
       "\n",
       "        densityPercentSol      pdbxDetails  phValue  publicationYear  \n",
       "113250              36.67  Sodium chloride      NaN           2015.0  \n",
       "138421                NaN              NaN      NaN           2017.0  "
      ]
     },
     "execution_count": 5,
     "metadata": {},
     "output_type": "execute_result"
    }
   ],
   "source": [
    "df1[df1[\"classification\"].isnull()]"
   ]
  },
  {
   "cell_type": "code",
   "execution_count": 10,
   "metadata": {
    "collapsed": true
   },
   "outputs": [],
   "source": [
    "#df1.isnull().sum()"
   ]
  },
  {
   "cell_type": "code",
   "execution_count": null,
   "metadata": {
    "collapsed": true
   },
   "outputs": [],
   "source": []
  },
  {
   "cell_type": "code",
   "execution_count": 11,
   "metadata": {
    "collapsed": true
   },
   "outputs": [],
   "source": [
    "g = df1.groupby('experimentalTechnique').structureId.count().sort_values(ascending = False)[0:5]"
   ]
  },
  {
   "cell_type": "code",
   "execution_count": 12,
   "metadata": {
    "collapsed": true
   },
   "outputs": [],
   "source": [
    "#g.plot(kind = \"bar\")"
   ]
  },
  {
   "cell_type": "code",
   "execution_count": 6,
   "metadata": {},
   "outputs": [],
   "source": [
    "df2 = pd.read_csv(\"pdb_data_seq.csv\")"
   ]
  },
  {
   "cell_type": "code",
   "execution_count": 7,
   "metadata": {},
   "outputs": [
    {
     "data": {
      "text/plain": [
       "(467304, 5)"
      ]
     },
     "execution_count": 7,
     "metadata": {},
     "output_type": "execute_result"
    }
   ],
   "source": [
    "df2.shape"
   ]
  },
  {
   "cell_type": "code",
   "execution_count": 15,
   "metadata": {},
   "outputs": [
    {
     "data": {
      "text/plain": [
       "Index(['structureId', 'chainId', 'sequence', 'residueCount',\n",
       "       'macromoleculeType'],\n",
       "      dtype='object')"
      ]
     },
     "execution_count": 15,
     "metadata": {},
     "output_type": "execute_result"
    }
   ],
   "source": [
    "df2.columns"
   ]
  },
  {
   "cell_type": "code",
   "execution_count": 16,
   "metadata": {
    "collapsed": true
   },
   "outputs": [],
   "source": [
    "df3 = df2[\"sequence\"].dropna(inplace = True)"
   ]
  },
  {
   "cell_type": "code",
   "execution_count": 17,
   "metadata": {},
   "outputs": [
    {
     "data": {
      "text/plain": [
       "structureId              0\n",
       "chainId                 10\n",
       "sequence                28\n",
       "residueCount             0\n",
       "macromoleculeType    34817\n",
       "dtype: int64"
      ]
     },
     "execution_count": 17,
     "metadata": {},
     "output_type": "execute_result"
    }
   ],
   "source": [
    "df2.isnull().sum()"
   ]
  },
  {
   "cell_type": "code",
   "execution_count": 18,
   "metadata": {},
   "outputs": [
    {
     "data": {
      "text/plain": [
       "467304"
      ]
     },
     "execution_count": 18,
     "metadata": {},
     "output_type": "execute_result"
    }
   ],
   "source": [
    "df2.structureId.count()"
   ]
  },
  {
   "cell_type": "code",
   "execution_count": 19,
   "metadata": {},
   "outputs": [
    {
     "data": {
      "text/plain": [
       "140250"
      ]
     },
     "execution_count": 19,
     "metadata": {},
     "output_type": "execute_result"
    }
   ],
   "source": [
    "df2.structureId.nunique()"
   ]
  },
  {
   "cell_type": "code",
   "execution_count": 20,
   "metadata": {},
   "outputs": [
    {
     "data": {
      "text/plain": [
       "104812"
      ]
     },
     "execution_count": 20,
     "metadata": {},
     "output_type": "execute_result"
    }
   ],
   "source": [
    "df2.sequence.nunique()"
   ]
  },
  {
   "cell_type": "code",
   "execution_count": 21,
   "metadata": {
    "collapsed": true
   },
   "outputs": [],
   "source": [
    "#df2.macromoleculeType.unique()"
   ]
  },
  {
   "cell_type": "code",
   "execution_count": 22,
   "metadata": {},
   "outputs": [
    {
     "data": {
      "text/plain": [
       "4737"
      ]
     },
     "execution_count": 22,
     "metadata": {},
     "output_type": "execute_result"
    }
   ],
   "source": [
    "df2[\"residueCount\"].nunique()"
   ]
  },
  {
   "cell_type": "code",
   "execution_count": 23,
   "metadata": {},
   "outputs": [
    {
     "data": {
      "text/plain": [
       "(467304, 5)"
      ]
     },
     "execution_count": 23,
     "metadata": {},
     "output_type": "execute_result"
    }
   ],
   "source": [
    "df2.shape"
   ]
  },
  {
   "cell_type": "code",
   "execution_count": 8,
   "metadata": {},
   "outputs": [],
   "source": [
    "df = df1.merge(df2, on = \"structureId\", how=\"inner\")"
   ]
  },
  {
   "cell_type": "code",
   "execution_count": 25,
   "metadata": {
    "collapsed": true
   },
   "outputs": [],
   "source": [
    "#df.head()"
   ]
  },
  {
   "cell_type": "code",
   "execution_count": 26,
   "metadata": {},
   "outputs": [
    {
     "data": {
      "text/plain": [
       "(471149, 18)"
      ]
     },
     "execution_count": 26,
     "metadata": {},
     "output_type": "execute_result"
    }
   ],
   "source": [
    "df.shape"
   ]
  },
  {
   "cell_type": "code",
   "execution_count": 27,
   "metadata": {},
   "outputs": [
    {
     "data": {
      "text/plain": [
       "4"
      ]
     },
     "execution_count": 27,
     "metadata": {},
     "output_type": "execute_result"
    }
   ],
   "source": [
    "df.classification.isnull().sum()"
   ]
  },
  {
   "cell_type": "code",
   "execution_count": 28,
   "metadata": {
    "collapsed": true
   },
   "outputs": [],
   "source": [
    "#null = pd.DataFrame(data=df.isnull().sum())"
   ]
  },
  {
   "cell_type": "code",
   "execution_count": 29,
   "metadata": {
    "collapsed": true
   },
   "outputs": [],
   "source": [
    "#null"
   ]
  },
  {
   "cell_type": "code",
   "execution_count": 30,
   "metadata": {
    "collapsed": true
   },
   "outputs": [],
   "source": [
    "\n",
    "#null[\"percent_missing\"] = ((null/len(df))*100)"
   ]
  },
  {
   "cell_type": "code",
   "execution_count": 31,
   "metadata": {
    "collapsed": true
   },
   "outputs": [],
   "source": [
    "#null[\"percent_missing\"] = null[\"percent_missing\"].apply(lambda x : round(x) ,\"{:.2%}\") "
   ]
  },
  {
   "cell_type": "code",
   "execution_count": 32,
   "metadata": {
    "collapsed": true
   },
   "outputs": [],
   "source": [
    "#null.plot(kind = \"bar\", title = \"Number of null values\", figsize= (8,8))\n",
    "#plt.legend(\"Null\")"
   ]
  },
  {
   "cell_type": "code",
   "execution_count": 33,
   "metadata": {
    "collapsed": true
   },
   "outputs": [],
   "source": [
    "df = df[pd.notnull(df['sequence'])]"
   ]
  },
  {
   "cell_type": "code",
   "execution_count": 34,
   "metadata": {},
   "outputs": [
    {
     "data": {
      "text/plain": [
       "0"
      ]
     },
     "execution_count": 34,
     "metadata": {},
     "output_type": "execute_result"
    }
   ],
   "source": [
    "df['sequence'].isnull().sum()"
   ]
  },
  {
   "cell_type": "code",
   "execution_count": 35,
   "metadata": {},
   "outputs": [
    {
     "data": {
      "text/plain": [
       "(471121, 18)"
      ]
     },
     "execution_count": 35,
     "metadata": {},
     "output_type": "execute_result"
    }
   ],
   "source": [
    "df.shape"
   ]
  },
  {
   "cell_type": "code",
   "execution_count": 36,
   "metadata": {
    "collapsed": true
   },
   "outputs": [],
   "source": [
    "\n",
    "#df.classification.value_counts()[0:6].plot(kind = \"bar\")"
   ]
  },
  {
   "cell_type": "code",
   "execution_count": 37,
   "metadata": {
    "collapsed": true
   },
   "outputs": [],
   "source": [
    "#df[df[\"macromoleculeType_x\"] == \"DNA/RNA Hybrid\"].count()"
   ]
  },
  {
   "cell_type": "code",
   "execution_count": 38,
   "metadata": {},
   "outputs": [
    {
     "data": {
      "text/plain": [
       "Index(['structureId', 'classification', 'experimentalTechnique',\n",
       "       'macromoleculeType_x', 'residueCount_x', 'resolution',\n",
       "       'structureMolecularWeight', 'crystallizationMethod',\n",
       "       'crystallizationTempK', 'densityMatthews', 'densityPercentSol',\n",
       "       'pdbxDetails', 'phValue', 'publicationYear', 'chainId', 'sequence',\n",
       "       'residueCount_y', 'macromoleculeType_y'],\n",
       "      dtype='object')"
      ]
     },
     "execution_count": 38,
     "metadata": {},
     "output_type": "execute_result"
    }
   ],
   "source": [
    "df.columns"
   ]
  },
  {
   "cell_type": "code",
   "execution_count": 39,
   "metadata": {
    "collapsed": true
   },
   "outputs": [],
   "source": [
    "df.drop(columns = ['macromoleculeType_y', 'residueCount_y'], inplace= True)"
   ]
  },
  {
   "cell_type": "code",
   "execution_count": 40,
   "metadata": {},
   "outputs": [
    {
     "data": {
      "text/html": [
       "<div>\n",
       "<style scoped>\n",
       "    .dataframe tbody tr th:only-of-type {\n",
       "        vertical-align: middle;\n",
       "    }\n",
       "\n",
       "    .dataframe tbody tr th {\n",
       "        vertical-align: top;\n",
       "    }\n",
       "\n",
       "    .dataframe thead th {\n",
       "        text-align: right;\n",
       "    }\n",
       "</style>\n",
       "<table border=\"1\" class=\"dataframe\">\n",
       "  <thead>\n",
       "    <tr style=\"text-align: right;\">\n",
       "      <th></th>\n",
       "      <th>structureId</th>\n",
       "      <th>classification</th>\n",
       "      <th>experimentalTechnique</th>\n",
       "      <th>macromoleculeType_x</th>\n",
       "      <th>residueCount_x</th>\n",
       "      <th>resolution</th>\n",
       "      <th>structureMolecularWeight</th>\n",
       "      <th>crystallizationMethod</th>\n",
       "      <th>crystallizationTempK</th>\n",
       "      <th>densityMatthews</th>\n",
       "      <th>densityPercentSol</th>\n",
       "      <th>pdbxDetails</th>\n",
       "      <th>phValue</th>\n",
       "      <th>publicationYear</th>\n",
       "      <th>chainId</th>\n",
       "      <th>sequence</th>\n",
       "    </tr>\n",
       "  </thead>\n",
       "  <tbody>\n",
       "    <tr>\n",
       "      <th>4</th>\n",
       "      <td>101M</td>\n",
       "      <td>OXYGEN TRANSPORT</td>\n",
       "      <td>X-RAY DIFFRACTION</td>\n",
       "      <td>Protein</td>\n",
       "      <td>154</td>\n",
       "      <td>2.07</td>\n",
       "      <td>18112.80</td>\n",
       "      <td>NaN</td>\n",
       "      <td>NaN</td>\n",
       "      <td>3.09</td>\n",
       "      <td>60.20</td>\n",
       "      <td>3.0 M AMMONIUM SULFATE, 20 MM TRIS, 1MM EDTA, ...</td>\n",
       "      <td>9.0</td>\n",
       "      <td>1999.0</td>\n",
       "      <td>A</td>\n",
       "      <td>MVLSEGEWQLVLHVWAKVEADVAGHGQDILIRLFKSHPETLEKFDR...</td>\n",
       "    </tr>\n",
       "    <tr>\n",
       "      <th>7</th>\n",
       "      <td>102L</td>\n",
       "      <td>HYDROLASE(O-GLYCOSYL)</td>\n",
       "      <td>X-RAY DIFFRACTION</td>\n",
       "      <td>Protein</td>\n",
       "      <td>165</td>\n",
       "      <td>1.74</td>\n",
       "      <td>18926.61</td>\n",
       "      <td>NaN</td>\n",
       "      <td>NaN</td>\n",
       "      <td>2.75</td>\n",
       "      <td>55.28</td>\n",
       "      <td>NaN</td>\n",
       "      <td>NaN</td>\n",
       "      <td>1993.0</td>\n",
       "      <td>A</td>\n",
       "      <td>MNIFEMLRIDEGLRLKIYKDTEGYYTIGIGHLLTKSPSLNAAAKSE...</td>\n",
       "    </tr>\n",
       "    <tr>\n",
       "      <th>8</th>\n",
       "      <td>102M</td>\n",
       "      <td>OXYGEN TRANSPORT</td>\n",
       "      <td>X-RAY DIFFRACTION</td>\n",
       "      <td>Protein</td>\n",
       "      <td>154</td>\n",
       "      <td>1.84</td>\n",
       "      <td>18010.64</td>\n",
       "      <td>NaN</td>\n",
       "      <td>NaN</td>\n",
       "      <td>3.09</td>\n",
       "      <td>60.20</td>\n",
       "      <td>3.0 M AMMONIUM SULFATE, 20 MM TRIS, 1MM EDTA, ...</td>\n",
       "      <td>9.0</td>\n",
       "      <td>1999.0</td>\n",
       "      <td>A</td>\n",
       "      <td>MVLSEGEWQLVLHVWAKVEADVAGHGQDILIRLFKSHPETLEKFDR...</td>\n",
       "    </tr>\n",
       "    <tr>\n",
       "      <th>11</th>\n",
       "      <td>103L</td>\n",
       "      <td>HYDROLASE(O-GLYCOSYL)</td>\n",
       "      <td>X-RAY DIFFRACTION</td>\n",
       "      <td>Protein</td>\n",
       "      <td>167</td>\n",
       "      <td>1.90</td>\n",
       "      <td>19092.72</td>\n",
       "      <td>NaN</td>\n",
       "      <td>NaN</td>\n",
       "      <td>2.70</td>\n",
       "      <td>54.46</td>\n",
       "      <td>NaN</td>\n",
       "      <td>NaN</td>\n",
       "      <td>1993.0</td>\n",
       "      <td>A</td>\n",
       "      <td>MNIFEMLRIDEGLRLKIYKDTEGYYTIGIGHLLTKSPSLNSLDAAK...</td>\n",
       "    </tr>\n",
       "    <tr>\n",
       "      <th>12</th>\n",
       "      <td>103M</td>\n",
       "      <td>OXYGEN TRANSPORT</td>\n",
       "      <td>X-RAY DIFFRACTION</td>\n",
       "      <td>Protein</td>\n",
       "      <td>154</td>\n",
       "      <td>2.07</td>\n",
       "      <td>18093.78</td>\n",
       "      <td>NaN</td>\n",
       "      <td>NaN</td>\n",
       "      <td>3.09</td>\n",
       "      <td>60.30</td>\n",
       "      <td>3.0 M AMMONIUM SULFATE, 20 MM TRIS, 1MM EDTA, ...</td>\n",
       "      <td>9.0</td>\n",
       "      <td>1999.0</td>\n",
       "      <td>A</td>\n",
       "      <td>MVLSEGEWQLVLHVWAKVEADVAGHGQDILIRLFKSHPETLEKFDR...</td>\n",
       "    </tr>\n",
       "    <tr>\n",
       "      <th>15</th>\n",
       "      <td>104L</td>\n",
       "      <td>HYDROLASE(O-GLYCOSYL)</td>\n",
       "      <td>X-RAY DIFFRACTION</td>\n",
       "      <td>Protein</td>\n",
       "      <td>332</td>\n",
       "      <td>2.80</td>\n",
       "      <td>37541.04</td>\n",
       "      <td>NaN</td>\n",
       "      <td>NaN</td>\n",
       "      <td>3.04</td>\n",
       "      <td>59.49</td>\n",
       "      <td>NaN</td>\n",
       "      <td>NaN</td>\n",
       "      <td>1993.0</td>\n",
       "      <td>A</td>\n",
       "      <td>MNIFEMLRIDEGLRLKIYKDTEGYYTIGIGHLLTKSPSLNAAKSAA...</td>\n",
       "    </tr>\n",
       "    <tr>\n",
       "      <th>16</th>\n",
       "      <td>104L</td>\n",
       "      <td>HYDROLASE(O-GLYCOSYL)</td>\n",
       "      <td>X-RAY DIFFRACTION</td>\n",
       "      <td>Protein</td>\n",
       "      <td>332</td>\n",
       "      <td>2.80</td>\n",
       "      <td>37541.04</td>\n",
       "      <td>NaN</td>\n",
       "      <td>NaN</td>\n",
       "      <td>3.04</td>\n",
       "      <td>59.49</td>\n",
       "      <td>NaN</td>\n",
       "      <td>NaN</td>\n",
       "      <td>1993.0</td>\n",
       "      <td>B</td>\n",
       "      <td>MNIFEMLRIDEGLRLKIYKDTEGYYTIGIGHLLTKSPSLNAAKSAA...</td>\n",
       "    </tr>\n",
       "    <tr>\n",
       "      <th>17</th>\n",
       "      <td>104M</td>\n",
       "      <td>OXYGEN TRANSPORT</td>\n",
       "      <td>X-RAY DIFFRACTION</td>\n",
       "      <td>Protein</td>\n",
       "      <td>153</td>\n",
       "      <td>1.71</td>\n",
       "      <td>18030.63</td>\n",
       "      <td>NaN</td>\n",
       "      <td>NaN</td>\n",
       "      <td>1.87</td>\n",
       "      <td>34.30</td>\n",
       "      <td>3.0 M AMMONIUM SULFATE, UNBUFFERED, pH 7.0</td>\n",
       "      <td>7.0</td>\n",
       "      <td>1999.0</td>\n",
       "      <td>A</td>\n",
       "      <td>VLSEGEWQLVLHVWAKVEADVAGHGQDILIRLFKSHPETLEKFDRF...</td>\n",
       "    </tr>\n",
       "    <tr>\n",
       "      <th>22</th>\n",
       "      <td>105M</td>\n",
       "      <td>OXYGEN TRANSPORT</td>\n",
       "      <td>X-RAY DIFFRACTION</td>\n",
       "      <td>Protein</td>\n",
       "      <td>153</td>\n",
       "      <td>2.02</td>\n",
       "      <td>18030.63</td>\n",
       "      <td>NaN</td>\n",
       "      <td>NaN</td>\n",
       "      <td>1.83</td>\n",
       "      <td>33.00</td>\n",
       "      <td>3.0 M AMMONIUM SULFATE, UNBUFFERED, pH 9.0</td>\n",
       "      <td>9.0</td>\n",
       "      <td>1999.0</td>\n",
       "      <td>A</td>\n",
       "      <td>VLSEGEWQLVLHVWAKVEADVAGHGQDILIRLFKSHPETLEKFDRF...</td>\n",
       "    </tr>\n",
       "    <tr>\n",
       "      <th>27</th>\n",
       "      <td>106M</td>\n",
       "      <td>OXYGEN TRANSPORT</td>\n",
       "      <td>X-RAY DIFFRACTION</td>\n",
       "      <td>Protein</td>\n",
       "      <td>154</td>\n",
       "      <td>1.99</td>\n",
       "      <td>18181.84</td>\n",
       "      <td>NaN</td>\n",
       "      <td>NaN</td>\n",
       "      <td>3.05</td>\n",
       "      <td>59.70</td>\n",
       "      <td>3.0 M AMMONIUM SULFATE, 20 MM TRIS, 1MM EDTA, ...</td>\n",
       "      <td>9.0</td>\n",
       "      <td>1999.0</td>\n",
       "      <td>A</td>\n",
       "      <td>MVLSEGEWQLVLHVWAKVEADVAGHGQDILIRLFKSHPETLEKFDR...</td>\n",
       "    </tr>\n",
       "    <tr>\n",
       "      <th>30</th>\n",
       "      <td>107L</td>\n",
       "      <td>HYDROLASE(O-GLYCOSYL)</td>\n",
       "      <td>X-RAY DIFFRACTION</td>\n",
       "      <td>Protein</td>\n",
       "      <td>164</td>\n",
       "      <td>1.80</td>\n",
       "      <td>18825.51</td>\n",
       "      <td>NaN</td>\n",
       "      <td>NaN</td>\n",
       "      <td>2.81</td>\n",
       "      <td>56.17</td>\n",
       "      <td>NaN</td>\n",
       "      <td>NaN</td>\n",
       "      <td>1993.0</td>\n",
       "      <td>A</td>\n",
       "      <td>MNIFEMLRIDEGLRLKIYKDTEGYYTIGIGHLLTKSPSLNAAKGEL...</td>\n",
       "    </tr>\n",
       "    <tr>\n",
       "      <th>31</th>\n",
       "      <td>107M</td>\n",
       "      <td>OXYGEN TRANSPORT</td>\n",
       "      <td>X-RAY DIFFRACTION</td>\n",
       "      <td>Protein</td>\n",
       "      <td>154</td>\n",
       "      <td>2.09</td>\n",
       "      <td>18208.89</td>\n",
       "      <td>NaN</td>\n",
       "      <td>NaN</td>\n",
       "      <td>3.08</td>\n",
       "      <td>60.10</td>\n",
       "      <td>3.0 M AMMONIUM SULFATE, 20 MM TRIS, 1MM EDTA, ...</td>\n",
       "      <td>9.0</td>\n",
       "      <td>1999.0</td>\n",
       "      <td>A</td>\n",
       "      <td>MVLSEGEWQLVLHVWAKVEADVAGHGQDILIRLFKSHPETLEKFDR...</td>\n",
       "    </tr>\n",
       "    <tr>\n",
       "      <th>34</th>\n",
       "      <td>108L</td>\n",
       "      <td>HYDROLASE(O-GLYCOSYL)</td>\n",
       "      <td>X-RAY DIFFRACTION</td>\n",
       "      <td>Protein</td>\n",
       "      <td>164</td>\n",
       "      <td>1.80</td>\n",
       "      <td>18881.62</td>\n",
       "      <td>NaN</td>\n",
       "      <td>NaN</td>\n",
       "      <td>2.79</td>\n",
       "      <td>55.90</td>\n",
       "      <td>NaN</td>\n",
       "      <td>NaN</td>\n",
       "      <td>1993.0</td>\n",
       "      <td>A</td>\n",
       "      <td>MNIFEMLRIDEGLRLKIYKDTEGYYTIGIGHLLTKSPSLNAAKIEL...</td>\n",
       "    </tr>\n",
       "    <tr>\n",
       "      <th>35</th>\n",
       "      <td>108M</td>\n",
       "      <td>OXYGEN TRANSPORT</td>\n",
       "      <td>X-RAY DIFFRACTION</td>\n",
       "      <td>Protein</td>\n",
       "      <td>154</td>\n",
       "      <td>2.67</td>\n",
       "      <td>18208.89</td>\n",
       "      <td>NaN</td>\n",
       "      <td>NaN</td>\n",
       "      <td>3.07</td>\n",
       "      <td>60.00</td>\n",
       "      <td>3.0 M AMMONIUM SULFATE, 20 MM TRIS, 1MM EDTA, ...</td>\n",
       "      <td>7.0</td>\n",
       "      <td>1999.0</td>\n",
       "      <td>A</td>\n",
       "      <td>MVLSEGEWQLVLHVWAKVEADVAGHGQDILIRLFKSHPETLEKFDR...</td>\n",
       "    </tr>\n",
       "    <tr>\n",
       "      <th>38</th>\n",
       "      <td>109L</td>\n",
       "      <td>HYDROLASE(O-GLYCOSYL)</td>\n",
       "      <td>X-RAY DIFFRACTION</td>\n",
       "      <td>Protein</td>\n",
       "      <td>164</td>\n",
       "      <td>1.85</td>\n",
       "      <td>18897.64</td>\n",
       "      <td>NaN</td>\n",
       "      <td>NaN</td>\n",
       "      <td>2.76</td>\n",
       "      <td>55.47</td>\n",
       "      <td>NaN</td>\n",
       "      <td>NaN</td>\n",
       "      <td>1993.0</td>\n",
       "      <td>A</td>\n",
       "      <td>MNIFEMLRIDEGLRLKIYKDTEGYYTIGIGHLLTKSPSLNAAKKEL...</td>\n",
       "    </tr>\n",
       "    <tr>\n",
       "      <th>39</th>\n",
       "      <td>109M</td>\n",
       "      <td>OXYGEN TRANSPORT</td>\n",
       "      <td>X-RAY DIFFRACTION</td>\n",
       "      <td>Protein</td>\n",
       "      <td>154</td>\n",
       "      <td>1.83</td>\n",
       "      <td>18133.80</td>\n",
       "      <td>NaN</td>\n",
       "      <td>NaN</td>\n",
       "      <td>3.07</td>\n",
       "      <td>59.90</td>\n",
       "      <td>3.0 M AMMONIUM SULFATE, 20 MM TRIS, 1MM EDTA, ...</td>\n",
       "      <td>9.0</td>\n",
       "      <td>1999.0</td>\n",
       "      <td>A</td>\n",
       "      <td>MVLSEGEWQLVLHVWAKVEADVAGHGQDILIRLFKSHPETLEKFDR...</td>\n",
       "    </tr>\n",
       "    <tr>\n",
       "      <th>40</th>\n",
       "      <td>10GS</td>\n",
       "      <td>TRANSFERASE/TRANSFERASE INHIBITOR</td>\n",
       "      <td>X-RAY DIFFRACTION</td>\n",
       "      <td>Protein</td>\n",
       "      <td>418</td>\n",
       "      <td>2.20</td>\n",
       "      <td>47830.70</td>\n",
       "      <td>NaN</td>\n",
       "      <td>NaN</td>\n",
       "      <td>2.61</td>\n",
       "      <td>52.86</td>\n",
       "      <td>pH 5.8</td>\n",
       "      <td>5.8</td>\n",
       "      <td>1997.0</td>\n",
       "      <td>A</td>\n",
       "      <td>PPYTVVYFPVRGRCAALRMLLADQGQSWKEEVVTVETWQEGSLKAS...</td>\n",
       "    </tr>\n",
       "    <tr>\n",
       "      <th>41</th>\n",
       "      <td>10GS</td>\n",
       "      <td>TRANSFERASE/TRANSFERASE INHIBITOR</td>\n",
       "      <td>X-RAY DIFFRACTION</td>\n",
       "      <td>Protein</td>\n",
       "      <td>418</td>\n",
       "      <td>2.20</td>\n",
       "      <td>47830.70</td>\n",
       "      <td>NaN</td>\n",
       "      <td>NaN</td>\n",
       "      <td>2.61</td>\n",
       "      <td>52.86</td>\n",
       "      <td>pH 5.8</td>\n",
       "      <td>5.8</td>\n",
       "      <td>1997.0</td>\n",
       "      <td>B</td>\n",
       "      <td>PPYTVVYFPVRGRCAALRMLLADQGQSWKEEVVTVETWQEGSLKAS...</td>\n",
       "    </tr>\n",
       "    <tr>\n",
       "      <th>46</th>\n",
       "      <td>110L</td>\n",
       "      <td>HYDROLASE(O-GLYCOSYL)</td>\n",
       "      <td>X-RAY DIFFRACTION</td>\n",
       "      <td>Protein</td>\n",
       "      <td>164</td>\n",
       "      <td>1.70</td>\n",
       "      <td>18881.62</td>\n",
       "      <td>NaN</td>\n",
       "      <td>NaN</td>\n",
       "      <td>2.78</td>\n",
       "      <td>55.71</td>\n",
       "      <td>NaN</td>\n",
       "      <td>NaN</td>\n",
       "      <td>1993.0</td>\n",
       "      <td>A</td>\n",
       "      <td>MNIFEMLRIDEGLRLKIYKDTEGYYTIGIGHLLTKSPSLNAAKLEL...</td>\n",
       "    </tr>\n",
       "    <tr>\n",
       "      <th>47</th>\n",
       "      <td>110M</td>\n",
       "      <td>OXYGEN TRANSPORT</td>\n",
       "      <td>X-RAY DIFFRACTION</td>\n",
       "      <td>Protein</td>\n",
       "      <td>154</td>\n",
       "      <td>1.77</td>\n",
       "      <td>18118.77</td>\n",
       "      <td>NaN</td>\n",
       "      <td>NaN</td>\n",
       "      <td>3.06</td>\n",
       "      <td>59.90</td>\n",
       "      <td>3.0 M AMMONIUM SULFATE, 20 MM TRIS, 1MM EDTA, ...</td>\n",
       "      <td>9.0</td>\n",
       "      <td>1999.0</td>\n",
       "      <td>A</td>\n",
       "      <td>MVLSEGEWQLVLHVWAKVEADVAGHGQDILIRLFKSHPETLEKFDR...</td>\n",
       "    </tr>\n",
       "    <tr>\n",
       "      <th>50</th>\n",
       "      <td>111L</td>\n",
       "      <td>HYDROLASE(O-GLYCOSYL)</td>\n",
       "      <td>X-RAY DIFFRACTION</td>\n",
       "      <td>Protein</td>\n",
       "      <td>164</td>\n",
       "      <td>1.80</td>\n",
       "      <td>18726.29</td>\n",
       "      <td>NaN</td>\n",
       "      <td>NaN</td>\n",
       "      <td>2.80</td>\n",
       "      <td>56.03</td>\n",
       "      <td>NaN</td>\n",
       "      <td>NaN</td>\n",
       "      <td>1993.0</td>\n",
       "      <td>A</td>\n",
       "      <td>MNIFEMLRIDEGLRLKIYKDTEGYYTIGIGHLLTKSPSLNAAKNEL...</td>\n",
       "    </tr>\n",
       "    <tr>\n",
       "      <th>51</th>\n",
       "      <td>111M</td>\n",
       "      <td>OXYGEN TRANSPORT</td>\n",
       "      <td>X-RAY DIFFRACTION</td>\n",
       "      <td>Protein</td>\n",
       "      <td>154</td>\n",
       "      <td>1.88</td>\n",
       "      <td>18160.85</td>\n",
       "      <td>NaN</td>\n",
       "      <td>NaN</td>\n",
       "      <td>3.06</td>\n",
       "      <td>59.80</td>\n",
       "      <td>3.0 M AMMONIUM SULFATE, 20 MM TRIS, 1MM EDTA, ...</td>\n",
       "      <td>9.0</td>\n",
       "      <td>1999.0</td>\n",
       "      <td>A</td>\n",
       "      <td>MVLSEGEWQLVLHVWAKVEADVAGHGQDILIRLFKSHPETLEKFDR...</td>\n",
       "    </tr>\n",
       "    <tr>\n",
       "      <th>54</th>\n",
       "      <td>112L</td>\n",
       "      <td>HYDROLASE(O-GLYCOSYL)</td>\n",
       "      <td>X-RAY DIFFRACTION</td>\n",
       "      <td>Protein</td>\n",
       "      <td>164</td>\n",
       "      <td>1.80</td>\n",
       "      <td>18865.57</td>\n",
       "      <td>NaN</td>\n",
       "      <td>NaN</td>\n",
       "      <td>2.80</td>\n",
       "      <td>56.08</td>\n",
       "      <td>NaN</td>\n",
       "      <td>NaN</td>\n",
       "      <td>1993.0</td>\n",
       "      <td>A</td>\n",
       "      <td>MNIFEMLRIDEGLRLKIYKDTEGYYTIGIGHLLTKSPSLNAAKPEL...</td>\n",
       "    </tr>\n",
       "    <tr>\n",
       "      <th>55</th>\n",
       "      <td>112M</td>\n",
       "      <td>OXYGEN TRANSPORT</td>\n",
       "      <td>X-RAY DIFFRACTION</td>\n",
       "      <td>Protein</td>\n",
       "      <td>154</td>\n",
       "      <td>2.34</td>\n",
       "      <td>18146.82</td>\n",
       "      <td>NaN</td>\n",
       "      <td>NaN</td>\n",
       "      <td>3.04</td>\n",
       "      <td>59.60</td>\n",
       "      <td>3.0 M AMMONIUM SULFATE, 20 MM TRIS, 1MM EDTA, ...</td>\n",
       "      <td>9.0</td>\n",
       "      <td>1999.0</td>\n",
       "      <td>A</td>\n",
       "      <td>MVLSEGEWQLVLHVWAKVEADVAGHGQDILIRLFKSHPETLEKFDR...</td>\n",
       "    </tr>\n",
       "    <tr>\n",
       "      <th>58</th>\n",
       "      <td>113L</td>\n",
       "      <td>HYDROLASE(O-GLYCOSYL)</td>\n",
       "      <td>X-RAY DIFFRACTION</td>\n",
       "      <td>Protein</td>\n",
       "      <td>164</td>\n",
       "      <td>1.80</td>\n",
       "      <td>18925.65</td>\n",
       "      <td>NaN</td>\n",
       "      <td>NaN</td>\n",
       "      <td>2.82</td>\n",
       "      <td>56.31</td>\n",
       "      <td>NaN</td>\n",
       "      <td>NaN</td>\n",
       "      <td>1993.0</td>\n",
       "      <td>A</td>\n",
       "      <td>MNIFEMLRIDEGLRLKIYKDTEGYYTIGIGHLLTKSPSLNAAKREL...</td>\n",
       "    </tr>\n",
       "    <tr>\n",
       "      <th>61</th>\n",
       "      <td>114L</td>\n",
       "      <td>HYDROLASE(O-GLYCOSYL)</td>\n",
       "      <td>X-RAY DIFFRACTION</td>\n",
       "      <td>Protein</td>\n",
       "      <td>164</td>\n",
       "      <td>1.80</td>\n",
       "      <td>18869.56</td>\n",
       "      <td>NaN</td>\n",
       "      <td>NaN</td>\n",
       "      <td>2.79</td>\n",
       "      <td>55.89</td>\n",
       "      <td>NaN</td>\n",
       "      <td>NaN</td>\n",
       "      <td>1993.0</td>\n",
       "      <td>A</td>\n",
       "      <td>MNIFEMLRIDEGLRLKIYKDTEGYYTIGIGHLLTKSPSLNAAKTEL...</td>\n",
       "    </tr>\n",
       "    <tr>\n",
       "      <th>64</th>\n",
       "      <td>115L</td>\n",
       "      <td>HYDROLASE(O-GLYCOSYL)</td>\n",
       "      <td>X-RAY DIFFRACTION</td>\n",
       "      <td>Protein</td>\n",
       "      <td>164</td>\n",
       "      <td>1.80</td>\n",
       "      <td>18867.59</td>\n",
       "      <td>NaN</td>\n",
       "      <td>NaN</td>\n",
       "      <td>2.78</td>\n",
       "      <td>55.80</td>\n",
       "      <td>NaN</td>\n",
       "      <td>NaN</td>\n",
       "      <td>1993.0</td>\n",
       "      <td>A</td>\n",
       "      <td>MNIFEMLRIDEGLRLKIYKDTEGYYTIGIGHLLTKSPSLNAAKVEL...</td>\n",
       "    </tr>\n",
       "    <tr>\n",
       "      <th>67</th>\n",
       "      <td>117E</td>\n",
       "      <td>HYDROLASE</td>\n",
       "      <td>X-RAY DIFFRACTION</td>\n",
       "      <td>Protein</td>\n",
       "      <td>572</td>\n",
       "      <td>2.15</td>\n",
       "      <td>65203.21</td>\n",
       "      <td>NaN</td>\n",
       "      <td>NaN</td>\n",
       "      <td>2.71</td>\n",
       "      <td>54.69</td>\n",
       "      <td>17-19% MPD, 25 MM MES, PH 6.0, 1 MM MNCL2, 0.5...</td>\n",
       "      <td>6.0</td>\n",
       "      <td>1998.0</td>\n",
       "      <td>A</td>\n",
       "      <td>TYTTRQIGAKNTLEYKVYIEKDGKPVSAFHDIPLYADKENNIFNMV...</td>\n",
       "    </tr>\n",
       "    <tr>\n",
       "      <th>68</th>\n",
       "      <td>117E</td>\n",
       "      <td>HYDROLASE</td>\n",
       "      <td>X-RAY DIFFRACTION</td>\n",
       "      <td>Protein</td>\n",
       "      <td>572</td>\n",
       "      <td>2.15</td>\n",
       "      <td>65203.21</td>\n",
       "      <td>NaN</td>\n",
       "      <td>NaN</td>\n",
       "      <td>2.71</td>\n",
       "      <td>54.69</td>\n",
       "      <td>17-19% MPD, 25 MM MES, PH 6.0, 1 MM MNCL2, 0.5...</td>\n",
       "      <td>6.0</td>\n",
       "      <td>1998.0</td>\n",
       "      <td>B</td>\n",
       "      <td>TYTTRQIGAKNTLEYKVYIEKDGKPVSAFHDIPLYADKENNIFNMV...</td>\n",
       "    </tr>\n",
       "    <tr>\n",
       "      <th>70</th>\n",
       "      <td>118L</td>\n",
       "      <td>HYDROLASE(O-GLYCOSYL)</td>\n",
       "      <td>X-RAY DIFFRACTION</td>\n",
       "      <td>Protein</td>\n",
       "      <td>164</td>\n",
       "      <td>1.80</td>\n",
       "      <td>18871.54</td>\n",
       "      <td>NaN</td>\n",
       "      <td>NaN</td>\n",
       "      <td>2.78</td>\n",
       "      <td>55.68</td>\n",
       "      <td>NaN</td>\n",
       "      <td>NaN</td>\n",
       "      <td>1993.0</td>\n",
       "      <td>A</td>\n",
       "      <td>MNIFEMLRIDEGLRLKIYKDTEGYYTIGIGHLLTKSPSLNAAKSEL...</td>\n",
       "    </tr>\n",
       "    <tr>\n",
       "      <th>...</th>\n",
       "      <td>...</td>\n",
       "      <td>...</td>\n",
       "      <td>...</td>\n",
       "      <td>...</td>\n",
       "      <td>...</td>\n",
       "      <td>...</td>\n",
       "      <td>...</td>\n",
       "      <td>...</td>\n",
       "      <td>...</td>\n",
       "      <td>...</td>\n",
       "      <td>...</td>\n",
       "      <td>...</td>\n",
       "      <td>...</td>\n",
       "      <td>...</td>\n",
       "      <td>...</td>\n",
       "      <td>...</td>\n",
       "    </tr>\n",
       "    <tr>\n",
       "      <th>471116</th>\n",
       "      <td>9INS</td>\n",
       "      <td>HORMONE</td>\n",
       "      <td>X-RAY DIFFRACTION</td>\n",
       "      <td>Protein</td>\n",
       "      <td>51</td>\n",
       "      <td>1.70</td>\n",
       "      <td>5787.62</td>\n",
       "      <td>NaN</td>\n",
       "      <td>NaN</td>\n",
       "      <td>3.54</td>\n",
       "      <td>65.21</td>\n",
       "      <td>NaN</td>\n",
       "      <td>NaN</td>\n",
       "      <td>1992.0</td>\n",
       "      <td>A</td>\n",
       "      <td>GIVEQCCTSICSLYQLENYCN</td>\n",
       "    </tr>\n",
       "    <tr>\n",
       "      <th>471117</th>\n",
       "      <td>9INS</td>\n",
       "      <td>HORMONE</td>\n",
       "      <td>X-RAY DIFFRACTION</td>\n",
       "      <td>Protein</td>\n",
       "      <td>51</td>\n",
       "      <td>1.70</td>\n",
       "      <td>5787.62</td>\n",
       "      <td>NaN</td>\n",
       "      <td>NaN</td>\n",
       "      <td>3.54</td>\n",
       "      <td>65.21</td>\n",
       "      <td>NaN</td>\n",
       "      <td>NaN</td>\n",
       "      <td>1992.0</td>\n",
       "      <td>B</td>\n",
       "      <td>FVNQHLCGSHLVEALYLVCGERGFFYTPKA</td>\n",
       "    </tr>\n",
       "    <tr>\n",
       "      <th>471118</th>\n",
       "      <td>9JDW</td>\n",
       "      <td>TRANSFERASE</td>\n",
       "      <td>X-RAY DIFFRACTION</td>\n",
       "      <td>Protein</td>\n",
       "      <td>386</td>\n",
       "      <td>2.50</td>\n",
       "      <td>44444.61</td>\n",
       "      <td>NaN</td>\n",
       "      <td>NaN</td>\n",
       "      <td>3.83</td>\n",
       "      <td>68.00</td>\n",
       "      <td>pH 7.0</td>\n",
       "      <td>7.0</td>\n",
       "      <td>1999.0</td>\n",
       "      <td>A</td>\n",
       "      <td>STQAATASSRNSCAADDKATEPLPKDCPVSSYNEWDPLEEVIVGRA...</td>\n",
       "    </tr>\n",
       "    <tr>\n",
       "      <th>471119</th>\n",
       "      <td>9LDB</td>\n",
       "      <td>OXIDOREDUCTASE(CHOH(D)-NAD+(A))</td>\n",
       "      <td>X-RAY DIFFRACTION</td>\n",
       "      <td>Protein</td>\n",
       "      <td>664</td>\n",
       "      <td>2.20</td>\n",
       "      <td>74828.99</td>\n",
       "      <td>NaN</td>\n",
       "      <td>NaN</td>\n",
       "      <td>2.42</td>\n",
       "      <td>49.15</td>\n",
       "      <td>NaN</td>\n",
       "      <td>NaN</td>\n",
       "      <td>1991.0</td>\n",
       "      <td>A</td>\n",
       "      <td>XATLKDQLIHNLLKEEHVPHNKITVVGVGAVGMACAISILMKELAD...</td>\n",
       "    </tr>\n",
       "    <tr>\n",
       "      <th>471120</th>\n",
       "      <td>9LDB</td>\n",
       "      <td>OXIDOREDUCTASE(CHOH(D)-NAD+(A))</td>\n",
       "      <td>X-RAY DIFFRACTION</td>\n",
       "      <td>Protein</td>\n",
       "      <td>664</td>\n",
       "      <td>2.20</td>\n",
       "      <td>74828.99</td>\n",
       "      <td>NaN</td>\n",
       "      <td>NaN</td>\n",
       "      <td>2.42</td>\n",
       "      <td>49.15</td>\n",
       "      <td>NaN</td>\n",
       "      <td>NaN</td>\n",
       "      <td>1991.0</td>\n",
       "      <td>B</td>\n",
       "      <td>XATLKDQLIHNLLKEEHVPHNKITVVGVGAVGMACAISILMKELAD...</td>\n",
       "    </tr>\n",
       "    <tr>\n",
       "      <th>471121</th>\n",
       "      <td>9LDT</td>\n",
       "      <td>OXIDOREDUCTASE(CHOH(D)-NAD+(A))</td>\n",
       "      <td>X-RAY DIFFRACTION</td>\n",
       "      <td>Protein</td>\n",
       "      <td>664</td>\n",
       "      <td>2.00</td>\n",
       "      <td>74821.98</td>\n",
       "      <td>NaN</td>\n",
       "      <td>NaN</td>\n",
       "      <td>2.42</td>\n",
       "      <td>49.15</td>\n",
       "      <td>NaN</td>\n",
       "      <td>NaN</td>\n",
       "      <td>1991.0</td>\n",
       "      <td>A</td>\n",
       "      <td>XATLKDQLIHNLLKEEHVPHNKITVVGVGAVGMACAISILMKELAD...</td>\n",
       "    </tr>\n",
       "    <tr>\n",
       "      <th>471122</th>\n",
       "      <td>9LDT</td>\n",
       "      <td>OXIDOREDUCTASE(CHOH(D)-NAD+(A))</td>\n",
       "      <td>X-RAY DIFFRACTION</td>\n",
       "      <td>Protein</td>\n",
       "      <td>664</td>\n",
       "      <td>2.00</td>\n",
       "      <td>74821.98</td>\n",
       "      <td>NaN</td>\n",
       "      <td>NaN</td>\n",
       "      <td>2.42</td>\n",
       "      <td>49.15</td>\n",
       "      <td>NaN</td>\n",
       "      <td>NaN</td>\n",
       "      <td>1991.0</td>\n",
       "      <td>B</td>\n",
       "      <td>XATLKDQLIHNLLKEEHVPHNKITVVGVGAVGMACAISILMKELAD...</td>\n",
       "    </tr>\n",
       "    <tr>\n",
       "      <th>471123</th>\n",
       "      <td>9LPR</td>\n",
       "      <td>HYDROLASE/HYDROLASE INHIBITOR</td>\n",
       "      <td>X-RAY DIFFRACTION</td>\n",
       "      <td>Protein</td>\n",
       "      <td>203</td>\n",
       "      <td>2.20</td>\n",
       "      <td>20455.54</td>\n",
       "      <td>NaN</td>\n",
       "      <td>NaN</td>\n",
       "      <td>2.50</td>\n",
       "      <td>50.88</td>\n",
       "      <td>NaN</td>\n",
       "      <td>NaN</td>\n",
       "      <td>1991.0</td>\n",
       "      <td>A</td>\n",
       "      <td>ANIVGGIEYSINNASLCSVGFSVTRGATKGFVTAGHCGTVNATARI...</td>\n",
       "    </tr>\n",
       "    <tr>\n",
       "      <th>471124</th>\n",
       "      <td>9LPR</td>\n",
       "      <td>HYDROLASE/HYDROLASE INHIBITOR</td>\n",
       "      <td>X-RAY DIFFRACTION</td>\n",
       "      <td>Protein</td>\n",
       "      <td>203</td>\n",
       "      <td>2.20</td>\n",
       "      <td>20455.54</td>\n",
       "      <td>NaN</td>\n",
       "      <td>NaN</td>\n",
       "      <td>2.50</td>\n",
       "      <td>50.88</td>\n",
       "      <td>NaN</td>\n",
       "      <td>NaN</td>\n",
       "      <td>1991.0</td>\n",
       "      <td>P</td>\n",
       "      <td>XAAPL</td>\n",
       "    </tr>\n",
       "    <tr>\n",
       "      <th>471125</th>\n",
       "      <td>9LYZ</td>\n",
       "      <td>HYDROLASE (O-GLYCOSYL)</td>\n",
       "      <td>X-RAY DIFFRACTION</td>\n",
       "      <td>Protein</td>\n",
       "      <td>129</td>\n",
       "      <td>2.50</td>\n",
       "      <td>15138.91</td>\n",
       "      <td>NaN</td>\n",
       "      <td>NaN</td>\n",
       "      <td>2.08</td>\n",
       "      <td>40.88</td>\n",
       "      <td>NaN</td>\n",
       "      <td>NaN</td>\n",
       "      <td>1979.0</td>\n",
       "      <td>A</td>\n",
       "      <td>KVFGRCELAAAMKRHGLDNYRGYSLGNWVCAAKFESNFNTQATNRN...</td>\n",
       "    </tr>\n",
       "    <tr>\n",
       "      <th>471129</th>\n",
       "      <td>9MSI</td>\n",
       "      <td>ANTIFREEZE PROTEIN</td>\n",
       "      <td>X-RAY DIFFRACTION</td>\n",
       "      <td>Protein</td>\n",
       "      <td>66</td>\n",
       "      <td>2.60</td>\n",
       "      <td>6992.23</td>\n",
       "      <td>NaN</td>\n",
       "      <td>NaN</td>\n",
       "      <td>2.10</td>\n",
       "      <td>41.56</td>\n",
       "      <td>pH 5.5</td>\n",
       "      <td>5.5</td>\n",
       "      <td>1999.0</td>\n",
       "      <td>A</td>\n",
       "      <td>ANQASVVANQLIPINTALNLVMMRSEVVTPVGIPAEDIPRLVSMQV...</td>\n",
       "    </tr>\n",
       "    <tr>\n",
       "      <th>471130</th>\n",
       "      <td>9NSE</td>\n",
       "      <td>OXIDOREDUCTASE</td>\n",
       "      <td>X-RAY DIFFRACTION</td>\n",
       "      <td>Protein</td>\n",
       "      <td>888</td>\n",
       "      <td>2.24</td>\n",
       "      <td>102350.65</td>\n",
       "      <td>NaN</td>\n",
       "      <td>NaN</td>\n",
       "      <td>2.41</td>\n",
       "      <td>50.00</td>\n",
       "      <td>pH 6.5</td>\n",
       "      <td>6.5</td>\n",
       "      <td>2000.0</td>\n",
       "      <td>A</td>\n",
       "      <td>SRAPAPATPHAPDHSPAPNSPTLTRPPEGPKFPRVKNWELGSITYD...</td>\n",
       "    </tr>\n",
       "    <tr>\n",
       "      <th>471131</th>\n",
       "      <td>9NSE</td>\n",
       "      <td>OXIDOREDUCTASE</td>\n",
       "      <td>X-RAY DIFFRACTION</td>\n",
       "      <td>Protein</td>\n",
       "      <td>888</td>\n",
       "      <td>2.24</td>\n",
       "      <td>102350.65</td>\n",
       "      <td>NaN</td>\n",
       "      <td>NaN</td>\n",
       "      <td>2.41</td>\n",
       "      <td>50.00</td>\n",
       "      <td>pH 6.5</td>\n",
       "      <td>6.5</td>\n",
       "      <td>2000.0</td>\n",
       "      <td>B</td>\n",
       "      <td>SRAPAPATPHAPDHSPAPNSPTLTRPPEGPKFPRVKNWELGSITYD...</td>\n",
       "    </tr>\n",
       "    <tr>\n",
       "      <th>471132</th>\n",
       "      <td>9PAI</td>\n",
       "      <td>HYDROLASE INHIBITOR</td>\n",
       "      <td>X-RAY DIFFRACTION</td>\n",
       "      <td>Protein</td>\n",
       "      <td>379</td>\n",
       "      <td>2.70</td>\n",
       "      <td>42863.14</td>\n",
       "      <td>NaN</td>\n",
       "      <td>NaN</td>\n",
       "      <td>2.10</td>\n",
       "      <td>58.00</td>\n",
       "      <td>19% (W/V) PEG 4000, 100 MM TRIS PH 8.5</td>\n",
       "      <td>8.5</td>\n",
       "      <td>1995.0</td>\n",
       "      <td>A</td>\n",
       "      <td>VHHPPSYVAHLASDFGVRVFQQVAQASKDRNVVFSPYGVASVLAML...</td>\n",
       "    </tr>\n",
       "    <tr>\n",
       "      <th>471133</th>\n",
       "      <td>9PAI</td>\n",
       "      <td>HYDROLASE INHIBITOR</td>\n",
       "      <td>X-RAY DIFFRACTION</td>\n",
       "      <td>Protein</td>\n",
       "      <td>379</td>\n",
       "      <td>2.70</td>\n",
       "      <td>42863.14</td>\n",
       "      <td>NaN</td>\n",
       "      <td>NaN</td>\n",
       "      <td>2.10</td>\n",
       "      <td>58.00</td>\n",
       "      <td>19% (W/V) PEG 4000, 100 MM TRIS PH 8.5</td>\n",
       "      <td>8.5</td>\n",
       "      <td>1995.0</td>\n",
       "      <td>B</td>\n",
       "      <td>MAPEEIIMDRPFLFVVRHNPTGTVLFMGQVMEP</td>\n",
       "    </tr>\n",
       "    <tr>\n",
       "      <th>471134</th>\n",
       "      <td>9PAP</td>\n",
       "      <td>HYDROLASE (SULFHYDRYL PROTEINASE)</td>\n",
       "      <td>X-RAY DIFFRACTION</td>\n",
       "      <td>Protein</td>\n",
       "      <td>212</td>\n",
       "      <td>1.65</td>\n",
       "      <td>24426.56</td>\n",
       "      <td>NaN</td>\n",
       "      <td>NaN</td>\n",
       "      <td>2.56</td>\n",
       "      <td>52.04</td>\n",
       "      <td>NaN</td>\n",
       "      <td>NaN</td>\n",
       "      <td>1984.0</td>\n",
       "      <td>A</td>\n",
       "      <td>IPEYVDWRQKGAVTPVKNQGSCGSCWAFSAVVTIEGIIKIRTGNLN...</td>\n",
       "    </tr>\n",
       "    <tr>\n",
       "      <th>471135</th>\n",
       "      <td>9PCY</td>\n",
       "      <td>ELECTRON TRANSPORT</td>\n",
       "      <td>SOLUTION NMR</td>\n",
       "      <td>Protein</td>\n",
       "      <td>99</td>\n",
       "      <td>NaN</td>\n",
       "      <td>10562.28</td>\n",
       "      <td>NaN</td>\n",
       "      <td>NaN</td>\n",
       "      <td>NaN</td>\n",
       "      <td>NaN</td>\n",
       "      <td>NaN</td>\n",
       "      <td>NaN</td>\n",
       "      <td>1991.0</td>\n",
       "      <td>A</td>\n",
       "      <td>LEVLLGSGDGSLVFVPSEFSVPSGEKIVFKNNAGFPHNVVFDEDEI...</td>\n",
       "    </tr>\n",
       "    <tr>\n",
       "      <th>471136</th>\n",
       "      <td>9RAT</td>\n",
       "      <td>HYDROLASE (NUCLEIC ACID,RNA)</td>\n",
       "      <td>X-RAY DIFFRACTION</td>\n",
       "      <td>Protein</td>\n",
       "      <td>124</td>\n",
       "      <td>1.50</td>\n",
       "      <td>13708.33</td>\n",
       "      <td>NaN</td>\n",
       "      <td>NaN</td>\n",
       "      <td>2.17</td>\n",
       "      <td>43.19</td>\n",
       "      <td>NaN</td>\n",
       "      <td>NaN</td>\n",
       "      <td>1992.0</td>\n",
       "      <td>A</td>\n",
       "      <td>KETAAAKFERQHMDSSTSAASSSNYCNQMMKSRNLTKDRCKPVNTF...</td>\n",
       "    </tr>\n",
       "    <tr>\n",
       "      <th>471137</th>\n",
       "      <td>9RNT</td>\n",
       "      <td>HYDROLASE(ENDORIBONUCLEASE)</td>\n",
       "      <td>X-RAY DIFFRACTION</td>\n",
       "      <td>Protein</td>\n",
       "      <td>104</td>\n",
       "      <td>1.50</td>\n",
       "      <td>11134.77</td>\n",
       "      <td>NaN</td>\n",
       "      <td>NaN</td>\n",
       "      <td>2.09</td>\n",
       "      <td>41.23</td>\n",
       "      <td>NaN</td>\n",
       "      <td>NaN</td>\n",
       "      <td>1991.0</td>\n",
       "      <td>A</td>\n",
       "      <td>ACDYTCGSNCYSSSDVSTAQAAGYKLHEDGETVGSNSYPHKYNNYE...</td>\n",
       "    </tr>\n",
       "    <tr>\n",
       "      <th>471138</th>\n",
       "      <td>9RSA</td>\n",
       "      <td>HYDROLASE (PHOSPHORIC DIESTER)</td>\n",
       "      <td>X-RAY DIFFRACTION</td>\n",
       "      <td>Protein</td>\n",
       "      <td>248</td>\n",
       "      <td>1.80</td>\n",
       "      <td>27987.16</td>\n",
       "      <td>NaN</td>\n",
       "      <td>NaN</td>\n",
       "      <td>2.25</td>\n",
       "      <td>45.45</td>\n",
       "      <td>NaN</td>\n",
       "      <td>NaN</td>\n",
       "      <td>1990.0</td>\n",
       "      <td>A</td>\n",
       "      <td>KETAAAKFERQHMDSSTSAASSSNYCNQMMKSRNLTKDRCKPVNTF...</td>\n",
       "    </tr>\n",
       "    <tr>\n",
       "      <th>471139</th>\n",
       "      <td>9RSA</td>\n",
       "      <td>HYDROLASE (PHOSPHORIC DIESTER)</td>\n",
       "      <td>X-RAY DIFFRACTION</td>\n",
       "      <td>Protein</td>\n",
       "      <td>248</td>\n",
       "      <td>1.80</td>\n",
       "      <td>27987.16</td>\n",
       "      <td>NaN</td>\n",
       "      <td>NaN</td>\n",
       "      <td>2.25</td>\n",
       "      <td>45.45</td>\n",
       "      <td>NaN</td>\n",
       "      <td>NaN</td>\n",
       "      <td>1990.0</td>\n",
       "      <td>B</td>\n",
       "      <td>KETAAAKFERQHMDSSTSAASSSNYCNQMMKSRNLTKDRCKPVNTF...</td>\n",
       "    </tr>\n",
       "    <tr>\n",
       "      <th>471140</th>\n",
       "      <td>9RUB</td>\n",
       "      <td>LYASE(CARBON-CARBON)</td>\n",
       "      <td>X-RAY DIFFRACTION</td>\n",
       "      <td>Protein</td>\n",
       "      <td>932</td>\n",
       "      <td>2.60</td>\n",
       "      <td>101838.68</td>\n",
       "      <td>NaN</td>\n",
       "      <td>NaN</td>\n",
       "      <td>2.38</td>\n",
       "      <td>48.29</td>\n",
       "      <td>NaN</td>\n",
       "      <td>NaN</td>\n",
       "      <td>1991.0</td>\n",
       "      <td>A</td>\n",
       "      <td>MDQSSRYVNLALKEEDLIAGGEHVLCAYIMKPKAGYGYVATAAHFA...</td>\n",
       "    </tr>\n",
       "    <tr>\n",
       "      <th>471141</th>\n",
       "      <td>9RUB</td>\n",
       "      <td>LYASE(CARBON-CARBON)</td>\n",
       "      <td>X-RAY DIFFRACTION</td>\n",
       "      <td>Protein</td>\n",
       "      <td>932</td>\n",
       "      <td>2.60</td>\n",
       "      <td>101838.68</td>\n",
       "      <td>NaN</td>\n",
       "      <td>NaN</td>\n",
       "      <td>2.38</td>\n",
       "      <td>48.29</td>\n",
       "      <td>NaN</td>\n",
       "      <td>NaN</td>\n",
       "      <td>1991.0</td>\n",
       "      <td>B</td>\n",
       "      <td>MDQSSRYVNLALKEEDLIAGGEHVLCAYIMKPKAGYGYVATAAHFA...</td>\n",
       "    </tr>\n",
       "    <tr>\n",
       "      <th>471142</th>\n",
       "      <td>9WGA</td>\n",
       "      <td>LECTIN (AGGLUTININ)</td>\n",
       "      <td>X-RAY DIFFRACTION</td>\n",
       "      <td>Protein</td>\n",
       "      <td>342</td>\n",
       "      <td>1.80</td>\n",
       "      <td>34270.22</td>\n",
       "      <td>NaN</td>\n",
       "      <td>NaN</td>\n",
       "      <td>2.50</td>\n",
       "      <td>50.76</td>\n",
       "      <td>NaN</td>\n",
       "      <td>NaN</td>\n",
       "      <td>1990.0</td>\n",
       "      <td>A</td>\n",
       "      <td>ERCGEQGSNMECPNNLCCSQYGYCGMGGDYCGKGCQNGACWTSKRC...</td>\n",
       "    </tr>\n",
       "    <tr>\n",
       "      <th>471143</th>\n",
       "      <td>9WGA</td>\n",
       "      <td>LECTIN (AGGLUTININ)</td>\n",
       "      <td>X-RAY DIFFRACTION</td>\n",
       "      <td>Protein</td>\n",
       "      <td>342</td>\n",
       "      <td>1.80</td>\n",
       "      <td>34270.22</td>\n",
       "      <td>NaN</td>\n",
       "      <td>NaN</td>\n",
       "      <td>2.50</td>\n",
       "      <td>50.76</td>\n",
       "      <td>NaN</td>\n",
       "      <td>NaN</td>\n",
       "      <td>1990.0</td>\n",
       "      <td>B</td>\n",
       "      <td>ERCGEQGSNMECPNNLCCSQYGYCGMGGDYCGKGCQNGACWTSKRC...</td>\n",
       "    </tr>\n",
       "    <tr>\n",
       "      <th>471144</th>\n",
       "      <td>9XIA</td>\n",
       "      <td>ISOMERASE(INTRAMOLECULAR OXIDOREDUCTASE)</td>\n",
       "      <td>X-RAY DIFFRACTION</td>\n",
       "      <td>Protein</td>\n",
       "      <td>388</td>\n",
       "      <td>1.90</td>\n",
       "      <td>43542.29</td>\n",
       "      <td>NaN</td>\n",
       "      <td>NaN</td>\n",
       "      <td>2.79</td>\n",
       "      <td>55.93</td>\n",
       "      <td>NaN</td>\n",
       "      <td>NaN</td>\n",
       "      <td>1989.0</td>\n",
       "      <td>A</td>\n",
       "      <td>MNYQPTPEDRFTFGLWTVGWQGRDPFGDATRRALDPVESVQRLAEL...</td>\n",
       "    </tr>\n",
       "    <tr>\n",
       "      <th>471145</th>\n",
       "      <td>9XIM</td>\n",
       "      <td>ISOMERASE(INTRAMOLECULAR OXIDOREDUCTASE)</td>\n",
       "      <td>X-RAY DIFFRACTION</td>\n",
       "      <td>Protein</td>\n",
       "      <td>1572</td>\n",
       "      <td>2.40</td>\n",
       "      <td>174722.12</td>\n",
       "      <td>NaN</td>\n",
       "      <td>NaN</td>\n",
       "      <td>3.96</td>\n",
       "      <td>68.92</td>\n",
       "      <td>NaN</td>\n",
       "      <td>NaN</td>\n",
       "      <td>1992.0</td>\n",
       "      <td>A</td>\n",
       "      <td>SVQATREDKFSFGLWTVGWQARDAFGDATRTALDPVEAVHKLAEIG...</td>\n",
       "    </tr>\n",
       "    <tr>\n",
       "      <th>471146</th>\n",
       "      <td>9XIM</td>\n",
       "      <td>ISOMERASE(INTRAMOLECULAR OXIDOREDUCTASE)</td>\n",
       "      <td>X-RAY DIFFRACTION</td>\n",
       "      <td>Protein</td>\n",
       "      <td>1572</td>\n",
       "      <td>2.40</td>\n",
       "      <td>174722.12</td>\n",
       "      <td>NaN</td>\n",
       "      <td>NaN</td>\n",
       "      <td>3.96</td>\n",
       "      <td>68.92</td>\n",
       "      <td>NaN</td>\n",
       "      <td>NaN</td>\n",
       "      <td>1992.0</td>\n",
       "      <td>B</td>\n",
       "      <td>SVQATREDKFSFGLWTVGWQARDAFGDATRTALDPVEAVHKLAEIG...</td>\n",
       "    </tr>\n",
       "    <tr>\n",
       "      <th>471147</th>\n",
       "      <td>9XIM</td>\n",
       "      <td>ISOMERASE(INTRAMOLECULAR OXIDOREDUCTASE)</td>\n",
       "      <td>X-RAY DIFFRACTION</td>\n",
       "      <td>Protein</td>\n",
       "      <td>1572</td>\n",
       "      <td>2.40</td>\n",
       "      <td>174722.12</td>\n",
       "      <td>NaN</td>\n",
       "      <td>NaN</td>\n",
       "      <td>3.96</td>\n",
       "      <td>68.92</td>\n",
       "      <td>NaN</td>\n",
       "      <td>NaN</td>\n",
       "      <td>1992.0</td>\n",
       "      <td>C</td>\n",
       "      <td>SVQATREDKFSFGLWTVGWQARDAFGDATRTALDPVEAVHKLAEIG...</td>\n",
       "    </tr>\n",
       "    <tr>\n",
       "      <th>471148</th>\n",
       "      <td>9XIM</td>\n",
       "      <td>ISOMERASE(INTRAMOLECULAR OXIDOREDUCTASE)</td>\n",
       "      <td>X-RAY DIFFRACTION</td>\n",
       "      <td>Protein</td>\n",
       "      <td>1572</td>\n",
       "      <td>2.40</td>\n",
       "      <td>174722.12</td>\n",
       "      <td>NaN</td>\n",
       "      <td>NaN</td>\n",
       "      <td>3.96</td>\n",
       "      <td>68.92</td>\n",
       "      <td>NaN</td>\n",
       "      <td>NaN</td>\n",
       "      <td>1992.0</td>\n",
       "      <td>D</td>\n",
       "      <td>SVQATREDKFSFGLWTVGWQARDAFGDATRTALDPVEAVHKLAEIG...</td>\n",
       "    </tr>\n",
       "  </tbody>\n",
       "</table>\n",
       "<p>346322 rows × 16 columns</p>\n",
       "</div>"
      ],
      "text/plain": [
       "       structureId                            classification  \\\n",
       "4             101M                          OXYGEN TRANSPORT   \n",
       "7             102L                     HYDROLASE(O-GLYCOSYL)   \n",
       "8             102M                          OXYGEN TRANSPORT   \n",
       "11            103L                     HYDROLASE(O-GLYCOSYL)   \n",
       "12            103M                          OXYGEN TRANSPORT   \n",
       "15            104L                     HYDROLASE(O-GLYCOSYL)   \n",
       "16            104L                     HYDROLASE(O-GLYCOSYL)   \n",
       "17            104M                          OXYGEN TRANSPORT   \n",
       "22            105M                          OXYGEN TRANSPORT   \n",
       "27            106M                          OXYGEN TRANSPORT   \n",
       "30            107L                     HYDROLASE(O-GLYCOSYL)   \n",
       "31            107M                          OXYGEN TRANSPORT   \n",
       "34            108L                     HYDROLASE(O-GLYCOSYL)   \n",
       "35            108M                          OXYGEN TRANSPORT   \n",
       "38            109L                     HYDROLASE(O-GLYCOSYL)   \n",
       "39            109M                          OXYGEN TRANSPORT   \n",
       "40            10GS         TRANSFERASE/TRANSFERASE INHIBITOR   \n",
       "41            10GS         TRANSFERASE/TRANSFERASE INHIBITOR   \n",
       "46            110L                     HYDROLASE(O-GLYCOSYL)   \n",
       "47            110M                          OXYGEN TRANSPORT   \n",
       "50            111L                     HYDROLASE(O-GLYCOSYL)   \n",
       "51            111M                          OXYGEN TRANSPORT   \n",
       "54            112L                     HYDROLASE(O-GLYCOSYL)   \n",
       "55            112M                          OXYGEN TRANSPORT   \n",
       "58            113L                     HYDROLASE(O-GLYCOSYL)   \n",
       "61            114L                     HYDROLASE(O-GLYCOSYL)   \n",
       "64            115L                     HYDROLASE(O-GLYCOSYL)   \n",
       "67            117E                                 HYDROLASE   \n",
       "68            117E                                 HYDROLASE   \n",
       "70            118L                     HYDROLASE(O-GLYCOSYL)   \n",
       "...            ...                                       ...   \n",
       "471116        9INS                                   HORMONE   \n",
       "471117        9INS                                   HORMONE   \n",
       "471118        9JDW                               TRANSFERASE   \n",
       "471119        9LDB           OXIDOREDUCTASE(CHOH(D)-NAD+(A))   \n",
       "471120        9LDB           OXIDOREDUCTASE(CHOH(D)-NAD+(A))   \n",
       "471121        9LDT           OXIDOREDUCTASE(CHOH(D)-NAD+(A))   \n",
       "471122        9LDT           OXIDOREDUCTASE(CHOH(D)-NAD+(A))   \n",
       "471123        9LPR             HYDROLASE/HYDROLASE INHIBITOR   \n",
       "471124        9LPR             HYDROLASE/HYDROLASE INHIBITOR   \n",
       "471125        9LYZ                    HYDROLASE (O-GLYCOSYL)   \n",
       "471129        9MSI                        ANTIFREEZE PROTEIN   \n",
       "471130        9NSE                            OXIDOREDUCTASE   \n",
       "471131        9NSE                            OXIDOREDUCTASE   \n",
       "471132        9PAI                       HYDROLASE INHIBITOR   \n",
       "471133        9PAI                       HYDROLASE INHIBITOR   \n",
       "471134        9PAP         HYDROLASE (SULFHYDRYL PROTEINASE)   \n",
       "471135        9PCY                        ELECTRON TRANSPORT   \n",
       "471136        9RAT              HYDROLASE (NUCLEIC ACID,RNA)   \n",
       "471137        9RNT               HYDROLASE(ENDORIBONUCLEASE)   \n",
       "471138        9RSA            HYDROLASE (PHOSPHORIC DIESTER)   \n",
       "471139        9RSA            HYDROLASE (PHOSPHORIC DIESTER)   \n",
       "471140        9RUB                      LYASE(CARBON-CARBON)   \n",
       "471141        9RUB                      LYASE(CARBON-CARBON)   \n",
       "471142        9WGA                       LECTIN (AGGLUTININ)   \n",
       "471143        9WGA                       LECTIN (AGGLUTININ)   \n",
       "471144        9XIA  ISOMERASE(INTRAMOLECULAR OXIDOREDUCTASE)   \n",
       "471145        9XIM  ISOMERASE(INTRAMOLECULAR OXIDOREDUCTASE)   \n",
       "471146        9XIM  ISOMERASE(INTRAMOLECULAR OXIDOREDUCTASE)   \n",
       "471147        9XIM  ISOMERASE(INTRAMOLECULAR OXIDOREDUCTASE)   \n",
       "471148        9XIM  ISOMERASE(INTRAMOLECULAR OXIDOREDUCTASE)   \n",
       "\n",
       "       experimentalTechnique macromoleculeType_x  residueCount_x  resolution  \\\n",
       "4          X-RAY DIFFRACTION             Protein             154        2.07   \n",
       "7          X-RAY DIFFRACTION             Protein             165        1.74   \n",
       "8          X-RAY DIFFRACTION             Protein             154        1.84   \n",
       "11         X-RAY DIFFRACTION             Protein             167        1.90   \n",
       "12         X-RAY DIFFRACTION             Protein             154        2.07   \n",
       "15         X-RAY DIFFRACTION             Protein             332        2.80   \n",
       "16         X-RAY DIFFRACTION             Protein             332        2.80   \n",
       "17         X-RAY DIFFRACTION             Protein             153        1.71   \n",
       "22         X-RAY DIFFRACTION             Protein             153        2.02   \n",
       "27         X-RAY DIFFRACTION             Protein             154        1.99   \n",
       "30         X-RAY DIFFRACTION             Protein             164        1.80   \n",
       "31         X-RAY DIFFRACTION             Protein             154        2.09   \n",
       "34         X-RAY DIFFRACTION             Protein             164        1.80   \n",
       "35         X-RAY DIFFRACTION             Protein             154        2.67   \n",
       "38         X-RAY DIFFRACTION             Protein             164        1.85   \n",
       "39         X-RAY DIFFRACTION             Protein             154        1.83   \n",
       "40         X-RAY DIFFRACTION             Protein             418        2.20   \n",
       "41         X-RAY DIFFRACTION             Protein             418        2.20   \n",
       "46         X-RAY DIFFRACTION             Protein             164        1.70   \n",
       "47         X-RAY DIFFRACTION             Protein             154        1.77   \n",
       "50         X-RAY DIFFRACTION             Protein             164        1.80   \n",
       "51         X-RAY DIFFRACTION             Protein             154        1.88   \n",
       "54         X-RAY DIFFRACTION             Protein             164        1.80   \n",
       "55         X-RAY DIFFRACTION             Protein             154        2.34   \n",
       "58         X-RAY DIFFRACTION             Protein             164        1.80   \n",
       "61         X-RAY DIFFRACTION             Protein             164        1.80   \n",
       "64         X-RAY DIFFRACTION             Protein             164        1.80   \n",
       "67         X-RAY DIFFRACTION             Protein             572        2.15   \n",
       "68         X-RAY DIFFRACTION             Protein             572        2.15   \n",
       "70         X-RAY DIFFRACTION             Protein             164        1.80   \n",
       "...                      ...                 ...             ...         ...   \n",
       "471116     X-RAY DIFFRACTION             Protein              51        1.70   \n",
       "471117     X-RAY DIFFRACTION             Protein              51        1.70   \n",
       "471118     X-RAY DIFFRACTION             Protein             386        2.50   \n",
       "471119     X-RAY DIFFRACTION             Protein             664        2.20   \n",
       "471120     X-RAY DIFFRACTION             Protein             664        2.20   \n",
       "471121     X-RAY DIFFRACTION             Protein             664        2.00   \n",
       "471122     X-RAY DIFFRACTION             Protein             664        2.00   \n",
       "471123     X-RAY DIFFRACTION             Protein             203        2.20   \n",
       "471124     X-RAY DIFFRACTION             Protein             203        2.20   \n",
       "471125     X-RAY DIFFRACTION             Protein             129        2.50   \n",
       "471129     X-RAY DIFFRACTION             Protein              66        2.60   \n",
       "471130     X-RAY DIFFRACTION             Protein             888        2.24   \n",
       "471131     X-RAY DIFFRACTION             Protein             888        2.24   \n",
       "471132     X-RAY DIFFRACTION             Protein             379        2.70   \n",
       "471133     X-RAY DIFFRACTION             Protein             379        2.70   \n",
       "471134     X-RAY DIFFRACTION             Protein             212        1.65   \n",
       "471135          SOLUTION NMR             Protein              99         NaN   \n",
       "471136     X-RAY DIFFRACTION             Protein             124        1.50   \n",
       "471137     X-RAY DIFFRACTION             Protein             104        1.50   \n",
       "471138     X-RAY DIFFRACTION             Protein             248        1.80   \n",
       "471139     X-RAY DIFFRACTION             Protein             248        1.80   \n",
       "471140     X-RAY DIFFRACTION             Protein             932        2.60   \n",
       "471141     X-RAY DIFFRACTION             Protein             932        2.60   \n",
       "471142     X-RAY DIFFRACTION             Protein             342        1.80   \n",
       "471143     X-RAY DIFFRACTION             Protein             342        1.80   \n",
       "471144     X-RAY DIFFRACTION             Protein             388        1.90   \n",
       "471145     X-RAY DIFFRACTION             Protein            1572        2.40   \n",
       "471146     X-RAY DIFFRACTION             Protein            1572        2.40   \n",
       "471147     X-RAY DIFFRACTION             Protein            1572        2.40   \n",
       "471148     X-RAY DIFFRACTION             Protein            1572        2.40   \n",
       "\n",
       "        structureMolecularWeight crystallizationMethod  crystallizationTempK  \\\n",
       "4                       18112.80                   NaN                   NaN   \n",
       "7                       18926.61                   NaN                   NaN   \n",
       "8                       18010.64                   NaN                   NaN   \n",
       "11                      19092.72                   NaN                   NaN   \n",
       "12                      18093.78                   NaN                   NaN   \n",
       "15                      37541.04                   NaN                   NaN   \n",
       "16                      37541.04                   NaN                   NaN   \n",
       "17                      18030.63                   NaN                   NaN   \n",
       "22                      18030.63                   NaN                   NaN   \n",
       "27                      18181.84                   NaN                   NaN   \n",
       "30                      18825.51                   NaN                   NaN   \n",
       "31                      18208.89                   NaN                   NaN   \n",
       "34                      18881.62                   NaN                   NaN   \n",
       "35                      18208.89                   NaN                   NaN   \n",
       "38                      18897.64                   NaN                   NaN   \n",
       "39                      18133.80                   NaN                   NaN   \n",
       "40                      47830.70                   NaN                   NaN   \n",
       "41                      47830.70                   NaN                   NaN   \n",
       "46                      18881.62                   NaN                   NaN   \n",
       "47                      18118.77                   NaN                   NaN   \n",
       "50                      18726.29                   NaN                   NaN   \n",
       "51                      18160.85                   NaN                   NaN   \n",
       "54                      18865.57                   NaN                   NaN   \n",
       "55                      18146.82                   NaN                   NaN   \n",
       "58                      18925.65                   NaN                   NaN   \n",
       "61                      18869.56                   NaN                   NaN   \n",
       "64                      18867.59                   NaN                   NaN   \n",
       "67                      65203.21                   NaN                   NaN   \n",
       "68                      65203.21                   NaN                   NaN   \n",
       "70                      18871.54                   NaN                   NaN   \n",
       "...                          ...                   ...                   ...   \n",
       "471116                   5787.62                   NaN                   NaN   \n",
       "471117                   5787.62                   NaN                   NaN   \n",
       "471118                  44444.61                   NaN                   NaN   \n",
       "471119                  74828.99                   NaN                   NaN   \n",
       "471120                  74828.99                   NaN                   NaN   \n",
       "471121                  74821.98                   NaN                   NaN   \n",
       "471122                  74821.98                   NaN                   NaN   \n",
       "471123                  20455.54                   NaN                   NaN   \n",
       "471124                  20455.54                   NaN                   NaN   \n",
       "471125                  15138.91                   NaN                   NaN   \n",
       "471129                   6992.23                   NaN                   NaN   \n",
       "471130                 102350.65                   NaN                   NaN   \n",
       "471131                 102350.65                   NaN                   NaN   \n",
       "471132                  42863.14                   NaN                   NaN   \n",
       "471133                  42863.14                   NaN                   NaN   \n",
       "471134                  24426.56                   NaN                   NaN   \n",
       "471135                  10562.28                   NaN                   NaN   \n",
       "471136                  13708.33                   NaN                   NaN   \n",
       "471137                  11134.77                   NaN                   NaN   \n",
       "471138                  27987.16                   NaN                   NaN   \n",
       "471139                  27987.16                   NaN                   NaN   \n",
       "471140                 101838.68                   NaN                   NaN   \n",
       "471141                 101838.68                   NaN                   NaN   \n",
       "471142                  34270.22                   NaN                   NaN   \n",
       "471143                  34270.22                   NaN                   NaN   \n",
       "471144                  43542.29                   NaN                   NaN   \n",
       "471145                 174722.12                   NaN                   NaN   \n",
       "471146                 174722.12                   NaN                   NaN   \n",
       "471147                 174722.12                   NaN                   NaN   \n",
       "471148                 174722.12                   NaN                   NaN   \n",
       "\n",
       "        densityMatthews  densityPercentSol  \\\n",
       "4                  3.09              60.20   \n",
       "7                  2.75              55.28   \n",
       "8                  3.09              60.20   \n",
       "11                 2.70              54.46   \n",
       "12                 3.09              60.30   \n",
       "15                 3.04              59.49   \n",
       "16                 3.04              59.49   \n",
       "17                 1.87              34.30   \n",
       "22                 1.83              33.00   \n",
       "27                 3.05              59.70   \n",
       "30                 2.81              56.17   \n",
       "31                 3.08              60.10   \n",
       "34                 2.79              55.90   \n",
       "35                 3.07              60.00   \n",
       "38                 2.76              55.47   \n",
       "39                 3.07              59.90   \n",
       "40                 2.61              52.86   \n",
       "41                 2.61              52.86   \n",
       "46                 2.78              55.71   \n",
       "47                 3.06              59.90   \n",
       "50                 2.80              56.03   \n",
       "51                 3.06              59.80   \n",
       "54                 2.80              56.08   \n",
       "55                 3.04              59.60   \n",
       "58                 2.82              56.31   \n",
       "61                 2.79              55.89   \n",
       "64                 2.78              55.80   \n",
       "67                 2.71              54.69   \n",
       "68                 2.71              54.69   \n",
       "70                 2.78              55.68   \n",
       "...                 ...                ...   \n",
       "471116             3.54              65.21   \n",
       "471117             3.54              65.21   \n",
       "471118             3.83              68.00   \n",
       "471119             2.42              49.15   \n",
       "471120             2.42              49.15   \n",
       "471121             2.42              49.15   \n",
       "471122             2.42              49.15   \n",
       "471123             2.50              50.88   \n",
       "471124             2.50              50.88   \n",
       "471125             2.08              40.88   \n",
       "471129             2.10              41.56   \n",
       "471130             2.41              50.00   \n",
       "471131             2.41              50.00   \n",
       "471132             2.10              58.00   \n",
       "471133             2.10              58.00   \n",
       "471134             2.56              52.04   \n",
       "471135              NaN                NaN   \n",
       "471136             2.17              43.19   \n",
       "471137             2.09              41.23   \n",
       "471138             2.25              45.45   \n",
       "471139             2.25              45.45   \n",
       "471140             2.38              48.29   \n",
       "471141             2.38              48.29   \n",
       "471142             2.50              50.76   \n",
       "471143             2.50              50.76   \n",
       "471144             2.79              55.93   \n",
       "471145             3.96              68.92   \n",
       "471146             3.96              68.92   \n",
       "471147             3.96              68.92   \n",
       "471148             3.96              68.92   \n",
       "\n",
       "                                              pdbxDetails  phValue  \\\n",
       "4       3.0 M AMMONIUM SULFATE, 20 MM TRIS, 1MM EDTA, ...      9.0   \n",
       "7                                                     NaN      NaN   \n",
       "8       3.0 M AMMONIUM SULFATE, 20 MM TRIS, 1MM EDTA, ...      9.0   \n",
       "11                                                    NaN      NaN   \n",
       "12      3.0 M AMMONIUM SULFATE, 20 MM TRIS, 1MM EDTA, ...      9.0   \n",
       "15                                                    NaN      NaN   \n",
       "16                                                    NaN      NaN   \n",
       "17             3.0 M AMMONIUM SULFATE, UNBUFFERED, pH 7.0      7.0   \n",
       "22             3.0 M AMMONIUM SULFATE, UNBUFFERED, pH 9.0      9.0   \n",
       "27      3.0 M AMMONIUM SULFATE, 20 MM TRIS, 1MM EDTA, ...      9.0   \n",
       "30                                                    NaN      NaN   \n",
       "31      3.0 M AMMONIUM SULFATE, 20 MM TRIS, 1MM EDTA, ...      9.0   \n",
       "34                                                    NaN      NaN   \n",
       "35      3.0 M AMMONIUM SULFATE, 20 MM TRIS, 1MM EDTA, ...      7.0   \n",
       "38                                                    NaN      NaN   \n",
       "39      3.0 M AMMONIUM SULFATE, 20 MM TRIS, 1MM EDTA, ...      9.0   \n",
       "40                                                 pH 5.8      5.8   \n",
       "41                                                 pH 5.8      5.8   \n",
       "46                                                    NaN      NaN   \n",
       "47      3.0 M AMMONIUM SULFATE, 20 MM TRIS, 1MM EDTA, ...      9.0   \n",
       "50                                                    NaN      NaN   \n",
       "51      3.0 M AMMONIUM SULFATE, 20 MM TRIS, 1MM EDTA, ...      9.0   \n",
       "54                                                    NaN      NaN   \n",
       "55      3.0 M AMMONIUM SULFATE, 20 MM TRIS, 1MM EDTA, ...      9.0   \n",
       "58                                                    NaN      NaN   \n",
       "61                                                    NaN      NaN   \n",
       "64                                                    NaN      NaN   \n",
       "67      17-19% MPD, 25 MM MES, PH 6.0, 1 MM MNCL2, 0.5...      6.0   \n",
       "68      17-19% MPD, 25 MM MES, PH 6.0, 1 MM MNCL2, 0.5...      6.0   \n",
       "70                                                    NaN      NaN   \n",
       "...                                                   ...      ...   \n",
       "471116                                                NaN      NaN   \n",
       "471117                                                NaN      NaN   \n",
       "471118                                             pH 7.0      7.0   \n",
       "471119                                                NaN      NaN   \n",
       "471120                                                NaN      NaN   \n",
       "471121                                                NaN      NaN   \n",
       "471122                                                NaN      NaN   \n",
       "471123                                                NaN      NaN   \n",
       "471124                                                NaN      NaN   \n",
       "471125                                                NaN      NaN   \n",
       "471129                                             pH 5.5      5.5   \n",
       "471130                                             pH 6.5      6.5   \n",
       "471131                                             pH 6.5      6.5   \n",
       "471132             19% (W/V) PEG 4000, 100 MM TRIS PH 8.5      8.5   \n",
       "471133             19% (W/V) PEG 4000, 100 MM TRIS PH 8.5      8.5   \n",
       "471134                                                NaN      NaN   \n",
       "471135                                                NaN      NaN   \n",
       "471136                                                NaN      NaN   \n",
       "471137                                                NaN      NaN   \n",
       "471138                                                NaN      NaN   \n",
       "471139                                                NaN      NaN   \n",
       "471140                                                NaN      NaN   \n",
       "471141                                                NaN      NaN   \n",
       "471142                                                NaN      NaN   \n",
       "471143                                                NaN      NaN   \n",
       "471144                                                NaN      NaN   \n",
       "471145                                                NaN      NaN   \n",
       "471146                                                NaN      NaN   \n",
       "471147                                                NaN      NaN   \n",
       "471148                                                NaN      NaN   \n",
       "\n",
       "        publicationYear chainId  \\\n",
       "4                1999.0       A   \n",
       "7                1993.0       A   \n",
       "8                1999.0       A   \n",
       "11               1993.0       A   \n",
       "12               1999.0       A   \n",
       "15               1993.0       A   \n",
       "16               1993.0       B   \n",
       "17               1999.0       A   \n",
       "22               1999.0       A   \n",
       "27               1999.0       A   \n",
       "30               1993.0       A   \n",
       "31               1999.0       A   \n",
       "34               1993.0       A   \n",
       "35               1999.0       A   \n",
       "38               1993.0       A   \n",
       "39               1999.0       A   \n",
       "40               1997.0       A   \n",
       "41               1997.0       B   \n",
       "46               1993.0       A   \n",
       "47               1999.0       A   \n",
       "50               1993.0       A   \n",
       "51               1999.0       A   \n",
       "54               1993.0       A   \n",
       "55               1999.0       A   \n",
       "58               1993.0       A   \n",
       "61               1993.0       A   \n",
       "64               1993.0       A   \n",
       "67               1998.0       A   \n",
       "68               1998.0       B   \n",
       "70               1993.0       A   \n",
       "...                 ...     ...   \n",
       "471116           1992.0       A   \n",
       "471117           1992.0       B   \n",
       "471118           1999.0       A   \n",
       "471119           1991.0       A   \n",
       "471120           1991.0       B   \n",
       "471121           1991.0       A   \n",
       "471122           1991.0       B   \n",
       "471123           1991.0       A   \n",
       "471124           1991.0       P   \n",
       "471125           1979.0       A   \n",
       "471129           1999.0       A   \n",
       "471130           2000.0       A   \n",
       "471131           2000.0       B   \n",
       "471132           1995.0       A   \n",
       "471133           1995.0       B   \n",
       "471134           1984.0       A   \n",
       "471135           1991.0       A   \n",
       "471136           1992.0       A   \n",
       "471137           1991.0       A   \n",
       "471138           1990.0       A   \n",
       "471139           1990.0       B   \n",
       "471140           1991.0       A   \n",
       "471141           1991.0       B   \n",
       "471142           1990.0       A   \n",
       "471143           1990.0       B   \n",
       "471144           1989.0       A   \n",
       "471145           1992.0       A   \n",
       "471146           1992.0       B   \n",
       "471147           1992.0       C   \n",
       "471148           1992.0       D   \n",
       "\n",
       "                                                 sequence  \n",
       "4       MVLSEGEWQLVLHVWAKVEADVAGHGQDILIRLFKSHPETLEKFDR...  \n",
       "7       MNIFEMLRIDEGLRLKIYKDTEGYYTIGIGHLLTKSPSLNAAAKSE...  \n",
       "8       MVLSEGEWQLVLHVWAKVEADVAGHGQDILIRLFKSHPETLEKFDR...  \n",
       "11      MNIFEMLRIDEGLRLKIYKDTEGYYTIGIGHLLTKSPSLNSLDAAK...  \n",
       "12      MVLSEGEWQLVLHVWAKVEADVAGHGQDILIRLFKSHPETLEKFDR...  \n",
       "15      MNIFEMLRIDEGLRLKIYKDTEGYYTIGIGHLLTKSPSLNAAKSAA...  \n",
       "16      MNIFEMLRIDEGLRLKIYKDTEGYYTIGIGHLLTKSPSLNAAKSAA...  \n",
       "17      VLSEGEWQLVLHVWAKVEADVAGHGQDILIRLFKSHPETLEKFDRF...  \n",
       "22      VLSEGEWQLVLHVWAKVEADVAGHGQDILIRLFKSHPETLEKFDRF...  \n",
       "27      MVLSEGEWQLVLHVWAKVEADVAGHGQDILIRLFKSHPETLEKFDR...  \n",
       "30      MNIFEMLRIDEGLRLKIYKDTEGYYTIGIGHLLTKSPSLNAAKGEL...  \n",
       "31      MVLSEGEWQLVLHVWAKVEADVAGHGQDILIRLFKSHPETLEKFDR...  \n",
       "34      MNIFEMLRIDEGLRLKIYKDTEGYYTIGIGHLLTKSPSLNAAKIEL...  \n",
       "35      MVLSEGEWQLVLHVWAKVEADVAGHGQDILIRLFKSHPETLEKFDR...  \n",
       "38      MNIFEMLRIDEGLRLKIYKDTEGYYTIGIGHLLTKSPSLNAAKKEL...  \n",
       "39      MVLSEGEWQLVLHVWAKVEADVAGHGQDILIRLFKSHPETLEKFDR...  \n",
       "40      PPYTVVYFPVRGRCAALRMLLADQGQSWKEEVVTVETWQEGSLKAS...  \n",
       "41      PPYTVVYFPVRGRCAALRMLLADQGQSWKEEVVTVETWQEGSLKAS...  \n",
       "46      MNIFEMLRIDEGLRLKIYKDTEGYYTIGIGHLLTKSPSLNAAKLEL...  \n",
       "47      MVLSEGEWQLVLHVWAKVEADVAGHGQDILIRLFKSHPETLEKFDR...  \n",
       "50      MNIFEMLRIDEGLRLKIYKDTEGYYTIGIGHLLTKSPSLNAAKNEL...  \n",
       "51      MVLSEGEWQLVLHVWAKVEADVAGHGQDILIRLFKSHPETLEKFDR...  \n",
       "54      MNIFEMLRIDEGLRLKIYKDTEGYYTIGIGHLLTKSPSLNAAKPEL...  \n",
       "55      MVLSEGEWQLVLHVWAKVEADVAGHGQDILIRLFKSHPETLEKFDR...  \n",
       "58      MNIFEMLRIDEGLRLKIYKDTEGYYTIGIGHLLTKSPSLNAAKREL...  \n",
       "61      MNIFEMLRIDEGLRLKIYKDTEGYYTIGIGHLLTKSPSLNAAKTEL...  \n",
       "64      MNIFEMLRIDEGLRLKIYKDTEGYYTIGIGHLLTKSPSLNAAKVEL...  \n",
       "67      TYTTRQIGAKNTLEYKVYIEKDGKPVSAFHDIPLYADKENNIFNMV...  \n",
       "68      TYTTRQIGAKNTLEYKVYIEKDGKPVSAFHDIPLYADKENNIFNMV...  \n",
       "70      MNIFEMLRIDEGLRLKIYKDTEGYYTIGIGHLLTKSPSLNAAKSEL...  \n",
       "...                                                   ...  \n",
       "471116                              GIVEQCCTSICSLYQLENYCN  \n",
       "471117                     FVNQHLCGSHLVEALYLVCGERGFFYTPKA  \n",
       "471118  STQAATASSRNSCAADDKATEPLPKDCPVSSYNEWDPLEEVIVGRA...  \n",
       "471119  XATLKDQLIHNLLKEEHVPHNKITVVGVGAVGMACAISILMKELAD...  \n",
       "471120  XATLKDQLIHNLLKEEHVPHNKITVVGVGAVGMACAISILMKELAD...  \n",
       "471121  XATLKDQLIHNLLKEEHVPHNKITVVGVGAVGMACAISILMKELAD...  \n",
       "471122  XATLKDQLIHNLLKEEHVPHNKITVVGVGAVGMACAISILMKELAD...  \n",
       "471123  ANIVGGIEYSINNASLCSVGFSVTRGATKGFVTAGHCGTVNATARI...  \n",
       "471124                                              XAAPL  \n",
       "471125  KVFGRCELAAAMKRHGLDNYRGYSLGNWVCAAKFESNFNTQATNRN...  \n",
       "471129  ANQASVVANQLIPINTALNLVMMRSEVVTPVGIPAEDIPRLVSMQV...  \n",
       "471130  SRAPAPATPHAPDHSPAPNSPTLTRPPEGPKFPRVKNWELGSITYD...  \n",
       "471131  SRAPAPATPHAPDHSPAPNSPTLTRPPEGPKFPRVKNWELGSITYD...  \n",
       "471132  VHHPPSYVAHLASDFGVRVFQQVAQASKDRNVVFSPYGVASVLAML...  \n",
       "471133                  MAPEEIIMDRPFLFVVRHNPTGTVLFMGQVMEP  \n",
       "471134  IPEYVDWRQKGAVTPVKNQGSCGSCWAFSAVVTIEGIIKIRTGNLN...  \n",
       "471135  LEVLLGSGDGSLVFVPSEFSVPSGEKIVFKNNAGFPHNVVFDEDEI...  \n",
       "471136  KETAAAKFERQHMDSSTSAASSSNYCNQMMKSRNLTKDRCKPVNTF...  \n",
       "471137  ACDYTCGSNCYSSSDVSTAQAAGYKLHEDGETVGSNSYPHKYNNYE...  \n",
       "471138  KETAAAKFERQHMDSSTSAASSSNYCNQMMKSRNLTKDRCKPVNTF...  \n",
       "471139  KETAAAKFERQHMDSSTSAASSSNYCNQMMKSRNLTKDRCKPVNTF...  \n",
       "471140  MDQSSRYVNLALKEEDLIAGGEHVLCAYIMKPKAGYGYVATAAHFA...  \n",
       "471141  MDQSSRYVNLALKEEDLIAGGEHVLCAYIMKPKAGYGYVATAAHFA...  \n",
       "471142  ERCGEQGSNMECPNNLCCSQYGYCGMGGDYCGKGCQNGACWTSKRC...  \n",
       "471143  ERCGEQGSNMECPNNLCCSQYGYCGMGGDYCGKGCQNGACWTSKRC...  \n",
       "471144  MNYQPTPEDRFTFGLWTVGWQGRDPFGDATRRALDPVESVQRLAEL...  \n",
       "471145  SVQATREDKFSFGLWTVGWQARDAFGDATRTALDPVEAVHKLAEIG...  \n",
       "471146  SVQATREDKFSFGLWTVGWQARDAFGDATRTALDPVEAVHKLAEIG...  \n",
       "471147  SVQATREDKFSFGLWTVGWQARDAFGDATRTALDPVEAVHKLAEIG...  \n",
       "471148  SVQATREDKFSFGLWTVGWQARDAFGDATRTALDPVEAVHKLAEIG...  \n",
       "\n",
       "[346322 rows x 16 columns]"
      ]
     },
     "execution_count": 40,
     "metadata": {},
     "output_type": "execute_result"
    }
   ],
   "source": [
    "df[df[\"macromoleculeType_x\"] == \"Protein\"]"
   ]
  },
  {
   "cell_type": "code",
   "execution_count": 41,
   "metadata": {},
   "outputs": [
    {
     "data": {
      "text/plain": [
       "4"
      ]
     },
     "execution_count": 41,
     "metadata": {},
     "output_type": "execute_result"
    }
   ],
   "source": [
    "df.classification.isnull().sum()"
   ]
  },
  {
   "cell_type": "code",
   "execution_count": 42,
   "metadata": {
    "collapsed": true
   },
   "outputs": [],
   "source": [
    "df = df[pd.notnull(df[\"classification\"])]"
   ]
  },
  {
   "cell_type": "code",
   "execution_count": 43,
   "metadata": {},
   "outputs": [
    {
     "data": {
      "text/plain": [
       "(471117, 16)"
      ]
     },
     "execution_count": 43,
     "metadata": {},
     "output_type": "execute_result"
    }
   ],
   "source": [
    "df.shape"
   ]
  },
  {
   "cell_type": "code",
   "execution_count": 44,
   "metadata": {
    "collapsed": true
   },
   "outputs": [],
   "source": [
    "df_fin = df[df.macromoleculeType_x == 'Protein']"
   ]
  },
  {
   "cell_type": "code",
   "execution_count": 45,
   "metadata": {},
   "outputs": [
    {
     "data": {
      "text/plain": [
       "Index(['structureId', 'classification', 'experimentalTechnique',\n",
       "       'macromoleculeType_x', 'residueCount_x', 'resolution',\n",
       "       'structureMolecularWeight', 'crystallizationMethod',\n",
       "       'crystallizationTempK', 'densityMatthews', 'densityPercentSol',\n",
       "       'pdbxDetails', 'phValue', 'publicationYear', 'chainId', 'sequence'],\n",
       "      dtype='object')"
      ]
     },
     "execution_count": 45,
     "metadata": {},
     "output_type": "execute_result"
    }
   ],
   "source": [
    "df_fin.columns"
   ]
  },
  {
   "cell_type": "code",
   "execution_count": 46,
   "metadata": {},
   "outputs": [
    {
     "data": {
      "text/plain": [
       "(346321, 16)"
      ]
     },
     "execution_count": 46,
     "metadata": {},
     "output_type": "execute_result"
    }
   ],
   "source": [
    "df_fin.shape"
   ]
  },
  {
   "cell_type": "code",
   "execution_count": 47,
   "metadata": {
    "collapsed": true
   },
   "outputs": [],
   "source": [
    "df_fin = df_fin[['structureId', 'classification', 'sequence']]"
   ]
  },
  {
   "cell_type": "code",
   "execution_count": 48,
   "metadata": {
    "collapsed": true
   },
   "outputs": [],
   "source": [
    "df_fin[\"sequence\"] = df_fin[\"sequence\"].str.strip()"
   ]
  },
  {
   "cell_type": "code",
   "execution_count": 49,
   "metadata": {},
   "outputs": [
    {
     "data": {
      "text/plain": [
       "HYDROLASE                        46336\n",
       "TRANSFERASE                      36424\n",
       "OXIDOREDUCTASE                   34321\n",
       "IMMUNE SYSTEM                    15615\n",
       "LYASE                            11682\n",
       "HYDROLASE/HYDROLASE INHIBITOR    11218\n",
       "Name: classification, dtype: int64"
      ]
     },
     "execution_count": 49,
     "metadata": {},
     "output_type": "execute_result"
    }
   ],
   "source": [
    "pd.DataFrame(df_fin.classification.value_counts())[\"classification\"][0:6]"
   ]
  },
  {
   "cell_type": "code",
   "execution_count": 50,
   "metadata": {},
   "outputs": [
    {
     "data": {
      "text/plain": [
       "<matplotlib.axes._subplots.AxesSubplot at 0x1c392813cc0>"
      ]
     },
     "execution_count": 50,
     "metadata": {},
     "output_type": "execute_result"
    },
    {
     "data": {
      "image/png": "[encoded data removed]",
      "text/plain": [
       "<Figure size 432x288 with 1 Axes>"
      ]
     },
     "metadata": {
      "needs_background": "light"
     },
     "output_type": "display_data"
    }
   ],
   "source": [
    "pd.DataFrame(df_fin.classification.value_counts())[\"classification\"][0:6].plot(kind = \"bar\")"
   ]
  },
  {
   "cell_type": "code",
   "execution_count": 51,
   "metadata": {},
   "outputs": [
    {
     "data": {
      "text/plain": [
       "Index(['HYDROLASE', 'TRANSFERASE', 'OXIDOREDUCTASE', 'IMMUNE SYSTEM', 'LYASE',\n",
       "       'HYDROLASE/HYDROLASE INHIBITOR'],\n",
       "      dtype='object', name='classification')"
      ]
     },
     "execution_count": 51,
     "metadata": {},
     "output_type": "execute_result"
    }
   ],
   "source": [
    "df_fin.groupby(\"classification\").structureId.count().sort_values(ascending=False)[0:6].keys()"
   ]
  },
  {
   "cell_type": "code",
   "execution_count": 52,
   "metadata": {},
   "outputs": [
    {
     "data": {
      "text/plain": [
       "(346321, 3)"
      ]
     },
     "execution_count": 52,
     "metadata": {},
     "output_type": "execute_result"
    }
   ],
   "source": [
    "df_fin.shape"
   ]
  },
  {
   "cell_type": "code",
   "execution_count": 53,
   "metadata": {
    "collapsed": true
   },
   "outputs": [],
   "source": [
    "gh = df_fin[df_fin[\"classification\"] == \"Protein\"]"
   ]
  },
  {
   "cell_type": "code",
   "execution_count": 54,
   "metadata": {},
   "outputs": [
    {
     "data": {
      "text/plain": [
       "(346321, 3)"
      ]
     },
     "execution_count": 54,
     "metadata": {},
     "output_type": "execute_result"
    }
   ],
   "source": [
    "df_fin.shape"
   ]
  },
  {
   "cell_type": "code",
   "execution_count": 55,
   "metadata": {
    "collapsed": true
   },
   "outputs": [],
   "source": [
    "#df_fin.loc[df_fin['sequence'].str.contains('(^XXXX)+')]"
   ]
  },
  {
   "cell_type": "code",
   "execution_count": 56,
   "metadata": {},
   "outputs": [
    {
     "name": "stderr",
     "output_type": "stream",
     "text": [
      "C:\\Users\\Pralav\\Anaconda3\\lib\\site-packages\\ipykernel_launcher.py:1: UserWarning: This pattern has match groups. To actually get the groups, use str.extract.\n",
      "  \"\"\"Entry point for launching an IPython kernel.\n"
     ]
    }
   ],
   "source": [
    "index_to_drop = df_fin.loc[df['sequence'].str.contains('(^XXXX)+')].index"
   ]
  },
  {
   "cell_type": "code",
   "execution_count": 57,
   "metadata": {
    "collapsed": true
   },
   "outputs": [],
   "source": [
    "df_fin.drop(index = index_to_drop, inplace = True)"
   ]
  },
  {
   "cell_type": "code",
   "execution_count": 58,
   "metadata": {},
   "outputs": [
    {
     "data": {
      "text/plain": [
       "(344956, 3)"
      ]
     },
     "execution_count": 58,
     "metadata": {},
     "output_type": "execute_result"
    }
   ],
   "source": [
    "df_fin.shape"
   ]
  },
  {
   "cell_type": "code",
   "execution_count": 59,
   "metadata": {
    "collapsed": true
   },
   "outputs": [],
   "source": [
    "df_prot = df_fin[[\"structureId\", \"classification\", \"sequence\"]]"
   ]
  },
  {
   "cell_type": "code",
   "execution_count": 60,
   "metadata": {
    "collapsed": true
   },
   "outputs": [],
   "source": [
    "df_prot[\"seq_length\"] = df_prot[\"sequence\"].apply(len)"
   ]
  },
  {
   "cell_type": "code",
   "execution_count": 61,
   "metadata": {
    "collapsed": true
   },
   "outputs": [],
   "source": [
    "df_prot = df_prot[df_prot['seq_length'] > 20]"
   ]
  },
  {
   "cell_type": "code",
   "execution_count": 62,
   "metadata": {
    "collapsed": true
   },
   "outputs": [],
   "source": [
    "clas_prot = df_prot.groupby(\"classification\").structureId.count().sort_values(ascending = False)[0:25]"
   ]
  },
  {
   "cell_type": "code",
   "execution_count": 63,
   "metadata": {
    "collapsed": true
   },
   "outputs": [],
   "source": [
    "df_prot_fin = df_prot[df_prot['classification'].isin(clas_prot.keys())]\n"
   ]
  },
  {
   "cell_type": "code",
   "execution_count": 64,
   "metadata": {},
   "outputs": [
    {
     "data": {
      "text/plain": [
       "(241379, 4)"
      ]
     },
     "execution_count": 64,
     "metadata": {},
     "output_type": "execute_result"
    }
   ],
   "source": [
    "df_prot_fin.shape"
   ]
  },
  {
   "cell_type": "markdown",
   "metadata": {},
   "source": [
    "### I have decided to take random samples out of the final DF, because it was numerically exhaustive"
   ]
  },
  {
   "cell_type": "code",
   "execution_count": 65,
   "metadata": {
    "collapsed": true
   },
   "outputs": [],
   "source": [
    "sample = df_prot_fin.sample(n=120000, replace=True)"
   ]
  },
  {
   "cell_type": "code",
   "execution_count": 66,
   "metadata": {
    "collapsed": true
   },
   "outputs": [],
   "source": [
    "from nltk import word_tokenize, ngrams"
   ]
  },
  {
   "cell_type": "markdown",
   "metadata": {},
   "source": [
    "### Making ngrams out of the sequence DF had and creating a new feature column called N_seq"
   ]
  },
  {
   "cell_type": "code",
   "execution_count": 67,
   "metadata": {
    "collapsed": true
   },
   "outputs": [],
   "source": [
    "def n_grams(cols):\n",
    "    #cols[0] = sequence\n",
    "    return [(''.join(x)) for x in ngrams(cols, 3)]\n",
    "\n",
    "sample[\"N_seq\"] = sample['sequence'].apply(n_grams)\n",
    "sample[\"N_seq\"] =sample[\"N_seq\"].astype(str)"
   ]
  },
  {
   "cell_type": "code",
   "execution_count": 98,
   "metadata": {},
   "outputs": [
    {
     "data": {
      "text/html": [
       "<div>\n",
       "<style scoped>\n",
       "    .dataframe tbody tr th:only-of-type {\n",
       "        vertical-align: middle;\n",
       "    }\n",
       "\n",
       "    .dataframe tbody tr th {\n",
       "        vertical-align: top;\n",
       "    }\n",
       "\n",
       "    .dataframe thead th {\n",
       "        text-align: right;\n",
       "    }\n",
       "</style>\n",
       "<table border=\"1\" class=\"dataframe\">\n",
       "  <thead>\n",
       "    <tr style=\"text-align: right;\">\n",
       "      <th></th>\n",
       "      <th>structureId</th>\n",
       "      <th>classification</th>\n",
       "      <th>sequence</th>\n",
       "      <th>seq_length</th>\n",
       "      <th>N_seq</th>\n",
       "    </tr>\n",
       "  </thead>\n",
       "  <tbody>\n",
       "    <tr>\n",
       "      <th>42093</th>\n",
       "      <td>1P5H</td>\n",
       "      <td>TRANSFERASE</td>\n",
       "      <td>MTKPLDGINVLDFTHVQAGPACTQMMGFLGANVIKIERRGSGDMTR...</td>\n",
       "      <td>428</td>\n",
       "      <td>['MTK', 'TKP', 'KPL', 'PLD', 'LDG', 'DGI', 'GI...</td>\n",
       "    </tr>\n",
       "    <tr>\n",
       "      <th>183338</th>\n",
       "      <td>3J3Q</td>\n",
       "      <td>VIRUS</td>\n",
       "      <td>PIVQNLQGQMVHQAISPRTLNAWVKVVEEKAFSPEVIPMFSALSEG...</td>\n",
       "      <td>231</td>\n",
       "      <td>['PIV', 'IVQ', 'VQN', 'QNL', 'NLQ', 'LQG', 'QG...</td>\n",
       "    </tr>\n",
       "    <tr>\n",
       "      <th>172810</th>\n",
       "      <td>3H09</td>\n",
       "      <td>HYDROLASE</td>\n",
       "      <td>ALVRDDVDYQIFRDFAENKGRFSVGATNVEVRDKNNHSLGNVLPNG...</td>\n",
       "      <td>989</td>\n",
       "      <td>['ALV', 'LVR', 'VRD', 'RDD', 'DDV', 'DVD', 'VD...</td>\n",
       "    </tr>\n",
       "    <tr>\n",
       "      <th>228408</th>\n",
       "      <td>3TCX</td>\n",
       "      <td>CELL ADHESION</td>\n",
       "      <td>MNVDLVFLFDGSMSLQPDEFQKILDFMKDVMKKLSNTSYQFAAVQF...</td>\n",
       "      <td>180</td>\n",
       "      <td>['MNV', 'NVD', 'VDL', 'DLV', 'LVF', 'VFL', 'FL...</td>\n",
       "    </tr>\n",
       "    <tr>\n",
       "      <th>121810</th>\n",
       "      <td>2Q3Z</td>\n",
       "      <td>TRANSFERASE</td>\n",
       "      <td>MAEELVLERCDLELETNGRDHHTADLCREKLVVRRGQPFWLTLHFE...</td>\n",
       "      <td>687</td>\n",
       "      <td>['MAE', 'AEE', 'EEL', 'ELV', 'LVL', 'VLE', 'LE...</td>\n",
       "    </tr>\n",
       "  </tbody>\n",
       "</table>\n",
       "</div>"
      ],
      "text/plain": [
       "       structureId classification  \\\n",
       "42093         1P5H    TRANSFERASE   \n",
       "183338        3J3Q          VIRUS   \n",
       "172810        3H09      HYDROLASE   \n",
       "228408        3TCX  CELL ADHESION   \n",
       "121810        2Q3Z    TRANSFERASE   \n",
       "\n",
       "                                                 sequence  seq_length  \\\n",
       "42093   MTKPLDGINVLDFTHVQAGPACTQMMGFLGANVIKIERRGSGDMTR...         428   \n",
       "183338  PIVQNLQGQMVHQAISPRTLNAWVKVVEEKAFSPEVIPMFSALSEG...         231   \n",
       "172810  ALVRDDVDYQIFRDFAENKGRFSVGATNVEVRDKNNHSLGNVLPNG...         989   \n",
       "228408  MNVDLVFLFDGSMSLQPDEFQKILDFMKDVMKKLSNTSYQFAAVQF...         180   \n",
       "121810  MAEELVLERCDLELETNGRDHHTADLCREKLVVRRGQPFWLTLHFE...         687   \n",
       "\n",
       "                                                    N_seq  \n",
       "42093   ['MTK', 'TKP', 'KPL', 'PLD', 'LDG', 'DGI', 'GI...  \n",
       "183338  ['PIV', 'IVQ', 'VQN', 'QNL', 'NLQ', 'LQG', 'QG...  \n",
       "172810  ['ALV', 'LVR', 'VRD', 'RDD', 'DDV', 'DVD', 'VD...  \n",
       "228408  ['MNV', 'NVD', 'VDL', 'DLV', 'LVF', 'VFL', 'FL...  \n",
       "121810  ['MAE', 'AEE', 'EEL', 'ELV', 'LVL', 'VLE', 'LE...  "
      ]
     },
     "execution_count": 98,
     "metadata": {},
     "output_type": "execute_result"
    }
   ],
   "source": [
    "sample.head()"
   ]
  },
  {
   "cell_type": "code",
   "execution_count": 68,
   "metadata": {
    "collapsed": true
   },
   "outputs": [],
   "source": [
    "#df_final.to_csv(\"w2vDF.csv\")"
   ]
  },
  {
   "cell_type": "code",
   "execution_count": 70,
   "metadata": {
    "collapsed": true
   },
   "outputs": [],
   "source": [
    "sample.to_csv(\"sample.csv\", sep = \",\")"
   ]
  },
  {
   "cell_type": "markdown",
   "metadata": {},
   "source": [
    "### Train-test Split using the feature column that was just made "
   ]
  },
  {
   "cell_type": "code",
   "execution_count": 99,
   "metadata": {
    "collapsed": true
   },
   "outputs": [],
   "source": [
    "from sklearn.model_selection import train_test_split"
   ]
  },
  {
   "cell_type": "code",
   "execution_count": 100,
   "metadata": {
    "collapsed": true
   },
   "outputs": [],
   "source": [
    "X_train, X_test,y_train,y_test = train_test_split(sample['N_seq'], sample['classification'], test_size = 0.3 \n",
    "                                                  )"
   ]
  },
  {
   "cell_type": "code",
   "execution_count": 101,
   "metadata": {
    "collapsed": true
   },
   "outputs": [],
   "source": [
    "from nltk import word_tokenize, ngrams"
   ]
  },
  {
   "cell_type": "code",
   "execution_count": 106,
   "metadata": {
    "collapsed": true
   },
   "outputs": [],
   "source": [
    "#X_train, X_test,y_train,y_test = train_test_split(sample['N_seq'], sample['classification'], test_size = 0.3 \n",
    "                                                  #)"
   ]
  },
  {
   "cell_type": "code",
   "execution_count": 107,
   "metadata": {
    "collapsed": true
   },
   "outputs": [],
   "source": [
    "from bs4 import BeautifulSoup\n",
    "import re\n",
    "from nltk.corpus import stopwords\n"
   ]
  },
  {
   "cell_type": "code",
   "execution_count": 108,
   "metadata": {
    "collapsed": true
   },
   "outputs": [],
   "source": [
    "#sample['N_seq'].head()"
   ]
  },
  {
   "cell_type": "code",
   "execution_count": 109,
   "metadata": {
    "collapsed": true
   },
   "outputs": [],
   "source": [
    "import nltk.data\n"
   ]
  },
  {
   "cell_type": "code",
   "execution_count": 110,
   "metadata": {
    "collapsed": true
   },
   "outputs": [],
   "source": [
    "tokenizer = nltk.data.load('tokenizers/punkt/english.pickle')"
   ]
  },
  {
   "cell_type": "markdown",
   "metadata": {},
   "source": [
    "### This code is taken from [Kaggle tutorial](https://www.kaggle.com/c/word2vec-nlp-tutorial#part-2-word-vectors)"
   ]
  },
  {
   "cell_type": "markdown",
   "metadata": {},
   "source": [
    "### The code below tokenize the features and prepares it for the the 300 dimensional matrix for each occurence of 3grams"
   ]
  },
  {
   "cell_type": "code",
   "execution_count": 111,
   "metadata": {
    "collapsed": true
   },
   "outputs": [],
   "source": [
    "def review_to_wordlist( review, remove_stopwords=False ):\n",
    "    # 1. Remove HTML\n",
    "    review_text = BeautifulSoup(review).get_text()\n",
    "    \n",
    "    # 2. Remove non-letters\n",
    "    review_text = re.sub(\"[^a-zA-Z]\",\" \", review_text)\n",
    "    \n",
    "    # 3. Convert words to lower case and split them\n",
    "    words = review_text.lower().split()\n",
    "    \n",
    "    # 4. Optionally remove stop words (false by default)\n",
    "    if remove_stopwords:\n",
    "        stops = set(stopwords.words(\"english\"))\n",
    "        words = [w for w in words if not w in stops]\n",
    "    #\n",
    "    # 5. Return a list of words\n",
    "    return(words)"
   ]
  },
  {
   "cell_type": "code",
   "execution_count": 112,
   "metadata": {
    "collapsed": true
   },
   "outputs": [],
   "source": [
    "def review_to_sentences( review, tokenizer, remove_stopwords=False ):\n",
    "    # Function to split a review into parsed sentences. Returns a \n",
    "    # list of sentences, where each sentence is a list of words\n",
    "    # 1. Use the NLTK tokenizer to split the paragraph into sentences\n",
    "    raw_sentences = tokenizer.tokenize(review.strip())\n",
    "    #\n",
    "    # 2. Loop over each sentence\n",
    "    \n",
    "    sentences = []\n",
    "    for raw_sentence in raw_sentences:\n",
    "        # If a sentence is empty, skip it\n",
    "        \n",
    "        if len(raw_sentence) > 0:\n",
    "            \n",
    "            # Otherwise, call review_to_wordlist to get a list of words\n",
    "            \n",
    "            sentences.append( review_to_wordlist( raw_sentence, remove_stopwords ))\n",
    "    return sentences"
   ]
  },
  {
   "cell_type": "code",
   "execution_count": 113,
   "metadata": {},
   "outputs": [
    {
     "name": "stdout",
     "output_type": "stream",
     "text": [
      "Parsing sentences from training set\n"
     ]
    }
   ],
   "source": [
    "sentences = []  # Initialize an empty list of sentences\n",
    "\n",
    "print (\"Parsing sentences from training set\")\n",
    "for review in sample[\"N_seq\"]:\n",
    "    sentences += review_to_sentences(review, tokenizer)\n",
    "\n",
    "#print (\"Parsing sentences from unlabeled set\")\n",
    "#for review in unlabeled_train[\"review\"]:\n",
    "    #sentences += review_to_sentences(review, tokenizer)"
   ]
  },
  {
   "cell_type": "code",
   "execution_count": 114,
   "metadata": {
    "collapsed": true
   },
   "outputs": [],
   "source": [
    "#model.most_similar(\"ail\")"
   ]
  },
  {
   "cell_type": "code",
   "execution_count": 115,
   "metadata": {
    "collapsed": true
   },
   "outputs": [],
   "source": [
    "#\"aiw\""
   ]
  },
  {
   "cell_type": "code",
   "execution_count": 116,
   "metadata": {
    "collapsed": true
   },
   "outputs": [],
   "source": [
    "import logging\n",
    "logging.basicConfig(format='%(asctime)s : %(levelname)s : %(message)s',\\\n",
    "    level=logging.INFO)"
   ]
  },
  {
   "cell_type": "markdown",
   "metadata": {},
   "source": [
    "### Creating word2vec for all the features words "
   ]
  },
  {
   "cell_type": "code",
   "execution_count": 117,
   "metadata": {},
   "outputs": [
    {
     "name": "stdout",
     "output_type": "stream",
     "text": [
      "Training model...\n"
     ]
    },
    {
     "name": "stderr",
     "output_type": "stream",
     "text": [
      "2019-03-07 23:59:34,329 : INFO : collecting all words and their counts\n",
      "2019-03-07 23:59:34,804 : INFO : PROGRESS: at sentence #0, processed 0 words, keeping 0 word types\n",
      "2019-03-07 23:59:39,505 : INFO : PROGRESS: at sentence #10000, processed 2879444 words, keeping 8130 word types\n",
      "2019-03-07 23:59:43,655 : INFO : PROGRESS: at sentence #20000, processed 5742711 words, keeping 8202 word types\n",
      "2019-03-07 23:59:49,523 : INFO : PROGRESS: at sentence #30000, processed 8614854 words, keeping 8257 word types\n",
      "2019-03-07 23:59:56,394 : INFO : PROGRESS: at sentence #40000, processed 11515823 words, keeping 8371 word types\n",
      "2019-03-08 00:00:11,757 : INFO : PROGRESS: at sentence #50000, processed 14382368 words, keeping 8392 word types\n",
      "2019-03-08 00:00:30,295 : INFO : PROGRESS: at sentence #60000, processed 17280972 words, keeping 8415 word types\n",
      "2019-03-08 00:00:49,502 : INFO : PROGRESS: at sentence #70000, processed 20152180 words, keeping 8437 word types\n",
      "2019-03-08 00:00:59,951 : INFO : PROGRESS: at sentence #80000, processed 23028406 words, keeping 8454 word types\n",
      "2019-03-08 00:01:03,462 : INFO : PROGRESS: at sentence #90000, processed 25915303 words, keeping 8467 word types\n",
      "2019-03-08 00:01:07,421 : INFO : PROGRESS: at sentence #100000, processed 28798483 words, keeping 8473 word types\n",
      "2019-03-08 00:01:14,324 : INFO : PROGRESS: at sentence #110000, processed 31697966 words, keeping 8499 word types\n",
      "2019-03-08 00:01:19,105 : INFO : collected 8514 word types from a corpus of 34580654 raw words and 120000 sentences\n",
      "2019-03-08 00:01:19,152 : INFO : Loading a fresh vocabulary\n",
      "2019-03-08 00:01:20,198 : INFO : min_count=10 retains 8042 unique words (94% of original 8514, drops 472)\n",
      "2019-03-08 00:01:20,198 : INFO : min_count=10 leaves 34579280 word corpus (99% of original 34580654, drops 1374)\n",
      "2019-03-08 00:01:23,292 : INFO : deleting the raw counts dictionary of 8514 items\n",
      "2019-03-08 00:01:23,401 : INFO : sample=0.001 downsamples 1 most-common words\n",
      "2019-03-08 00:01:23,401 : INFO : downsampling leaves estimated 34573126 word corpus (100.0% of prior 34579280)\n",
      "2019-03-08 00:01:24,839 : INFO : estimated required memory for 8042 words and 300 dimensions: 23321800 bytes\n",
      "2019-03-08 00:01:24,979 : INFO : resetting layer weights\n",
      "2019-03-08 00:01:27,839 : INFO : training model with 4 workers on 8042 vocabulary and 300 features, using sg=0 hs=0 sample=0.001 negative=5 window=10\n",
      "2019-03-08 00:01:41,292 : INFO : EPOCH 1 - PROGRESS: at 0.03% examples, 6486 words/s, in_qsize 7, out_qsize 1\n",
      "2019-03-08 00:01:42,308 : INFO : EPOCH 1 - PROGRESS: at 0.38% examples, 49967 words/s, in_qsize 7, out_qsize 0\n",
      "2019-03-08 00:01:43,370 : INFO : EPOCH 1 - PROGRESS: at 1.17% examples, 111078 words/s, in_qsize 7, out_qsize 0\n",
      "2019-03-08 00:01:44,416 : INFO : EPOCH 1 - PROGRESS: at 1.93% examples, 142841 words/s, in_qsize 6, out_qsize 1\n",
      "2019-03-08 00:01:45,588 : INFO : EPOCH 1 - PROGRESS: at 2.57% examples, 152948 words/s, in_qsize 7, out_qsize 0\n",
      "2019-03-08 00:01:46,588 : INFO : EPOCH 1 - PROGRESS: at 2.81% examples, 141981 words/s, in_qsize 6, out_qsize 1\n",
      "2019-03-08 00:01:47,994 : INFO : EPOCH 1 - PROGRESS: at 3.06% examples, 128473 words/s, in_qsize 7, out_qsize 0\n",
      "2019-03-08 00:01:49,166 : INFO : EPOCH 1 - PROGRESS: at 3.45% examples, 127195 words/s, in_qsize 8, out_qsize 0\n",
      "2019-03-08 00:01:50,213 : INFO : EPOCH 1 - PROGRESS: at 3.83% examples, 126559 words/s, in_qsize 6, out_qsize 1\n",
      "2019-03-08 00:01:51,229 : INFO : EPOCH 1 - PROGRESS: at 4.85% examples, 145198 words/s, in_qsize 8, out_qsize 0\n",
      "2019-03-08 00:01:52,525 : INFO : EPOCH 1 - PROGRESS: at 5.65% examples, 152508 words/s, in_qsize 8, out_qsize 1\n",
      "2019-03-08 00:01:53,541 : INFO : EPOCH 1 - PROGRESS: at 6.55% examples, 164807 words/s, in_qsize 7, out_qsize 0\n",
      "2019-03-08 00:01:54,603 : INFO : EPOCH 1 - PROGRESS: at 7.51% examples, 174751 words/s, in_qsize 7, out_qsize 0\n",
      "2019-03-08 00:01:55,931 : INFO : EPOCH 1 - PROGRESS: at 7.87% examples, 168265 words/s, in_qsize 8, out_qsize 0\n",
      "2019-03-08 00:01:56,947 : INFO : EPOCH 1 - PROGRESS: at 8.29% examples, 166346 words/s, in_qsize 8, out_qsize 1\n",
      "2019-03-08 00:01:57,962 : INFO : EPOCH 1 - PROGRESS: at 8.53% examples, 161948 words/s, in_qsize 7, out_qsize 0\n",
      "2019-03-08 00:01:59,006 : INFO : EPOCH 1 - PROGRESS: at 9.15% examples, 164368 words/s, in_qsize 8, out_qsize 0\n",
      "2019-03-08 00:02:01,085 : INFO : EPOCH 1 - PROGRESS: at 9.86% examples, 159365 words/s, in_qsize 8, out_qsize 0\n",
      "2019-03-08 00:02:02,732 : INFO : EPOCH 1 - PROGRESS: at 9.99% examples, 150049 words/s, in_qsize 6, out_qsize 1\n",
      "2019-03-08 00:02:03,757 : INFO : EPOCH 1 - PROGRESS: at 10.11% examples, 145272 words/s, in_qsize 6, out_qsize 1\n",
      "2019-03-08 00:02:04,848 : INFO : EPOCH 1 - PROGRESS: at 10.89% examples, 149466 words/s, in_qsize 8, out_qsize 0\n",
      "2019-03-08 00:02:05,882 : INFO : EPOCH 1 - PROGRESS: at 11.78% examples, 155541 words/s, in_qsize 8, out_qsize 0\n",
      "2019-03-08 00:02:07,129 : INFO : EPOCH 1 - PROGRESS: at 12.73% examples, 160286 words/s, in_qsize 8, out_qsize 0\n",
      "2019-03-08 00:02:08,200 : INFO : EPOCH 1 - PROGRESS: at 12.96% examples, 156926 words/s, in_qsize 7, out_qsize 0\n",
      "2019-03-08 00:02:09,387 : INFO : EPOCH 1 - PROGRESS: at 13.97% examples, 162297 words/s, in_qsize 8, out_qsize 0\n",
      "2019-03-08 00:02:10,418 : INFO : EPOCH 1 - PROGRESS: at 14.66% examples, 164505 words/s, in_qsize 7, out_qsize 0\n",
      "2019-03-08 00:02:11,637 : INFO : EPOCH 1 - PROGRESS: at 15.57% examples, 168324 words/s, in_qsize 7, out_qsize 0\n",
      "2019-03-08 00:02:12,746 : INFO : EPOCH 1 - PROGRESS: at 16.56% examples, 172802 words/s, in_qsize 8, out_qsize 0\n",
      "2019-03-08 00:02:13,824 : INFO : EPOCH 1 - PROGRESS: at 17.37% examples, 176007 words/s, in_qsize 8, out_qsize 0\n",
      "2019-03-08 00:02:14,840 : INFO : EPOCH 1 - PROGRESS: at 18.01% examples, 176978 words/s, in_qsize 7, out_qsize 0\n",
      "2019-03-08 00:02:15,907 : INFO : EPOCH 1 - PROGRESS: at 18.52% examples, 176679 words/s, in_qsize 7, out_qsize 0\n",
      "2019-03-08 00:02:16,973 : INFO : EPOCH 1 - PROGRESS: at 19.04% examples, 176322 words/s, in_qsize 8, out_qsize 0\n",
      "2019-03-08 00:02:17,990 : INFO : EPOCH 1 - PROGRESS: at 19.85% examples, 178723 words/s, in_qsize 7, out_qsize 0\n",
      "2019-03-08 00:02:19,005 : INFO : EPOCH 1 - PROGRESS: at 20.80% examples, 182798 words/s, in_qsize 7, out_qsize 0\n",
      "2019-03-08 00:02:20,599 : INFO : EPOCH 1 - PROGRESS: at 21.59% examples, 182331 words/s, in_qsize 8, out_qsize 0\n",
      "2019-03-08 00:02:21,708 : INFO : EPOCH 1 - PROGRESS: at 22.30% examples, 183593 words/s, in_qsize 5, out_qsize 3\n",
      "2019-03-08 00:02:22,724 : INFO : EPOCH 1 - PROGRESS: at 23.39% examples, 188166 words/s, in_qsize 7, out_qsize 0\n",
      "2019-03-08 00:02:23,739 : INFO : EPOCH 1 - PROGRESS: at 24.59% examples, 192774 words/s, in_qsize 7, out_qsize 0\n",
      "2019-03-08 00:02:24,739 : INFO : EPOCH 1 - PROGRESS: at 25.63% examples, 196470 words/s, in_qsize 7, out_qsize 0\n",
      "2019-03-08 00:02:25,755 : INFO : EPOCH 1 - PROGRESS: at 26.66% examples, 199797 words/s, in_qsize 7, out_qsize 0\n",
      "2019-03-08 00:02:26,770 : INFO : EPOCH 1 - PROGRESS: at 27.71% examples, 203377 words/s, in_qsize 8, out_qsize 0\n",
      "2019-03-08 00:02:27,846 : INFO : EPOCH 1 - PROGRESS: at 28.81% examples, 206828 words/s, in_qsize 7, out_qsize 0\n",
      "2019-03-08 00:02:28,866 : INFO : EPOCH 1 - PROGRESS: at 29.84% examples, 209701 words/s, in_qsize 8, out_qsize 0\n",
      "2019-03-08 00:02:29,885 : INFO : EPOCH 1 - PROGRESS: at 30.85% examples, 212477 words/s, in_qsize 6, out_qsize 1\n",
      "2019-03-08 00:02:30,918 : INFO : EPOCH 1 - PROGRESS: at 31.76% examples, 214305 words/s, in_qsize 8, out_qsize 0\n",
      "2019-03-08 00:02:31,937 : INFO : EPOCH 1 - PROGRESS: at 32.72% examples, 216654 words/s, in_qsize 8, out_qsize 0\n",
      "2019-03-08 00:02:32,977 : INFO : EPOCH 1 - PROGRESS: at 33.82% examples, 219388 words/s, in_qsize 8, out_qsize 0\n",
      "2019-03-08 00:02:34,001 : INFO : EPOCH 1 - PROGRESS: at 34.96% examples, 222506 words/s, in_qsize 7, out_qsize 0\n",
      "2019-03-08 00:02:35,026 : INFO : EPOCH 1 - PROGRESS: at 36.06% examples, 225321 words/s, in_qsize 8, out_qsize 0\n",
      "2019-03-08 00:02:36,026 : INFO : EPOCH 1 - PROGRESS: at 37.14% examples, 227901 words/s, in_qsize 7, out_qsize 0\n",
      "2019-03-08 00:02:37,029 : INFO : EPOCH 1 - PROGRESS: at 38.27% examples, 230422 words/s, in_qsize 7, out_qsize 0\n",
      "2019-03-08 00:02:38,028 : INFO : EPOCH 1 - PROGRESS: at 39.34% examples, 232854 words/s, in_qsize 7, out_qsize 0\n"
     ]
    },
    {
     "name": "stderr",
     "output_type": "stream",
     "text": [
      "2019-03-08 00:02:39,061 : INFO : EPOCH 1 - PROGRESS: at 40.45% examples, 235262 words/s, in_qsize 8, out_qsize 0\n",
      "2019-03-08 00:02:40,121 : INFO : EPOCH 1 - PROGRESS: at 41.54% examples, 237492 words/s, in_qsize 8, out_qsize 0\n",
      "2019-03-08 00:02:41,121 : INFO : EPOCH 1 - PROGRESS: at 42.62% examples, 239656 words/s, in_qsize 7, out_qsize 0\n",
      "2019-03-08 00:02:42,143 : INFO : EPOCH 1 - PROGRESS: at 43.70% examples, 241799 words/s, in_qsize 7, out_qsize 0\n",
      "2019-03-08 00:02:43,172 : INFO : EPOCH 1 - PROGRESS: at 44.80% examples, 244069 words/s, in_qsize 7, out_qsize 0\n",
      "2019-03-08 00:02:44,200 : INFO : EPOCH 1 - PROGRESS: at 45.92% examples, 246414 words/s, in_qsize 8, out_qsize 0\n",
      "2019-03-08 00:02:45,205 : INFO : EPOCH 1 - PROGRESS: at 47.05% examples, 248611 words/s, in_qsize 7, out_qsize 0\n",
      "2019-03-08 00:02:46,205 : INFO : EPOCH 1 - PROGRESS: at 48.17% examples, 250585 words/s, in_qsize 7, out_qsize 0\n",
      "2019-03-08 00:02:47,219 : INFO : EPOCH 1 - PROGRESS: at 49.26% examples, 252399 words/s, in_qsize 8, out_qsize 0\n",
      "2019-03-08 00:02:48,235 : INFO : EPOCH 1 - PROGRESS: at 50.41% examples, 254380 words/s, in_qsize 7, out_qsize 0\n",
      "2019-03-08 00:02:49,253 : INFO : EPOCH 1 - PROGRESS: at 51.42% examples, 255854 words/s, in_qsize 7, out_qsize 0\n",
      "2019-03-08 00:02:50,316 : INFO : EPOCH 1 - PROGRESS: at 52.53% examples, 257326 words/s, in_qsize 7, out_qsize 0\n",
      "2019-03-08 00:02:51,321 : INFO : EPOCH 1 - PROGRESS: at 53.54% examples, 258616 words/s, in_qsize 8, out_qsize 0\n",
      "2019-03-08 00:02:52,332 : INFO : EPOCH 1 - PROGRESS: at 54.60% examples, 259999 words/s, in_qsize 7, out_qsize 0\n",
      "2019-03-08 00:02:53,351 : INFO : EPOCH 1 - PROGRESS: at 55.68% examples, 261479 words/s, in_qsize 8, out_qsize 0\n",
      "2019-03-08 00:02:54,379 : INFO : EPOCH 1 - PROGRESS: at 56.78% examples, 262992 words/s, in_qsize 8, out_qsize 0\n",
      "2019-03-08 00:02:55,412 : INFO : EPOCH 1 - PROGRESS: at 57.93% examples, 264579 words/s, in_qsize 8, out_qsize 0\n",
      "2019-03-08 00:02:56,413 : INFO : EPOCH 1 - PROGRESS: at 59.08% examples, 266213 words/s, in_qsize 7, out_qsize 0\n",
      "2019-03-08 00:02:57,418 : INFO : EPOCH 1 - PROGRESS: at 60.15% examples, 267550 words/s, in_qsize 7, out_qsize 0\n",
      "2019-03-08 00:02:58,429 : INFO : EPOCH 1 - PROGRESS: at 61.29% examples, 269117 words/s, in_qsize 7, out_qsize 0\n",
      "2019-03-08 00:02:59,427 : INFO : EPOCH 1 - PROGRESS: at 62.41% examples, 270533 words/s, in_qsize 8, out_qsize 0\n",
      "2019-03-08 00:03:00,441 : INFO : EPOCH 1 - PROGRESS: at 63.49% examples, 271771 words/s, in_qsize 8, out_qsize 0\n",
      "2019-03-08 00:03:01,460 : INFO : EPOCH 1 - PROGRESS: at 64.60% examples, 273088 words/s, in_qsize 7, out_qsize 0\n",
      "2019-03-08 00:03:02,457 : INFO : EPOCH 1 - PROGRESS: at 65.69% examples, 274395 words/s, in_qsize 7, out_qsize 0\n",
      "2019-03-08 00:03:03,473 : INFO : EPOCH 1 - PROGRESS: at 66.84% examples, 275754 words/s, in_qsize 8, out_qsize 0\n",
      "2019-03-08 00:03:04,475 : INFO : EPOCH 1 - PROGRESS: at 67.98% examples, 277164 words/s, in_qsize 7, out_qsize 0\n",
      "2019-03-08 00:03:05,497 : INFO : EPOCH 1 - PROGRESS: at 69.11% examples, 278479 words/s, in_qsize 8, out_qsize 0\n",
      "2019-03-08 00:03:06,509 : INFO : EPOCH 1 - PROGRESS: at 70.17% examples, 279416 words/s, in_qsize 7, out_qsize 0\n",
      "2019-03-08 00:03:07,534 : INFO : EPOCH 1 - PROGRESS: at 71.35% examples, 280830 words/s, in_qsize 8, out_qsize 0\n",
      "2019-03-08 00:03:08,551 : INFO : EPOCH 1 - PROGRESS: at 72.49% examples, 282031 words/s, in_qsize 8, out_qsize 0\n",
      "2019-03-08 00:03:09,567 : INFO : EPOCH 1 - PROGRESS: at 73.66% examples, 283430 words/s, in_qsize 8, out_qsize 0\n",
      "2019-03-08 00:03:10,580 : INFO : EPOCH 1 - PROGRESS: at 74.83% examples, 284661 words/s, in_qsize 8, out_qsize 0\n",
      "2019-03-08 00:03:11,595 : INFO : EPOCH 1 - PROGRESS: at 75.98% examples, 285895 words/s, in_qsize 8, out_qsize 0\n",
      "2019-03-08 00:03:12,588 : INFO : EPOCH 1 - PROGRESS: at 77.10% examples, 287019 words/s, in_qsize 8, out_qsize 0\n",
      "2019-03-08 00:03:13,613 : INFO : EPOCH 1 - PROGRESS: at 78.29% examples, 288195 words/s, in_qsize 7, out_qsize 0\n",
      "2019-03-08 00:03:14,629 : INFO : EPOCH 1 - PROGRESS: at 79.50% examples, 289433 words/s, in_qsize 7, out_qsize 0\n",
      "2019-03-08 00:03:15,661 : INFO : EPOCH 1 - PROGRESS: at 80.67% examples, 290547 words/s, in_qsize 8, out_qsize 0\n",
      "2019-03-08 00:03:16,691 : INFO : EPOCH 1 - PROGRESS: at 81.79% examples, 291570 words/s, in_qsize 8, out_qsize 0\n",
      "2019-03-08 00:03:17,693 : INFO : EPOCH 1 - PROGRESS: at 82.96% examples, 292685 words/s, in_qsize 7, out_qsize 0\n",
      "2019-03-08 00:03:18,708 : INFO : EPOCH 1 - PROGRESS: at 84.09% examples, 293766 words/s, in_qsize 8, out_qsize 0\n",
      "2019-03-08 00:03:19,758 : INFO : EPOCH 1 - PROGRESS: at 85.24% examples, 294627 words/s, in_qsize 7, out_qsize 0\n",
      "2019-03-08 00:03:20,774 : INFO : EPOCH 1 - PROGRESS: at 86.38% examples, 295536 words/s, in_qsize 8, out_qsize 0\n",
      "2019-03-08 00:03:21,790 : INFO : EPOCH 1 - PROGRESS: at 87.49% examples, 296336 words/s, in_qsize 8, out_qsize 0\n",
      "2019-03-08 00:03:22,795 : INFO : EPOCH 1 - PROGRESS: at 88.53% examples, 297036 words/s, in_qsize 8, out_qsize 0\n",
      "2019-03-08 00:03:23,814 : INFO : EPOCH 1 - PROGRESS: at 89.64% examples, 297791 words/s, in_qsize 8, out_qsize 0\n",
      "2019-03-08 00:03:24,827 : INFO : EPOCH 1 - PROGRESS: at 90.70% examples, 298440 words/s, in_qsize 7, out_qsize 0\n",
      "2019-03-08 00:03:25,836 : INFO : EPOCH 1 - PROGRESS: at 91.71% examples, 298904 words/s, in_qsize 8, out_qsize 0\n",
      "2019-03-08 00:03:26,883 : INFO : EPOCH 1 - PROGRESS: at 92.71% examples, 299277 words/s, in_qsize 8, out_qsize 0\n",
      "2019-03-08 00:03:27,896 : INFO : EPOCH 1 - PROGRESS: at 93.85% examples, 300080 words/s, in_qsize 8, out_qsize 0\n",
      "2019-03-08 00:03:28,914 : INFO : EPOCH 1 - PROGRESS: at 95.02% examples, 300960 words/s, in_qsize 8, out_qsize 0\n",
      "2019-03-08 00:03:29,918 : INFO : EPOCH 1 - PROGRESS: at 96.18% examples, 301785 words/s, in_qsize 7, out_qsize 0\n",
      "2019-03-08 00:03:30,935 : INFO : EPOCH 1 - PROGRESS: at 97.35% examples, 302630 words/s, in_qsize 7, out_qsize 0\n",
      "2019-03-08 00:03:31,953 : INFO : EPOCH 1 - PROGRESS: at 98.54% examples, 303540 words/s, in_qsize 7, out_qsize 0\n",
      "2019-03-08 00:03:32,971 : INFO : EPOCH 1 - PROGRESS: at 99.70% examples, 304454 words/s, in_qsize 7, out_qsize 0\n",
      "2019-03-08 00:03:33,158 : INFO : worker thread finished; awaiting finish of 3 more threads\n",
      "2019-03-08 00:03:33,846 : INFO : worker thread finished; awaiting finish of 2 more threads\n",
      "2019-03-08 00:03:33,846 : INFO : worker thread finished; awaiting finish of 1 more threads\n",
      "2019-03-08 00:03:33,846 : INFO : worker thread finished; awaiting finish of 0 more threads\n",
      "2019-03-08 00:03:34,079 : INFO : EPOCH - 1 : training on 34580654 raw words (34572995 effective words) took 114.1s, 303044 effective words/s\n",
      "2019-03-08 00:03:35,950 : INFO : EPOCH 2 - PROGRESS: at 1.11% examples, 364721 words/s, in_qsize 8, out_qsize 0\n",
      "2019-03-08 00:03:36,962 : INFO : EPOCH 2 - PROGRESS: at 2.27% examples, 385309 words/s, in_qsize 8, out_qsize 0\n",
      "2019-03-08 00:03:37,963 : INFO : EPOCH 2 - PROGRESS: at 3.45% examples, 390613 words/s, in_qsize 8, out_qsize 0\n",
      "2019-03-08 00:03:38,992 : INFO : EPOCH 2 - PROGRESS: at 4.67% examples, 393156 words/s, in_qsize 7, out_qsize 0\n",
      "2019-03-08 00:03:39,992 : INFO : EPOCH 2 - PROGRESS: at 5.83% examples, 394169 words/s, in_qsize 8, out_qsize 0\n",
      "2019-03-08 00:03:41,009 : INFO : EPOCH 2 - PROGRESS: at 6.94% examples, 394040 words/s, in_qsize 7, out_qsize 0\n",
      "2019-03-08 00:03:42,026 : INFO : EPOCH 2 - PROGRESS: at 8.17% examples, 395759 words/s, in_qsize 7, out_qsize 0\n",
      "2019-03-08 00:03:43,042 : INFO : EPOCH 2 - PROGRESS: at 9.36% examples, 396509 words/s, in_qsize 7, out_qsize 0\n",
      "2019-03-08 00:03:44,067 : INFO : EPOCH 2 - PROGRESS: at 10.57% examples, 397350 words/s, in_qsize 8, out_qsize 0\n",
      "2019-03-08 00:03:45,078 : INFO : EPOCH 2 - PROGRESS: at 11.78% examples, 398752 words/s, in_qsize 8, out_qsize 0\n",
      "2019-03-08 00:03:46,104 : INFO : EPOCH 2 - PROGRESS: at 12.99% examples, 399421 words/s, in_qsize 7, out_qsize 0\n",
      "2019-03-08 00:03:47,109 : INFO : EPOCH 2 - PROGRESS: at 14.14% examples, 398758 words/s, in_qsize 7, out_qsize 0\n",
      "2019-03-08 00:03:48,103 : INFO : EPOCH 2 - PROGRESS: at 15.29% examples, 398761 words/s, in_qsize 7, out_qsize 0\n",
      "2019-03-08 00:03:49,105 : INFO : EPOCH 2 - PROGRESS: at 16.46% examples, 398953 words/s, in_qsize 7, out_qsize 0\n",
      "2019-03-08 00:03:50,123 : INFO : EPOCH 2 - PROGRESS: at 17.54% examples, 397754 words/s, in_qsize 8, out_qsize 0\n"
     ]
    },
    {
     "name": "stderr",
     "output_type": "stream",
     "text": [
      "2019-03-08 00:03:51,152 : INFO : EPOCH 2 - PROGRESS: at 18.63% examples, 395384 words/s, in_qsize 8, out_qsize 0\n",
      "2019-03-08 00:03:52,155 : INFO : EPOCH 2 - PROGRESS: at 19.79% examples, 394989 words/s, in_qsize 8, out_qsize 0\n",
      "2019-03-08 00:03:53,168 : INFO : EPOCH 2 - PROGRESS: at 20.86% examples, 393783 words/s, in_qsize 8, out_qsize 0\n",
      "2019-03-08 00:03:54,172 : INFO : EPOCH 2 - PROGRESS: at 22.02% examples, 394612 words/s, in_qsize 7, out_qsize 0\n",
      "2019-03-08 00:03:55,199 : INFO : EPOCH 2 - PROGRESS: at 23.19% examples, 394686 words/s, in_qsize 7, out_qsize 0\n",
      "2019-03-08 00:03:56,217 : INFO : EPOCH 2 - PROGRESS: at 24.47% examples, 395727 words/s, in_qsize 7, out_qsize 0\n",
      "2019-03-08 00:03:57,231 : INFO : EPOCH 2 - PROGRESS: at 25.69% examples, 396624 words/s, in_qsize 7, out_qsize 0\n",
      "2019-03-08 00:03:58,231 : INFO : EPOCH 2 - PROGRESS: at 26.88% examples, 397149 words/s, in_qsize 7, out_qsize 0\n",
      "2019-03-08 00:03:59,258 : INFO : EPOCH 2 - PROGRESS: at 28.05% examples, 397496 words/s, in_qsize 8, out_qsize 0\n",
      "2019-03-08 00:04:00,280 : INFO : EPOCH 2 - PROGRESS: at 29.21% examples, 397263 words/s, in_qsize 7, out_qsize 0\n",
      "2019-03-08 00:04:01,291 : INFO : EPOCH 2 - PROGRESS: at 30.37% examples, 397258 words/s, in_qsize 8, out_qsize 0\n",
      "2019-03-08 00:04:02,295 : INFO : EPOCH 2 - PROGRESS: at 31.56% examples, 397685 words/s, in_qsize 7, out_qsize 0\n",
      "2019-03-08 00:04:03,287 : INFO : EPOCH 2 - PROGRESS: at 32.69% examples, 397722 words/s, in_qsize 8, out_qsize 0\n",
      "2019-03-08 00:04:04,323 : INFO : EPOCH 2 - PROGRESS: at 33.87% examples, 397503 words/s, in_qsize 7, out_qsize 0\n",
      "2019-03-08 00:04:05,329 : INFO : EPOCH 2 - PROGRESS: at 35.04% examples, 397691 words/s, in_qsize 7, out_qsize 0\n",
      "2019-03-08 00:04:06,340 : INFO : EPOCH 2 - PROGRESS: at 36.23% examples, 397950 words/s, in_qsize 7, out_qsize 0\n",
      "2019-03-08 00:04:07,386 : INFO : EPOCH 2 - PROGRESS: at 37.50% examples, 398409 words/s, in_qsize 7, out_qsize 0\n",
      "2019-03-08 00:04:08,388 : INFO : EPOCH 2 - PROGRESS: at 38.74% examples, 399024 words/s, in_qsize 7, out_qsize 0\n",
      "2019-03-08 00:04:09,423 : INFO : EPOCH 2 - PROGRESS: at 39.99% examples, 399279 words/s, in_qsize 7, out_qsize 0\n",
      "2019-03-08 00:04:10,440 : INFO : EPOCH 2 - PROGRESS: at 41.18% examples, 399718 words/s, in_qsize 8, out_qsize 0\n",
      "2019-03-08 00:04:11,454 : INFO : EPOCH 2 - PROGRESS: at 42.37% examples, 399917 words/s, in_qsize 7, out_qsize 0\n",
      "2019-03-08 00:04:12,452 : INFO : EPOCH 2 - PROGRESS: at 43.56% examples, 400369 words/s, in_qsize 7, out_qsize 0\n",
      "2019-03-08 00:04:13,485 : INFO : EPOCH 2 - PROGRESS: at 44.74% examples, 400577 words/s, in_qsize 7, out_qsize 0\n",
      "2019-03-08 00:04:14,498 : INFO : EPOCH 2 - PROGRESS: at 45.95% examples, 401246 words/s, in_qsize 7, out_qsize 0\n",
      "2019-03-08 00:04:15,550 : INFO : EPOCH 2 - PROGRESS: at 47.16% examples, 401265 words/s, in_qsize 8, out_qsize 0\n",
      "2019-03-08 00:04:16,552 : INFO : EPOCH 2 - PROGRESS: at 48.36% examples, 401370 words/s, in_qsize 7, out_qsize 0\n",
      "2019-03-08 00:04:17,598 : INFO : EPOCH 2 - PROGRESS: at 49.65% examples, 401789 words/s, in_qsize 8, out_qsize 0\n",
      "2019-03-08 00:04:18,620 : INFO : EPOCH 2 - PROGRESS: at 50.85% examples, 401982 words/s, in_qsize 7, out_qsize 0\n",
      "2019-03-08 00:04:19,631 : INFO : EPOCH 2 - PROGRESS: at 51.97% examples, 401694 words/s, in_qsize 8, out_qsize 0\n",
      "2019-03-08 00:04:20,647 : INFO : EPOCH 2 - PROGRESS: at 53.13% examples, 401489 words/s, in_qsize 8, out_qsize 0\n",
      "2019-03-08 00:04:21,681 : INFO : EPOCH 2 - PROGRESS: at 54.32% examples, 401272 words/s, in_qsize 7, out_qsize 0\n",
      "2019-03-08 00:04:22,679 : INFO : EPOCH 2 - PROGRESS: at 55.50% examples, 401397 words/s, in_qsize 8, out_qsize 0\n",
      "2019-03-08 00:04:23,715 : INFO : EPOCH 2 - PROGRESS: at 56.63% examples, 401048 words/s, in_qsize 8, out_qsize 0\n",
      "2019-03-08 00:04:24,717 : INFO : EPOCH 2 - PROGRESS: at 57.82% examples, 400966 words/s, in_qsize 8, out_qsize 0\n",
      "2019-03-08 00:04:25,745 : INFO : EPOCH 2 - PROGRESS: at 58.99% examples, 400809 words/s, in_qsize 8, out_qsize 0\n",
      "2019-03-08 00:04:26,754 : INFO : EPOCH 2 - PROGRESS: at 60.15% examples, 400699 words/s, in_qsize 7, out_qsize 0\n",
      "2019-03-08 00:04:27,776 : INFO : EPOCH 2 - PROGRESS: at 61.36% examples, 400719 words/s, in_qsize 7, out_qsize 0\n",
      "2019-03-08 00:04:28,806 : INFO : EPOCH 2 - PROGRESS: at 62.52% examples, 400575 words/s, in_qsize 7, out_qsize 0\n",
      "2019-03-08 00:04:29,832 : INFO : EPOCH 2 - PROGRESS: at 63.71% examples, 400624 words/s, in_qsize 7, out_qsize 0\n",
      "2019-03-08 00:04:30,837 : INFO : EPOCH 2 - PROGRESS: at 64.89% examples, 400606 words/s, in_qsize 8, out_qsize 0\n",
      "2019-03-08 00:04:31,838 : INFO : EPOCH 2 - PROGRESS: at 66.06% examples, 400750 words/s, in_qsize 7, out_qsize 0\n",
      "2019-03-08 00:04:32,858 : INFO : EPOCH 2 - PROGRESS: at 67.26% examples, 400937 words/s, in_qsize 7, out_qsize 0\n",
      "2019-03-08 00:04:33,857 : INFO : EPOCH 2 - PROGRESS: at 68.47% examples, 401127 words/s, in_qsize 7, out_qsize 0\n",
      "2019-03-08 00:04:34,859 : INFO : EPOCH 2 - PROGRESS: at 69.69% examples, 401397 words/s, in_qsize 7, out_qsize 0\n",
      "2019-03-08 00:04:35,885 : INFO : EPOCH 2 - PROGRESS: at 70.92% examples, 401748 words/s, in_qsize 7, out_qsize 0\n",
      "2019-03-08 00:04:36,894 : INFO : EPOCH 2 - PROGRESS: at 72.15% examples, 402047 words/s, in_qsize 7, out_qsize 0\n",
      "2019-03-08 00:04:37,934 : INFO : EPOCH 2 - PROGRESS: at 73.36% examples, 402046 words/s, in_qsize 7, out_qsize 0\n",
      "2019-03-08 00:04:38,967 : INFO : EPOCH 2 - PROGRESS: at 74.56% examples, 402185 words/s, in_qsize 7, out_qsize 0\n",
      "2019-03-08 00:04:39,982 : INFO : EPOCH 2 - PROGRESS: at 75.81% examples, 402464 words/s, in_qsize 8, out_qsize 0\n",
      "2019-03-08 00:04:40,993 : INFO : EPOCH 2 - PROGRESS: at 76.84% examples, 401847 words/s, in_qsize 7, out_qsize 0\n",
      "2019-03-08 00:04:42,021 : INFO : EPOCH 2 - PROGRESS: at 77.80% examples, 400518 words/s, in_qsize 7, out_qsize 0\n",
      "2019-03-08 00:04:43,036 : INFO : EPOCH 2 - PROGRESS: at 78.85% examples, 399716 words/s, in_qsize 8, out_qsize 0\n",
      "2019-03-08 00:04:44,029 : INFO : EPOCH 2 - PROGRESS: at 79.84% examples, 398882 words/s, in_qsize 7, out_qsize 0\n",
      "2019-03-08 00:04:45,040 : INFO : EPOCH 2 - PROGRESS: at 80.87% examples, 398219 words/s, in_qsize 7, out_qsize 0\n",
      "2019-03-08 00:04:46,059 : INFO : EPOCH 2 - PROGRESS: at 81.87% examples, 397590 words/s, in_qsize 8, out_qsize 0\n",
      "2019-03-08 00:04:47,082 : INFO : EPOCH 2 - PROGRESS: at 82.93% examples, 396943 words/s, in_qsize 8, out_qsize 0\n",
      "2019-03-08 00:04:48,117 : INFO : EPOCH 2 - PROGRESS: at 84.14% examples, 397282 words/s, in_qsize 8, out_qsize 0\n",
      "2019-03-08 00:04:49,168 : INFO : EPOCH 2 - PROGRESS: at 85.29% examples, 396960 words/s, in_qsize 7, out_qsize 0\n",
      "2019-03-08 00:04:50,170 : INFO : EPOCH 2 - PROGRESS: at 86.26% examples, 396097 words/s, in_qsize 8, out_qsize 0\n",
      "2019-03-08 00:04:51,180 : INFO : EPOCH 2 - PROGRESS: at 87.23% examples, 395211 words/s, in_qsize 8, out_qsize 0\n",
      "2019-03-08 00:04:52,180 : INFO : EPOCH 2 - PROGRESS: at 88.28% examples, 394896 words/s, in_qsize 7, out_qsize 0\n",
      "2019-03-08 00:04:53,192 : INFO : EPOCH 2 - PROGRESS: at 89.41% examples, 394785 words/s, in_qsize 8, out_qsize 0\n",
      "2019-03-08 00:04:54,196 : INFO : EPOCH 2 - PROGRESS: at 90.54% examples, 394706 words/s, in_qsize 8, out_qsize 0\n",
      "2019-03-08 00:04:55,222 : INFO : EPOCH 2 - PROGRESS: at 91.71% examples, 394768 words/s, in_qsize 7, out_qsize 0\n",
      "2019-03-08 00:04:56,257 : INFO : EPOCH 2 - PROGRESS: at 92.93% examples, 395016 words/s, in_qsize 8, out_qsize 0\n",
      "2019-03-08 00:04:57,271 : INFO : EPOCH 2 - PROGRESS: at 94.18% examples, 395317 words/s, in_qsize 7, out_qsize 0\n",
      "2019-03-08 00:04:58,288 : INFO : EPOCH 2 - PROGRESS: at 95.39% examples, 395454 words/s, in_qsize 8, out_qsize 0\n",
      "2019-03-08 00:04:59,292 : INFO : EPOCH 2 - PROGRESS: at 96.62% examples, 395636 words/s, in_qsize 7, out_qsize 0\n",
      "2019-03-08 00:05:00,302 : INFO : EPOCH 2 - PROGRESS: at 97.82% examples, 395866 words/s, in_qsize 7, out_qsize 0\n",
      "2019-03-08 00:05:01,354 : INFO : EPOCH 2 - PROGRESS: at 99.04% examples, 395951 words/s, in_qsize 7, out_qsize 0\n",
      "2019-03-08 00:05:02,102 : INFO : worker thread finished; awaiting finish of 3 more threads\n",
      "2019-03-08 00:05:02,141 : INFO : worker thread finished; awaiting finish of 2 more threads\n",
      "2019-03-08 00:05:02,202 : INFO : worker thread finished; awaiting finish of 1 more threads\n",
      "2019-03-08 00:05:02,204 : INFO : worker thread finished; awaiting finish of 0 more threads\n"
     ]
    },
    {
     "name": "stderr",
     "output_type": "stream",
     "text": [
      "2019-03-08 00:05:02,206 : INFO : EPOCH - 2 : training on 34580654 raw words (34573124 effective words) took 87.3s, 396041 effective words/s\n",
      "2019-03-08 00:05:03,339 : INFO : EPOCH 3 - PROGRESS: at 1.11% examples, 366696 words/s, in_qsize 7, out_qsize 0\n",
      "2019-03-08 00:05:04,351 : INFO : EPOCH 3 - PROGRESS: at 2.30% examples, 393135 words/s, in_qsize 8, out_qsize 0\n",
      "2019-03-08 00:05:05,365 : INFO : EPOCH 3 - PROGRESS: at 3.54% examples, 400393 words/s, in_qsize 7, out_qsize 0\n",
      "2019-03-08 00:05:06,381 : INFO : EPOCH 3 - PROGRESS: at 4.79% examples, 403723 words/s, in_qsize 8, out_qsize 0\n",
      "2019-03-08 00:05:07,398 : INFO : EPOCH 3 - PROGRESS: at 6.01% examples, 407145 words/s, in_qsize 7, out_qsize 0\n",
      "2019-03-08 00:05:08,430 : INFO : EPOCH 3 - PROGRESS: at 7.21% examples, 407881 words/s, in_qsize 7, out_qsize 0\n",
      "2019-03-08 00:05:09,430 : INFO : EPOCH 3 - PROGRESS: at 8.44% examples, 409628 words/s, in_qsize 8, out_qsize 0\n",
      "2019-03-08 00:05:10,447 : INFO : EPOCH 3 - PROGRESS: at 9.70% examples, 410894 words/s, in_qsize 7, out_qsize 0\n",
      "2019-03-08 00:05:11,462 : INFO : EPOCH 3 - PROGRESS: at 10.95% examples, 411444 words/s, in_qsize 7, out_qsize 0\n",
      "2019-03-08 00:05:12,494 : INFO : EPOCH 3 - PROGRESS: at 12.19% examples, 412173 words/s, in_qsize 7, out_qsize 0\n",
      "2019-03-08 00:05:13,509 : INFO : EPOCH 3 - PROGRESS: at 13.44% examples, 412669 words/s, in_qsize 8, out_qsize 0\n",
      "2019-03-08 00:05:14,529 : INFO : EPOCH 3 - PROGRESS: at 14.69% examples, 413257 words/s, in_qsize 7, out_qsize 0\n",
      "2019-03-08 00:05:15,563 : INFO : EPOCH 3 - PROGRESS: at 15.95% examples, 414582 words/s, in_qsize 7, out_qsize 0\n",
      "2019-03-08 00:05:16,577 : INFO : EPOCH 3 - PROGRESS: at 17.13% examples, 413726 words/s, in_qsize 7, out_qsize 0\n",
      "2019-03-08 00:05:17,594 : INFO : EPOCH 3 - PROGRESS: at 18.35% examples, 414020 words/s, in_qsize 7, out_qsize 0\n",
      "2019-03-08 00:05:18,589 : INFO : EPOCH 3 - PROGRESS: at 19.60% examples, 414192 words/s, in_qsize 7, out_qsize 0\n",
      "2019-03-08 00:05:19,606 : INFO : EPOCH 3 - PROGRESS: at 20.72% examples, 412828 words/s, in_qsize 7, out_qsize 0\n",
      "2019-03-08 00:05:20,624 : INFO : EPOCH 3 - PROGRESS: at 21.88% examples, 411835 words/s, in_qsize 7, out_qsize 0\n",
      "2019-03-08 00:05:21,627 : INFO : EPOCH 3 - PROGRESS: at 22.96% examples, 410692 words/s, in_qsize 7, out_qsize 0\n",
      "2019-03-08 00:05:22,668 : INFO : EPOCH 3 - PROGRESS: at 24.17% examples, 409658 words/s, in_qsize 8, out_qsize 0\n",
      "2019-03-08 00:05:23,686 : INFO : EPOCH 3 - PROGRESS: at 25.36% examples, 408924 words/s, in_qsize 7, out_qsize 0\n",
      "2019-03-08 00:05:24,702 : INFO : EPOCH 3 - PROGRESS: at 26.58% examples, 409106 words/s, in_qsize 7, out_qsize 0\n",
      "2019-03-08 00:05:25,703 : INFO : EPOCH 3 - PROGRESS: at 27.77% examples, 409474 words/s, in_qsize 8, out_qsize 0\n",
      "2019-03-08 00:05:26,733 : INFO : EPOCH 3 - PROGRESS: at 29.01% examples, 409912 words/s, in_qsize 8, out_qsize 0\n",
      "2019-03-08 00:05:27,765 : INFO : EPOCH 3 - PROGRESS: at 30.25% examples, 410209 words/s, in_qsize 8, out_qsize 0\n",
      "2019-03-08 00:05:28,782 : INFO : EPOCH 3 - PROGRESS: at 31.51% examples, 410661 words/s, in_qsize 7, out_qsize 0\n",
      "2019-03-08 00:05:29,811 : INFO : EPOCH 3 - PROGRESS: at 32.72% examples, 410844 words/s, in_qsize 7, out_qsize 0\n",
      "2019-03-08 00:05:30,816 : INFO : EPOCH 3 - PROGRESS: at 33.96% examples, 411252 words/s, in_qsize 7, out_qsize 0\n",
      "2019-03-08 00:05:31,830 : INFO : EPOCH 3 - PROGRESS: at 35.18% examples, 411512 words/s, in_qsize 8, out_qsize 0\n",
      "2019-03-08 00:05:32,833 : INFO : EPOCH 3 - PROGRESS: at 36.40% examples, 411609 words/s, in_qsize 7, out_qsize 0\n",
      "2019-03-08 00:05:33,847 : INFO : EPOCH 3 - PROGRESS: at 37.65% examples, 411856 words/s, in_qsize 8, out_qsize 0\n",
      "2019-03-08 00:05:34,860 : INFO : EPOCH 3 - PROGRESS: at 38.89% examples, 412010 words/s, in_qsize 7, out_qsize 0\n",
      "2019-03-08 00:05:35,909 : INFO : EPOCH 3 - PROGRESS: at 40.14% examples, 411990 words/s, in_qsize 7, out_qsize 0\n",
      "2019-03-08 00:05:36,942 : INFO : EPOCH 3 - PROGRESS: at 41.30% examples, 411378 words/s, in_qsize 8, out_qsize 0\n",
      "2019-03-08 00:05:37,940 : INFO : EPOCH 3 - PROGRESS: at 42.51% examples, 411608 words/s, in_qsize 8, out_qsize 0\n",
      "2019-03-08 00:05:38,939 : INFO : EPOCH 3 - PROGRESS: at 43.70% examples, 411730 words/s, in_qsize 7, out_qsize 0\n",
      "2019-03-08 00:05:39,989 : INFO : EPOCH 3 - PROGRESS: at 44.74% examples, 410267 words/s, in_qsize 7, out_qsize 0\n",
      "2019-03-08 00:05:40,990 : INFO : EPOCH 3 - PROGRESS: at 45.95% examples, 410656 words/s, in_qsize 7, out_qsize 0\n",
      "2019-03-08 00:05:41,993 : INFO : EPOCH 3 - PROGRESS: at 46.98% examples, 409241 words/s, in_qsize 7, out_qsize 0\n",
      "2019-03-08 00:05:43,016 : INFO : EPOCH 3 - PROGRESS: at 48.20% examples, 409306 words/s, in_qsize 7, out_qsize 0\n",
      "2019-03-08 00:05:44,014 : INFO : EPOCH 3 - PROGRESS: at 49.41% examples, 409396 words/s, in_qsize 7, out_qsize 0\n",
      "2019-03-08 00:05:45,035 : INFO : EPOCH 3 - PROGRESS: at 50.64% examples, 409549 words/s, in_qsize 8, out_qsize 0\n",
      "2019-03-08 00:05:46,071 : INFO : EPOCH 3 - PROGRESS: at 51.80% examples, 409288 words/s, in_qsize 7, out_qsize 0\n",
      "2019-03-08 00:05:47,095 : INFO : EPOCH 3 - PROGRESS: at 53.00% examples, 409083 words/s, in_qsize 7, out_qsize 0\n",
      "2019-03-08 00:05:48,124 : INFO : EPOCH 3 - PROGRESS: at 54.23% examples, 409040 words/s, in_qsize 7, out_qsize 0\n",
      "2019-03-08 00:05:49,152 : INFO : EPOCH 3 - PROGRESS: at 55.41% examples, 408883 words/s, in_qsize 7, out_qsize 0\n",
      "2019-03-08 00:05:50,169 : INFO : EPOCH 3 - PROGRESS: at 56.58% examples, 408560 words/s, in_qsize 7, out_qsize 0\n",
      "2019-03-08 00:05:51,184 : INFO : EPOCH 3 - PROGRESS: at 57.77% examples, 408227 words/s, in_qsize 7, out_qsize 0\n",
      "2019-03-08 00:05:52,211 : INFO : EPOCH 3 - PROGRESS: at 58.94% examples, 407856 words/s, in_qsize 7, out_qsize 0\n",
      "2019-03-08 00:05:53,264 : INFO : EPOCH 3 - PROGRESS: at 60.12% examples, 407586 words/s, in_qsize 7, out_qsize 0\n",
      "2019-03-08 00:05:54,281 : INFO : EPOCH 3 - PROGRESS: at 61.36% examples, 407677 words/s, in_qsize 8, out_qsize 0\n",
      "2019-03-08 00:05:55,332 : INFO : EPOCH 3 - PROGRESS: at 62.60% examples, 407802 words/s, in_qsize 8, out_qsize 0\n",
      "2019-03-08 00:05:56,333 : INFO : EPOCH 3 - PROGRESS: at 63.84% examples, 407955 words/s, in_qsize 7, out_qsize 0\n",
      "2019-03-08 00:05:57,349 : INFO : EPOCH 3 - PROGRESS: at 65.06% examples, 408120 words/s, in_qsize 8, out_qsize 0\n",
      "2019-03-08 00:05:58,362 : INFO : EPOCH 3 - PROGRESS: at 66.26% examples, 408257 words/s, in_qsize 7, out_qsize 0\n",
      "2019-03-08 00:05:59,380 : INFO : EPOCH 3 - PROGRESS: at 67.49% examples, 408479 words/s, in_qsize 7, out_qsize 0\n",
      "2019-03-08 00:06:00,396 : INFO : EPOCH 3 - PROGRESS: at 68.65% examples, 408317 words/s, in_qsize 8, out_qsize 0\n",
      "2019-03-08 00:06:01,410 : INFO : EPOCH 3 - PROGRESS: at 69.85% examples, 408279 words/s, in_qsize 8, out_qsize 0\n",
      "2019-03-08 00:06:02,416 : INFO : EPOCH 3 - PROGRESS: at 71.03% examples, 408309 words/s, in_qsize 8, out_qsize 0\n",
      "2019-03-08 00:06:03,424 : INFO : EPOCH 3 - PROGRESS: at 72.24% examples, 408301 words/s, in_qsize 7, out_qsize 0\n",
      "2019-03-08 00:06:04,439 : INFO : EPOCH 3 - PROGRESS: at 73.44% examples, 408395 words/s, in_qsize 8, out_qsize 0\n",
      "2019-03-08 00:06:05,488 : INFO : EPOCH 3 - PROGRESS: at 74.68% examples, 408424 words/s, in_qsize 8, out_qsize 0\n",
      "2019-03-08 00:06:06,502 : INFO : EPOCH 3 - PROGRESS: at 75.92% examples, 408674 words/s, in_qsize 8, out_qsize 0\n",
      "2019-03-08 00:06:07,506 : INFO : EPOCH 3 - PROGRESS: at 77.13% examples, 408823 words/s, in_qsize 7, out_qsize 0\n",
      "2019-03-08 00:06:08,507 : INFO : EPOCH 3 - PROGRESS: at 78.37% examples, 408979 words/s, in_qsize 7, out_qsize 0\n",
      "2019-03-08 00:06:09,523 : INFO : EPOCH 3 - PROGRESS: at 79.61% examples, 409083 words/s, in_qsize 8, out_qsize 0\n",
      "2019-03-08 00:06:10,552 : INFO : EPOCH 3 - PROGRESS: at 80.84% examples, 409150 words/s, in_qsize 8, out_qsize 0\n",
      "2019-03-08 00:06:11,559 : INFO : EPOCH 3 - PROGRESS: at 82.05% examples, 409349 words/s, in_qsize 7, out_qsize 0\n",
      "2019-03-08 00:06:12,577 : INFO : EPOCH 3 - PROGRESS: at 83.26% examples, 409393 words/s, in_qsize 7, out_qsize 0\n",
      "2019-03-08 00:06:13,585 : INFO : EPOCH 3 - PROGRESS: at 84.44% examples, 409450 words/s, in_qsize 8, out_qsize 0\n",
      "2019-03-08 00:06:14,584 : INFO : EPOCH 3 - PROGRESS: at 85.62% examples, 409470 words/s, in_qsize 7, out_qsize 0\n",
      "2019-03-08 00:06:15,600 : INFO : EPOCH 3 - PROGRESS: at 86.86% examples, 409572 words/s, in_qsize 7, out_qsize 0\n"
     ]
    },
    {
     "name": "stderr",
     "output_type": "stream",
     "text": [
      "2019-03-08 00:06:16,601 : INFO : EPOCH 3 - PROGRESS: at 88.05% examples, 409721 words/s, in_qsize 7, out_qsize 0\n",
      "2019-03-08 00:06:17,602 : INFO : EPOCH 3 - PROGRESS: at 89.23% examples, 409718 words/s, in_qsize 7, out_qsize 0\n",
      "2019-03-08 00:06:18,613 : INFO : EPOCH 3 - PROGRESS: at 90.44% examples, 409787 words/s, in_qsize 8, out_qsize 0\n",
      "2019-03-08 00:06:19,629 : INFO : EPOCH 3 - PROGRESS: at 91.58% examples, 409438 words/s, in_qsize 7, out_qsize 0\n",
      "2019-03-08 00:06:20,649 : INFO : EPOCH 3 - PROGRESS: at 92.74% examples, 409290 words/s, in_qsize 7, out_qsize 0\n",
      "2019-03-08 00:06:21,682 : INFO : EPOCH 3 - PROGRESS: at 93.92% examples, 409166 words/s, in_qsize 7, out_qsize 0\n",
      "2019-03-08 00:06:22,708 : INFO : EPOCH 3 - PROGRESS: at 95.10% examples, 408894 words/s, in_qsize 7, out_qsize 0\n",
      "2019-03-08 00:06:23,741 : INFO : EPOCH 3 - PROGRESS: at 96.30% examples, 408663 words/s, in_qsize 7, out_qsize 0\n",
      "2019-03-08 00:06:24,758 : INFO : EPOCH 3 - PROGRESS: at 97.50% examples, 408615 words/s, in_qsize 7, out_qsize 0\n",
      "2019-03-08 00:06:25,776 : INFO : EPOCH 3 - PROGRESS: at 98.71% examples, 408697 words/s, in_qsize 7, out_qsize 0\n",
      "2019-03-08 00:06:26,778 : INFO : EPOCH 3 - PROGRESS: at 99.84% examples, 408593 words/s, in_qsize 6, out_qsize 0\n",
      "2019-03-08 00:06:26,825 : INFO : worker thread finished; awaiting finish of 3 more threads\n",
      "2019-03-08 00:06:26,840 : INFO : worker thread finished; awaiting finish of 2 more threads\n",
      "2019-03-08 00:06:26,856 : INFO : worker thread finished; awaiting finish of 1 more threads\n",
      "2019-03-08 00:06:26,872 : INFO : worker thread finished; awaiting finish of 0 more threads\n",
      "2019-03-08 00:06:26,872 : INFO : EPOCH - 3 : training on 34580654 raw words (34573168 effective words) took 84.6s, 408818 effective words/s\n",
      "2019-03-08 00:06:28,042 : INFO : EPOCH 4 - PROGRESS: at 1.11% examples, 379681 words/s, in_qsize 7, out_qsize 0\n",
      "2019-03-08 00:06:29,056 : INFO : EPOCH 4 - PROGRESS: at 2.27% examples, 394581 words/s, in_qsize 8, out_qsize 0\n",
      "2019-03-08 00:06:30,082 : INFO : EPOCH 4 - PROGRESS: at 3.45% examples, 394417 words/s, in_qsize 7, out_qsize 1\n",
      "2019-03-08 00:06:31,098 : INFO : EPOCH 4 - PROGRESS: at 4.70% examples, 398935 words/s, in_qsize 7, out_qsize 0\n",
      "2019-03-08 00:06:32,088 : INFO : EPOCH 4 - PROGRESS: at 5.88% examples, 400973 words/s, in_qsize 7, out_qsize 0\n",
      "2019-03-08 00:06:33,106 : INFO : EPOCH 4 - PROGRESS: at 7.02% examples, 402065 words/s, in_qsize 8, out_qsize 0\n",
      "2019-03-08 00:06:34,123 : INFO : EPOCH 4 - PROGRESS: at 8.25% examples, 402631 words/s, in_qsize 7, out_qsize 0\n",
      "2019-03-08 00:06:35,121 : INFO : EPOCH 4 - PROGRESS: at 9.50% examples, 405675 words/s, in_qsize 7, out_qsize 0\n",
      "2019-03-08 00:06:36,152 : INFO : EPOCH 4 - PROGRESS: at 10.75% examples, 406200 words/s, in_qsize 8, out_qsize 0\n",
      "2019-03-08 00:06:37,169 : INFO : EPOCH 4 - PROGRESS: at 11.95% examples, 406865 words/s, in_qsize 8, out_qsize 0\n",
      "2019-03-08 00:06:38,183 : INFO : EPOCH 4 - PROGRESS: at 13.19% examples, 407880 words/s, in_qsize 7, out_qsize 0\n",
      "2019-03-08 00:06:39,186 : INFO : EPOCH 4 - PROGRESS: at 14.40% examples, 407949 words/s, in_qsize 8, out_qsize 0\n",
      "2019-03-08 00:06:40,214 : INFO : EPOCH 4 - PROGRESS: at 15.60% examples, 408135 words/s, in_qsize 7, out_qsize 0\n",
      "2019-03-08 00:06:41,216 : INFO : EPOCH 4 - PROGRESS: at 16.83% examples, 409089 words/s, in_qsize 8, out_qsize 0\n",
      "2019-03-08 00:06:42,244 : INFO : EPOCH 4 - PROGRESS: at 18.03% examples, 408996 words/s, in_qsize 7, out_qsize 0\n",
      "2019-03-08 00:06:43,265 : INFO : EPOCH 4 - PROGRESS: at 19.28% examples, 409519 words/s, in_qsize 7, out_qsize 0\n",
      "2019-03-08 00:06:44,263 : INFO : EPOCH 4 - PROGRESS: at 20.47% examples, 409641 words/s, in_qsize 7, out_qsize 0\n",
      "2019-03-08 00:06:45,279 : INFO : EPOCH 4 - PROGRESS: at 21.68% examples, 410121 words/s, in_qsize 8, out_qsize 0\n",
      "2019-03-08 00:06:46,278 : INFO : EPOCH 4 - PROGRESS: at 22.82% examples, 410095 words/s, in_qsize 7, out_qsize 0\n",
      "2019-03-08 00:06:47,279 : INFO : EPOCH 4 - PROGRESS: at 24.05% examples, 410154 words/s, in_qsize 7, out_qsize 0\n",
      "2019-03-08 00:06:48,314 : INFO : EPOCH 4 - PROGRESS: at 25.31% examples, 410165 words/s, in_qsize 7, out_qsize 0\n",
      "2019-03-08 00:06:49,310 : INFO : EPOCH 4 - PROGRESS: at 26.43% examples, 409181 words/s, in_qsize 8, out_qsize 0\n",
      "2019-03-08 00:06:50,324 : INFO : EPOCH 4 - PROGRESS: at 27.56% examples, 408212 words/s, in_qsize 7, out_qsize 0\n",
      "2019-03-08 00:06:51,325 : INFO : EPOCH 4 - PROGRESS: at 28.68% examples, 407536 words/s, in_qsize 7, out_qsize 0\n",
      "2019-03-08 00:06:52,344 : INFO : EPOCH 4 - PROGRESS: at 29.84% examples, 407053 words/s, in_qsize 7, out_qsize 0\n",
      "2019-03-08 00:06:53,340 : INFO : EPOCH 4 - PROGRESS: at 30.94% examples, 406089 words/s, in_qsize 8, out_qsize 0\n",
      "2019-03-08 00:06:54,356 : INFO : EPOCH 4 - PROGRESS: at 32.08% examples, 405573 words/s, in_qsize 7, out_qsize 0\n",
      "2019-03-08 00:06:55,387 : INFO : EPOCH 4 - PROGRESS: at 33.32% examples, 406035 words/s, in_qsize 8, out_qsize 0\n",
      "2019-03-08 00:06:56,420 : INFO : EPOCH 4 - PROGRESS: at 34.56% examples, 406140 words/s, in_qsize 7, out_qsize 0\n",
      "2019-03-08 00:06:57,422 : INFO : EPOCH 4 - PROGRESS: at 35.74% examples, 406278 words/s, in_qsize 7, out_qsize 0\n",
      "2019-03-08 00:06:58,466 : INFO : EPOCH 4 - PROGRESS: at 37.00% examples, 406489 words/s, in_qsize 8, out_qsize 0\n",
      "2019-03-08 00:06:59,485 : INFO : EPOCH 4 - PROGRESS: at 38.24% examples, 406561 words/s, in_qsize 8, out_qsize 0\n",
      "2019-03-08 00:07:00,503 : INFO : EPOCH 4 - PROGRESS: at 39.46% examples, 406769 words/s, in_qsize 8, out_qsize 0\n",
      "2019-03-08 00:07:01,512 : INFO : EPOCH 4 - PROGRESS: at 40.62% examples, 406555 words/s, in_qsize 8, out_qsize 0\n",
      "2019-03-08 00:07:02,519 : INFO : EPOCH 4 - PROGRESS: at 41.59% examples, 404549 words/s, in_qsize 7, out_qsize 0\n",
      "2019-03-08 00:07:03,539 : INFO : EPOCH 4 - PROGRESS: at 42.57% examples, 402513 words/s, in_qsize 7, out_qsize 0\n",
      "2019-03-08 00:07:04,570 : INFO : EPOCH 4 - PROGRESS: at 43.48% examples, 399957 words/s, in_qsize 8, out_qsize 0\n",
      "2019-03-08 00:07:05,589 : INFO : EPOCH 4 - PROGRESS: at 44.63% examples, 399958 words/s, in_qsize 7, out_qsize 0\n",
      "2019-03-08 00:07:06,614 : INFO : EPOCH 4 - PROGRESS: at 45.78% examples, 400064 words/s, in_qsize 7, out_qsize 0\n",
      "2019-03-08 00:07:07,627 : INFO : EPOCH 4 - PROGRESS: at 46.92% examples, 399755 words/s, in_qsize 8, out_qsize 0\n",
      "2019-03-08 00:07:08,630 : INFO : EPOCH 4 - PROGRESS: at 47.95% examples, 398595 words/s, in_qsize 7, out_qsize 0\n",
      "2019-03-08 00:07:09,646 : INFO : EPOCH 4 - PROGRESS: at 48.99% examples, 397625 words/s, in_qsize 7, out_qsize 0\n",
      "2019-03-08 00:07:10,711 : INFO : EPOCH 4 - PROGRESS: at 49.98% examples, 395561 words/s, in_qsize 7, out_qsize 0\n",
      "2019-03-08 00:07:11,719 : INFO : EPOCH 4 - PROGRESS: at 50.80% examples, 392996 words/s, in_qsize 8, out_qsize 0\n",
      "2019-03-08 00:07:12,731 : INFO : EPOCH 4 - PROGRESS: at 51.80% examples, 392060 words/s, in_qsize 8, out_qsize 0\n",
      "2019-03-08 00:07:13,732 : INFO : EPOCH 4 - PROGRESS: at 52.92% examples, 391712 words/s, in_qsize 7, out_qsize 0\n",
      "2019-03-08 00:07:14,759 : INFO : EPOCH 4 - PROGRESS: at 54.14% examples, 392201 words/s, in_qsize 7, out_qsize 0\n",
      "2019-03-08 00:07:15,790 : INFO : EPOCH 4 - PROGRESS: at 55.32% examples, 392315 words/s, in_qsize 7, out_qsize 0\n",
      "2019-03-08 00:07:16,795 : INFO : EPOCH 4 - PROGRESS: at 56.52% examples, 392650 words/s, in_qsize 8, out_qsize 0\n",
      "2019-03-08 00:07:17,821 : INFO : EPOCH 4 - PROGRESS: at 57.77% examples, 393004 words/s, in_qsize 7, out_qsize 0\n",
      "2019-03-08 00:07:18,826 : INFO : EPOCH 4 - PROGRESS: at 58.99% examples, 393457 words/s, in_qsize 8, out_qsize 0\n",
      "2019-03-08 00:07:19,855 : INFO : EPOCH 4 - PROGRESS: at 60.12% examples, 393237 words/s, in_qsize 7, out_qsize 0\n",
      "2019-03-08 00:07:20,871 : INFO : EPOCH 4 - PROGRESS: at 61.26% examples, 393109 words/s, in_qsize 7, out_qsize 0\n",
      "2019-03-08 00:07:21,873 : INFO : EPOCH 4 - PROGRESS: at 62.35% examples, 392714 words/s, in_qsize 7, out_qsize 0\n",
      "2019-03-08 00:07:22,886 : INFO : EPOCH 4 - PROGRESS: at 63.49% examples, 392577 words/s, in_qsize 7, out_qsize 0\n",
      "2019-03-08 00:07:23,919 : INFO : EPOCH 4 - PROGRESS: at 64.66% examples, 392572 words/s, in_qsize 7, out_qsize 0\n",
      "2019-03-08 00:07:24,919 : INFO : EPOCH 4 - PROGRESS: at 65.84% examples, 392879 words/s, in_qsize 7, out_qsize 0\n",
      "2019-03-08 00:07:25,935 : INFO : EPOCH 4 - PROGRESS: at 67.02% examples, 393090 words/s, in_qsize 8, out_qsize 0\n"
     ]
    },
    {
     "name": "stderr",
     "output_type": "stream",
     "text": [
      "2019-03-08 00:07:26,949 : INFO : EPOCH 4 - PROGRESS: at 68.19% examples, 393136 words/s, in_qsize 8, out_qsize 0\n",
      "2019-03-08 00:07:27,967 : INFO : EPOCH 4 - PROGRESS: at 69.38% examples, 393353 words/s, in_qsize 7, out_qsize 0\n",
      "2019-03-08 00:07:28,965 : INFO : EPOCH 4 - PROGRESS: at 70.56% examples, 393645 words/s, in_qsize 7, out_qsize 0\n",
      "2019-03-08 00:07:29,972 : INFO : EPOCH 4 - PROGRESS: at 71.74% examples, 393903 words/s, in_qsize 7, out_qsize 0\n",
      "2019-03-08 00:07:30,978 : INFO : EPOCH 4 - PROGRESS: at 72.93% examples, 394125 words/s, in_qsize 8, out_qsize 0\n",
      "2019-03-08 00:07:31,981 : INFO : EPOCH 4 - PROGRESS: at 74.11% examples, 394409 words/s, in_qsize 7, out_qsize 0\n",
      "2019-03-08 00:07:33,008 : INFO : EPOCH 4 - PROGRESS: at 75.36% examples, 394611 words/s, in_qsize 8, out_qsize 0\n",
      "2019-03-08 00:07:34,042 : INFO : EPOCH 4 - PROGRESS: at 76.54% examples, 394802 words/s, in_qsize 7, out_qsize 0\n",
      "2019-03-08 00:07:35,075 : INFO : EPOCH 4 - PROGRESS: at 77.80% examples, 395101 words/s, in_qsize 8, out_qsize 0\n",
      "2019-03-08 00:07:36,095 : INFO : EPOCH 4 - PROGRESS: at 79.04% examples, 395386 words/s, in_qsize 7, out_qsize 0\n",
      "2019-03-08 00:07:37,123 : INFO : EPOCH 4 - PROGRESS: at 80.27% examples, 395599 words/s, in_qsize 8, out_qsize 0\n",
      "2019-03-08 00:07:38,142 : INFO : EPOCH 4 - PROGRESS: at 81.48% examples, 395782 words/s, in_qsize 7, out_qsize 0\n",
      "2019-03-08 00:07:39,173 : INFO : EPOCH 4 - PROGRESS: at 82.61% examples, 395618 words/s, in_qsize 8, out_qsize 0\n",
      "2019-03-08 00:07:40,214 : INFO : EPOCH 4 - PROGRESS: at 83.46% examples, 394127 words/s, in_qsize 8, out_qsize 0\n",
      "2019-03-08 00:07:41,219 : INFO : EPOCH 4 - PROGRESS: at 84.47% examples, 393554 words/s, in_qsize 8, out_qsize 0\n",
      "2019-03-08 00:07:42,253 : INFO : EPOCH 4 - PROGRESS: at 85.68% examples, 393764 words/s, in_qsize 7, out_qsize 0\n",
      "2019-03-08 00:07:43,299 : INFO : EPOCH 4 - PROGRESS: at 86.75% examples, 393158 words/s, in_qsize 8, out_qsize 0\n",
      "2019-03-08 00:07:44,290 : INFO : EPOCH 4 - PROGRESS: at 87.73% examples, 392475 words/s, in_qsize 7, out_qsize 0\n",
      "2019-03-08 00:07:45,319 : INFO : EPOCH 4 - PROGRESS: at 88.75% examples, 392011 words/s, in_qsize 7, out_qsize 0\n",
      "2019-03-08 00:07:46,322 : INFO : EPOCH 4 - PROGRESS: at 89.94% examples, 392202 words/s, in_qsize 8, out_qsize 0\n",
      "2019-03-08 00:07:47,354 : INFO : EPOCH 4 - PROGRESS: at 91.14% examples, 392308 words/s, in_qsize 8, out_qsize 0\n",
      "2019-03-08 00:07:48,350 : INFO : EPOCH 4 - PROGRESS: at 92.28% examples, 392441 words/s, in_qsize 7, out_qsize 0\n",
      "2019-03-08 00:07:49,370 : INFO : EPOCH 4 - PROGRESS: at 93.47% examples, 392599 words/s, in_qsize 7, out_qsize 0\n",
      "2019-03-08 00:07:50,402 : INFO : EPOCH 4 - PROGRESS: at 94.52% examples, 392097 words/s, in_qsize 7, out_qsize 0\n",
      "2019-03-08 00:07:51,416 : INFO : EPOCH 4 - PROGRESS: at 95.68% examples, 391993 words/s, in_qsize 7, out_qsize 0\n",
      "2019-03-08 00:07:52,479 : INFO : EPOCH 4 - PROGRESS: at 96.85% examples, 391728 words/s, in_qsize 7, out_qsize 0\n",
      "2019-03-08 00:07:53,483 : INFO : EPOCH 4 - PROGRESS: at 97.95% examples, 391700 words/s, in_qsize 7, out_qsize 0\n",
      "2019-03-08 00:07:54,500 : INFO : EPOCH 4 - PROGRESS: at 99.09% examples, 391652 words/s, in_qsize 8, out_qsize 0\n",
      "2019-03-08 00:07:55,231 : INFO : worker thread finished; awaiting finish of 3 more threads\n",
      "2019-03-08 00:07:55,249 : INFO : worker thread finished; awaiting finish of 2 more threads\n",
      "2019-03-08 00:07:55,266 : INFO : worker thread finished; awaiting finish of 1 more threads\n",
      "2019-03-08 00:07:55,299 : INFO : worker thread finished; awaiting finish of 0 more threads\n",
      "2019-03-08 00:07:55,301 : INFO : EPOCH - 4 : training on 34580654 raw words (34573170 effective words) took 88.2s, 391767 effective words/s\n",
      "2019-03-08 00:07:56,392 : INFO : EPOCH 5 - PROGRESS: at 1.16% examples, 390969 words/s, in_qsize 8, out_qsize 0\n",
      "2019-03-08 00:07:57,394 : INFO : EPOCH 5 - PROGRESS: at 2.33% examples, 400175 words/s, in_qsize 7, out_qsize 0\n",
      "2019-03-08 00:07:58,410 : INFO : EPOCH 5 - PROGRESS: at 3.57% examples, 405921 words/s, in_qsize 7, out_qsize 0\n",
      "2019-03-08 00:07:59,427 : INFO : EPOCH 5 - PROGRESS: at 4.82% examples, 406941 words/s, in_qsize 7, out_qsize 0\n",
      "2019-03-08 00:08:00,458 : INFO : EPOCH 5 - PROGRESS: at 5.98% examples, 405435 words/s, in_qsize 8, out_qsize 0\n",
      "2019-03-08 00:08:01,465 : INFO : EPOCH 5 - PROGRESS: at 7.15% examples, 406269 words/s, in_qsize 7, out_qsize 0\n",
      "2019-03-08 00:08:02,473 : INFO : EPOCH 5 - PROGRESS: at 8.33% examples, 405678 words/s, in_qsize 7, out_qsize 0\n",
      "2019-03-08 00:08:03,475 : INFO : EPOCH 5 - PROGRESS: at 9.56% examples, 407071 words/s, in_qsize 8, out_qsize 0\n",
      "2019-03-08 00:08:04,489 : INFO : EPOCH 5 - PROGRESS: at 10.81% examples, 407994 words/s, in_qsize 8, out_qsize 0\n",
      "2019-03-08 00:08:05,504 : INFO : EPOCH 5 - PROGRESS: at 11.99% examples, 407591 words/s, in_qsize 7, out_qsize 0\n",
      "2019-03-08 00:08:06,507 : INFO : EPOCH 5 - PROGRESS: at 13.23% examples, 408460 words/s, in_qsize 7, out_qsize 0\n",
      "2019-03-08 00:08:07,520 : INFO : EPOCH 5 - PROGRESS: at 14.43% examples, 408442 words/s, in_qsize 7, out_qsize 0\n",
      "2019-03-08 00:08:08,553 : INFO : EPOCH 5 - PROGRESS: at 15.66% examples, 409320 words/s, in_qsize 8, out_qsize 0\n",
      "2019-03-08 00:08:09,575 : INFO : EPOCH 5 - PROGRESS: at 16.86% examples, 408792 words/s, in_qsize 7, out_qsize 0\n",
      "2019-03-08 00:08:10,588 : INFO : EPOCH 5 - PROGRESS: at 18.09% examples, 410100 words/s, in_qsize 7, out_qsize 0\n",
      "2019-03-08 00:08:11,602 : INFO : EPOCH 5 - PROGRESS: at 19.31% examples, 409751 words/s, in_qsize 7, out_qsize 0\n",
      "2019-03-08 00:08:12,635 : INFO : EPOCH 5 - PROGRESS: at 20.53% examples, 409979 words/s, in_qsize 7, out_qsize 0\n",
      "2019-03-08 00:08:13,649 : INFO : EPOCH 5 - PROGRESS: at 21.70% examples, 409633 words/s, in_qsize 7, out_qsize 0\n",
      "2019-03-08 00:08:14,667 : INFO : EPOCH 5 - PROGRESS: at 22.88% examples, 409823 words/s, in_qsize 8, out_qsize 0\n",
      "2019-03-08 00:08:15,666 : INFO : EPOCH 5 - PROGRESS: at 24.10% examples, 409923 words/s, in_qsize 7, out_qsize 0\n",
      "2019-03-08 00:08:16,681 : INFO : EPOCH 5 - PROGRESS: at 25.34% examples, 409620 words/s, in_qsize 7, out_qsize 0\n",
      "2019-03-08 00:08:17,698 : INFO : EPOCH 5 - PROGRESS: at 26.51% examples, 409485 words/s, in_qsize 8, out_qsize 0\n",
      "2019-03-08 00:08:18,714 : INFO : EPOCH 5 - PROGRESS: at 27.71% examples, 409661 words/s, in_qsize 7, out_qsize 0\n",
      "2019-03-08 00:08:19,713 : INFO : EPOCH 5 - PROGRESS: at 28.79% examples, 408100 words/s, in_qsize 8, out_qsize 0\n",
      "2019-03-08 00:08:20,715 : INFO : EPOCH 5 - PROGRESS: at 29.92% examples, 407270 words/s, in_qsize 7, out_qsize 0\n",
      "2019-03-08 00:08:21,729 : INFO : EPOCH 5 - PROGRESS: at 31.05% examples, 406507 words/s, in_qsize 7, out_qsize 0\n",
      "2019-03-08 00:08:22,759 : INFO : EPOCH 5 - PROGRESS: at 32.16% examples, 405524 words/s, in_qsize 7, out_qsize 0\n",
      "2019-03-08 00:08:23,794 : INFO : EPOCH 5 - PROGRESS: at 33.32% examples, 404885 words/s, in_qsize 8, out_qsize 0\n",
      "2019-03-08 00:08:24,794 : INFO : EPOCH 5 - PROGRESS: at 34.48% examples, 404475 words/s, in_qsize 7, out_qsize 0\n",
      "2019-03-08 00:08:25,792 : INFO : EPOCH 5 - PROGRESS: at 35.66% examples, 404720 words/s, in_qsize 7, out_qsize 0\n",
      "2019-03-08 00:08:26,808 : INFO : EPOCH 5 - PROGRESS: at 36.86% examples, 404679 words/s, in_qsize 7, out_qsize 0\n",
      "2019-03-08 00:08:27,826 : INFO : EPOCH 5 - PROGRESS: at 38.09% examples, 404800 words/s, in_qsize 8, out_qsize 0\n",
      "2019-03-08 00:08:28,825 : INFO : EPOCH 5 - PROGRESS: at 39.29% examples, 404988 words/s, in_qsize 7, out_qsize 0\n",
      "2019-03-08 00:08:29,838 : INFO : EPOCH 5 - PROGRESS: at 40.51% examples, 405330 words/s, in_qsize 7, out_qsize 0\n",
      "2019-03-08 00:08:30,854 : INFO : EPOCH 5 - PROGRESS: at 41.67% examples, 405339 words/s, in_qsize 8, out_qsize 0\n",
      "2019-03-08 00:08:31,871 : INFO : EPOCH 5 - PROGRESS: at 42.88% examples, 405388 words/s, in_qsize 8, out_qsize 0\n",
      "2019-03-08 00:08:32,880 : INFO : EPOCH 5 - PROGRESS: at 44.05% examples, 405550 words/s, in_qsize 7, out_qsize 0\n",
      "2019-03-08 00:08:33,903 : INFO : EPOCH 5 - PROGRESS: at 45.23% examples, 405525 words/s, in_qsize 8, out_qsize 0\n",
      "2019-03-08 00:08:34,903 : INFO : EPOCH 5 - PROGRESS: at 46.39% examples, 405546 words/s, in_qsize 7, out_qsize 0\n",
      "2019-03-08 00:08:35,934 : INFO : EPOCH 5 - PROGRESS: at 47.60% examples, 405743 words/s, in_qsize 8, out_qsize 0\n",
      "2019-03-08 00:08:36,949 : INFO : EPOCH 5 - PROGRESS: at 48.83% examples, 405903 words/s, in_qsize 7, out_qsize 0\n"
     ]
    },
    {
     "name": "stderr",
     "output_type": "stream",
     "text": [
      "2019-03-08 00:08:37,953 : INFO : EPOCH 5 - PROGRESS: at 50.04% examples, 405964 words/s, in_qsize 7, out_qsize 0\n",
      "2019-03-08 00:08:38,965 : INFO : EPOCH 5 - PROGRESS: at 51.20% examples, 406063 words/s, in_qsize 8, out_qsize 0\n",
      "2019-03-08 00:08:39,966 : INFO : EPOCH 5 - PROGRESS: at 52.42% examples, 406141 words/s, in_qsize 7, out_qsize 0\n",
      "2019-03-08 00:08:40,996 : INFO : EPOCH 5 - PROGRESS: at 53.62% examples, 406262 words/s, in_qsize 7, out_qsize 0\n",
      "2019-03-08 00:08:41,995 : INFO : EPOCH 5 - PROGRESS: at 54.82% examples, 406320 words/s, in_qsize 8, out_qsize 0\n",
      "2019-03-08 00:08:43,011 : INFO : EPOCH 5 - PROGRESS: at 56.04% examples, 406493 words/s, in_qsize 7, out_qsize 0\n",
      "2019-03-08 00:08:44,027 : INFO : EPOCH 5 - PROGRESS: at 57.25% examples, 406460 words/s, in_qsize 7, out_qsize 0\n",
      "2019-03-08 00:08:45,044 : INFO : EPOCH 5 - PROGRESS: at 58.48% examples, 406657 words/s, in_qsize 8, out_qsize 0\n",
      "2019-03-08 00:08:46,060 : INFO : EPOCH 5 - PROGRESS: at 59.64% examples, 406628 words/s, in_qsize 7, out_qsize 0\n",
      "2019-03-08 00:08:47,091 : INFO : EPOCH 5 - PROGRESS: at 60.91% examples, 406600 words/s, in_qsize 7, out_qsize 0\n",
      "2019-03-08 00:08:48,107 : INFO : EPOCH 5 - PROGRESS: at 62.11% examples, 406872 words/s, in_qsize 7, out_qsize 0\n",
      "2019-03-08 00:08:49,140 : INFO : EPOCH 5 - PROGRESS: at 63.32% examples, 406675 words/s, in_qsize 8, out_qsize 0\n",
      "2019-03-08 00:08:50,173 : INFO : EPOCH 5 - PROGRESS: at 64.47% examples, 406157 words/s, in_qsize 8, out_qsize 0\n",
      "2019-03-08 00:08:51,192 : INFO : EPOCH 5 - PROGRESS: at 65.58% examples, 405729 words/s, in_qsize 7, out_qsize 0\n",
      "2019-03-08 00:08:52,206 : INFO : EPOCH 5 - PROGRESS: at 66.69% examples, 405290 words/s, in_qsize 8, out_qsize 0\n",
      "2019-03-08 00:08:53,205 : INFO : EPOCH 5 - PROGRESS: at 67.79% examples, 404811 words/s, in_qsize 8, out_qsize 0\n",
      "2019-03-08 00:08:54,222 : INFO : EPOCH 5 - PROGRESS: at 68.94% examples, 404601 words/s, in_qsize 7, out_qsize 0\n",
      "2019-03-08 00:08:55,239 : INFO : EPOCH 5 - PROGRESS: at 70.14% examples, 404703 words/s, in_qsize 8, out_qsize 0\n",
      "2019-03-08 00:08:56,236 : INFO : EPOCH 5 - PROGRESS: at 71.32% examples, 404786 words/s, in_qsize 8, out_qsize 0\n",
      "2019-03-08 00:08:57,269 : INFO : EPOCH 5 - PROGRESS: at 72.52% examples, 404654 words/s, in_qsize 7, out_qsize 0\n",
      "2019-03-08 00:08:58,284 : INFO : EPOCH 5 - PROGRESS: at 73.69% examples, 404691 words/s, in_qsize 8, out_qsize 0\n",
      "2019-03-08 00:08:59,300 : INFO : EPOCH 5 - PROGRESS: at 74.89% examples, 404692 words/s, in_qsize 7, out_qsize 0\n",
      "2019-03-08 00:09:00,349 : INFO : EPOCH 5 - PROGRESS: at 76.09% examples, 404676 words/s, in_qsize 7, out_qsize 0\n",
      "2019-03-08 00:09:01,366 : INFO : EPOCH 5 - PROGRESS: at 77.31% examples, 404794 words/s, in_qsize 8, out_qsize 0\n",
      "2019-03-08 00:09:02,367 : INFO : EPOCH 5 - PROGRESS: at 78.49% examples, 404713 words/s, in_qsize 8, out_qsize 0\n",
      "2019-03-08 00:09:03,385 : INFO : EPOCH 5 - PROGRESS: at 79.69% examples, 404732 words/s, in_qsize 7, out_qsize 0\n",
      "2019-03-08 00:09:04,403 : INFO : EPOCH 5 - PROGRESS: at 80.90% examples, 404730 words/s, in_qsize 7, out_qsize 0\n",
      "2019-03-08 00:09:05,414 : INFO : EPOCH 5 - PROGRESS: at 82.08% examples, 404815 words/s, in_qsize 7, out_qsize 0\n",
      "2019-03-08 00:09:06,446 : INFO : EPOCH 5 - PROGRESS: at 83.29% examples, 404856 words/s, in_qsize 7, out_qsize 0\n",
      "2019-03-08 00:09:07,461 : INFO : EPOCH 5 - PROGRESS: at 84.47% examples, 404949 words/s, in_qsize 7, out_qsize 0\n",
      "2019-03-08 00:09:08,462 : INFO : EPOCH 5 - PROGRESS: at 85.62% examples, 404876 words/s, in_qsize 7, out_qsize 0\n",
      "2019-03-08 00:09:09,477 : INFO : EPOCH 5 - PROGRESS: at 86.81% examples, 404804 words/s, in_qsize 7, out_qsize 0\n",
      "2019-03-08 00:09:10,475 : INFO : EPOCH 5 - PROGRESS: at 87.97% examples, 404854 words/s, in_qsize 7, out_qsize 0\n",
      "2019-03-08 00:09:11,493 : INFO : EPOCH 5 - PROGRESS: at 89.11% examples, 404759 words/s, in_qsize 7, out_qsize 0\n",
      "2019-03-08 00:09:12,526 : INFO : EPOCH 5 - PROGRESS: at 90.33% examples, 404755 words/s, in_qsize 7, out_qsize 0\n",
      "2019-03-08 00:09:13,544 : INFO : EPOCH 5 - PROGRESS: at 91.56% examples, 404907 words/s, in_qsize 7, out_qsize 0\n",
      "2019-03-08 00:09:14,561 : INFO : EPOCH 5 - PROGRESS: at 92.74% examples, 404923 words/s, in_qsize 8, out_qsize 0\n",
      "2019-03-08 00:09:15,574 : INFO : EPOCH 5 - PROGRESS: at 93.92% examples, 404982 words/s, in_qsize 7, out_qsize 0\n",
      "2019-03-08 00:09:16,589 : INFO : EPOCH 5 - PROGRESS: at 95.13% examples, 404919 words/s, in_qsize 8, out_qsize 0\n",
      "2019-03-08 00:09:17,604 : INFO : EPOCH 5 - PROGRESS: at 96.35% examples, 404959 words/s, in_qsize 7, out_qsize 0\n",
      "2019-03-08 00:09:18,606 : INFO : EPOCH 5 - PROGRESS: at 97.52% examples, 404885 words/s, in_qsize 7, out_qsize 0\n",
      "2019-03-08 00:09:19,625 : INFO : EPOCH 5 - PROGRESS: at 98.66% examples, 404638 words/s, in_qsize 7, out_qsize 0\n",
      "2019-03-08 00:09:20,666 : INFO : EPOCH 5 - PROGRESS: at 99.76% examples, 404318 words/s, in_qsize 7, out_qsize 0\n",
      "2019-03-08 00:09:20,828 : INFO : worker thread finished; awaiting finish of 3 more threads\n",
      "2019-03-08 00:09:20,841 : INFO : worker thread finished; awaiting finish of 2 more threads\n",
      "2019-03-08 00:09:20,877 : INFO : worker thread finished; awaiting finish of 1 more threads\n",
      "2019-03-08 00:09:20,908 : INFO : worker thread finished; awaiting finish of 0 more threads\n",
      "2019-03-08 00:09:20,911 : INFO : EPOCH - 5 : training on 34580654 raw words (34573115 effective words) took 85.5s, 404206 effective words/s\n",
      "2019-03-08 00:09:20,926 : INFO : training on a 172903270 raw words (172865572 effective words) took 473.0s, 365469 effective words/s\n",
      "2019-03-08 00:09:22,075 : INFO : saving Word2Vec object under 300features_10minwords_10context, separately None\n",
      "2019-03-08 00:09:22,360 : INFO : not storing attribute vectors_norm\n",
      "2019-03-08 00:09:22,360 : INFO : not storing attribute cum_table\n",
      "2019-03-08 00:09:24,752 : INFO : saved 300features_10minwords_10context\n"
     ]
    }
   ],
   "source": [
    "num_features = 300    # Word vector dimensionality                      \n",
    "min_word_count = 10   # Minimum word count                        \n",
    "num_workers = 4       # Number of threads to run in parallel\n",
    "context = 10          # Context window size                                                                                    \n",
    "downsampling = 1e-3   # Downsample setting for frequent words\n",
    "\n",
    "# Initialize and train the model (this will take some time)\n",
    "from gensim.models import word2vec\n",
    "print (\"Training model...\")\n",
    "model = word2vec.Word2Vec(sentences, workers=num_workers, \n",
    "            size=num_features, min_count = min_word_count, \n",
    "            window = context, sample = downsampling)\n",
    "\n",
    "model_name = \"300features_10minwords_10context\"\n",
    "model.save(model_name)"
   ]
  },
  {
   "cell_type": "code",
   "execution_count": 118,
   "metadata": {
    "collapsed": true
   },
   "outputs": [],
   "source": [
    "import numpy as np"
   ]
  },
  {
   "cell_type": "markdown",
   "metadata": {},
   "source": [
    "### Averaging all the vectors that is present in a specific row."
   ]
  },
  {
   "cell_type": "code",
   "execution_count": 119,
   "metadata": {
    "collapsed": true
   },
   "outputs": [],
   "source": [
    "# Function to average all word vectors in a paragraph\n",
    "def featureVecMethod(words, model, num_features):\n",
    "    # Pre-initialising empty numpy array for speed\n",
    "    featureVec = np.zeros(num_features,dtype=\"float32\")\n",
    "    nwords = 0\n",
    "    \n",
    "    #Converting Index2Word which is a list to a set for better speed in the execution.\n",
    "    index2word_set = set(model.wv.index2word)\n",
    "    \n",
    "    for word in  words:\n",
    "        if word in index2word_set:\n",
    "            nwords = nwords + 1\n",
    "            featureVec = np.add(featureVec,model[word])\n",
    "    \n",
    "    # Dividing the result by number of words to get average\n",
    "    featureVec = np.divide(featureVec, nwords)\n",
    "    return featureVec"
   ]
  },
  {
   "cell_type": "code",
   "execution_count": 120,
   "metadata": {
    "collapsed": true
   },
   "outputs": [],
   "source": [
    "def getAvgFeatureVecs(reviews, model, num_features):\n",
    "    counter = 0\n",
    "    reviewFeatureVecs = np.zeros((len(reviews),num_features),dtype=\"float32\")\n",
    "    for review in reviews:\n",
    "        # Printing a status message every 1000th review\n",
    "        if counter%1000 == 0:\n",
    "            print(\"Review %d of %d\"%(counter,len(reviews)))\n",
    "            \n",
    "        reviewFeatureVecs[counter] = featureVecMethod(review, model, num_features)\n",
    "        counter = counter+1\n",
    "        \n",
    "    return reviewFeatureVecs"
   ]
  },
  {
   "cell_type": "markdown",
   "metadata": {},
   "source": [
    "### Getting vectors for the training purposes"
   ]
  },
  {
   "cell_type": "code",
   "execution_count": 121,
   "metadata": {},
   "outputs": [
    {
     "name": "stdout",
     "output_type": "stream",
     "text": [
      "Review 0 of 84000\n"
     ]
    },
    {
     "name": "stderr",
     "output_type": "stream",
     "text": [
      "C:\\Users\\Pralav\\Anaconda3\\lib\\site-packages\\ipykernel_launcher.py:13: DeprecationWarning: Call to deprecated `__getitem__` (Method will be removed in 4.0.0, use self.wv.__getitem__() instead).\n",
      "  del sys.path[0]\n"
     ]
    },
    {
     "name": "stdout",
     "output_type": "stream",
     "text": [
      "Review 1000 of 84000\n",
      "Review 2000 of 84000\n",
      "Review 3000 of 84000\n",
      "Review 4000 of 84000\n",
      "Review 5000 of 84000\n",
      "Review 6000 of 84000\n",
      "Review 7000 of 84000\n",
      "Review 8000 of 84000\n",
      "Review 9000 of 84000\n",
      "Review 10000 of 84000\n",
      "Review 11000 of 84000\n",
      "Review 12000 of 84000\n",
      "Review 13000 of 84000\n",
      "Review 14000 of 84000\n",
      "Review 15000 of 84000\n",
      "Review 16000 of 84000\n",
      "Review 17000 of 84000\n",
      "Review 18000 of 84000\n",
      "Review 19000 of 84000\n",
      "Review 20000 of 84000\n",
      "Review 21000 of 84000\n",
      "Review 22000 of 84000\n",
      "Review 23000 of 84000\n",
      "Review 24000 of 84000\n",
      "Review 25000 of 84000\n",
      "Review 26000 of 84000\n",
      "Review 27000 of 84000\n",
      "Review 28000 of 84000\n",
      "Review 29000 of 84000\n",
      "Review 30000 of 84000\n",
      "Review 31000 of 84000\n",
      "Review 32000 of 84000\n",
      "Review 33000 of 84000\n",
      "Review 34000 of 84000\n",
      "Review 35000 of 84000\n",
      "Review 36000 of 84000\n",
      "Review 37000 of 84000\n",
      "Review 38000 of 84000\n",
      "Review 39000 of 84000\n",
      "Review 40000 of 84000\n",
      "Review 41000 of 84000\n",
      "Review 42000 of 84000\n",
      "Review 43000 of 84000\n",
      "Review 44000 of 84000\n",
      "Review 45000 of 84000\n",
      "Review 46000 of 84000\n",
      "Review 47000 of 84000\n",
      "Review 48000 of 84000\n",
      "Review 49000 of 84000\n",
      "Review 50000 of 84000\n",
      "Review 51000 of 84000\n",
      "Review 52000 of 84000\n",
      "Review 53000 of 84000\n",
      "Review 54000 of 84000\n",
      "Review 55000 of 84000\n",
      "Review 56000 of 84000\n",
      "Review 57000 of 84000\n",
      "Review 58000 of 84000\n",
      "Review 59000 of 84000\n",
      "Review 60000 of 84000\n",
      "Review 61000 of 84000\n",
      "Review 62000 of 84000\n",
      "Review 63000 of 84000\n",
      "Review 64000 of 84000\n",
      "Review 65000 of 84000\n",
      "Review 66000 of 84000\n",
      "Review 67000 of 84000\n",
      "Review 68000 of 84000\n",
      "Review 69000 of 84000\n",
      "Review 70000 of 84000\n",
      "Review 71000 of 84000\n",
      "Review 72000 of 84000\n",
      "Review 73000 of 84000\n",
      "Review 74000 of 84000\n",
      "Review 75000 of 84000\n",
      "Review 76000 of 84000\n",
      "Review 77000 of 84000\n",
      "Review 78000 of 84000\n",
      "Review 79000 of 84000\n",
      "Review 80000 of 84000\n",
      "Review 81000 of 84000\n",
      "Review 82000 of 84000\n",
      "Review 83000 of 84000\n"
     ]
    }
   ],
   "source": [
    "# Calculating average feature vector for training set\n",
    "clean_train_reviews = []\n",
    "for review in X_train:\n",
    "    clean_train_reviews.append(review_to_wordlist(review, remove_stopwords=True))\n",
    "    \n",
    "trainDataVecs = getAvgFeatureVecs(clean_train_reviews, model, num_features)"
   ]
  },
  {
   "cell_type": "code",
   "execution_count": 122,
   "metadata": {},
   "outputs": [
    {
     "data": {
      "text/plain": [
       "array([[-0.0099359 , -0.04593818, -0.05772187, ..., -0.0659002 ,\n",
       "         0.08493751, -0.08936053],\n",
       "       [ 0.08523012, -0.1571173 , -0.09983841, ...,  0.24519007,\n",
       "        -0.0612287 ,  0.07201509],\n",
       "       [-0.13481998,  0.08861449, -0.24105223, ...,  0.04254644,\n",
       "         0.01725568, -0.10314042],\n",
       "       ...,\n",
       "       [-0.27610984, -0.09315978, -0.06815444, ...,  0.31424785,\n",
       "        -0.1245511 , -0.10595381],\n",
       "       [-0.16137639, -0.1306625 , -0.12084016, ...,  0.35851717,\n",
       "         0.01010706, -0.03451362],\n",
       "       [-0.00563055, -0.03304921, -0.0480267 , ...,  0.19154586,\n",
       "        -0.04711775, -0.0251325 ]], dtype=float32)"
      ]
     },
     "execution_count": 122,
     "metadata": {},
     "output_type": "execute_result"
    }
   ],
   "source": [
    "trainDataVecs"
   ]
  },
  {
   "cell_type": "code",
   "execution_count": 123,
   "metadata": {},
   "outputs": [
    {
     "name": "stdout",
     "output_type": "stream",
     "text": [
      "Review 0 of 84000\n"
     ]
    },
    {
     "name": "stderr",
     "output_type": "stream",
     "text": [
      "C:\\Users\\Pralav\\Anaconda3\\lib\\site-packages\\ipykernel_launcher.py:13: DeprecationWarning: Call to deprecated `__getitem__` (Method will be removed in 4.0.0, use self.wv.__getitem__() instead).\n",
      "  del sys.path[0]\n"
     ]
    },
    {
     "name": "stdout",
     "output_type": "stream",
     "text": [
      "Review 1000 of 84000\n",
      "Review 2000 of 84000\n",
      "Review 3000 of 84000\n",
      "Review 4000 of 84000\n",
      "Review 5000 of 84000\n",
      "Review 6000 of 84000\n",
      "Review 7000 of 84000\n",
      "Review 8000 of 84000\n",
      "Review 9000 of 84000\n",
      "Review 10000 of 84000\n",
      "Review 11000 of 84000\n",
      "Review 12000 of 84000\n",
      "Review 13000 of 84000\n",
      "Review 14000 of 84000\n",
      "Review 15000 of 84000\n",
      "Review 16000 of 84000\n",
      "Review 17000 of 84000\n",
      "Review 18000 of 84000\n",
      "Review 19000 of 84000\n",
      "Review 20000 of 84000\n",
      "Review 21000 of 84000\n",
      "Review 22000 of 84000\n",
      "Review 23000 of 84000\n",
      "Review 24000 of 84000\n",
      "Review 25000 of 84000\n",
      "Review 26000 of 84000\n",
      "Review 27000 of 84000\n",
      "Review 28000 of 84000\n",
      "Review 29000 of 84000\n",
      "Review 30000 of 84000\n",
      "Review 31000 of 84000\n",
      "Review 32000 of 84000\n",
      "Review 33000 of 84000\n",
      "Review 34000 of 84000\n",
      "Review 35000 of 84000\n",
      "Review 36000 of 84000\n",
      "Review 37000 of 84000\n",
      "Review 38000 of 84000\n",
      "Review 39000 of 84000\n",
      "Review 40000 of 84000\n",
      "Review 41000 of 84000\n",
      "Review 42000 of 84000\n",
      "Review 43000 of 84000\n",
      "Review 44000 of 84000\n",
      "Review 45000 of 84000\n",
      "Review 46000 of 84000\n",
      "Review 47000 of 84000\n",
      "Review 48000 of 84000\n",
      "Review 49000 of 84000\n",
      "Review 50000 of 84000\n",
      "Review 51000 of 84000\n",
      "Review 52000 of 84000\n",
      "Review 53000 of 84000\n",
      "Review 54000 of 84000\n",
      "Review 55000 of 84000\n",
      "Review 56000 of 84000\n",
      "Review 57000 of 84000\n",
      "Review 58000 of 84000\n",
      "Review 59000 of 84000\n",
      "Review 60000 of 84000\n",
      "Review 61000 of 84000\n",
      "Review 62000 of 84000\n",
      "Review 63000 of 84000\n",
      "Review 64000 of 84000\n",
      "Review 65000 of 84000\n",
      "Review 66000 of 84000\n",
      "Review 67000 of 84000\n",
      "Review 68000 of 84000\n",
      "Review 69000 of 84000\n",
      "Review 70000 of 84000\n",
      "Review 71000 of 84000\n",
      "Review 72000 of 84000\n",
      "Review 73000 of 84000\n",
      "Review 74000 of 84000\n",
      "Review 75000 of 84000\n",
      "Review 76000 of 84000\n",
      "Review 77000 of 84000\n",
      "Review 78000 of 84000\n",
      "Review 79000 of 84000\n",
      "Review 80000 of 84000\n",
      "Review 81000 of 84000\n",
      "Review 82000 of 84000\n",
      "Review 83000 of 84000\n"
     ]
    }
   ],
   "source": [
    "trainDataVecs = getAvgFeatureVecs( clean_train_reviews, model, num_features )\n"
   ]
  },
  {
   "cell_type": "markdown",
   "metadata": {},
   "source": [
    "### Getting vectors for the testing purposes"
   ]
  },
  {
   "cell_type": "code",
   "execution_count": 124,
   "metadata": {},
   "outputs": [
    {
     "name": "stdout",
     "output_type": "stream",
     "text": [
      "Creating average feature vecs for test reviews\n",
      "Review 0 of 36000\n"
     ]
    },
    {
     "name": "stderr",
     "output_type": "stream",
     "text": [
      "C:\\Users\\Pralav\\Anaconda3\\lib\\site-packages\\ipykernel_launcher.py:13: DeprecationWarning: Call to deprecated `__getitem__` (Method will be removed in 4.0.0, use self.wv.__getitem__() instead).\n",
      "  del sys.path[0]\n"
     ]
    },
    {
     "name": "stdout",
     "output_type": "stream",
     "text": [
      "Review 1000 of 36000\n",
      "Review 2000 of 36000\n",
      "Review 3000 of 36000\n",
      "Review 4000 of 36000\n",
      "Review 5000 of 36000\n",
      "Review 6000 of 36000\n",
      "Review 7000 of 36000\n",
      "Review 8000 of 36000\n",
      "Review 9000 of 36000\n",
      "Review 10000 of 36000\n",
      "Review 11000 of 36000\n",
      "Review 12000 of 36000\n",
      "Review 13000 of 36000\n",
      "Review 14000 of 36000\n",
      "Review 15000 of 36000\n",
      "Review 16000 of 36000\n",
      "Review 17000 of 36000\n",
      "Review 18000 of 36000\n",
      "Review 19000 of 36000\n",
      "Review 20000 of 36000\n",
      "Review 21000 of 36000\n",
      "Review 22000 of 36000\n",
      "Review 23000 of 36000\n",
      "Review 24000 of 36000\n",
      "Review 25000 of 36000\n",
      "Review 26000 of 36000\n",
      "Review 27000 of 36000\n",
      "Review 28000 of 36000\n",
      "Review 29000 of 36000\n",
      "Review 30000 of 36000\n",
      "Review 31000 of 36000\n",
      "Review 32000 of 36000\n",
      "Review 33000 of 36000\n",
      "Review 34000 of 36000\n",
      "Review 35000 of 36000\n"
     ]
    }
   ],
   "source": [
    "print (\"Creating average feature vecs for test reviews\")\n",
    "clean_test_reviews = []\n",
    "for review in X_test:\n",
    "    clean_test_reviews.append( review_to_wordlist( review, \\\n",
    "        remove_stopwords=True ))\n",
    "\n",
    "testDataVecs = getAvgFeatureVecs( clean_test_reviews, model, num_features )"
   ]
  },
  {
   "cell_type": "markdown",
   "metadata": {},
   "source": [
    "### Using the training vectors and testing vector for our classifers"
   ]
  },
  {
   "cell_type": "code",
   "execution_count": 125,
   "metadata": {},
   "outputs": [
    {
     "name": "stdout",
     "output_type": "stream",
     "text": [
      "Fitting a random forest to labeled training data...\n"
     ]
    }
   ],
   "source": [
    "# Fit a random forest to the training data, using 100 trees\n",
    "from sklearn.ensemble import RandomForestClassifier\n",
    "forest = RandomForestClassifier( n_estimators = 100 )\n",
    "\n",
    "print (\"Fitting a random forest to labeled training data...\")\n",
    "forest = forest.fit(trainDataVecs, y_train )\n",
    "\n",
    "# Test & extract results \n",
    "result = forest.predict(testDataVecs )\n"
   ]
  },
  {
   "cell_type": "code",
   "execution_count": 126,
   "metadata": {
    "collapsed": true
   },
   "outputs": [],
   "source": [
    "from sklearn.metrics import classification_report, confusion_matrix, accuracy_score\n"
   ]
  },
  {
   "cell_type": "code",
   "execution_count": 127,
   "metadata": {},
   "outputs": [
    {
     "name": "stdout",
     "output_type": "stream",
     "text": [
      "0.8770833333333333\n"
     ]
    }
   ],
   "source": [
    "print(accuracy_score(y_test, result))"
   ]
  },
  {
   "cell_type": "markdown",
   "metadata": {},
   "source": [
    "### Logistic Regression"
   ]
  },
  {
   "cell_type": "code",
   "execution_count": 128,
   "metadata": {
    "collapsed": true
   },
   "outputs": [],
   "source": [
    "from sklearn.linear_model import LogisticRegression"
   ]
  },
  {
   "cell_type": "code",
   "execution_count": 129,
   "metadata": {
    "collapsed": true
   },
   "outputs": [],
   "source": [
    "lg = LogisticRegression().fit(trainDataVecs, y_train)"
   ]
  },
  {
   "cell_type": "code",
   "execution_count": 130,
   "metadata": {
    "collapsed": true
   },
   "outputs": [],
   "source": [
    "yhattt = lg.predict(testDataVecs)"
   ]
  },
  {
   "cell_type": "code",
   "execution_count": 131,
   "metadata": {},
   "outputs": [
    {
     "name": "stdout",
     "output_type": "stream",
     "text": [
      "0.44230555555555556\n"
     ]
    }
   ],
   "source": [
    "print(accuracy_score(y_test, yhattt))"
   ]
  },
  {
   "cell_type": "markdown",
   "metadata": {},
   "source": [
    "### Linear SVC"
   ]
  },
  {
   "cell_type": "code",
   "execution_count": 132,
   "metadata": {},
   "outputs": [
    {
     "name": "stdout",
     "output_type": "stream",
     "text": [
      "0.4365277777777778\n"
     ]
    }
   ],
   "source": [
    "from sklearn.svm import LinearSVC\n",
    "lsv = LinearSVC()\n",
    "lsv.fit(trainDataVecs, y_train)\n",
    "yh3 = lsv.predict(testDataVecs)\n",
    "print(accuracy_score(y_test, yh3))"
   ]
  },
  {
   "cell_type": "markdown",
   "metadata": {},
   "source": [
    "### The Random Forest outperforms all the classifiers.\n",
    "### Multinomial NB doesnot work in this case as the training and testing vector contains negative values which it cannot process"
   ]
  },
  {
   "cell_type": "markdown",
   "metadata": {},
   "source": [
    "### This model (word2vec) for protein classifications has many improvements to be done.\n",
    "* The number of n grams needs to be tuned for it. It might be that 4 or 3 grams may work well, because it might not captures the essence of the function. May be try longer ones\n",
    "\n",
    "* Train the whole DF, since  this only contains randomly selected 120000 rows\n",
    "\n",
    "* Literature review suggests, few research have tried word2vec to tackle protein classification. \n",
    "\n",
    "* Word2vec works really well with pretrained data. People used google pretrained words to make vectors which have similar and semantic realtionship. We dont have a pretrained dataset for proteins that captures functional relationship based on n grams that we have used.\n",
    "\n",
    "* This is very much numerically demanding process. Since it depends on the length of the proteins and after creating n grams, it just increases the number of features too much as compared to when analyzing sentiment or review analysis(which could be trained with pretrained data)\n",
    "\n",
    "* Nevertheless word2vec is a powerful tool to learn to tackle problems related to real world texts"
   ]
  }
 ],
 "metadata": {
  "kernelspec": {
   "display_name": "Python 3",
   "language": "python",
   "name": "python3"
  },
  "language_info": {
   "codemirror_mode": {
    "name": "ipython",
    "version": 3
   },
   "file_extension": ".py",
   "mimetype": "text/x-python",
   "name": "python",
   "nbconvert_exporter": "python",
   "pygments_lexer": "ipython3",
   "version": "3.7.1"
  }
 },
 "nbformat": 4,
 "nbformat_minor": 2
}
