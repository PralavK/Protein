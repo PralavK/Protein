{
 "cells": [
  {
   "cell_type": "code",
   "execution_count": 0,
   "metadata": {
    "colab": {},
    "colab_type": "code",
    "id": "5fi5WQwaaH3o"
   },
   "outputs": [],
   "source": [
    "import pandas as pd\n",
    "import numpy as np\n",
    "import matplotlib.pyplot as plt\n",
    "import seaborn as sns\n",
    "%matplotlib inline"
   ]
  },
  {
   "cell_type": "code",
   "execution_count": 0,
   "metadata": {
    "colab": {},
    "colab_type": "code",
    "id": "ooxeL5bIaSEB"
   },
   "outputs": [],
   "source": [
    "from google.colab import drive"
   ]
  },
  {
   "cell_type": "code",
   "execution_count": 3,
   "metadata": {
    "colab": {
     "base_uri": "https://localhost:8080/",
     "height": 122
    },
    "colab_type": "code",
    "id": "eZW1NUmraegI",
    "outputId": "79bc4105-e7aa-4e51-ed8c-1a4c8476457f"
   },
   "outputs": [
    {
     "name": "stdout",
     "output_type": "stream",
     "text": [
      "Go to this URL in a browser: https://accounts.google.com/o/oauth2/auth?client_id=947318989803-6bn6qk8qdgf4n4g3pfee6491hc0brc4i.apps.googleusercontent.com&redirect_uri=urn%3Aietf%3Awg%3Aoauth%3A2.0%3Aoob&scope=email%20https%3A%2F%2Fwww.googleapis.com%2Fauth%2Fdocs.test%20https%3A%2F%2Fwww.googleapis.com%2Fauth%2Fdrive%20https%3A%2F%2Fwww.googleapis.com%2Fauth%2Fdrive.photos.readonly%20https%3A%2F%2Fwww.googleapis.com%2Fauth%2Fpeopleapi.readonly&response_type=code\n",
      "\n",
      "Enter your authorization code:\n",
      "··········\n",
      "Mounted at /content/drive\n"
     ]
    }
   ],
   "source": [
    "drive.mount('/content/drive')"
   ]
  },
  {
   "cell_type": "code",
   "execution_count": 0,
   "metadata": {
    "colab": {},
    "colab_type": "code",
    "id": "1Kkeaco_bFei"
   },
   "outputs": [],
   "source": [
    "df_prot_fin = pd.read_csv('/content/drive/My Drive/Colab Notebooks/twenty_five.csv')"
   ]
  },
  {
   "cell_type": "code",
   "execution_count": 6,
   "metadata": {
    "colab": {
     "base_uri": "https://localhost:8080/",
     "height": 204
    },
    "colab_type": "code",
    "id": "qB4j_2qnbylm",
    "outputId": "f91db413-b908-4ef6-b883-2bce59dcf185"
   },
   "outputs": [
    {
     "data": {
      "text/html": [
       "<div>\n",
       "<style scoped>\n",
       "    .dataframe tbody tr th:only-of-type {\n",
       "        vertical-align: middle;\n",
       "    }\n",
       "\n",
       "    .dataframe tbody tr th {\n",
       "        vertical-align: top;\n",
       "    }\n",
       "\n",
       "    .dataframe thead th {\n",
       "        text-align: right;\n",
       "    }\n",
       "</style>\n",
       "<table border=\"1\" class=\"dataframe\">\n",
       "  <thead>\n",
       "    <tr style=\"text-align: right;\">\n",
       "      <th></th>\n",
       "      <th>Unnamed: 0</th>\n",
       "      <th>structureId</th>\n",
       "      <th>classification</th>\n",
       "      <th>sequence</th>\n",
       "      <th>chainId</th>\n",
       "      <th>seq_length</th>\n",
       "    </tr>\n",
       "  </thead>\n",
       "  <tbody>\n",
       "    <tr>\n",
       "      <th>0</th>\n",
       "      <td>67</td>\n",
       "      <td>117E</td>\n",
       "      <td>HYDROLASE</td>\n",
       "      <td>TYTTRQIGAKNTLEYKVYIEKDGKPVSAFHDIPLYADKENNIFNMV...</td>\n",
       "      <td>A</td>\n",
       "      <td>286</td>\n",
       "    </tr>\n",
       "    <tr>\n",
       "      <th>1</th>\n",
       "      <td>68</td>\n",
       "      <td>117E</td>\n",
       "      <td>HYDROLASE</td>\n",
       "      <td>TYTTRQIGAKNTLEYKVYIEKDGKPVSAFHDIPLYADKENNIFNMV...</td>\n",
       "      <td>B</td>\n",
       "      <td>286</td>\n",
       "    </tr>\n",
       "    <tr>\n",
       "      <th>2</th>\n",
       "      <td>74</td>\n",
       "      <td>11AS</td>\n",
       "      <td>LIGASE</td>\n",
       "      <td>MKTAYIAKQRQISFVKSHFSRQLEERLGLIEVQAPILSRVGDGTQD...</td>\n",
       "      <td>A</td>\n",
       "      <td>330</td>\n",
       "    </tr>\n",
       "    <tr>\n",
       "      <th>3</th>\n",
       "      <td>75</td>\n",
       "      <td>11AS</td>\n",
       "      <td>LIGASE</td>\n",
       "      <td>MKTAYIAKQRQISFVKSHFSRQLEERLGLIEVQAPILSRVGDGTQD...</td>\n",
       "      <td>B</td>\n",
       "      <td>330</td>\n",
       "    </tr>\n",
       "    <tr>\n",
       "      <th>4</th>\n",
       "      <td>76</td>\n",
       "      <td>11BA</td>\n",
       "      <td>HYDROLASE</td>\n",
       "      <td>KESAAAKFERQHMDSGNSPSSSSNYCNLMMCCRKMTQGKCKPVNTF...</td>\n",
       "      <td>A</td>\n",
       "      <td>124</td>\n",
       "    </tr>\n",
       "  </tbody>\n",
       "</table>\n",
       "</div>"
      ],
      "text/plain": [
       "   Unnamed: 0 structureId classification  \\\n",
       "0          67        117E      HYDROLASE   \n",
       "1          68        117E      HYDROLASE   \n",
       "2          74        11AS         LIGASE   \n",
       "3          75        11AS         LIGASE   \n",
       "4          76        11BA      HYDROLASE   \n",
       "\n",
       "                                            sequence chainId  seq_length  \n",
       "0  TYTTRQIGAKNTLEYKVYIEKDGKPVSAFHDIPLYADKENNIFNMV...       A         286  \n",
       "1  TYTTRQIGAKNTLEYKVYIEKDGKPVSAFHDIPLYADKENNIFNMV...       B         286  \n",
       "2  MKTAYIAKQRQISFVKSHFSRQLEERLGLIEVQAPILSRVGDGTQD...       A         330  \n",
       "3  MKTAYIAKQRQISFVKSHFSRQLEERLGLIEVQAPILSRVGDGTQD...       B         330  \n",
       "4  KESAAAKFERQHMDSGNSPSSSSNYCNLMMCCRKMTQGKCKPVNTF...       A         124  "
      ]
     },
     "execution_count": 6,
     "metadata": {
      "tags": []
     },
     "output_type": "execute_result"
    }
   ],
   "source": [
    "df_prot_fin.head()"
   ]
  },
  {
   "cell_type": "markdown",
   "metadata": {
    "colab_type": "text",
    "id": "JcQ_XlcqcCN-"
   },
   "source": [
    "### Keras Sequential"
   ]
  },
  {
   "cell_type": "markdown",
   "metadata": {
    "colab_type": "text",
    "id": "91KguJCnc7-h"
   },
   "source": [
    "### Using tfidf vectorization for the implementation of the model"
   ]
  },
  {
   "cell_type": "markdown",
   "metadata": {
    "colab_type": "text",
    "id": "UQvjHFadc79N"
   },
   "source": [
    "### Train-Test Split"
   ]
  },
  {
   "cell_type": "code",
   "execution_count": 0,
   "metadata": {
    "colab": {},
    "colab_type": "code",
    "id": "EDPo7lqqc75-"
   },
   "outputs": [],
   "source": [
    "from sklearn.model_selection import train_test_split"
   ]
  },
  {
   "cell_type": "code",
   "execution_count": 0,
   "metadata": {
    "colab": {},
    "colab_type": "code",
    "id": "l1MC0dptgr-n"
   },
   "outputs": [],
   "source": [
    "X_train, X_test,y_train,y_test = train_test_split(df_prot_fin['sequence'], df_prot_fin['classification'], test_size = 0.3, \n",
    "                                                  random_state = 101)"
   ]
  },
  {
   "cell_type": "code",
   "execution_count": 0,
   "metadata": {
    "colab": {},
    "colab_type": "code",
    "id": "n2ahreORgbBD"
   },
   "outputs": [],
   "source": [
    "from sklearn.feature_extraction.text import TfidfVectorizer"
   ]
  },
  {
   "cell_type": "code",
   "execution_count": 0,
   "metadata": {
    "colab": {},
    "colab_type": "code",
    "id": "CxlY-lwQgpUA"
   },
   "outputs": [],
   "source": [
    "tfidf_vectorizer = TfidfVectorizer(analyzer=\"char_wb\", ngram_range= (4,4))"
   ]
  },
  {
   "cell_type": "code",
   "execution_count": 11,
   "metadata": {
    "colab": {
     "base_uri": "https://localhost:8080/",
     "height": 136
    },
    "colab_type": "code",
    "id": "jWQL8u2MhCy8",
    "outputId": "e5de45e0-c7b7-4cb6-a9e8-a404ff129683"
   },
   "outputs": [
    {
     "data": {
      "text/plain": [
       "TfidfVectorizer(analyzer='char_wb', binary=False, decode_error='strict',\n",
       "        dtype=<class 'numpy.float64'>, encoding='utf-8', input='content',\n",
       "        lowercase=True, max_df=1.0, max_features=None, min_df=1,\n",
       "        ngram_range=(4, 4), norm='l2', preprocessor=None, smooth_idf=True,\n",
       "        stop_words=None, strip_accents=None, sublinear_tf=False,\n",
       "        token_pattern='(?u)\\\\b\\\\w\\\\w+\\\\b', tokenizer=None, use_idf=True,\n",
       "        vocabulary=None)"
      ]
     },
     "execution_count": 11,
     "metadata": {
      "tags": []
     },
     "output_type": "execute_result"
    }
   ],
   "source": [
    "tfidf_vectorizer.fit(X_train)"
   ]
  },
  {
   "cell_type": "code",
   "execution_count": 0,
   "metadata": {
    "colab": {},
    "colab_type": "code",
    "id": "GY3Jo7iehIIu"
   },
   "outputs": [],
   "source": [
    "vector = tfidf_vectorizer.transform(X_train)"
   ]
  },
  {
   "cell_type": "code",
   "execution_count": 0,
   "metadata": {
    "colab": {},
    "colab_type": "code",
    "id": "M3PY5V4EhvgY"
   },
   "outputs": [],
   "source": [
    "vector1 = tfidf_vectorizer.transform(X_test)"
   ]
  },
  {
   "cell_type": "code",
   "execution_count": 14,
   "metadata": {
    "colab": {
     "base_uri": "https://localhost:8080/",
     "height": 34
    },
    "colab_type": "code",
    "id": "jVKhyVQXizK8",
    "outputId": "a07d4bc9-863a-454d-a27c-b4fb9b871cf8"
   },
   "outputs": [
    {
     "name": "stdout",
     "output_type": "stream",
     "text": [
      "(145946, 170441)\n"
     ]
    }
   ],
   "source": [
    "print(vector.shape)"
   ]
  },
  {
   "cell_type": "code",
   "execution_count": 0,
   "metadata": {
    "colab": {},
    "colab_type": "code",
    "id": "VKvnXurXiDAk"
   },
   "outputs": [],
   "source": [
    "input_dim = (vector.shape[1])\n",
    "#print(vector1.shape)"
   ]
  },
  {
   "cell_type": "code",
   "execution_count": 16,
   "metadata": {
    "colab": {
     "base_uri": "https://localhost:8080/",
     "height": 119
    },
    "colab_type": "code",
    "id": "SUQQ6WFWc74l",
    "outputId": "d0c060a4-05d2-46f5-9755-833c18527d6f"
   },
   "outputs": [
    {
     "data": {
      "text/plain": [
       "207370                        HYDROLASE\n",
       "146864    HYDROLASE/HYDROLASE INHIBITOR\n",
       "78476                       TRANSFERASE\n",
       "80353                         HYDROLASE\n",
       "16159                 SIGNALING PROTEIN\n",
       "Name: classification, dtype: object"
      ]
     },
     "execution_count": 16,
     "metadata": {
      "tags": []
     },
     "output_type": "execute_result"
    }
   ],
   "source": [
    "y_train.head()"
   ]
  },
  {
   "cell_type": "markdown",
   "metadata": {
    "colab_type": "text",
    "id": "S6Mj4aYqc72u"
   },
   "source": [
    "### Since Keras takes only integers for the training, I am going to convert the y features into a one hot encoded label"
   ]
  },
  {
   "cell_type": "code",
   "execution_count": 17,
   "metadata": {
    "colab": {
     "base_uri": "https://localhost:8080/",
     "height": 34
    },
    "colab_type": "code",
    "id": "C_8C7uQnjHv3",
    "outputId": "37f37d4b-7584-4ec9-b405-c4eb50c4b5e2"
   },
   "outputs": [
    {
     "name": "stderr",
     "output_type": "stream",
     "text": [
      "Using TensorFlow backend.\n"
     ]
    }
   ],
   "source": [
    "from sklearn.preprocessing import LabelEncoder\n",
    "from keras.utils import np_utils"
   ]
  },
  {
   "cell_type": "markdown",
   "metadata": {
    "colab_type": "text",
    "id": "cDQqvQHwjYXo"
   },
   "source": [
    "## Encoding y_train and y_test"
   ]
  },
  {
   "cell_type": "code",
   "execution_count": 0,
   "metadata": {
    "colab": {},
    "colab_type": "code",
    "id": "HhxZCrCdc71a"
   },
   "outputs": [],
   "source": [
    "encoder = LabelEncoder()\n",
    "\n",
    "encoder.fit(y_train)\n",
    "encoded_y = encoder.transform(y_train)\n",
    "\n",
    "dummy_ytrain = np_utils.to_categorical(encoded_y)"
   ]
  },
  {
   "cell_type": "code",
   "execution_count": 0,
   "metadata": {
    "colab": {},
    "colab_type": "code",
    "id": "IygPKUwaj7P0"
   },
   "outputs": [],
   "source": [
    "encoder1 = LabelEncoder()\n",
    "\n",
    "encoder1.fit(y_test)\n",
    "encoded_y1 = encoder1.transform(y_test)\n",
    "\n",
    "dummy_ytest = np_utils.to_categorical(encoded_y1)"
   ]
  },
  {
   "cell_type": "code",
   "execution_count": 20,
   "metadata": {
    "colab": {
     "base_uri": "https://localhost:8080/",
     "height": 102
    },
    "colab_type": "code",
    "id": "1RZnKxqBc70X",
    "outputId": "648eb0d6-1c0a-4a38-ad55-ec8b8ca85bff"
   },
   "outputs": [
    {
     "data": {
      "text/plain": [
       "array([[1., 0., 0., 0., 0., 0., 0., 0., 0., 0., 0., 0., 0., 0., 0.],\n",
       "       [0., 1., 0., 0., 0., 0., 0., 0., 0., 0., 0., 0., 0., 0., 0.],\n",
       "       [0., 0., 0., 0., 0., 0., 0., 0., 0., 0., 0., 1., 0., 0., 0.],\n",
       "       [1., 0., 0., 0., 0., 0., 0., 0., 0., 0., 0., 0., 0., 0., 0.]],\n",
       "      dtype=float32)"
      ]
     },
     "execution_count": 20,
     "metadata": {
      "tags": []
     },
     "output_type": "execute_result"
    }
   ],
   "source": [
    "dummy_ytrain[0:4]"
   ]
  },
  {
   "cell_type": "markdown",
   "metadata": {
    "colab_type": "text",
    "id": "QlU0XL1mc7yo"
   },
   "source": [
    "### Building a sequential model from kera with a dense layer"
   ]
  },
  {
   "cell_type": "code",
   "execution_count": 0,
   "metadata": {
    "colab": {},
    "colab_type": "code",
    "id": "FIgUFM1clD6d"
   },
   "outputs": [],
   "source": [
    "from keras.models import Sequential\n",
    "from keras.layers import Dense"
   ]
  },
  {
   "cell_type": "code",
   "execution_count": 22,
   "metadata": {
    "colab": {
     "base_uri": "https://localhost:8080/",
     "height": 88
    },
    "colab_type": "code",
    "id": "Ir_DepbolT9u",
    "outputId": "d90c254c-fdb0-4511-984c-2e16dc158a42"
   },
   "outputs": [
    {
     "name": "stdout",
     "output_type": "stream",
     "text": [
      "WARNING:tensorflow:From /usr/local/lib/python3.6/dist-packages/tensorflow/python/framework/op_def_library.py:263: colocate_with (from tensorflow.python.framework.ops) is deprecated and will be removed in a future version.\n",
      "Instructions for updating:\n",
      "Colocations handled automatically by placer.\n"
     ]
    }
   ],
   "source": [
    "model = Sequential()\n",
    "model.add(Dense(units = 128, activation = \"relu\", input_dim=input_dim)) # the numbers of features as the input_dim\n",
    "\n",
    "model.add(Dense(units= 15, activation = \"softmax\"))\n",
    "          "
   ]
  },
  {
   "cell_type": "markdown",
   "metadata": {
    "colab_type": "text",
    "id": "CMs0fes2dWzL"
   },
   "source": [
    "### Since there are more than 2 classes, I hve chosen softmax as the final ouput layer. "
   ]
  },
  {
   "cell_type": "code",
   "execution_count": 23,
   "metadata": {
    "colab": {
     "base_uri": "https://localhost:8080/",
     "height": 204
    },
    "colab_type": "code",
    "id": "Q031XubNc7q8",
    "outputId": "64ddb6e0-af9b-43e1-b630-43a0a9bfd415"
   },
   "outputs": [
    {
     "name": "stdout",
     "output_type": "stream",
     "text": [
      "_________________________________________________________________\n",
      "Layer (type)                 Output Shape              Param #   \n",
      "=================================================================\n",
      "dense_1 (Dense)              (None, 128)               21816576  \n",
      "_________________________________________________________________\n",
      "dense_2 (Dense)              (None, 15)                1935      \n",
      "=================================================================\n",
      "Total params: 21,818,511\n",
      "Trainable params: 21,818,511\n",
      "Non-trainable params: 0\n",
      "_________________________________________________________________\n"
     ]
    }
   ],
   "source": [
    "model.compile(loss='categorical_crossentropy', optimizer='adam', metrics=['accuracy'])\n",
    "model.summary()"
   ]
  },
  {
   "cell_type": "markdown",
   "metadata": {
    "colab_type": "text",
    "id": "oUHH02-7dpGN"
   },
   "source": [
    "### I have chosen a validation set from the training data and compare the accuracy with the accuracy of the training data. The model seems to have a high accuracy for the training sets of data as compared to validation sets, which generally implies that the model is overfitting and is not performing well with the unseen data"
   ]
  },
  {
   "cell_type": "code",
   "execution_count": 24,
   "metadata": {
    "colab": {
     "base_uri": "https://localhost:8080/",
     "height": 275
    },
    "colab_type": "code",
    "id": "oAxbizMSBx5o",
    "outputId": "d7ec4bd6-c128-429e-8da5-28bdec888690"
   },
   "outputs": [
    {
     "name": "stdout",
     "output_type": "stream",
     "text": [
      "WARNING:tensorflow:From /usr/local/lib/python3.6/dist-packages/tensorflow/python/ops/math_ops.py:3066: to_int32 (from tensorflow.python.ops.math_ops) is deprecated and will be removed in a future version.\n",
      "Instructions for updating:\n",
      "Use tf.cast instead.\n",
      "Train on 97783 samples, validate on 48163 samples\n",
      "Epoch 1/5\n",
      "97783/97783 [==============================] - 164s 2ms/step - loss: 0.8181 - acc: 0.7804 - val_loss: 0.3814 - val_acc: 0.8888\n",
      "Epoch 2/5\n",
      "97783/97783 [==============================] - 161s 2ms/step - loss: 0.2165 - acc: 0.9343 - val_loss: 0.3395 - val_acc: 0.8935\n",
      "Epoch 3/5\n",
      "97783/97783 [==============================] - 160s 2ms/step - loss: 0.1671 - acc: 0.9433 - val_loss: 0.3377 - val_acc: 0.8964\n",
      "Epoch 4/5\n",
      "97783/97783 [==============================] - 160s 2ms/step - loss: 0.1514 - acc: 0.9470 - val_loss: 0.3342 - val_acc: 0.8981\n",
      "Epoch 5/5\n",
      "97783/97783 [==============================] - 160s 2ms/step - loss: 0.1411 - acc: 0.9496 - val_loss: 0.3331 - val_acc: 0.8988\n"
     ]
    }
   ],
   "source": [
    "history = model.fit(vector, dummy_ytrain,\n",
    "epochs=5,\n",
    "verbose=1,\n",
    "validation_split=0.33,\n",
    "batch_size=128)"
   ]
  },
  {
   "cell_type": "code",
   "execution_count": 0,
   "metadata": {
    "colab": {},
    "colab_type": "code",
    "id": "DPF3dlyJIN5U"
   },
   "outputs": [],
   "source": [
    "from sklearn.metrics import accuracy_score"
   ]
  },
  {
   "cell_type": "markdown",
   "metadata": {
    "colab_type": "text",
    "id": "-ZPcA1hFeEL7"
   },
   "source": [
    "**Evaluating the accuracy  for the test vectorized data and we can see that the accuracy has increased as compared to validation data but reamins low as compared to training data. This implies overfitting, even though the accuracy is on the higher side**"
   ]
  },
  {
   "cell_type": "code",
   "execution_count": 31,
   "metadata": {
    "colab": {
     "base_uri": "https://localhost:8080/",
     "height": 34
    },
    "colab_type": "code",
    "id": "G-CmL-jWBxzM",
    "outputId": "39228df3-da24-4bb2-be5f-9feb7b0c80bc"
   },
   "outputs": [
    {
     "name": "stdout",
     "output_type": "stream",
     "text": [
      "62549/62549 [==============================] - 62s 996us/step\n"
     ]
    }
   ],
   "source": [
    "scores = model.evaluate(vector1, dummy_ytest, verbose=1)"
   ]
  },
  {
   "cell_type": "code",
   "execution_count": 32,
   "metadata": {
    "colab": {
     "base_uri": "https://localhost:8080/",
     "height": 34
    },
    "colab_type": "code",
    "id": "Xs2jc5NRBxxz",
    "outputId": "900b6675-29ed-415e-f5a4-7cef3fd075c6"
   },
   "outputs": [
    {
     "name": "stdout",
     "output_type": "stream",
     "text": [
      "[0.334197763473119, 0.900014388720197]\n"
     ]
    }
   ],
   "source": [
    "print(scores)"
   ]
  },
  {
   "cell_type": "markdown",
   "metadata": {
    "colab_type": "text",
    "id": "zu413imWeiYg"
   },
   "source": [
    "### I am going to set up the test dataset as a validation data and run the model again. Doing so, the accuacy has increased but the still remains a lower than the training dataset, which again implies overfitting"
   ]
  },
  {
   "cell_type": "code",
   "execution_count": 35,
   "metadata": {
    "colab": {
     "base_uri": "https://localhost:8080/",
     "height": 204
    },
    "colab_type": "code",
    "id": "s-qOu_N5BxuV",
    "outputId": "c3456fdd-712d-4a18-d487-8779e3d8ccd3"
   },
   "outputs": [
    {
     "name": "stdout",
     "output_type": "stream",
     "text": [
      "Train on 145946 samples, validate on 62549 samples\n",
      "Epoch 1/5\n",
      "145946/145946 [==============================] - 228s 2ms/step - loss: 0.1857 - acc: 0.9380 - val_loss: 0.2621 - val_acc: 0.9179\n",
      "Epoch 2/5\n",
      "145946/145946 [==============================] - 227s 2ms/step - loss: 0.1343 - acc: 0.9512 - val_loss: 0.2660 - val_acc: 0.9186\n",
      "Epoch 3/5\n",
      "145946/145946 [==============================] - 227s 2ms/step - loss: 0.1283 - acc: 0.9527 - val_loss: 0.2648 - val_acc: 0.9184\n",
      "Epoch 4/5\n",
      "145946/145946 [==============================] - 227s 2ms/step - loss: 0.1217 - acc: 0.9546 - val_loss: 0.2659 - val_acc: 0.9198\n",
      "Epoch 5/5\n",
      "145946/145946 [==============================] - 229s 2ms/step - loss: 0.1178 - acc: 0.9554 - val_loss: 0.2589 - val_acc: 0.9207\n"
     ]
    }
   ],
   "source": [
    "history = model.fit(vector, dummy_ytrain,\n",
    "\n",
    "epochs=5,\n",
    "verbose=1,\n",
    "validation_data=(vector1, dummy_ytest),\n",
    "batch_size=128)"
   ]
  },
  {
   "cell_type": "markdown",
   "metadata": {
    "colab_type": "text",
    "id": "YvFL2sogBxsy"
   },
   "source": [
    "### This model can be improved \n",
    "\n",
    "* Thisngs to consuder in the future may be when tfidf vectorization is carried out, introduce some restriction on the number of sequence\n",
    "\n",
    "* The number of layers can be tested with more than one, \n",
    "\n",
    "* The number of neurons in the hidden layer needs to be optimized. There doesnot seem to be a solid answer for how many neurons should be there. I have tried 100, 200, 500, all seems to yield more or near th same number\n",
    "\n",
    "May be used some regulariation should be done, such as using drop out method."
   ]
  },
  {
   "cell_type": "code",
   "execution_count": 0,
   "metadata": {
    "colab": {},
    "colab_type": "code",
    "id": "5zOUkBWLBxoz"
   },
   "outputs": [],
   "source": []
  },
  {
   "cell_type": "code",
   "execution_count": 0,
   "metadata": {
    "colab": {},
    "colab_type": "code",
    "id": "h4EdE4trBxnV"
   },
   "outputs": [],
   "source": []
  },
  {
   "cell_type": "code",
   "execution_count": 0,
   "metadata": {
    "colab": {},
    "colab_type": "code",
    "id": "30Ijr3bdBxjH"
   },
   "outputs": [],
   "source": []
  },
  {
   "cell_type": "code",
   "execution_count": 0,
   "metadata": {
    "colab": {},
    "colab_type": "code",
    "id": "rES_WqVnBxh8"
   },
   "outputs": [],
   "source": []
  }
 ],
 "metadata": {
  "accelerator": "GPU",
  "colab": {
   "collapsed_sections": [],
   "name": "Keras.ipynb",
   "provenance": [],
   "version": "0.3.2"
  },
  "kernelspec": {
   "display_name": "Python 3",
   "language": "python",
   "name": "python3"
  },
  "language_info": {
   "codemirror_mode": {
    "name": "ipython",
    "version": 3
   },
   "file_extension": ".py",
   "mimetype": "text/x-python",
   "name": "python",
   "nbconvert_exporter": "python",
   "pygments_lexer": "ipython3",
   "version": "3.7.1"
  }
 },
 "nbformat": 4,
 "nbformat_minor": 1
}
