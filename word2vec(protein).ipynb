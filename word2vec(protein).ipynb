{
  "nbformat": 4,
  "nbformat_minor": 0,
  "metadata": {
    "colab": {
      "name": "word2vec(protein).ipynb",
      "version": "0.3.2",
      "provenance": [],
      "toc_visible": true
    },
    "kernelspec": {
      "name": "python3",
      "display_name": "Python 3"
    },
    "accelerator": "GPU"
  },
  "cells": [
    {
      "metadata": {
        "id": "aqFgt1kMi5Il",
        "colab_type": "code",
        "colab": {}
      },
      "cell_type": "code",
      "source": [
        "import pandas as pd\n",
        "import numpy as np\n",
        "import matplotlib.pyplot as plt\n",
        "import seaborn as sns\n"
      ],
      "execution_count": 0,
      "outputs": []
    },
    {
      "metadata": {
        "id": "whHeQTzdi5Ix",
        "colab_type": "code",
        "colab": {}
      },
      "cell_type": "code",
      "source": [
        "%matplotlib inline"
      ],
      "execution_count": 0,
      "outputs": []
    },
    {
      "metadata": {
        "id": "LW-l_L0v6Hoy",
        "colab_type": "code",
        "colab": {
          "resources": {
            "http://localhost:8080/nbextensions/google.colab/files.js": {
              "data": "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",
              "ok": true,
              "headers": [
                [
                  "content-type",
                  "application/javascript"
                ]
              ],
              "status": 200,
              "status_text": ""
            }
          },
          "base_uri": "https://localhost:8080/",
          "height": 74
        },
        "outputId": "1cd31707-5a71-4ae5-c5ab-5b0908d97026"
      },
      "cell_type": "code",
      "source": [
        "from google.colab import files\n",
        "uploaded = files.upload()"
      ],
      "execution_count": 4,
      "outputs": [
        {
          "output_type": "display_data",
          "data": {
            "text/html": [
              "\n",
              "     <input type=\"file\" id=\"files-0bee0b76-a237-4d88-af02-bb768c8be09c\" name=\"files[]\" multiple disabled />\n",
              "     <output id=\"result-0bee0b76-a237-4d88-af02-bb768c8be09c\">\n",
              "      Upload widget is only available when the cell has been executed in the\n",
              "      current browser session. Please rerun this cell to enable.\n",
              "      </output>\n",
              "      <script src=\"/nbextensions/google.colab/files.js\"></script> "
            ],
            "text/plain": [
              "<IPython.core.display.HTML object>"
            ]
          },
          "metadata": {
            "tags": []
          }
        },
        {
          "output_type": "stream",
          "text": [
            "Saving pdb_data_no_dups.csv to pdb_data_no_dups.csv\n"
          ],
          "name": "stdout"
        }
      ]
    },
    {
      "metadata": {
        "id": "qKTOD9il8OYU",
        "colab_type": "code",
        "colab": {
          "resources": {
            "http://localhost:8080/nbextensions/google.colab/files.js": {
              "data": "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",
              "ok": true,
              "headers": [
                [
                  "content-type",
                  "application/javascript"
                ]
              ],
              "status": 200,
              "status_text": ""
            }
          },
          "base_uri": "https://localhost:8080/",
          "height": 74
        },
        "outputId": "8d4482a4-1a92-4c1d-bfd9-90fdffd32762"
      },
      "cell_type": "code",
      "source": [
        "from google.colab import files\n",
        "uploaded = files.upload()"
      ],
      "execution_count": 5,
      "outputs": [
        {
          "output_type": "display_data",
          "data": {
            "text/html": [
              "\n",
              "     <input type=\"file\" id=\"files-e1d11eb7-093e-4aa1-b7b6-791f96e4d20a\" name=\"files[]\" multiple disabled />\n",
              "     <output id=\"result-e1d11eb7-093e-4aa1-b7b6-791f96e4d20a\">\n",
              "      Upload widget is only available when the cell has been executed in the\n",
              "      current browser session. Please rerun this cell to enable.\n",
              "      </output>\n",
              "      <script src=\"/nbextensions/google.colab/files.js\"></script> "
            ],
            "text/plain": [
              "<IPython.core.display.HTML object>"
            ]
          },
          "metadata": {
            "tags": []
          }
        },
        {
          "output_type": "stream",
          "text": [
            "Saving pdb_data_seq.csv to pdb_data_seq.csv\n"
          ],
          "name": "stdout"
        }
      ]
    },
    {
      "metadata": {
        "id": "BX2eUhVUi5I6",
        "colab_type": "code",
        "colab": {}
      },
      "cell_type": "code",
      "source": [
        "df1 = pd.read_csv(\"pdb_data_no_dups.csv\")"
      ],
      "execution_count": 0,
      "outputs": []
    },
    {
      "metadata": {
        "id": "Lml6p8HMi5Kf",
        "colab_type": "code",
        "colab": {}
      },
      "cell_type": "code",
      "source": [
        "df2 = pd.read_csv(\"pdb_data_seq.csv\")"
      ],
      "execution_count": 0,
      "outputs": []
    },
    {
      "metadata": {
        "id": "MurKJOLQlcXi",
        "colab_type": "text"
      },
      "cell_type": "markdown",
      "source": [
        "**Merging two DF to  final one.**"
      ]
    },
    {
      "metadata": {
        "id": "8fSicAAPi5L8",
        "colab_type": "code",
        "colab": {}
      },
      "cell_type": "code",
      "source": [
        "df = df1.merge(df2, on = \"structureId\", how=\"inner\")"
      ],
      "execution_count": 0,
      "outputs": []
    },
    {
      "metadata": {
        "id": "BggrBX3wi5MP",
        "colab_type": "code",
        "colab": {
          "base_uri": "https://localhost:8080/",
          "height": 34
        },
        "outputId": "a0e0aeba-e2f4-4e6a-afc5-222cc0dae86e"
      },
      "cell_type": "code",
      "source": [
        "df.classification.isnull().sum()"
      ],
      "execution_count": 9,
      "outputs": [
        {
          "output_type": "execute_result",
          "data": {
            "text/plain": [
              "4"
            ]
          },
          "metadata": {
            "tags": []
          },
          "execution_count": 9
        }
      ]
    },
    {
      "metadata": {
        "id": "jTsBJ5h2i5Nw",
        "colab_type": "code",
        "colab": {
          "base_uri": "https://localhost:8080/",
          "height": 513
        },
        "outputId": "57f9db0d-33d1-4cde-c797-cd8545750b7a"
      },
      "cell_type": "code",
      "source": [
        "df[df[\"macromoleculeType_x\"] == \"Protein\"].head()"
      ],
      "execution_count": 10,
      "outputs": [
        {
          "output_type": "execute_result",
          "data": {
            "text/html": [
              "<div>\n",
              "<style scoped>\n",
              "    .dataframe tbody tr th:only-of-type {\n",
              "        vertical-align: middle;\n",
              "    }\n",
              "\n",
              "    .dataframe tbody tr th {\n",
              "        vertical-align: top;\n",
              "    }\n",
              "\n",
              "    .dataframe thead th {\n",
              "        text-align: right;\n",
              "    }\n",
              "</style>\n",
              "<table border=\"1\" class=\"dataframe\">\n",
              "  <thead>\n",
              "    <tr style=\"text-align: right;\">\n",
              "      <th></th>\n",
              "      <th>structureId</th>\n",
              "      <th>classification</th>\n",
              "      <th>experimentalTechnique</th>\n",
              "      <th>macromoleculeType_x</th>\n",
              "      <th>residueCount_x</th>\n",
              "      <th>resolution</th>\n",
              "      <th>structureMolecularWeight</th>\n",
              "      <th>crystallizationMethod</th>\n",
              "      <th>crystallizationTempK</th>\n",
              "      <th>densityMatthews</th>\n",
              "      <th>densityPercentSol</th>\n",
              "      <th>pdbxDetails</th>\n",
              "      <th>phValue</th>\n",
              "      <th>publicationYear</th>\n",
              "      <th>chainId</th>\n",
              "      <th>sequence</th>\n",
              "      <th>residueCount_y</th>\n",
              "      <th>macromoleculeType_y</th>\n",
              "    </tr>\n",
              "  </thead>\n",
              "  <tbody>\n",
              "    <tr>\n",
              "      <th>4</th>\n",
              "      <td>101M</td>\n",
              "      <td>OXYGEN TRANSPORT</td>\n",
              "      <td>X-RAY DIFFRACTION</td>\n",
              "      <td>Protein</td>\n",
              "      <td>154</td>\n",
              "      <td>2.07</td>\n",
              "      <td>18112.80</td>\n",
              "      <td>NaN</td>\n",
              "      <td>NaN</td>\n",
              "      <td>3.09</td>\n",
              "      <td>60.20</td>\n",
              "      <td>3.0 M AMMONIUM SULFATE, 20 MM TRIS, 1MM EDTA, ...</td>\n",
              "      <td>9.0</td>\n",
              "      <td>1999.0</td>\n",
              "      <td>A</td>\n",
              "      <td>MVLSEGEWQLVLHVWAKVEADVAGHGQDILIRLFKSHPETLEKFDR...</td>\n",
              "      <td>154</td>\n",
              "      <td>Protein</td>\n",
              "    </tr>\n",
              "    <tr>\n",
              "      <th>7</th>\n",
              "      <td>102L</td>\n",
              "      <td>HYDROLASE(O-GLYCOSYL)</td>\n",
              "      <td>X-RAY DIFFRACTION</td>\n",
              "      <td>Protein</td>\n",
              "      <td>165</td>\n",
              "      <td>1.74</td>\n",
              "      <td>18926.61</td>\n",
              "      <td>NaN</td>\n",
              "      <td>NaN</td>\n",
              "      <td>2.75</td>\n",
              "      <td>55.28</td>\n",
              "      <td>NaN</td>\n",
              "      <td>NaN</td>\n",
              "      <td>1993.0</td>\n",
              "      <td>A</td>\n",
              "      <td>MNIFEMLRIDEGLRLKIYKDTEGYYTIGIGHLLTKSPSLNAAAKSE...</td>\n",
              "      <td>165</td>\n",
              "      <td>Protein</td>\n",
              "    </tr>\n",
              "    <tr>\n",
              "      <th>8</th>\n",
              "      <td>102M</td>\n",
              "      <td>OXYGEN TRANSPORT</td>\n",
              "      <td>X-RAY DIFFRACTION</td>\n",
              "      <td>Protein</td>\n",
              "      <td>154</td>\n",
              "      <td>1.84</td>\n",
              "      <td>18010.64</td>\n",
              "      <td>NaN</td>\n",
              "      <td>NaN</td>\n",
              "      <td>3.09</td>\n",
              "      <td>60.20</td>\n",
              "      <td>3.0 M AMMONIUM SULFATE, 20 MM TRIS, 1MM EDTA, ...</td>\n",
              "      <td>9.0</td>\n",
              "      <td>1999.0</td>\n",
              "      <td>A</td>\n",
              "      <td>MVLSEGEWQLVLHVWAKVEADVAGHGQDILIRLFKSHPETLEKFDR...</td>\n",
              "      <td>154</td>\n",
              "      <td>Protein</td>\n",
              "    </tr>\n",
              "    <tr>\n",
              "      <th>11</th>\n",
              "      <td>103L</td>\n",
              "      <td>HYDROLASE(O-GLYCOSYL)</td>\n",
              "      <td>X-RAY DIFFRACTION</td>\n",
              "      <td>Protein</td>\n",
              "      <td>167</td>\n",
              "      <td>1.90</td>\n",
              "      <td>19092.72</td>\n",
              "      <td>NaN</td>\n",
              "      <td>NaN</td>\n",
              "      <td>2.70</td>\n",
              "      <td>54.46</td>\n",
              "      <td>NaN</td>\n",
              "      <td>NaN</td>\n",
              "      <td>1993.0</td>\n",
              "      <td>A</td>\n",
              "      <td>MNIFEMLRIDEGLRLKIYKDTEGYYTIGIGHLLTKSPSLNSLDAAK...</td>\n",
              "      <td>167</td>\n",
              "      <td>Protein</td>\n",
              "    </tr>\n",
              "    <tr>\n",
              "      <th>12</th>\n",
              "      <td>103M</td>\n",
              "      <td>OXYGEN TRANSPORT</td>\n",
              "      <td>X-RAY DIFFRACTION</td>\n",
              "      <td>Protein</td>\n",
              "      <td>154</td>\n",
              "      <td>2.07</td>\n",
              "      <td>18093.78</td>\n",
              "      <td>NaN</td>\n",
              "      <td>NaN</td>\n",
              "      <td>3.09</td>\n",
              "      <td>60.30</td>\n",
              "      <td>3.0 M AMMONIUM SULFATE, 20 MM TRIS, 1MM EDTA, ...</td>\n",
              "      <td>9.0</td>\n",
              "      <td>1999.0</td>\n",
              "      <td>A</td>\n",
              "      <td>MVLSEGEWQLVLHVWAKVEADVAGHGQDILIRLFKSHPETLEKFDR...</td>\n",
              "      <td>154</td>\n",
              "      <td>Protein</td>\n",
              "    </tr>\n",
              "  </tbody>\n",
              "</table>\n",
              "</div>"
            ],
            "text/plain": [
              "   structureId         classification experimentalTechnique  \\\n",
              "4         101M       OXYGEN TRANSPORT     X-RAY DIFFRACTION   \n",
              "7         102L  HYDROLASE(O-GLYCOSYL)     X-RAY DIFFRACTION   \n",
              "8         102M       OXYGEN TRANSPORT     X-RAY DIFFRACTION   \n",
              "11        103L  HYDROLASE(O-GLYCOSYL)     X-RAY DIFFRACTION   \n",
              "12        103M       OXYGEN TRANSPORT     X-RAY DIFFRACTION   \n",
              "\n",
              "   macromoleculeType_x  residueCount_x  resolution  structureMolecularWeight  \\\n",
              "4              Protein             154        2.07                  18112.80   \n",
              "7              Protein             165        1.74                  18926.61   \n",
              "8              Protein             154        1.84                  18010.64   \n",
              "11             Protein             167        1.90                  19092.72   \n",
              "12             Protein             154        2.07                  18093.78   \n",
              "\n",
              "   crystallizationMethod  crystallizationTempK  densityMatthews  \\\n",
              "4                    NaN                   NaN             3.09   \n",
              "7                    NaN                   NaN             2.75   \n",
              "8                    NaN                   NaN             3.09   \n",
              "11                   NaN                   NaN             2.70   \n",
              "12                   NaN                   NaN             3.09   \n",
              "\n",
              "    densityPercentSol                                        pdbxDetails  \\\n",
              "4               60.20  3.0 M AMMONIUM SULFATE, 20 MM TRIS, 1MM EDTA, ...   \n",
              "7               55.28                                                NaN   \n",
              "8               60.20  3.0 M AMMONIUM SULFATE, 20 MM TRIS, 1MM EDTA, ...   \n",
              "11              54.46                                                NaN   \n",
              "12              60.30  3.0 M AMMONIUM SULFATE, 20 MM TRIS, 1MM EDTA, ...   \n",
              "\n",
              "    phValue  publicationYear chainId  \\\n",
              "4       9.0           1999.0       A   \n",
              "7       NaN           1993.0       A   \n",
              "8       9.0           1999.0       A   \n",
              "11      NaN           1993.0       A   \n",
              "12      9.0           1999.0       A   \n",
              "\n",
              "                                             sequence  residueCount_y  \\\n",
              "4   MVLSEGEWQLVLHVWAKVEADVAGHGQDILIRLFKSHPETLEKFDR...             154   \n",
              "7   MNIFEMLRIDEGLRLKIYKDTEGYYTIGIGHLLTKSPSLNAAAKSE...             165   \n",
              "8   MVLSEGEWQLVLHVWAKVEADVAGHGQDILIRLFKSHPETLEKFDR...             154   \n",
              "11  MNIFEMLRIDEGLRLKIYKDTEGYYTIGIGHLLTKSPSLNSLDAAK...             167   \n",
              "12  MVLSEGEWQLVLHVWAKVEADVAGHGQDILIRLFKSHPETLEKFDR...             154   \n",
              "\n",
              "   macromoleculeType_y  \n",
              "4              Protein  \n",
              "7              Protein  \n",
              "8              Protein  \n",
              "11             Protein  \n",
              "12             Protein  "
            ]
          },
          "metadata": {
            "tags": []
          },
          "execution_count": 10
        }
      ]
    },
    {
      "metadata": {
        "id": "Ul0OmZQri5N0",
        "colab_type": "code",
        "colab": {}
      },
      "cell_type": "code",
      "source": [
        "df.classification.isnull().sum()"
      ],
      "execution_count": 0,
      "outputs": []
    },
    {
      "metadata": {
        "id": "lMw5ejtGi5N7",
        "colab_type": "code",
        "colab": {}
      },
      "cell_type": "code",
      "source": [
        "df = df[pd.notnull(df[\"classification\"])]"
      ],
      "execution_count": 0,
      "outputs": []
    },
    {
      "metadata": {
        "id": "Rfxx9qlnFi1r",
        "colab_type": "code",
        "colab": {}
      },
      "cell_type": "code",
      "source": [
        "df = df[pd.notnull(df[\"sequence\"])]"
      ],
      "execution_count": 0,
      "outputs": []
    },
    {
      "metadata": {
        "id": "HHY4ywnoi5OA",
        "colab_type": "code",
        "colab": {}
      },
      "cell_type": "code",
      "source": [
        "df.head()"
      ],
      "execution_count": 0,
      "outputs": []
    },
    {
      "metadata": {
        "id": "ByiDzyt0i5OM",
        "colab_type": "code",
        "colab": {}
      },
      "cell_type": "code",
      "source": [
        "df_fin = df[df.macromoleculeType_x == 'Protein']"
      ],
      "execution_count": 0,
      "outputs": []
    },
    {
      "metadata": {
        "id": "MJvuWqpqi5OV",
        "colab_type": "code",
        "colab": {}
      },
      "cell_type": "code",
      "source": [
        "df_fin.columns"
      ],
      "execution_count": 0,
      "outputs": []
    },
    {
      "metadata": {
        "id": "nS8VVkaxi5Oh",
        "colab_type": "code",
        "colab": {}
      },
      "cell_type": "code",
      "source": [
        "df_fin.shape"
      ],
      "execution_count": 0,
      "outputs": []
    },
    {
      "metadata": {
        "id": "qCdboxu6i5Oo",
        "colab_type": "code",
        "colab": {}
      },
      "cell_type": "code",
      "source": [
        "df_fin = df_fin[['structureId', 'classification', 'sequence']]"
      ],
      "execution_count": 0,
      "outputs": []
    },
    {
      "metadata": {
        "id": "jY2Nt90Ui5PP",
        "colab_type": "code",
        "colab": {}
      },
      "cell_type": "code",
      "source": [
        "df_fin.shape"
      ],
      "execution_count": 0,
      "outputs": []
    },
    {
      "metadata": {
        "id": "oYP_H9wNi5PS",
        "colab_type": "code",
        "colab": {
          "base_uri": "https://localhost:8080/",
          "height": 2261
        },
        "outputId": "d32597cd-474e-421c-e2e0-94f917c22779"
      },
      "cell_type": "code",
      "source": [
        "df_fin.loc[df_fin['sequence'].str.contains('(^XXXX)+')]"
      ],
      "execution_count": 15,
      "outputs": [
        {
          "output_type": "stream",
          "text": [
            "/usr/local/lib/python3.6/dist-packages/ipykernel_launcher.py:1: UserWarning: This pattern has match groups. To actually get the groups, use str.extract.\n",
            "  \"\"\"Entry point for launching an IPython kernel.\n"
          ],
          "name": "stderr"
        },
        {
          "output_type": "execute_result",
          "data": {
            "text/html": [
              "<div>\n",
              "<style scoped>\n",
              "    .dataframe tbody tr th:only-of-type {\n",
              "        vertical-align: middle;\n",
              "    }\n",
              "\n",
              "    .dataframe tbody tr th {\n",
              "        vertical-align: top;\n",
              "    }\n",
              "\n",
              "    .dataframe thead th {\n",
              "        text-align: right;\n",
              "    }\n",
              "</style>\n",
              "<table border=\"1\" class=\"dataframe\">\n",
              "  <thead>\n",
              "    <tr style=\"text-align: right;\">\n",
              "      <th></th>\n",
              "      <th>structureId</th>\n",
              "      <th>classification</th>\n",
              "      <th>sequence</th>\n",
              "    </tr>\n",
              "  </thead>\n",
              "  <tbody>\n",
              "    <tr>\n",
              "      <th>2321</th>\n",
              "      <td>1ATI</td>\n",
              "      <td>PROTEIN BIOSYNTHESIS</td>\n",
              "      <td>XXXXXXXXXXXXXXXXXXXXXXXXXXXXXXXXXXXXX</td>\n",
              "    </tr>\n",
              "    <tr>\n",
              "      <th>2322</th>\n",
              "      <td>1ATI</td>\n",
              "      <td>PROTEIN BIOSYNTHESIS</td>\n",
              "      <td>XXXXXXXXXXXXXXXX</td>\n",
              "    </tr>\n",
              "    <tr>\n",
              "      <th>2325</th>\n",
              "      <td>1ATI</td>\n",
              "      <td>PROTEIN BIOSYNTHESIS</td>\n",
              "      <td>XXXXXXXXXXXXXXXXXXXXXXXXXXXXXXXXXXXXX</td>\n",
              "    </tr>\n",
              "    <tr>\n",
              "      <th>2326</th>\n",
              "      <td>1ATI</td>\n",
              "      <td>PROTEIN BIOSYNTHESIS</td>\n",
              "      <td>XXXXXXXXXXXXXXXX</td>\n",
              "    </tr>\n",
              "    <tr>\n",
              "      <th>3622</th>\n",
              "      <td>1BCC</td>\n",
              "      <td>OXIDOREDUCTASE</td>\n",
              "      <td>XXXXXXXXXXXXXXXXXXXXXXXXXXXXXXXXX</td>\n",
              "    </tr>\n",
              "    <tr>\n",
              "      <th>5553</th>\n",
              "      <td>1C51</td>\n",
              "      <td>PHOTOSYNTHESIS/ELECTRON TRANSPORT</td>\n",
              "      <td>XXXXXXXXXXXXXXXXXXXXXXXXXXXXXXXXXXXXXXXXXXXXXX...</td>\n",
              "    </tr>\n",
              "    <tr>\n",
              "      <th>5554</th>\n",
              "      <td>1C51</td>\n",
              "      <td>PHOTOSYNTHESIS/ELECTRON TRANSPORT</td>\n",
              "      <td>XXXXXXXXXXXXXXXXXXXXXXXXXXXXXXXXXXXXXXXXXXXXXX...</td>\n",
              "    </tr>\n",
              "    <tr>\n",
              "      <th>5555</th>\n",
              "      <td>1C51</td>\n",
              "      <td>PHOTOSYNTHESIS/ELECTRON TRANSPORT</td>\n",
              "      <td>XXXXXXXXXXXXXXXXXXXXXXXXXXXXXXXXXXXXXXXXXXXXXX...</td>\n",
              "    </tr>\n",
              "    <tr>\n",
              "      <th>5556</th>\n",
              "      <td>1C51</td>\n",
              "      <td>PHOTOSYNTHESIS/ELECTRON TRANSPORT</td>\n",
              "      <td>XXXXXXXXXXXXXXXXXXXXXXXXXXXXXXXXXXXXXXXXXXXXXX...</td>\n",
              "    </tr>\n",
              "    <tr>\n",
              "      <th>5557</th>\n",
              "      <td>1C51</td>\n",
              "      <td>PHOTOSYNTHESIS/ELECTRON TRANSPORT</td>\n",
              "      <td>XXXXXXXXXXXXXXXXXXXXXXXXXXXXXXXXXXXXXXXXXXXXXX...</td>\n",
              "    </tr>\n",
              "    <tr>\n",
              "      <th>5558</th>\n",
              "      <td>1C51</td>\n",
              "      <td>PHOTOSYNTHESIS/ELECTRON TRANSPORT</td>\n",
              "      <td>XXXXXXXXXXXXXXXXXXXXXXXXXXXXXXXXXXXXXXXXXXXXXX...</td>\n",
              "    </tr>\n",
              "    <tr>\n",
              "      <th>5559</th>\n",
              "      <td>1C51</td>\n",
              "      <td>PHOTOSYNTHESIS/ELECTRON TRANSPORT</td>\n",
              "      <td>XXXXXXXXXXXXXXXXXXXXXXXXXXXXXXXXXXXXXXXXXXXXXX...</td>\n",
              "    </tr>\n",
              "    <tr>\n",
              "      <th>5560</th>\n",
              "      <td>1C51</td>\n",
              "      <td>PHOTOSYNTHESIS/ELECTRON TRANSPORT</td>\n",
              "      <td>XXXXXXXXXXXXXXXXXXXXXXXXXXXXXXXXXXXXXXXXXXXXXX...</td>\n",
              "    </tr>\n",
              "    <tr>\n",
              "      <th>8026</th>\n",
              "      <td>1D8S</td>\n",
              "      <td>HYDROLASE</td>\n",
              "      <td>XXXXXXXXXXXXXXXXXXXXXXXXXXXXXXXXXXXXXXXXXXXXXX...</td>\n",
              "    </tr>\n",
              "    <tr>\n",
              "      <th>8027</th>\n",
              "      <td>1D8S</td>\n",
              "      <td>HYDROLASE</td>\n",
              "      <td>XXXXXXXXXXXXXXXXXXXXXXXXXXXXXXXXXXXXXXXXXXXXXX...</td>\n",
              "    </tr>\n",
              "    <tr>\n",
              "      <th>8028</th>\n",
              "      <td>1D8S</td>\n",
              "      <td>HYDROLASE</td>\n",
              "      <td>XXXXXXXXXXXXXXXXXXXXXXXXXXXXXXXXXXXXXXXXXXXXXX...</td>\n",
              "    </tr>\n",
              "    <tr>\n",
              "      <th>8029</th>\n",
              "      <td>1D8S</td>\n",
              "      <td>HYDROLASE</td>\n",
              "      <td>XXXXXXXXXXXXXXXXXXXXXXXXXXXXXXXXXXXXXXXXXXXXXX...</td>\n",
              "    </tr>\n",
              "    <tr>\n",
              "      <th>8030</th>\n",
              "      <td>1D8S</td>\n",
              "      <td>HYDROLASE</td>\n",
              "      <td>XXXXXXXXXXXXXXXXXXXXXXXXXXXXXXXXXXXXXXXXXXXXXX...</td>\n",
              "    </tr>\n",
              "    <tr>\n",
              "      <th>8031</th>\n",
              "      <td>1D8S</td>\n",
              "      <td>HYDROLASE</td>\n",
              "      <td>XXXXXXXXXXXXXXXXXXXXXXXXXXXXXXXXXXXXXXXXXXXXXX...</td>\n",
              "    </tr>\n",
              "    <tr>\n",
              "      <th>8032</th>\n",
              "      <td>1D8S</td>\n",
              "      <td>HYDROLASE</td>\n",
              "      <td>XXXXXXXXXXXXXXXXXXXXXXXXXXXXXXXXXXXXXXXXXXXXXX...</td>\n",
              "    </tr>\n",
              "    <tr>\n",
              "      <th>8463</th>\n",
              "      <td>1DEQ</td>\n",
              "      <td>BLOOD CLOTTING</td>\n",
              "      <td>XXXXXXXXXXXXXXXXXXXXXXXXXXXXXXXXXXXXXXXXXXXXXX...</td>\n",
              "    </tr>\n",
              "    <tr>\n",
              "      <th>8470</th>\n",
              "      <td>1DEQ</td>\n",
              "      <td>BLOOD CLOTTING</td>\n",
              "      <td>XXXXXXXXXXXXXXXXXXXXXXXXXXXXXXXXXXXXXXXXXXXXXX...</td>\n",
              "    </tr>\n",
              "    <tr>\n",
              "      <th>10930</th>\n",
              "      <td>1EFG</td>\n",
              "      <td>ELONGATION FACTOR</td>\n",
              "      <td>XXXXXXXXXXXXXXXXXXXXXXXXXXXXXXXXXXXX</td>\n",
              "    </tr>\n",
              "    <tr>\n",
              "      <th>10931</th>\n",
              "      <td>1EFG</td>\n",
              "      <td>ELONGATION FACTOR</td>\n",
              "      <td>XXXXXXXXXXXXXXXXXXXXXXXXXXXX</td>\n",
              "    </tr>\n",
              "    <tr>\n",
              "      <th>13440</th>\n",
              "      <td>1FE1</td>\n",
              "      <td>PHOTOSYNTHESIS/ELECTRON TRANSPORT</td>\n",
              "      <td>XXXXXXXXXXXXXXXXXXXXXXXXXXXXXXXXXXXXXXXXXXXXXX...</td>\n",
              "    </tr>\n",
              "    <tr>\n",
              "      <th>13441</th>\n",
              "      <td>1FE1</td>\n",
              "      <td>PHOTOSYNTHESIS/ELECTRON TRANSPORT</td>\n",
              "      <td>XXXXXXXXXXXXXXXXXXXXXXXXXXXXXXXXXXXXXXXXXXXXXX...</td>\n",
              "    </tr>\n",
              "    <tr>\n",
              "      <th>13442</th>\n",
              "      <td>1FE1</td>\n",
              "      <td>PHOTOSYNTHESIS/ELECTRON TRANSPORT</td>\n",
              "      <td>XXXXXXXXXXXXXXXXXXXXXXXXXXXXXXXXXXXXXXXXXXXXXX...</td>\n",
              "    </tr>\n",
              "    <tr>\n",
              "      <th>13443</th>\n",
              "      <td>1FE1</td>\n",
              "      <td>PHOTOSYNTHESIS/ELECTRON TRANSPORT</td>\n",
              "      <td>XXXXXXXXXXXXXXXXXXXXXXXXXXXXXXXXXXXXXXXXXXXXXX...</td>\n",
              "    </tr>\n",
              "    <tr>\n",
              "      <th>13444</th>\n",
              "      <td>1FE1</td>\n",
              "      <td>PHOTOSYNTHESIS/ELECTRON TRANSPORT</td>\n",
              "      <td>XXXXXXXXXXXXXXXXXXXXXXXXXXXXXXXXXXXXXXXX</td>\n",
              "    </tr>\n",
              "    <tr>\n",
              "      <th>13445</th>\n",
              "      <td>1FE1</td>\n",
              "      <td>PHOTOSYNTHESIS/ELECTRON TRANSPORT</td>\n",
              "      <td>XXXXXXXXXXXXXXXXXXXXXXXXXXXXXX</td>\n",
              "    </tr>\n",
              "    <tr>\n",
              "      <th>...</th>\n",
              "      <td>...</td>\n",
              "      <td>...</td>\n",
              "      <td>...</td>\n",
              "    </tr>\n",
              "    <tr>\n",
              "      <th>470105</th>\n",
              "      <td>6F1T</td>\n",
              "      <td>MOTOR PROTEIN</td>\n",
              "      <td>XXXXXXXXXXXXXXXXXXXXXXXXXXXXXXXXXXXXXXXXXXXXXX...</td>\n",
              "    </tr>\n",
              "    <tr>\n",
              "      <th>470106</th>\n",
              "      <td>6F1T</td>\n",
              "      <td>MOTOR PROTEIN</td>\n",
              "      <td>XXXXXXXXXXXXXXXXXXXXXXXXXXXXXXXXXXXXXXXXXXXXXX...</td>\n",
              "    </tr>\n",
              "    <tr>\n",
              "      <th>470107</th>\n",
              "      <td>6F1T</td>\n",
              "      <td>MOTOR PROTEIN</td>\n",
              "      <td>XXXXXXXXXXXXXXXXXXXXXXXXXXXXXXXXXXXXXXXXXXXXXX...</td>\n",
              "    </tr>\n",
              "    <tr>\n",
              "      <th>470108</th>\n",
              "      <td>6F1T</td>\n",
              "      <td>MOTOR PROTEIN</td>\n",
              "      <td>XXXXXXXXXXXXXXXXXXXXXXXXXXXXXXXXXXXXXXXXXXXXXX...</td>\n",
              "    </tr>\n",
              "    <tr>\n",
              "      <th>470112</th>\n",
              "      <td>6F1T</td>\n",
              "      <td>MOTOR PROTEIN</td>\n",
              "      <td>XXXXXXXXXXXXXXXXXXXXXXXXXXXXXXXXXXXXXXXXXXXXXX...</td>\n",
              "    </tr>\n",
              "    <tr>\n",
              "      <th>470113</th>\n",
              "      <td>6F1T</td>\n",
              "      <td>MOTOR PROTEIN</td>\n",
              "      <td>XXXXXXXXXXXXXXXXXXXXXXXXXXXXXXXXXXXXXXXXXXXXXX...</td>\n",
              "    </tr>\n",
              "    <tr>\n",
              "      <th>470135</th>\n",
              "      <td>6F1T</td>\n",
              "      <td>MOTOR PROTEIN</td>\n",
              "      <td>XXXXXXXXXXXXXXXXXXXXXXXXXXXXXXXXXXXXXXXXXXXXXX...</td>\n",
              "    </tr>\n",
              "    <tr>\n",
              "      <th>470184</th>\n",
              "      <td>6F38</td>\n",
              "      <td>MOTOR PROTEIN</td>\n",
              "      <td>XXXXXXXXXXXXXXXXXXXXXXXXXXXXXXXXXXXXXXXXXXXXXX...</td>\n",
              "    </tr>\n",
              "    <tr>\n",
              "      <th>470185</th>\n",
              "      <td>6F38</td>\n",
              "      <td>MOTOR PROTEIN</td>\n",
              "      <td>XXXXXXXXXXXXXXXXXXXXXXXXXXXXXXXXXXXXXXXXXXXXXX...</td>\n",
              "    </tr>\n",
              "    <tr>\n",
              "      <th>470186</th>\n",
              "      <td>6F38</td>\n",
              "      <td>MOTOR PROTEIN</td>\n",
              "      <td>XXXXXXXXXXXXXXXXXXXXXXXXXXXXXXXXXXXXXXXXXXXXXX...</td>\n",
              "    </tr>\n",
              "    <tr>\n",
              "      <th>470187</th>\n",
              "      <td>6F38</td>\n",
              "      <td>MOTOR PROTEIN</td>\n",
              "      <td>XXXXXXXXXXXXXXXXXXXXXXXXXXXXXXXXXXXXXXXXXXXXXX...</td>\n",
              "    </tr>\n",
              "    <tr>\n",
              "      <th>470188</th>\n",
              "      <td>6F38</td>\n",
              "      <td>MOTOR PROTEIN</td>\n",
              "      <td>XXXXXXXXXXXXXXXXXXXXXXXXXXXXXXXXXXXXXXXXXXXXXX...</td>\n",
              "    </tr>\n",
              "    <tr>\n",
              "      <th>470189</th>\n",
              "      <td>6F38</td>\n",
              "      <td>MOTOR PROTEIN</td>\n",
              "      <td>XXXXXXXXXXXXXXXXXXXXXXXXXXXXXXXXXXXXXXXXXXXXXX...</td>\n",
              "    </tr>\n",
              "    <tr>\n",
              "      <th>470192</th>\n",
              "      <td>6F38</td>\n",
              "      <td>MOTOR PROTEIN</td>\n",
              "      <td>XXXXXXXXXXXXXXXXXXXXXXXXXXXXXXXXXXXXXXXXXXXXXX...</td>\n",
              "    </tr>\n",
              "    <tr>\n",
              "      <th>470193</th>\n",
              "      <td>6F38</td>\n",
              "      <td>MOTOR PROTEIN</td>\n",
              "      <td>XXXXXXXXXXXXXXXXXXXXXXXXXXXXXXXXXXXXXXXXXXXXXX...</td>\n",
              "    </tr>\n",
              "    <tr>\n",
              "      <th>470194</th>\n",
              "      <td>6F38</td>\n",
              "      <td>MOTOR PROTEIN</td>\n",
              "      <td>XXXXXXXXXXXXXXXXXXXXXXXXXXXXXXXXXXXXXXXXXXXXXX...</td>\n",
              "    </tr>\n",
              "    <tr>\n",
              "      <th>470215</th>\n",
              "      <td>6F38</td>\n",
              "      <td>MOTOR PROTEIN</td>\n",
              "      <td>XXXXXXXXXXXXXXXXXXXXXXXXXXXXXXXXXXXXXXXXXXXXXX...</td>\n",
              "    </tr>\n",
              "    <tr>\n",
              "      <th>470216</th>\n",
              "      <td>6F38</td>\n",
              "      <td>MOTOR PROTEIN</td>\n",
              "      <td>XXXXXXXXXXXXXXXXXXXXXXXXXXXXXXXXXXXXXXXXXXXXXX...</td>\n",
              "    </tr>\n",
              "    <tr>\n",
              "      <th>470219</th>\n",
              "      <td>6F3A</td>\n",
              "      <td>MOTOR PROTEIN</td>\n",
              "      <td>XXXXXXXXXXXXXXXXXXXXXXXXXXXXXXXXXXXXXXXXXXXXXX...</td>\n",
              "    </tr>\n",
              "    <tr>\n",
              "      <th>470220</th>\n",
              "      <td>6F3A</td>\n",
              "      <td>MOTOR PROTEIN</td>\n",
              "      <td>XXXXXXXXXXXXXXXXXXXXXXXXXXXXXXXXXXXXXXXXXXXXXX...</td>\n",
              "    </tr>\n",
              "    <tr>\n",
              "      <th>470233</th>\n",
              "      <td>6F3A</td>\n",
              "      <td>MOTOR PROTEIN</td>\n",
              "      <td>XXXXXXXXXXXXXXXXXXXXXXXXXXXXXXXXXXXXXXXXXXXXXX...</td>\n",
              "    </tr>\n",
              "    <tr>\n",
              "      <th>470234</th>\n",
              "      <td>6F3A</td>\n",
              "      <td>MOTOR PROTEIN</td>\n",
              "      <td>XXXXXXXXXXXXXXXXXXXXXXXXXXXXXXXXXXXXXXXXXXXXXX...</td>\n",
              "    </tr>\n",
              "    <tr>\n",
              "      <th>470235</th>\n",
              "      <td>6F3A</td>\n",
              "      <td>MOTOR PROTEIN</td>\n",
              "      <td>XXXXXXXXXXXXXXXXXXXXXXXXXXXXXXXXXXXXXXXXXXXXXX...</td>\n",
              "    </tr>\n",
              "    <tr>\n",
              "      <th>470236</th>\n",
              "      <td>6F3A</td>\n",
              "      <td>MOTOR PROTEIN</td>\n",
              "      <td>XXXXXXXXXXXXXXXXXXXXXXXXXXXXXXXXXXXXXXXXXXXXXX...</td>\n",
              "    </tr>\n",
              "    <tr>\n",
              "      <th>470237</th>\n",
              "      <td>6F3A</td>\n",
              "      <td>MOTOR PROTEIN</td>\n",
              "      <td>XXXXXXXXXXXXXXXXXXXXXXXXXXXXXXXXXXXXXXXXXXXXXX...</td>\n",
              "    </tr>\n",
              "    <tr>\n",
              "      <th>470238</th>\n",
              "      <td>6F3A</td>\n",
              "      <td>MOTOR PROTEIN</td>\n",
              "      <td>XXXXXXXXXXXXXXXXXXXXXXXXXXXXXXXXXXXXXXXXXXXXXX...</td>\n",
              "    </tr>\n",
              "    <tr>\n",
              "      <th>470241</th>\n",
              "      <td>6F3A</td>\n",
              "      <td>MOTOR PROTEIN</td>\n",
              "      <td>XXXXXXXXXXXXXXXXXXXXXXXXXXXXXXXXXXXXXXXXXXXXXX...</td>\n",
              "    </tr>\n",
              "    <tr>\n",
              "      <th>470242</th>\n",
              "      <td>6F3A</td>\n",
              "      <td>MOTOR PROTEIN</td>\n",
              "      <td>XXXXXXXXXXXXXXXXXXXXXXXXXXXXXXXXXXXXXXXXXXXXXX...</td>\n",
              "    </tr>\n",
              "    <tr>\n",
              "      <th>470254</th>\n",
              "      <td>6F3A</td>\n",
              "      <td>MOTOR PROTEIN</td>\n",
              "      <td>XXXXXXXXXXXXXXXXXXXXXXXXXXXXXXXXXXXXXXXXXXXXXX...</td>\n",
              "    </tr>\n",
              "    <tr>\n",
              "      <th>470760</th>\n",
              "      <td>7INS</td>\n",
              "      <td>HORMONE</td>\n",
              "      <td>XXXXXXXXXXXXXXXX</td>\n",
              "    </tr>\n",
              "  </tbody>\n",
              "</table>\n",
              "<p>1365 rows × 3 columns</p>\n",
              "</div>"
            ],
            "text/plain": [
              "       structureId                     classification  \\\n",
              "2321          1ATI               PROTEIN BIOSYNTHESIS   \n",
              "2322          1ATI               PROTEIN BIOSYNTHESIS   \n",
              "2325          1ATI               PROTEIN BIOSYNTHESIS   \n",
              "2326          1ATI               PROTEIN BIOSYNTHESIS   \n",
              "3622          1BCC                     OXIDOREDUCTASE   \n",
              "5553          1C51  PHOTOSYNTHESIS/ELECTRON TRANSPORT   \n",
              "5554          1C51  PHOTOSYNTHESIS/ELECTRON TRANSPORT   \n",
              "5555          1C51  PHOTOSYNTHESIS/ELECTRON TRANSPORT   \n",
              "5556          1C51  PHOTOSYNTHESIS/ELECTRON TRANSPORT   \n",
              "5557          1C51  PHOTOSYNTHESIS/ELECTRON TRANSPORT   \n",
              "5558          1C51  PHOTOSYNTHESIS/ELECTRON TRANSPORT   \n",
              "5559          1C51  PHOTOSYNTHESIS/ELECTRON TRANSPORT   \n",
              "5560          1C51  PHOTOSYNTHESIS/ELECTRON TRANSPORT   \n",
              "8026          1D8S                          HYDROLASE   \n",
              "8027          1D8S                          HYDROLASE   \n",
              "8028          1D8S                          HYDROLASE   \n",
              "8029          1D8S                          HYDROLASE   \n",
              "8030          1D8S                          HYDROLASE   \n",
              "8031          1D8S                          HYDROLASE   \n",
              "8032          1D8S                          HYDROLASE   \n",
              "8463          1DEQ                     BLOOD CLOTTING   \n",
              "8470          1DEQ                     BLOOD CLOTTING   \n",
              "10930         1EFG                  ELONGATION FACTOR   \n",
              "10931         1EFG                  ELONGATION FACTOR   \n",
              "13440         1FE1  PHOTOSYNTHESIS/ELECTRON TRANSPORT   \n",
              "13441         1FE1  PHOTOSYNTHESIS/ELECTRON TRANSPORT   \n",
              "13442         1FE1  PHOTOSYNTHESIS/ELECTRON TRANSPORT   \n",
              "13443         1FE1  PHOTOSYNTHESIS/ELECTRON TRANSPORT   \n",
              "13444         1FE1  PHOTOSYNTHESIS/ELECTRON TRANSPORT   \n",
              "13445         1FE1  PHOTOSYNTHESIS/ELECTRON TRANSPORT   \n",
              "...            ...                                ...   \n",
              "470105        6F1T                      MOTOR PROTEIN   \n",
              "470106        6F1T                      MOTOR PROTEIN   \n",
              "470107        6F1T                      MOTOR PROTEIN   \n",
              "470108        6F1T                      MOTOR PROTEIN   \n",
              "470112        6F1T                      MOTOR PROTEIN   \n",
              "470113        6F1T                      MOTOR PROTEIN   \n",
              "470135        6F1T                      MOTOR PROTEIN   \n",
              "470184        6F38                      MOTOR PROTEIN   \n",
              "470185        6F38                      MOTOR PROTEIN   \n",
              "470186        6F38                      MOTOR PROTEIN   \n",
              "470187        6F38                      MOTOR PROTEIN   \n",
              "470188        6F38                      MOTOR PROTEIN   \n",
              "470189        6F38                      MOTOR PROTEIN   \n",
              "470192        6F38                      MOTOR PROTEIN   \n",
              "470193        6F38                      MOTOR PROTEIN   \n",
              "470194        6F38                      MOTOR PROTEIN   \n",
              "470215        6F38                      MOTOR PROTEIN   \n",
              "470216        6F38                      MOTOR PROTEIN   \n",
              "470219        6F3A                      MOTOR PROTEIN   \n",
              "470220        6F3A                      MOTOR PROTEIN   \n",
              "470233        6F3A                      MOTOR PROTEIN   \n",
              "470234        6F3A                      MOTOR PROTEIN   \n",
              "470235        6F3A                      MOTOR PROTEIN   \n",
              "470236        6F3A                      MOTOR PROTEIN   \n",
              "470237        6F3A                      MOTOR PROTEIN   \n",
              "470238        6F3A                      MOTOR PROTEIN   \n",
              "470241        6F3A                      MOTOR PROTEIN   \n",
              "470242        6F3A                      MOTOR PROTEIN   \n",
              "470254        6F3A                      MOTOR PROTEIN   \n",
              "470760        7INS                            HORMONE   \n",
              "\n",
              "                                                 sequence  \n",
              "2321                XXXXXXXXXXXXXXXXXXXXXXXXXXXXXXXXXXXXX  \n",
              "2322                                     XXXXXXXXXXXXXXXX  \n",
              "2325                XXXXXXXXXXXXXXXXXXXXXXXXXXXXXXXXXXXXX  \n",
              "2326                                     XXXXXXXXXXXXXXXX  \n",
              "3622                    XXXXXXXXXXXXXXXXXXXXXXXXXXXXXXXXX  \n",
              "5553    XXXXXXXXXXXXXXXXXXXXXXXXXXXXXXXXXXXXXXXXXXXXXX...  \n",
              "5554    XXXXXXXXXXXXXXXXXXXXXXXXXXXXXXXXXXXXXXXXXXXXXX...  \n",
              "5555    XXXXXXXXXXXXXXXXXXXXXXXXXXXXXXXXXXXXXXXXXXXXXX...  \n",
              "5556    XXXXXXXXXXXXXXXXXXXXXXXXXXXXXXXXXXXXXXXXXXXXXX...  \n",
              "5557    XXXXXXXXXXXXXXXXXXXXXXXXXXXXXXXXXXXXXXXXXXXXXX...  \n",
              "5558    XXXXXXXXXXXXXXXXXXXXXXXXXXXXXXXXXXXXXXXXXXXXXX...  \n",
              "5559    XXXXXXXXXXXXXXXXXXXXXXXXXXXXXXXXXXXXXXXXXXXXXX...  \n",
              "5560    XXXXXXXXXXXXXXXXXXXXXXXXXXXXXXXXXXXXXXXXXXXXXX...  \n",
              "8026    XXXXXXXXXXXXXXXXXXXXXXXXXXXXXXXXXXXXXXXXXXXXXX...  \n",
              "8027    XXXXXXXXXXXXXXXXXXXXXXXXXXXXXXXXXXXXXXXXXXXXXX...  \n",
              "8028    XXXXXXXXXXXXXXXXXXXXXXXXXXXXXXXXXXXXXXXXXXXXXX...  \n",
              "8029    XXXXXXXXXXXXXXXXXXXXXXXXXXXXXXXXXXXXXXXXXXXXXX...  \n",
              "8030    XXXXXXXXXXXXXXXXXXXXXXXXXXXXXXXXXXXXXXXXXXXXXX...  \n",
              "8031    XXXXXXXXXXXXXXXXXXXXXXXXXXXXXXXXXXXXXXXXXXXXXX...  \n",
              "8032    XXXXXXXXXXXXXXXXXXXXXXXXXXXXXXXXXXXXXXXXXXXXXX...  \n",
              "8463    XXXXXXXXXXXXXXXXXXXXXXXXXXXXXXXXXXXXXXXXXXXXXX...  \n",
              "8470    XXXXXXXXXXXXXXXXXXXXXXXXXXXXXXXXXXXXXXXXXXXXXX...  \n",
              "10930                XXXXXXXXXXXXXXXXXXXXXXXXXXXXXXXXXXXX  \n",
              "10931                        XXXXXXXXXXXXXXXXXXXXXXXXXXXX  \n",
              "13440   XXXXXXXXXXXXXXXXXXXXXXXXXXXXXXXXXXXXXXXXXXXXXX...  \n",
              "13441   XXXXXXXXXXXXXXXXXXXXXXXXXXXXXXXXXXXXXXXXXXXXXX...  \n",
              "13442   XXXXXXXXXXXXXXXXXXXXXXXXXXXXXXXXXXXXXXXXXXXXXX...  \n",
              "13443   XXXXXXXXXXXXXXXXXXXXXXXXXXXXXXXXXXXXXXXXXXXXXX...  \n",
              "13444            XXXXXXXXXXXXXXXXXXXXXXXXXXXXXXXXXXXXXXXX  \n",
              "13445                      XXXXXXXXXXXXXXXXXXXXXXXXXXXXXX  \n",
              "...                                                   ...  \n",
              "470105  XXXXXXXXXXXXXXXXXXXXXXXXXXXXXXXXXXXXXXXXXXXXXX...  \n",
              "470106  XXXXXXXXXXXXXXXXXXXXXXXXXXXXXXXXXXXXXXXXXXXXXX...  \n",
              "470107  XXXXXXXXXXXXXXXXXXXXXXXXXXXXXXXXXXXXXXXXXXXXXX...  \n",
              "470108  XXXXXXXXXXXXXXXXXXXXXXXXXXXXXXXXXXXXXXXXXXXXXX...  \n",
              "470112  XXXXXXXXXXXXXXXXXXXXXXXXXXXXXXXXXXXXXXXXXXXXXX...  \n",
              "470113  XXXXXXXXXXXXXXXXXXXXXXXXXXXXXXXXXXXXXXXXXXXXXX...  \n",
              "470135  XXXXXXXXXXXXXXXXXXXXXXXXXXXXXXXXXXXXXXXXXXXXXX...  \n",
              "470184  XXXXXXXXXXXXXXXXXXXXXXXXXXXXXXXXXXXXXXXXXXXXXX...  \n",
              "470185  XXXXXXXXXXXXXXXXXXXXXXXXXXXXXXXXXXXXXXXXXXXXXX...  \n",
              "470186  XXXXXXXXXXXXXXXXXXXXXXXXXXXXXXXXXXXXXXXXXXXXXX...  \n",
              "470187  XXXXXXXXXXXXXXXXXXXXXXXXXXXXXXXXXXXXXXXXXXXXXX...  \n",
              "470188  XXXXXXXXXXXXXXXXXXXXXXXXXXXXXXXXXXXXXXXXXXXXXX...  \n",
              "470189  XXXXXXXXXXXXXXXXXXXXXXXXXXXXXXXXXXXXXXXXXXXXXX...  \n",
              "470192  XXXXXXXXXXXXXXXXXXXXXXXXXXXXXXXXXXXXXXXXXXXXXX...  \n",
              "470193  XXXXXXXXXXXXXXXXXXXXXXXXXXXXXXXXXXXXXXXXXXXXXX...  \n",
              "470194  XXXXXXXXXXXXXXXXXXXXXXXXXXXXXXXXXXXXXXXXXXXXXX...  \n",
              "470215  XXXXXXXXXXXXXXXXXXXXXXXXXXXXXXXXXXXXXXXXXXXXXX...  \n",
              "470216  XXXXXXXXXXXXXXXXXXXXXXXXXXXXXXXXXXXXXXXXXXXXXX...  \n",
              "470219  XXXXXXXXXXXXXXXXXXXXXXXXXXXXXXXXXXXXXXXXXXXXXX...  \n",
              "470220  XXXXXXXXXXXXXXXXXXXXXXXXXXXXXXXXXXXXXXXXXXXXXX...  \n",
              "470233  XXXXXXXXXXXXXXXXXXXXXXXXXXXXXXXXXXXXXXXXXXXXXX...  \n",
              "470234  XXXXXXXXXXXXXXXXXXXXXXXXXXXXXXXXXXXXXXXXXXXXXX...  \n",
              "470235  XXXXXXXXXXXXXXXXXXXXXXXXXXXXXXXXXXXXXXXXXXXXXX...  \n",
              "470236  XXXXXXXXXXXXXXXXXXXXXXXXXXXXXXXXXXXXXXXXXXXXXX...  \n",
              "470237  XXXXXXXXXXXXXXXXXXXXXXXXXXXXXXXXXXXXXXXXXXXXXX...  \n",
              "470238  XXXXXXXXXXXXXXXXXXXXXXXXXXXXXXXXXXXXXXXXXXXXXX...  \n",
              "470241  XXXXXXXXXXXXXXXXXXXXXXXXXXXXXXXXXXXXXXXXXXXXXX...  \n",
              "470242  XXXXXXXXXXXXXXXXXXXXXXXXXXXXXXXXXXXXXXXXXXXXXX...  \n",
              "470254  XXXXXXXXXXXXXXXXXXXXXXXXXXXXXXXXXXXXXXXXXXXXXX...  \n",
              "470760                                   XXXXXXXXXXXXXXXX  \n",
              "\n",
              "[1365 rows x 3 columns]"
            ]
          },
          "metadata": {
            "tags": []
          },
          "execution_count": 15
        }
      ]
    },
    {
      "metadata": {
        "id": "ipHSwmeli5Pb",
        "colab_type": "code",
        "colab": {
          "base_uri": "https://localhost:8080/",
          "height": 71
        },
        "outputId": "071c0abd-f950-4ae6-f5f3-f0176cb93b1f"
      },
      "cell_type": "code",
      "source": [
        "index_to_drop = df_fin.loc[df['sequence'].str.contains('(^XXXX)+')].index"
      ],
      "execution_count": 16,
      "outputs": [
        {
          "output_type": "stream",
          "text": [
            "/usr/local/lib/python3.6/dist-packages/ipykernel_launcher.py:1: UserWarning: This pattern has match groups. To actually get the groups, use str.extract.\n",
            "  \"\"\"Entry point for launching an IPython kernel.\n"
          ],
          "name": "stderr"
        }
      ]
    },
    {
      "metadata": {
        "id": "3MX69aUIi5Pg",
        "colab_type": "code",
        "colab": {}
      },
      "cell_type": "code",
      "source": [
        "df_fin.drop(index = index_to_drop, inplace = True)"
      ],
      "execution_count": 0,
      "outputs": []
    },
    {
      "metadata": {
        "id": "Py5bWwDMi5Po",
        "colab_type": "code",
        "colab": {}
      },
      "cell_type": "code",
      "source": [
        "df_prot = df_fin[[\"structureId\", \"classification\", \"sequence\"]]"
      ],
      "execution_count": 0,
      "outputs": []
    },
    {
      "metadata": {
        "id": "ennoKip-i5Pt",
        "colab_type": "code",
        "colab": {}
      },
      "cell_type": "code",
      "source": [
        "df_prot[\"seq_length\"] = df_prot[\"sequence\"].apply(len)"
      ],
      "execution_count": 0,
      "outputs": []
    },
    {
      "metadata": {
        "id": "GVH5AAF0i5Px",
        "colab_type": "code",
        "colab": {}
      },
      "cell_type": "code",
      "source": [
        "df_prot = df_prot[df_prot['seq_length'] > 20]"
      ],
      "execution_count": 0,
      "outputs": []
    },
    {
      "metadata": {
        "id": "Wb6B_xkvl4cj",
        "colab_type": "text"
      },
      "cell_type": "markdown",
      "source": [
        "**Choosing 10 classification for this one**"
      ]
    },
    {
      "metadata": {
        "id": "MaR89vN4i5P0",
        "colab_type": "code",
        "colab": {}
      },
      "cell_type": "code",
      "source": [
        "clas_prot = df_prot.groupby(\"classification\").structureId.count().sort_values(ascending = False)[0:10]"
      ],
      "execution_count": 0,
      "outputs": []
    },
    {
      "metadata": {
        "id": "DvvYi2-4i5P4",
        "colab_type": "code",
        "colab": {}
      },
      "cell_type": "code",
      "source": [
        "df_prot_fin = df_prot[df_prot['classification'].isin(clas_prot.keys())]\n"
      ],
      "execution_count": 0,
      "outputs": []
    },
    {
      "metadata": {
        "id": "ATMtONRUi5P7",
        "colab_type": "code",
        "colab": {
          "base_uri": "https://localhost:8080/",
          "height": 85
        },
        "outputId": "17db801b-6e58-49f3-b9c6-c5bdd0585233"
      },
      "cell_type": "code",
      "source": [
        "df_prot_fin.classification.unique()"
      ],
      "execution_count": 56,
      "outputs": [
        {
          "output_type": "execute_result",
          "data": {
            "text/plain": [
              "array(['HYDROLASE', 'TRANSFERASE', 'OXIDOREDUCTASE',\n",
              "       'HYDROLASE/HYDROLASE INHIBITOR', 'VIRAL PROTEIN', 'LYASE', 'VIRUS',\n",
              "       'IMMUNE SYSTEM', 'TRANSPORT PROTEIN', 'TRANSCRIPTION'],\n",
              "      dtype=object)"
            ]
          },
          "metadata": {
            "tags": []
          },
          "execution_count": 56
        }
      ]
    },
    {
      "metadata": {
        "id": "1ncVveDCmBVS",
        "colab_type": "text"
      },
      "cell_type": "markdown",
      "source": [
        "**Since this operation is computationally exhaustive, I have decided to take a random sample of 130000 rows .**"
      ]
    },
    {
      "metadata": {
        "id": "y1JKapjki5QP",
        "colab_type": "code",
        "colab": {}
      },
      "cell_type": "code",
      "source": [
        "sample = df_prot_fin.sample(n=130000, replace=True)"
      ],
      "execution_count": 0,
      "outputs": []
    },
    {
      "metadata": {
        "id": "LZxpsRZXi5QS",
        "colab_type": "code",
        "colab": {}
      },
      "cell_type": "code",
      "source": [
        "from nltk import word_tokenize, ngrams"
      ],
      "execution_count": 0,
      "outputs": []
    },
    {
      "metadata": {
        "id": "p-cd_4MRmdYG",
        "colab_type": "text"
      },
      "cell_type": "markdown",
      "source": [
        "**Creating a new feature columns which contains our N-grams and changing it to a string**"
      ]
    },
    {
      "metadata": {
        "id": "DTvUOjMYi5QV",
        "colab_type": "code",
        "colab": {}
      },
      "cell_type": "code",
      "source": [
        "def n_grams(cols):\n",
        "    #cols[0] = sequence\n",
        "    return [(''.join(x)) for x in ngrams(cols, 4)]\n",
        "\n",
        "sample[\"N_seq\"] = sample['sequence'].apply(n_grams)\n",
        "sample[\"N_seq\"] =sample[\"N_seq\"].astype(str)"
      ],
      "execution_count": 0,
      "outputs": []
    },
    {
      "metadata": {
        "id": "p2VnsBYKi5Q7",
        "colab_type": "code",
        "colab": {}
      },
      "cell_type": "code",
      "source": [
        "#sample.to_csv(\"sample.csv\", sep = \",\")"
      ],
      "execution_count": 0,
      "outputs": []
    },
    {
      "metadata": {
        "id": "rlmt1IOIm1Wl",
        "colab_type": "text"
      },
      "cell_type": "markdown",
      "source": [
        "**Train Test Split for the word2vec **"
      ]
    },
    {
      "metadata": {
        "id": "sGOFOxvui5Q-",
        "colab_type": "code",
        "colab": {}
      },
      "cell_type": "code",
      "source": [
        "from sklearn.model_selection import train_test_split"
      ],
      "execution_count": 0,
      "outputs": []
    },
    {
      "metadata": {
        "id": "K_6U8jqdi5RA",
        "colab_type": "code",
        "colab": {}
      },
      "cell_type": "code",
      "source": [
        "X_train, X_test,y_train,y_test = train_test_split(sample['N_seq'], sample['classification'], test_size = 0.3 \n",
        "                                                  )"
      ],
      "execution_count": 0,
      "outputs": []
    },
    {
      "metadata": {
        "id": "-tZuOH0Mi5RU",
        "colab_type": "code",
        "colab": {}
      },
      "cell_type": "code",
      "source": [
        "#X_train, X_test,y_train,y_test = train_test_split(sample['N_seq'], sample['classification'], test_size = 0.3 \n",
        "                                                  #)"
      ],
      "execution_count": 0,
      "outputs": []
    },
    {
      "metadata": {
        "id": "DJn70D-pi5RX",
        "colab_type": "code",
        "colab": {}
      },
      "cell_type": "code",
      "source": [
        "from bs4 import BeautifulSoup\n",
        "import re\n",
        "from nltk.corpus import stopwords\n"
      ],
      "execution_count": 0,
      "outputs": []
    },
    {
      "metadata": {
        "id": "FoaIfkLhi5RZ",
        "colab_type": "code",
        "colab": {}
      },
      "cell_type": "code",
      "source": [
        "#sample['N_seq'].head()"
      ],
      "execution_count": 0,
      "outputs": []
    },
    {
      "metadata": {
        "id": "gkz-G1iHi5Rd",
        "colab_type": "code",
        "colab": {}
      },
      "cell_type": "code",
      "source": [
        "import nltk.data\n"
      ],
      "execution_count": 0,
      "outputs": []
    },
    {
      "metadata": {
        "id": "hizTMlx2moH1",
        "colab_type": "code",
        "colab": {
          "base_uri": "https://localhost:8080/",
          "height": 68
        },
        "outputId": "936e6c79-d897-4a30-fff3-8c2440a1b049"
      },
      "cell_type": "code",
      "source": [
        "nltk.download('punkt')"
      ],
      "execution_count": 31,
      "outputs": [
        {
          "output_type": "stream",
          "text": [
            "[nltk_data] Downloading package punkt to /root/nltk_data...\n",
            "[nltk_data]   Unzipping tokenizers/punkt.zip.\n"
          ],
          "name": "stdout"
        },
        {
          "output_type": "execute_result",
          "data": {
            "text/plain": [
              "True"
            ]
          },
          "metadata": {
            "tags": []
          },
          "execution_count": 31
        }
      ]
    },
    {
      "metadata": {
        "id": "jHx2E57fi5Rh",
        "colab_type": "code",
        "colab": {}
      },
      "cell_type": "code",
      "source": [
        "tokenizer = nltk.data.load('tokenizers/punkt/english.pickle')"
      ],
      "execution_count": 0,
      "outputs": []
    },
    {
      "metadata": {
        "id": "VwTXNE5hm1RI",
        "colab_type": "code",
        "colab": {}
      },
      "cell_type": "code",
      "source": [
        "#def n_grams_to_list( n_grams, remove_stopwords=False ):\n",
        "    \n",
        "    #  Convert words to lower case and split them\n",
        "    #words = ngrams.lower().split()\n",
        "    \n",
        "    \n",
        "    #return(words)"
      ],
      "execution_count": 0,
      "outputs": []
    },
    {
      "metadata": {
        "id": "D0MNZsQlnPVH",
        "colab_type": "code",
        "colab": {}
      },
      "cell_type": "code",
      "source": [
        "#def review_to_sentences( review, tokenizer, remove_stopwords=False ):\n",
        "    # Function to split a review into parsed sentences. Returns a \n",
        "    # list of sentences, where each sentence is a list of words\n",
        "    # 1. Use the NLTK tokenizer to split the paragraph into sentences\n",
        "    #raw_ngrams = tokenizer.tokenize(n_grams)\n",
        "    #\n",
        "    # 2. Loop over each sentence\n",
        "    \n",
        "    #sequence = []\n",
        "    #for raw_ngram in raw_ngrams:\n",
        "        # If a sentence is empty, skip it\n",
        "        \n",
        "        #if len(raw_ngram) > 0:\n",
        "            \n",
        "            # Otherwise, call review_to_wordlist to get a list of words\n",
        "            \n",
        "            #sequence.append( n_grams_to_list( raw_ngram, remove_stopwords ))\n",
        "    #return sequence"
      ],
      "execution_count": 0,
      "outputs": []
    },
    {
      "metadata": {
        "id": "p4trFp2noDon",
        "colab_type": "code",
        "colab": {}
      },
      "cell_type": "code",
      "source": [
        "#sequence = []  # Initialize an empty list of sequences\n",
        "\n",
        "#print (\"Parsing sequence from training set\")\n",
        "#for review in df_prot_fin[\"N_seq\"]:\n",
        "    #sequence += review_to_sentences(n_grams, tokenizer)\n",
        "\n"
      ],
      "execution_count": 0,
      "outputs": []
    },
    {
      "metadata": {
        "id": "MVL1GTLQnBeM",
        "colab_type": "text"
      },
      "cell_type": "markdown",
      "source": [
        "The code for the creation of word2vec is taken from [Kaggle Tututorial(https://www.kaggle.com/c/word2vec-nlp-tutorial#part-2-word-vectors)] "
      ]
    },
    {
      "metadata": {
        "id": "tZ8WYKP7i5Rm",
        "colab_type": "code",
        "colab": {}
      },
      "cell_type": "code",
      "source": [
        "def review_to_wordlist( review, remove_stopwords=False ):\n",
        "    # 1. Remove HTML\n",
        "    review_text = BeautifulSoup(review).get_text()\n",
        "    \n",
        "    # 2. Remove non-letters\n",
        "    review_text = re.sub(\"[^a-zA-Z]\",\" \", review_text)\n",
        "    \n",
        "    # 3. Convert words to lower case and split them\n",
        "    words = review_text.lower().split()\n",
        "    \n",
        "    # 4. Optionally remove stop words (false by default)\n",
        "    if remove_stopwords:\n",
        "        stops = set(stopwords.words(\"english\"))\n",
        "        words = [w for w in words if not w in stops]\n",
        "    #\n",
        "    # 5. Return a list of words\n",
        "    return(words)"
      ],
      "execution_count": 0,
      "outputs": []
    },
    {
      "metadata": {
        "id": "3T7KNR0Pi5Rq",
        "colab_type": "code",
        "colab": {}
      },
      "cell_type": "code",
      "source": [
        "def review_to_sentences( review, tokenizer, remove_stopwords=False ):\n",
        "    # Function to split a review into parsed sentences. Returns a \n",
        "    # list of sentences, where each sentence is a list of words\n",
        "    # 1. Use the NLTK tokenizer to split the paragraph into sentences\n",
        "    raw_sentences = tokenizer.tokenize(review.strip())\n",
        "    #\n",
        "    # 2. Loop over each sentence\n",
        "    \n",
        "    sentences = []\n",
        "    for raw_sentence in raw_sentences:\n",
        "        # If a sentence is empty, skip it\n",
        "        \n",
        "        if len(raw_sentence) > 0:\n",
        "            \n",
        "            # Otherwise, call review_to_wordlist to get a list of words\n",
        "            \n",
        "            sentences.append( review_to_wordlist( raw_sentence, remove_stopwords ))\n",
        "    return sentences"
      ],
      "execution_count": 0,
      "outputs": []
    },
    {
      "metadata": {
        "id": "P9LrNeUri5Rv",
        "colab_type": "code",
        "colab": {
          "base_uri": "https://localhost:8080/",
          "height": 34
        },
        "outputId": "34348a99-7bb8-4097-cb5f-9fb2ed0fe15a"
      },
      "cell_type": "code",
      "source": [
        "sentences = []  # Initialize an empty list of sentences\n",
        "\n",
        "print (\"Parsing sentences from training set\")\n",
        "for review in sample[\"N_seq\"]:\n",
        "    sentences += review_to_sentences(review, tokenizer)\n",
        "\n",
        "#print (\"Parsing sentences from unlabeled set\")\n",
        "#for review in unlabeled_train[\"review\"]:\n",
        "    #sentences += review_to_sentences(review, tokenizer)"
      ],
      "execution_count": 35,
      "outputs": [
        {
          "output_type": "stream",
          "text": [
            "Parsing sentences from training set\n"
          ],
          "name": "stdout"
        }
      ]
    },
    {
      "metadata": {
        "id": "meRa6Dv2i5Rx",
        "colab_type": "code",
        "colab": {}
      },
      "cell_type": "code",
      "source": [
        "#model.most_similar(\"ail\")"
      ],
      "execution_count": 0,
      "outputs": []
    },
    {
      "metadata": {
        "id": "4Xj_eaE1i5R3",
        "colab_type": "code",
        "colab": {}
      },
      "cell_type": "code",
      "source": [
        "#\"aiw\""
      ],
      "execution_count": 0,
      "outputs": []
    },
    {
      "metadata": {
        "id": "ftzeGDPAi5R7",
        "colab_type": "code",
        "colab": {}
      },
      "cell_type": "code",
      "source": [
        "import logging\n",
        "logging.basicConfig(format='%(asctime)s : %(levelname)s : %(message)s',\\\n",
        "    level=logging.INFO)"
      ],
      "execution_count": 0,
      "outputs": []
    },
    {
      "metadata": {
        "id": "ctk4FJXvi5R_",
        "colab_type": "code",
        "colab": {
          "base_uri": "https://localhost:8080/",
          "height": 14776
        },
        "outputId": "46b64c1a-52c7-4780-d200-907f3b79985f"
      },
      "cell_type": "code",
      "source": [
        "num_features = 300    # Word vector dimensionality                      \n",
        "min_word_count = 10   # Minimum word count                        \n",
        "num_workers = 4       # Number of threads to run in parallel\n",
        "context = 10          # Context window size                                                                                    \n",
        "downsampling = 1e-3   # Downsample setting for frequent words\n",
        "\n",
        "# Initialize and train the model (this will take some time)\n",
        "from gensim.models import word2vec\n",
        "print (\"Training model...\")\n",
        "model = word2vec.Word2Vec(sentences, workers=num_workers, \n",
        "            size=num_features, min_count = min_word_count, \n",
        "            window = context, sample = downsampling)\n",
        "\n",
        "model_name = \"300features_10minwords_10context\"\n",
        "model.save(model_name)"
      ],
      "execution_count": 37,
      "outputs": [
        {
          "output_type": "stream",
          "text": [
            "2019-03-12 02:07:19,285 : INFO : 'pattern' package not found; tag filters are not available for English\n",
            "2019-03-12 02:07:19,297 : INFO : collecting all words and their counts\n",
            "2019-03-12 02:07:19,301 : INFO : PROGRESS: at sentence #0, processed 0 words, keeping 0 word types\n"
          ],
          "name": "stderr"
        },
        {
          "output_type": "stream",
          "text": [
            "Training model...\n"
          ],
          "name": "stdout"
        },
        {
          "output_type": "stream",
          "text": [
            "2019-03-12 02:07:20,161 : INFO : PROGRESS: at sentence #10000, processed 3010815 words, keeping 149785 word types\n",
            "2019-03-12 02:07:21,011 : INFO : PROGRESS: at sentence #20000, processed 6022751 words, keeping 154431 word types\n",
            "2019-03-12 02:07:21,846 : INFO : PROGRESS: at sentence #30000, processed 9003470 words, keeping 156215 word types\n",
            "2019-03-12 02:07:22,693 : INFO : PROGRESS: at sentence #40000, processed 11983031 words, keeping 157042 word types\n",
            "2019-03-12 02:07:23,567 : INFO : PROGRESS: at sentence #50000, processed 14972208 words, keeping 157510 word types\n",
            "2019-03-12 02:07:24,478 : INFO : PROGRESS: at sentence #60000, processed 17997903 words, keeping 157808 word types\n",
            "2019-03-12 02:07:25,388 : INFO : PROGRESS: at sentence #70000, processed 21006024 words, keeping 158033 word types\n",
            "2019-03-12 02:07:26,302 : INFO : PROGRESS: at sentence #80000, processed 24008753 words, keeping 158419 word types\n",
            "2019-03-12 02:07:27,224 : INFO : PROGRESS: at sentence #90000, processed 26996457 words, keeping 158600 word types\n",
            "2019-03-12 02:07:28,163 : INFO : PROGRESS: at sentence #100000, processed 30015533 words, keeping 158731 word types\n",
            "2019-03-12 02:07:29,112 : INFO : PROGRESS: at sentence #110000, processed 33047179 words, keeping 158841 word types\n",
            "2019-03-12 02:07:30,055 : INFO : PROGRESS: at sentence #120000, processed 36071109 words, keeping 158919 word types\n",
            "2019-03-12 02:07:30,993 : INFO : collected 158990 word types from a corpus of 39058382 raw words and 130000 sentences\n",
            "2019-03-12 02:07:30,995 : INFO : Loading a fresh vocabulary\n",
            "2019-03-12 02:07:32,083 : INFO : effective_min_count=10 retains 151576 unique words (95% of original 158990, drops 7414)\n",
            "2019-03-12 02:07:32,084 : INFO : effective_min_count=10 leaves 39024147 word corpus (99% of original 39058382, drops 34235)\n",
            "2019-03-12 02:07:32,557 : INFO : deleting the raw counts dictionary of 158990 items\n",
            "2019-03-12 02:07:32,562 : INFO : sample=0.001 downsamples 0 most-common words\n",
            "2019-03-12 02:07:32,563 : INFO : downsampling leaves estimated 39024147 word corpus (100.0% of prior 39024147)\n",
            "2019-03-12 02:07:33,147 : INFO : estimated required memory for 151576 words and 300 dimensions: 439570400 bytes\n",
            "2019-03-12 02:07:33,148 : INFO : resetting layer weights\n",
            "2019-03-12 02:07:35,456 : INFO : training model with 4 workers on 151576 vocabulary and 300 features, using sg=0 hs=0 sample=0.001 negative=5 window=10\n",
            "2019-03-12 02:07:36,520 : INFO : EPOCH 1 - PROGRESS: at 0.59% examples, 212809 words/s, in_qsize 7, out_qsize 0\n",
            "2019-03-12 02:07:37,548 : INFO : EPOCH 1 - PROGRESS: at 1.18% examples, 220538 words/s, in_qsize 7, out_qsize 0\n",
            "2019-03-12 02:07:38,650 : INFO : EPOCH 1 - PROGRESS: at 1.79% examples, 220789 words/s, in_qsize 7, out_qsize 0\n",
            "2019-03-12 02:07:39,745 : INFO : EPOCH 1 - PROGRESS: at 2.42% examples, 221003 words/s, in_qsize 7, out_qsize 0\n",
            "2019-03-12 02:07:40,746 : INFO : EPOCH 1 - PROGRESS: at 3.06% examples, 225593 words/s, in_qsize 7, out_qsize 0\n",
            "2019-03-12 02:07:41,769 : INFO : EPOCH 1 - PROGRESS: at 3.61% examples, 222894 words/s, in_qsize 7, out_qsize 0\n",
            "2019-03-12 02:07:42,790 : INFO : EPOCH 1 - PROGRESS: at 4.21% examples, 223563 words/s, in_qsize 7, out_qsize 0\n",
            "2019-03-12 02:07:43,818 : INFO : EPOCH 1 - PROGRESS: at 4.77% examples, 222945 words/s, in_qsize 7, out_qsize 0\n",
            "2019-03-12 02:07:44,820 : INFO : EPOCH 1 - PROGRESS: at 5.35% examples, 223004 words/s, in_qsize 7, out_qsize 0\n",
            "2019-03-12 02:07:45,849 : INFO : EPOCH 1 - PROGRESS: at 5.91% examples, 222381 words/s, in_qsize 7, out_qsize 1\n",
            "2019-03-12 02:07:46,910 : INFO : EPOCH 1 - PROGRESS: at 6.52% examples, 222296 words/s, in_qsize 7, out_qsize 0\n",
            "2019-03-12 02:07:47,912 : INFO : EPOCH 1 - PROGRESS: at 7.09% examples, 222376 words/s, in_qsize 7, out_qsize 0\n",
            "2019-03-12 02:07:48,966 : INFO : EPOCH 1 - PROGRESS: at 7.68% examples, 222486 words/s, in_qsize 7, out_qsize 0\n",
            "2019-03-12 02:07:50,000 : INFO : EPOCH 1 - PROGRESS: at 8.27% examples, 223054 words/s, in_qsize 7, out_qsize 0\n",
            "2019-03-12 02:07:51,038 : INFO : EPOCH 1 - PROGRESS: at 8.87% examples, 222856 words/s, in_qsize 7, out_qsize 0\n",
            "2019-03-12 02:07:52,057 : INFO : EPOCH 1 - PROGRESS: at 9.47% examples, 222839 words/s, in_qsize 7, out_qsize 0\n",
            "2019-03-12 02:07:53,062 : INFO : EPOCH 1 - PROGRESS: at 10.06% examples, 222911 words/s, in_qsize 7, out_qsize 0\n",
            "2019-03-12 02:07:54,081 : INFO : EPOCH 1 - PROGRESS: at 10.63% examples, 222768 words/s, in_qsize 6, out_qsize 1\n",
            "2019-03-12 02:07:55,130 : INFO : EPOCH 1 - PROGRESS: at 11.22% examples, 222728 words/s, in_qsize 7, out_qsize 0\n",
            "2019-03-12 02:07:56,171 : INFO : EPOCH 1 - PROGRESS: at 11.83% examples, 223187 words/s, in_qsize 7, out_qsize 0\n",
            "2019-03-12 02:07:57,211 : INFO : EPOCH 1 - PROGRESS: at 12.39% examples, 222829 words/s, in_qsize 7, out_qsize 0\n",
            "2019-03-12 02:07:58,247 : INFO : EPOCH 1 - PROGRESS: at 13.01% examples, 222927 words/s, in_qsize 7, out_qsize 0\n",
            "2019-03-12 02:07:59,304 : INFO : EPOCH 1 - PROGRESS: at 13.62% examples, 222886 words/s, in_qsize 7, out_qsize 0\n",
            "2019-03-12 02:08:00,324 : INFO : EPOCH 1 - PROGRESS: at 14.21% examples, 223165 words/s, in_qsize 7, out_qsize 0\n",
            "2019-03-12 02:08:01,349 : INFO : EPOCH 1 - PROGRESS: at 14.76% examples, 223059 words/s, in_qsize 7, out_qsize 0\n",
            "2019-03-12 02:08:02,386 : INFO : EPOCH 1 - PROGRESS: at 15.36% examples, 223161 words/s, in_qsize 7, out_qsize 0\n",
            "2019-03-12 02:08:03,411 : INFO : EPOCH 1 - PROGRESS: at 15.94% examples, 223006 words/s, in_qsize 7, out_qsize 0\n",
            "2019-03-12 02:08:04,446 : INFO : EPOCH 1 - PROGRESS: at 16.52% examples, 222795 words/s, in_qsize 7, out_qsize 0\n",
            "2019-03-12 02:08:05,446 : INFO : EPOCH 1 - PROGRESS: at 17.12% examples, 223193 words/s, in_qsize 7, out_qsize 0\n",
            "2019-03-12 02:08:06,475 : INFO : EPOCH 1 - PROGRESS: at 17.74% examples, 223089 words/s, in_qsize 7, out_qsize 0\n",
            "2019-03-12 02:08:07,488 : INFO : EPOCH 1 - PROGRESS: at 18.29% examples, 222957 words/s, in_qsize 7, out_qsize 0\n",
            "2019-03-12 02:08:08,502 : INFO : EPOCH 1 - PROGRESS: at 18.87% examples, 222968 words/s, in_qsize 7, out_qsize 0\n",
            "2019-03-12 02:08:09,517 : INFO : EPOCH 1 - PROGRESS: at 19.49% examples, 223218 words/s, in_qsize 7, out_qsize 0\n",
            "2019-03-12 02:08:10,543 : INFO : EPOCH 1 - PROGRESS: at 20.07% examples, 223114 words/s, in_qsize 8, out_qsize 0\n",
            "2019-03-12 02:08:11,565 : INFO : EPOCH 1 - PROGRESS: at 20.65% examples, 223033 words/s, in_qsize 7, out_qsize 0\n",
            "2019-03-12 02:08:12,617 : INFO : EPOCH 1 - PROGRESS: at 21.25% examples, 223050 words/s, in_qsize 7, out_qsize 0\n",
            "2019-03-12 02:08:13,658 : INFO : EPOCH 1 - PROGRESS: at 21.89% examples, 223412 words/s, in_qsize 7, out_qsize 0\n",
            "2019-03-12 02:08:14,705 : INFO : EPOCH 1 - PROGRESS: at 22.48% examples, 223227 words/s, in_qsize 7, out_qsize 0\n",
            "2019-03-12 02:08:15,786 : INFO : EPOCH 1 - PROGRESS: at 23.08% examples, 223098 words/s, in_qsize 7, out_qsize 0\n",
            "2019-03-12 02:08:16,822 : INFO : EPOCH 1 - PROGRESS: at 23.68% examples, 223188 words/s, in_qsize 7, out_qsize 0\n",
            "2019-03-12 02:08:17,880 : INFO : EPOCH 1 - PROGRESS: at 24.28% examples, 223172 words/s, in_qsize 7, out_qsize 0\n",
            "2019-03-12 02:08:18,956 : INFO : EPOCH 1 - PROGRESS: at 24.92% examples, 223268 words/s, in_qsize 7, out_qsize 0\n",
            "2019-03-12 02:08:19,993 : INFO : EPOCH 1 - PROGRESS: at 25.51% examples, 223115 words/s, in_qsize 7, out_qsize 1\n",
            "2019-03-12 02:08:21,007 : INFO : EPOCH 1 - PROGRESS: at 26.14% examples, 223537 words/s, in_qsize 7, out_qsize 0\n",
            "2019-03-12 02:08:22,027 : INFO : EPOCH 1 - PROGRESS: at 26.70% examples, 223268 words/s, in_qsize 7, out_qsize 0\n",
            "2019-03-12 02:08:23,086 : INFO : EPOCH 1 - PROGRESS: at 27.30% examples, 223047 words/s, in_qsize 7, out_qsize 0\n",
            "2019-03-12 02:08:24,109 : INFO : EPOCH 1 - PROGRESS: at 27.93% examples, 223206 words/s, in_qsize 7, out_qsize 0\n",
            "2019-03-12 02:08:25,109 : INFO : EPOCH 1 - PROGRESS: at 28.51% examples, 223226 words/s, in_qsize 8, out_qsize 0\n",
            "2019-03-12 02:08:26,137 : INFO : EPOCH 1 - PROGRESS: at 29.09% examples, 223128 words/s, in_qsize 7, out_qsize 0\n",
            "2019-03-12 02:08:27,207 : INFO : EPOCH 1 - PROGRESS: at 29.67% examples, 223064 words/s, in_qsize 7, out_qsize 0\n",
            "2019-03-12 02:08:28,216 : INFO : EPOCH 1 - PROGRESS: at 30.23% examples, 223070 words/s, in_qsize 7, out_qsize 0\n",
            "2019-03-12 02:08:29,218 : INFO : EPOCH 1 - PROGRESS: at 30.80% examples, 222931 words/s, in_qsize 7, out_qsize 0\n",
            "2019-03-12 02:08:30,258 : INFO : EPOCH 1 - PROGRESS: at 31.40% examples, 222992 words/s, in_qsize 8, out_qsize 0\n",
            "2019-03-12 02:08:31,290 : INFO : EPOCH 1 - PROGRESS: at 31.96% examples, 222879 words/s, in_qsize 7, out_qsize 0\n",
            "2019-03-12 02:08:32,314 : INFO : EPOCH 1 - PROGRESS: at 32.55% examples, 222928 words/s, in_qsize 8, out_qsize 0\n",
            "2019-03-12 02:08:33,347 : INFO : EPOCH 1 - PROGRESS: at 33.14% examples, 222966 words/s, in_qsize 8, out_qsize 0\n",
            "2019-03-12 02:08:34,376 : INFO : EPOCH 1 - PROGRESS: at 33.72% examples, 222907 words/s, in_qsize 8, out_qsize 0\n",
            "2019-03-12 02:08:35,403 : INFO : EPOCH 1 - PROGRESS: at 34.32% examples, 222867 words/s, in_qsize 7, out_qsize 0\n",
            "2019-03-12 02:08:36,409 : INFO : EPOCH 1 - PROGRESS: at 34.91% examples, 222877 words/s, in_qsize 7, out_qsize 0\n",
            "2019-03-12 02:08:37,470 : INFO : EPOCH 1 - PROGRESS: at 35.52% examples, 222871 words/s, in_qsize 7, out_qsize 0\n",
            "2019-03-12 02:08:38,522 : INFO : EPOCH 1 - PROGRESS: at 36.13% examples, 222898 words/s, in_qsize 7, out_qsize 0\n",
            "2019-03-12 02:08:39,561 : INFO : EPOCH 1 - PROGRESS: at 36.73% examples, 222977 words/s, in_qsize 7, out_qsize 0\n",
            "2019-03-12 02:08:40,589 : INFO : EPOCH 1 - PROGRESS: at 37.31% examples, 222920 words/s, in_qsize 7, out_qsize 0\n",
            "2019-03-12 02:08:41,657 : INFO : EPOCH 1 - PROGRESS: at 37.92% examples, 222880 words/s, in_qsize 6, out_qsize 1\n",
            "2019-03-12 02:08:42,705 : INFO : EPOCH 1 - PROGRESS: at 38.53% examples, 222915 words/s, in_qsize 7, out_qsize 0\n",
            "2019-03-12 02:08:43,711 : INFO : EPOCH 1 - PROGRESS: at 39.12% examples, 222930 words/s, in_qsize 7, out_qsize 0\n",
            "2019-03-12 02:08:44,732 : INFO : EPOCH 1 - PROGRESS: at 39.69% examples, 222887 words/s, in_qsize 7, out_qsize 0\n",
            "2019-03-12 02:08:45,781 : INFO : EPOCH 1 - PROGRESS: at 40.31% examples, 222905 words/s, in_qsize 7, out_qsize 0\n",
            "2019-03-12 02:08:46,812 : INFO : EPOCH 1 - PROGRESS: at 40.91% examples, 222956 words/s, in_qsize 8, out_qsize 0\n",
            "2019-03-12 02:08:47,845 : INFO : EPOCH 1 - PROGRESS: at 41.48% examples, 222860 words/s, in_qsize 6, out_qsize 1\n",
            "2019-03-12 02:08:48,879 : INFO : EPOCH 1 - PROGRESS: at 42.07% examples, 222933 words/s, in_qsize 7, out_qsize 0\n",
            "2019-03-12 02:08:49,971 : INFO : EPOCH 1 - PROGRESS: at 42.66% examples, 222918 words/s, in_qsize 7, out_qsize 0\n",
            "2019-03-12 02:08:50,982 : INFO : EPOCH 1 - PROGRESS: at 43.24% examples, 223037 words/s, in_qsize 7, out_qsize 0\n",
            "2019-03-12 02:08:52,030 : INFO : EPOCH 1 - PROGRESS: at 43.83% examples, 222923 words/s, in_qsize 7, out_qsize 0\n",
            "2019-03-12 02:08:53,107 : INFO : EPOCH 1 - PROGRESS: at 44.46% examples, 222955 words/s, in_qsize 7, out_qsize 0\n",
            "2019-03-12 02:08:54,129 : INFO : EPOCH 1 - PROGRESS: at 45.06% examples, 223046 words/s, in_qsize 7, out_qsize 0\n",
            "2019-03-12 02:08:55,134 : INFO : EPOCH 1 - PROGRESS: at 45.63% examples, 223164 words/s, in_qsize 7, out_qsize 0\n",
            "2019-03-12 02:08:56,169 : INFO : EPOCH 1 - PROGRESS: at 46.21% examples, 223093 words/s, in_qsize 7, out_qsize 0\n",
            "2019-03-12 02:08:57,182 : INFO : EPOCH 1 - PROGRESS: at 46.76% examples, 223059 words/s, in_qsize 7, out_qsize 0\n",
            "2019-03-12 02:08:58,255 : INFO : EPOCH 1 - PROGRESS: at 47.42% examples, 223134 words/s, in_qsize 7, out_qsize 0\n",
            "2019-03-12 02:08:59,267 : INFO : EPOCH 1 - PROGRESS: at 48.02% examples, 223253 words/s, in_qsize 7, out_qsize 0\n",
            "2019-03-12 02:09:00,323 : INFO : EPOCH 1 - PROGRESS: at 48.60% examples, 223131 words/s, in_qsize 7, out_qsize 0\n",
            "2019-03-12 02:09:01,385 : INFO : EPOCH 1 - PROGRESS: at 49.20% examples, 223188 words/s, in_qsize 7, out_qsize 1\n",
            "2019-03-12 02:09:02,353 : INFO : EPOCH 1 - PROGRESS: at 49.78% examples, 223109 words/s, in_qsize 7, out_qsize 0\n",
            "2019-03-12 02:09:03,390 : INFO : EPOCH 1 - PROGRESS: at 50.37% examples, 223153 words/s, in_qsize 7, out_qsize 0\n",
            "2019-03-12 02:09:04,467 : INFO : EPOCH 1 - PROGRESS: at 50.99% examples, 223203 words/s, in_qsize 8, out_qsize 0\n",
            "2019-03-12 02:09:05,527 : INFO : EPOCH 1 - PROGRESS: at 51.60% examples, 223186 words/s, in_qsize 7, out_qsize 0\n",
            "2019-03-12 02:09:06,590 : INFO : EPOCH 1 - PROGRESS: at 52.19% examples, 223159 words/s, in_qsize 7, out_qsize 0\n",
            "2019-03-12 02:09:07,618 : INFO : EPOCH 1 - PROGRESS: at 52.77% examples, 223232 words/s, in_qsize 7, out_qsize 0\n",
            "2019-03-12 02:09:08,639 : INFO : EPOCH 1 - PROGRESS: at 53.36% examples, 223210 words/s, in_qsize 7, out_qsize 0\n",
            "2019-03-12 02:09:09,715 : INFO : EPOCH 1 - PROGRESS: at 53.96% examples, 223153 words/s, in_qsize 7, out_qsize 0\n",
            "2019-03-12 02:09:10,742 : INFO : EPOCH 1 - PROGRESS: at 54.58% examples, 223222 words/s, in_qsize 6, out_qsize 1\n",
            "2019-03-12 02:09:11,762 : INFO : EPOCH 1 - PROGRESS: at 55.15% examples, 223217 words/s, in_qsize 6, out_qsize 1\n",
            "2019-03-12 02:09:12,765 : INFO : EPOCH 1 - PROGRESS: at 55.71% examples, 223248 words/s, in_qsize 8, out_qsize 1\n",
            "2019-03-12 02:09:13,772 : INFO : EPOCH 1 - PROGRESS: at 56.30% examples, 223241 words/s, in_qsize 7, out_qsize 0\n",
            "2019-03-12 02:09:14,851 : INFO : EPOCH 1 - PROGRESS: at 56.93% examples, 223294 words/s, in_qsize 7, out_qsize 0\n",
            "2019-03-12 02:09:15,892 : INFO : EPOCH 1 - PROGRESS: at 57.53% examples, 223317 words/s, in_qsize 8, out_qsize 0\n",
            "2019-03-12 02:09:16,894 : INFO : EPOCH 1 - PROGRESS: at 58.11% examples, 223338 words/s, in_qsize 7, out_qsize 0\n",
            "2019-03-12 02:09:17,927 : INFO : EPOCH 1 - PROGRESS: at 58.70% examples, 223292 words/s, in_qsize 6, out_qsize 1\n",
            "2019-03-12 02:09:18,955 : INFO : EPOCH 1 - PROGRESS: at 59.31% examples, 223411 words/s, in_qsize 7, out_qsize 0\n",
            "2019-03-12 02:09:19,957 : INFO : EPOCH 1 - PROGRESS: at 59.87% examples, 223338 words/s, in_qsize 7, out_qsize 0\n",
            "2019-03-12 02:09:20,967 : INFO : EPOCH 1 - PROGRESS: at 60.47% examples, 223415 words/s, in_qsize 7, out_qsize 0\n",
            "2019-03-12 02:09:21,989 : INFO : EPOCH 1 - PROGRESS: at 61.04% examples, 223390 words/s, in_qsize 7, out_qsize 0\n",
            "2019-03-12 02:09:23,047 : INFO : EPOCH 1 - PROGRESS: at 61.65% examples, 223382 words/s, in_qsize 8, out_qsize 0\n",
            "2019-03-12 02:09:24,099 : INFO : EPOCH 1 - PROGRESS: at 62.26% examples, 223382 words/s, in_qsize 6, out_qsize 1\n",
            "2019-03-12 02:09:25,144 : INFO : EPOCH 1 - PROGRESS: at 62.89% examples, 223443 words/s, in_qsize 7, out_qsize 0\n",
            "2019-03-12 02:09:26,162 : INFO : EPOCH 1 - PROGRESS: at 63.50% examples, 223470 words/s, in_qsize 7, out_qsize 0\n",
            "2019-03-12 02:09:27,164 : INFO : EPOCH 1 - PROGRESS: at 64.10% examples, 223489 words/s, in_qsize 7, out_qsize 0\n",
            "2019-03-12 02:09:28,197 : INFO : EPOCH 1 - PROGRESS: at 64.69% examples, 223575 words/s, in_qsize 7, out_qsize 0\n",
            "2019-03-12 02:09:29,199 : INFO : EPOCH 1 - PROGRESS: at 65.29% examples, 223635 words/s, in_qsize 8, out_qsize 0\n",
            "2019-03-12 02:09:30,217 : INFO : EPOCH 1 - PROGRESS: at 65.86% examples, 223630 words/s, in_qsize 7, out_qsize 0\n",
            "2019-03-12 02:09:31,323 : INFO : EPOCH 1 - PROGRESS: at 66.49% examples, 223607 words/s, in_qsize 8, out_qsize 0\n",
            "2019-03-12 02:09:32,339 : INFO : EPOCH 1 - PROGRESS: at 67.06% examples, 223630 words/s, in_qsize 8, out_qsize 0\n",
            "2019-03-12 02:09:33,365 : INFO : EPOCH 1 - PROGRESS: at 67.68% examples, 223688 words/s, in_qsize 7, out_qsize 0\n",
            "2019-03-12 02:09:34,423 : INFO : EPOCH 1 - PROGRESS: at 68.28% examples, 223679 words/s, in_qsize 8, out_qsize 1\n",
            "2019-03-12 02:09:35,427 : INFO : EPOCH 1 - PROGRESS: at 68.83% examples, 223599 words/s, in_qsize 7, out_qsize 0\n",
            "2019-03-12 02:09:36,463 : INFO : EPOCH 1 - PROGRESS: at 69.45% examples, 223634 words/s, in_qsize 7, out_qsize 0\n",
            "2019-03-12 02:09:37,486 : INFO : EPOCH 1 - PROGRESS: at 70.05% examples, 223677 words/s, in_qsize 7, out_qsize 0\n",
            "2019-03-12 02:09:38,572 : INFO : EPOCH 1 - PROGRESS: at 70.67% examples, 223696 words/s, in_qsize 8, out_qsize 0\n",
            "2019-03-12 02:09:39,599 : INFO : EPOCH 1 - PROGRESS: at 71.28% examples, 223748 words/s, in_qsize 7, out_qsize 0\n",
            "2019-03-12 02:09:40,645 : INFO : EPOCH 1 - PROGRESS: at 71.90% examples, 223758 words/s, in_qsize 7, out_qsize 0\n",
            "2019-03-12 02:09:41,703 : INFO : EPOCH 1 - PROGRESS: at 72.49% examples, 223745 words/s, in_qsize 7, out_qsize 0\n",
            "2019-03-12 02:09:42,710 : INFO : EPOCH 1 - PROGRESS: at 73.11% examples, 223902 words/s, in_qsize 7, out_qsize 0\n",
            "2019-03-12 02:09:43,749 : INFO : EPOCH 1 - PROGRESS: at 73.67% examples, 223843 words/s, in_qsize 7, out_qsize 0\n",
            "2019-03-12 02:09:44,800 : INFO : EPOCH 1 - PROGRESS: at 74.26% examples, 223850 words/s, in_qsize 7, out_qsize 0\n",
            "2019-03-12 02:09:45,843 : INFO : EPOCH 1 - PROGRESS: at 74.87% examples, 223872 words/s, in_qsize 7, out_qsize 0\n",
            "2019-03-12 02:09:46,853 : INFO : EPOCH 1 - PROGRESS: at 75.50% examples, 224015 words/s, in_qsize 7, out_qsize 0\n",
            "2019-03-12 02:09:47,854 : INFO : EPOCH 1 - PROGRESS: at 76.06% examples, 224015 words/s, in_qsize 7, out_qsize 0\n",
            "2019-03-12 02:09:48,884 : INFO : EPOCH 1 - PROGRESS: at 76.65% examples, 223965 words/s, in_qsize 7, out_qsize 0\n",
            "2019-03-12 02:09:49,957 : INFO : EPOCH 1 - PROGRESS: at 77.28% examples, 223999 words/s, in_qsize 7, out_qsize 0\n",
            "2019-03-12 02:09:50,958 : INFO : EPOCH 1 - PROGRESS: at 77.89% examples, 224076 words/s, in_qsize 8, out_qsize 0\n",
            "2019-03-12 02:09:52,063 : INFO : EPOCH 1 - PROGRESS: at 78.50% examples, 224056 words/s, in_qsize 6, out_qsize 1\n",
            "2019-03-12 02:09:53,084 : INFO : EPOCH 1 - PROGRESS: at 79.10% examples, 224107 words/s, in_qsize 8, out_qsize 0\n",
            "2019-03-12 02:09:54,113 : INFO : EPOCH 1 - PROGRESS: at 79.66% examples, 224138 words/s, in_qsize 7, out_qsize 0\n",
            "2019-03-12 02:09:55,160 : INFO : EPOCH 1 - PROGRESS: at 80.28% examples, 224133 words/s, in_qsize 7, out_qsize 0\n",
            "2019-03-12 02:09:56,188 : INFO : EPOCH 1 - PROGRESS: at 80.86% examples, 224155 words/s, in_qsize 7, out_qsize 0\n",
            "2019-03-12 02:09:57,224 : INFO : EPOCH 1 - PROGRESS: at 81.45% examples, 224155 words/s, in_qsize 6, out_qsize 1\n",
            "2019-03-12 02:09:58,257 : INFO : EPOCH 1 - PROGRESS: at 82.06% examples, 224254 words/s, in_qsize 7, out_qsize 0\n",
            "2019-03-12 02:09:59,288 : INFO : EPOCH 1 - PROGRESS: at 82.67% examples, 224280 words/s, in_qsize 6, out_qsize 1\n",
            "2019-03-12 02:10:00,291 : INFO : EPOCH 1 - PROGRESS: at 83.24% examples, 224277 words/s, in_qsize 7, out_qsize 0\n",
            "2019-03-12 02:10:01,326 : INFO : EPOCH 1 - PROGRESS: at 83.84% examples, 224295 words/s, in_qsize 8, out_qsize 0\n",
            "2019-03-12 02:10:02,361 : INFO : EPOCH 1 - PROGRESS: at 84.45% examples, 224346 words/s, in_qsize 7, out_qsize 0\n",
            "2019-03-12 02:10:03,340 : INFO : EPOCH 1 - PROGRESS: at 85.02% examples, 224346 words/s, in_qsize 7, out_qsize 0\n",
            "2019-03-12 02:10:04,352 : INFO : EPOCH 1 - PROGRESS: at 85.63% examples, 224407 words/s, in_qsize 8, out_qsize 0\n",
            "2019-03-12 02:10:05,418 : INFO : EPOCH 1 - PROGRESS: at 86.21% examples, 224383 words/s, in_qsize 7, out_qsize 0\n",
            "2019-03-12 02:10:06,440 : INFO : EPOCH 1 - PROGRESS: at 86.82% examples, 224419 words/s, in_qsize 7, out_qsize 0\n",
            "2019-03-12 02:10:07,522 : INFO : EPOCH 1 - PROGRESS: at 87.45% examples, 224438 words/s, in_qsize 7, out_qsize 0\n",
            "2019-03-12 02:10:08,589 : INFO : EPOCH 1 - PROGRESS: at 88.05% examples, 224460 words/s, in_qsize 7, out_qsize 0\n",
            "2019-03-12 02:10:09,658 : INFO : EPOCH 1 - PROGRESS: at 88.67% examples, 224494 words/s, in_qsize 6, out_qsize 1\n",
            "2019-03-12 02:10:10,761 : INFO : EPOCH 1 - PROGRESS: at 89.31% examples, 224534 words/s, in_qsize 6, out_qsize 1\n",
            "2019-03-12 02:10:11,804 : INFO : EPOCH 1 - PROGRESS: at 89.93% examples, 224546 words/s, in_qsize 8, out_qsize 0\n",
            "2019-03-12 02:10:12,922 : INFO : EPOCH 1 - PROGRESS: at 90.59% examples, 224611 words/s, in_qsize 6, out_qsize 1\n",
            "2019-03-12 02:10:14,000 : INFO : EPOCH 1 - PROGRESS: at 91.22% examples, 224644 words/s, in_qsize 7, out_qsize 1\n",
            "2019-03-12 02:10:15,100 : INFO : EPOCH 1 - PROGRESS: at 91.89% examples, 224668 words/s, in_qsize 8, out_qsize 0\n",
            "2019-03-12 02:10:16,153 : INFO : EPOCH 1 - PROGRESS: at 92.49% examples, 224708 words/s, in_qsize 6, out_qsize 1\n",
            "2019-03-12 02:10:17,186 : INFO : EPOCH 1 - PROGRESS: at 93.07% examples, 224722 words/s, in_qsize 7, out_qsize 0\n",
            "2019-03-12 02:10:18,263 : INFO : EPOCH 1 - PROGRESS: at 93.70% examples, 224743 words/s, in_qsize 7, out_qsize 0\n",
            "2019-03-12 02:10:19,354 : INFO : EPOCH 1 - PROGRESS: at 94.36% examples, 224792 words/s, in_qsize 7, out_qsize 0\n",
            "2019-03-12 02:10:20,407 : INFO : EPOCH 1 - PROGRESS: at 95.02% examples, 224852 words/s, in_qsize 7, out_qsize 0\n",
            "2019-03-12 02:10:21,445 : INFO : EPOCH 1 - PROGRESS: at 95.64% examples, 224867 words/s, in_qsize 7, out_qsize 0\n",
            "2019-03-12 02:10:22,487 : INFO : EPOCH 1 - PROGRESS: at 96.21% examples, 224860 words/s, in_qsize 7, out_qsize 0\n",
            "2019-03-12 02:10:23,502 : INFO : EPOCH 1 - PROGRESS: at 96.84% examples, 224905 words/s, in_qsize 7, out_qsize 0\n",
            "2019-03-12 02:10:24,503 : INFO : EPOCH 1 - PROGRESS: at 97.41% examples, 224897 words/s, in_qsize 7, out_qsize 0\n",
            "2019-03-12 02:10:25,523 : INFO : EPOCH 1 - PROGRESS: at 98.00% examples, 224873 words/s, in_qsize 8, out_qsize 1\n",
            "2019-03-12 02:10:26,527 : INFO : EPOCH 1 - PROGRESS: at 98.66% examples, 224984 words/s, in_qsize 7, out_qsize 0\n",
            "2019-03-12 02:10:27,574 : INFO : EPOCH 1 - PROGRESS: at 99.24% examples, 225007 words/s, in_qsize 7, out_qsize 0\n",
            "2019-03-12 02:10:28,617 : INFO : EPOCH 1 - PROGRESS: at 99.82% examples, 224983 words/s, in_qsize 7, out_qsize 0\n",
            "2019-03-12 02:10:28,780 : INFO : worker thread finished; awaiting finish of 3 more threads\n",
            "2019-03-12 02:10:28,809 : INFO : worker thread finished; awaiting finish of 2 more threads\n",
            "2019-03-12 02:10:28,841 : INFO : worker thread finished; awaiting finish of 1 more threads\n",
            "2019-03-12 02:10:28,846 : INFO : worker thread finished; awaiting finish of 0 more threads\n",
            "2019-03-12 02:10:28,848 : INFO : EPOCH - 1 : training on 39058382 raw words (39024147 effective words) took 173.4s, 225074 effective words/s\n",
            "2019-03-12 02:10:29,879 : INFO : EPOCH 2 - PROGRESS: at 0.59% examples, 218915 words/s, in_qsize 7, out_qsize 0\n",
            "2019-03-12 02:10:30,911 : INFO : EPOCH 2 - PROGRESS: at 1.20% examples, 227922 words/s, in_qsize 7, out_qsize 0\n",
            "2019-03-12 02:10:31,962 : INFO : EPOCH 2 - PROGRESS: at 1.79% examples, 226180 words/s, in_qsize 7, out_qsize 1\n",
            "2019-03-12 02:10:32,983 : INFO : EPOCH 2 - PROGRESS: at 2.39% examples, 226652 words/s, in_qsize 7, out_qsize 0\n",
            "2019-03-12 02:10:34,055 : INFO : EPOCH 2 - PROGRESS: at 3.03% examples, 227132 words/s, in_qsize 7, out_qsize 1\n",
            "2019-03-12 02:10:35,119 : INFO : EPOCH 2 - PROGRESS: at 3.68% examples, 228946 words/s, in_qsize 7, out_qsize 0\n",
            "2019-03-12 02:10:36,147 : INFO : EPOCH 2 - PROGRESS: at 4.26% examples, 227214 words/s, in_qsize 6, out_qsize 1\n",
            "2019-03-12 02:10:37,196 : INFO : EPOCH 2 - PROGRESS: at 4.87% examples, 227854 words/s, in_qsize 7, out_qsize 0\n",
            "2019-03-12 02:10:38,216 : INFO : EPOCH 2 - PROGRESS: at 5.48% examples, 228013 words/s, in_qsize 7, out_qsize 0\n",
            "2019-03-12 02:10:39,281 : INFO : EPOCH 2 - PROGRESS: at 6.08% examples, 228014 words/s, in_qsize 7, out_qsize 0\n",
            "2019-03-12 02:10:40,297 : INFO : EPOCH 2 - PROGRESS: at 6.69% examples, 228269 words/s, in_qsize 7, out_qsize 0\n",
            "2019-03-12 02:10:41,339 : INFO : EPOCH 2 - PROGRESS: at 7.28% examples, 227968 words/s, in_qsize 6, out_qsize 1\n",
            "2019-03-12 02:10:42,351 : INFO : EPOCH 2 - PROGRESS: at 7.90% examples, 229011 words/s, in_qsize 7, out_qsize 0\n",
            "2019-03-12 02:10:43,355 : INFO : EPOCH 2 - PROGRESS: at 8.47% examples, 228508 words/s, in_qsize 7, out_qsize 0\n",
            "2019-03-12 02:10:44,435 : INFO : EPOCH 2 - PROGRESS: at 9.13% examples, 229068 words/s, in_qsize 7, out_qsize 0\n",
            "2019-03-12 02:10:45,449 : INFO : EPOCH 2 - PROGRESS: at 9.76% examples, 229309 words/s, in_qsize 7, out_qsize 0\n",
            "2019-03-12 02:10:46,474 : INFO : EPOCH 2 - PROGRESS: at 10.37% examples, 229860 words/s, in_qsize 7, out_qsize 0\n",
            "2019-03-12 02:10:47,482 : INFO : EPOCH 2 - PROGRESS: at 10.98% examples, 230008 words/s, in_qsize 7, out_qsize 0\n",
            "2019-03-12 02:10:48,583 : INFO : EPOCH 2 - PROGRESS: at 11.63% examples, 230270 words/s, in_qsize 7, out_qsize 0\n",
            "2019-03-12 02:10:49,594 : INFO : EPOCH 2 - PROGRESS: at 12.24% examples, 230805 words/s, in_qsize 7, out_qsize 0\n",
            "2019-03-12 02:10:50,605 : INFO : EPOCH 2 - PROGRESS: at 12.86% examples, 230817 words/s, in_qsize 7, out_qsize 0\n",
            "2019-03-12 02:10:51,606 : INFO : EPOCH 2 - PROGRESS: at 13.46% examples, 230934 words/s, in_qsize 6, out_qsize 1\n",
            "2019-03-12 02:10:52,633 : INFO : EPOCH 2 - PROGRESS: at 14.09% examples, 231251 words/s, in_qsize 7, out_qsize 0\n",
            "2019-03-12 02:10:53,658 : INFO : EPOCH 2 - PROGRESS: at 14.66% examples, 231209 words/s, in_qsize 7, out_qsize 0\n",
            "2019-03-12 02:10:54,675 : INFO : EPOCH 2 - PROGRESS: at 15.27% examples, 231149 words/s, in_qsize 6, out_qsize 1\n",
            "2019-03-12 02:10:55,713 : INFO : EPOCH 2 - PROGRESS: at 15.89% examples, 231306 words/s, in_qsize 7, out_qsize 0\n",
            "2019-03-12 02:10:56,742 : INFO : EPOCH 2 - PROGRESS: at 16.50% examples, 231181 words/s, in_qsize 8, out_qsize 1\n",
            "2019-03-12 02:10:57,750 : INFO : EPOCH 2 - PROGRESS: at 17.12% examples, 231574 words/s, in_qsize 7, out_qsize 0\n",
            "2019-03-12 02:10:58,824 : INFO : EPOCH 2 - PROGRESS: at 17.77% examples, 231140 words/s, in_qsize 6, out_qsize 1\n",
            "2019-03-12 02:10:59,895 : INFO : EPOCH 2 - PROGRESS: at 18.39% examples, 231285 words/s, in_qsize 7, out_qsize 0\n",
            "2019-03-12 02:11:00,953 : INFO : EPOCH 2 - PROGRESS: at 19.02% examples, 231300 words/s, in_qsize 6, out_qsize 1\n",
            "2019-03-12 02:11:02,027 : INFO : EPOCH 2 - PROGRESS: at 19.69% examples, 231478 words/s, in_qsize 7, out_qsize 0\n",
            "2019-03-12 02:11:03,046 : INFO : EPOCH 2 - PROGRESS: at 20.30% examples, 231454 words/s, in_qsize 7, out_qsize 0\n",
            "2019-03-12 02:11:04,063 : INFO : EPOCH 2 - PROGRESS: at 20.90% examples, 231448 words/s, in_qsize 7, out_qsize 0\n",
            "2019-03-12 02:11:05,096 : INFO : EPOCH 2 - PROGRESS: at 21.50% examples, 231367 words/s, in_qsize 7, out_qsize 0\n",
            "2019-03-12 02:11:06,118 : INFO : EPOCH 2 - PROGRESS: at 22.12% examples, 231351 words/s, in_qsize 7, out_qsize 0\n",
            "2019-03-12 02:11:07,119 : INFO : EPOCH 2 - PROGRESS: at 22.71% examples, 231231 words/s, in_qsize 7, out_qsize 0\n",
            "2019-03-12 02:11:08,124 : INFO : EPOCH 2 - PROGRESS: at 23.30% examples, 231313 words/s, in_qsize 7, out_qsize 0\n",
            "2019-03-12 02:11:09,143 : INFO : EPOCH 2 - PROGRESS: at 23.91% examples, 231300 words/s, in_qsize 7, out_qsize 0\n",
            "2019-03-12 02:11:10,166 : INFO : EPOCH 2 - PROGRESS: at 24.52% examples, 231271 words/s, in_qsize 7, out_qsize 0\n",
            "2019-03-12 02:11:11,178 : INFO : EPOCH 2 - PROGRESS: at 25.15% examples, 231504 words/s, in_qsize 7, out_qsize 0\n",
            "2019-03-12 02:11:12,213 : INFO : EPOCH 2 - PROGRESS: at 25.73% examples, 231162 words/s, in_qsize 7, out_qsize 0\n",
            "2019-03-12 02:11:13,250 : INFO : EPOCH 2 - PROGRESS: at 26.36% examples, 231393 words/s, in_qsize 7, out_qsize 0\n",
            "2019-03-12 02:11:14,248 : INFO : EPOCH 2 - PROGRESS: at 26.98% examples, 231376 words/s, in_qsize 6, out_qsize 1\n",
            "2019-03-12 02:11:15,254 : INFO : EPOCH 2 - PROGRESS: at 27.62% examples, 231451 words/s, in_qsize 7, out_qsize 0\n",
            "2019-03-12 02:11:16,347 : INFO : EPOCH 2 - PROGRESS: at 28.26% examples, 231278 words/s, in_qsize 7, out_qsize 0\n",
            "2019-03-12 02:11:17,402 : INFO : EPOCH 2 - PROGRESS: at 28.89% examples, 231292 words/s, in_qsize 7, out_qsize 0\n",
            "2019-03-12 02:11:18,436 : INFO : EPOCH 2 - PROGRESS: at 29.47% examples, 231197 words/s, in_qsize 8, out_qsize 1\n",
            "2019-03-12 02:11:19,493 : INFO : EPOCH 2 - PROGRESS: at 30.08% examples, 231207 words/s, in_qsize 7, out_qsize 0\n",
            "2019-03-12 02:11:20,536 : INFO : EPOCH 2 - PROGRESS: at 30.70% examples, 231104 words/s, in_qsize 7, out_qsize 0\n",
            "2019-03-12 02:11:21,554 : INFO : EPOCH 2 - PROGRESS: at 31.30% examples, 231103 words/s, in_qsize 7, out_qsize 0\n",
            "2019-03-12 02:11:22,612 : INFO : EPOCH 2 - PROGRESS: at 31.92% examples, 231093 words/s, in_qsize 7, out_qsize 0\n",
            "2019-03-12 02:11:23,630 : INFO : EPOCH 2 - PROGRESS: at 32.50% examples, 231003 words/s, in_qsize 7, out_qsize 0\n",
            "2019-03-12 02:11:24,689 : INFO : EPOCH 2 - PROGRESS: at 33.12% examples, 230961 words/s, in_qsize 7, out_qsize 0\n",
            "2019-03-12 02:11:25,733 : INFO : EPOCH 2 - PROGRESS: at 33.75% examples, 231044 words/s, in_qsize 7, out_qsize 0\n",
            "2019-03-12 02:11:26,840 : INFO : EPOCH 2 - PROGRESS: at 34.42% examples, 231044 words/s, in_qsize 8, out_qsize 1\n",
            "2019-03-12 02:11:27,844 : INFO : EPOCH 2 - PROGRESS: at 35.05% examples, 231102 words/s, in_qsize 7, out_qsize 0\n",
            "2019-03-12 02:11:28,898 : INFO : EPOCH 2 - PROGRESS: at 35.66% examples, 231129 words/s, in_qsize 7, out_qsize 0\n",
            "2019-03-12 02:11:29,939 : INFO : EPOCH 2 - PROGRESS: at 36.28% examples, 231054 words/s, in_qsize 7, out_qsize 0\n",
            "2019-03-12 02:11:30,951 : INFO : EPOCH 2 - PROGRESS: at 36.88% examples, 231100 words/s, in_qsize 7, out_qsize 0\n",
            "2019-03-12 02:11:32,028 : INFO : EPOCH 2 - PROGRESS: at 37.51% examples, 231036 words/s, in_qsize 6, out_qsize 1\n",
            "2019-03-12 02:11:33,088 : INFO : EPOCH 2 - PROGRESS: at 38.13% examples, 231046 words/s, in_qsize 7, out_qsize 0\n",
            "2019-03-12 02:11:34,098 : INFO : EPOCH 2 - PROGRESS: at 38.78% examples, 231234 words/s, in_qsize 7, out_qsize 0\n",
            "2019-03-12 02:11:35,139 : INFO : EPOCH 2 - PROGRESS: at 39.40% examples, 231158 words/s, in_qsize 7, out_qsize 0\n",
            "2019-03-12 02:11:36,165 : INFO : EPOCH 2 - PROGRESS: at 40.00% examples, 231107 words/s, in_qsize 7, out_qsize 0\n",
            "2019-03-12 02:11:37,231 : INFO : EPOCH 2 - PROGRESS: at 40.66% examples, 231210 words/s, in_qsize 7, out_qsize 0\n",
            "2019-03-12 02:11:38,258 : INFO : EPOCH 2 - PROGRESS: at 41.28% examples, 231279 words/s, in_qsize 8, out_qsize 0\n",
            "2019-03-12 02:11:39,279 : INFO : EPOCH 2 - PROGRESS: at 41.87% examples, 231270 words/s, in_qsize 7, out_qsize 0\n",
            "2019-03-12 02:11:40,287 : INFO : EPOCH 2 - PROGRESS: at 42.46% examples, 231296 words/s, in_qsize 8, out_qsize 0\n",
            "2019-03-12 02:11:41,303 : INFO : EPOCH 2 - PROGRESS: at 43.06% examples, 231415 words/s, in_qsize 7, out_qsize 0\n",
            "2019-03-12 02:11:42,316 : INFO : EPOCH 2 - PROGRESS: at 43.66% examples, 231407 words/s, in_qsize 7, out_qsize 0\n",
            "2019-03-12 02:11:43,365 : INFO : EPOCH 2 - PROGRESS: at 44.24% examples, 231140 words/s, in_qsize 5, out_qsize 2\n",
            "2019-03-12 02:11:44,395 : INFO : EPOCH 2 - PROGRESS: at 44.85% examples, 231295 words/s, in_qsize 7, out_qsize 0\n",
            "2019-03-12 02:11:45,425 : INFO : EPOCH 2 - PROGRESS: at 45.43% examples, 231170 words/s, in_qsize 6, out_qsize 1\n",
            "2019-03-12 02:11:46,483 : INFO : EPOCH 2 - PROGRESS: at 46.06% examples, 231173 words/s, in_qsize 6, out_qsize 1\n",
            "2019-03-12 02:11:47,483 : INFO : EPOCH 2 - PROGRESS: at 46.64% examples, 231200 words/s, in_qsize 7, out_qsize 0\n",
            "2019-03-12 02:11:48,518 : INFO : EPOCH 2 - PROGRESS: at 47.28% examples, 231264 words/s, in_qsize 7, out_qsize 0\n",
            "2019-03-12 02:11:49,538 : INFO : EPOCH 2 - PROGRESS: at 47.90% examples, 231323 words/s, in_qsize 7, out_qsize 0\n",
            "2019-03-12 02:11:50,564 : INFO : EPOCH 2 - PROGRESS: at 48.50% examples, 231249 words/s, in_qsize 8, out_qsize 0\n",
            "2019-03-12 02:11:51,580 : INFO : EPOCH 2 - PROGRESS: at 49.13% examples, 231355 words/s, in_qsize 7, out_qsize 0\n",
            "2019-03-12 02:11:52,583 : INFO : EPOCH 2 - PROGRESS: at 49.70% examples, 231169 words/s, in_qsize 6, out_qsize 1\n",
            "2019-03-12 02:11:53,595 : INFO : EPOCH 2 - PROGRESS: at 50.31% examples, 231306 words/s, in_qsize 7, out_qsize 0\n",
            "2019-03-12 02:11:54,659 : INFO : EPOCH 2 - PROGRESS: at 50.94% examples, 231291 words/s, in_qsize 7, out_qsize 0\n",
            "2019-03-12 02:11:55,672 : INFO : EPOCH 2 - PROGRESS: at 51.58% examples, 231413 words/s, in_qsize 7, out_qsize 0\n",
            "2019-03-12 02:11:56,683 : INFO : EPOCH 2 - PROGRESS: at 52.13% examples, 231306 words/s, in_qsize 7, out_qsize 0\n",
            "2019-03-12 02:11:57,695 : INFO : EPOCH 2 - PROGRESS: at 52.73% examples, 231334 words/s, in_qsize 7, out_qsize 0\n",
            "2019-03-12 02:11:58,736 : INFO : EPOCH 2 - PROGRESS: at 53.34% examples, 231341 words/s, in_qsize 7, out_qsize 1\n",
            "2019-03-12 02:11:59,712 : INFO : EPOCH 2 - PROGRESS: at 53.94% examples, 231373 words/s, in_qsize 6, out_qsize 1\n",
            "2019-03-12 02:12:00,723 : INFO : EPOCH 2 - PROGRESS: at 54.53% examples, 231287 words/s, in_qsize 7, out_qsize 0\n",
            "2019-03-12 02:12:01,815 : INFO : EPOCH 2 - PROGRESS: at 55.17% examples, 231332 words/s, in_qsize 7, out_qsize 0\n",
            "2019-03-12 02:12:02,887 : INFO : EPOCH 2 - PROGRESS: at 55.79% examples, 231310 words/s, in_qsize 7, out_qsize 0\n",
            "2019-03-12 02:12:03,934 : INFO : EPOCH 2 - PROGRESS: at 56.43% examples, 231337 words/s, in_qsize 6, out_qsize 1\n",
            "2019-03-12 02:12:04,987 : INFO : EPOCH 2 - PROGRESS: at 57.06% examples, 231361 words/s, in_qsize 7, out_qsize 0\n",
            "2019-03-12 02:12:05,995 : INFO : EPOCH 2 - PROGRESS: at 57.65% examples, 231376 words/s, in_qsize 7, out_qsize 0\n",
            "2019-03-12 02:12:07,013 : INFO : EPOCH 2 - PROGRESS: at 58.27% examples, 231379 words/s, in_qsize 6, out_qsize 1\n",
            "2019-03-12 02:12:08,043 : INFO : EPOCH 2 - PROGRESS: at 58.90% examples, 231457 words/s, in_qsize 7, out_qsize 0\n",
            "2019-03-12 02:12:09,101 : INFO : EPOCH 2 - PROGRESS: at 59.52% examples, 231426 words/s, in_qsize 7, out_qsize 0\n",
            "2019-03-12 02:12:10,133 : INFO : EPOCH 2 - PROGRESS: at 60.12% examples, 231387 words/s, in_qsize 7, out_qsize 0\n",
            "2019-03-12 02:12:11,152 : INFO : EPOCH 2 - PROGRESS: at 60.71% examples, 231371 words/s, in_qsize 7, out_qsize 0\n",
            "2019-03-12 02:12:12,153 : INFO : EPOCH 2 - PROGRESS: at 61.32% examples, 231408 words/s, in_qsize 7, out_qsize 0\n",
            "2019-03-12 02:12:13,260 : INFO : EPOCH 2 - PROGRESS: at 61.98% examples, 231391 words/s, in_qsize 7, out_qsize 0\n",
            "2019-03-12 02:12:14,275 : INFO : EPOCH 2 - PROGRESS: at 62.61% examples, 231403 words/s, in_qsize 7, out_qsize 0\n",
            "2019-03-12 02:12:15,275 : INFO : EPOCH 2 - PROGRESS: at 63.25% examples, 231523 words/s, in_qsize 7, out_qsize 0\n",
            "2019-03-12 02:12:16,359 : INFO : EPOCH 2 - PROGRESS: at 63.83% examples, 231286 words/s, in_qsize 7, out_qsize 0\n",
            "2019-03-12 02:12:17,380 : INFO : EPOCH 2 - PROGRESS: at 64.50% examples, 231467 words/s, in_qsize 7, out_qsize 0\n",
            "2019-03-12 02:12:18,411 : INFO : EPOCH 2 - PROGRESS: at 65.06% examples, 231356 words/s, in_qsize 7, out_qsize 0\n",
            "2019-03-12 02:12:19,427 : INFO : EPOCH 2 - PROGRESS: at 65.66% examples, 231371 words/s, in_qsize 7, out_qsize 0\n",
            "2019-03-12 02:12:20,442 : INFO : EPOCH 2 - PROGRESS: at 66.29% examples, 231463 words/s, in_qsize 8, out_qsize 0\n",
            "2019-03-12 02:12:21,485 : INFO : EPOCH 2 - PROGRESS: at 66.85% examples, 231307 words/s, in_qsize 6, out_qsize 1\n",
            "2019-03-12 02:12:22,526 : INFO : EPOCH 2 - PROGRESS: at 67.46% examples, 231309 words/s, in_qsize 7, out_qsize 1\n",
            "2019-03-12 02:12:23,555 : INFO : EPOCH 2 - PROGRESS: at 68.09% examples, 231375 words/s, in_qsize 6, out_qsize 1\n",
            "2019-03-12 02:12:24,596 : INFO : EPOCH 2 - PROGRESS: at 68.73% examples, 231410 words/s, in_qsize 6, out_qsize 1\n",
            "2019-03-12 02:12:25,623 : INFO : EPOCH 2 - PROGRESS: at 69.38% examples, 231478 words/s, in_qsize 7, out_qsize 0\n",
            "2019-03-12 02:12:26,632 : INFO : EPOCH 2 - PROGRESS: at 69.97% examples, 231483 words/s, in_qsize 7, out_qsize 0\n",
            "2019-03-12 02:12:27,645 : INFO : EPOCH 2 - PROGRESS: at 70.58% examples, 231493 words/s, in_qsize 7, out_qsize 0\n",
            "2019-03-12 02:12:28,685 : INFO : EPOCH 2 - PROGRESS: at 71.17% examples, 231449 words/s, in_qsize 7, out_qsize 0\n",
            "2019-03-12 02:12:29,778 : INFO : EPOCH 2 - PROGRESS: at 71.82% examples, 231389 words/s, in_qsize 8, out_qsize 1\n",
            "2019-03-12 02:12:30,792 : INFO : EPOCH 2 - PROGRESS: at 72.41% examples, 231394 words/s, in_qsize 7, out_qsize 1\n",
            "2019-03-12 02:12:31,834 : INFO : EPOCH 2 - PROGRESS: at 73.04% examples, 231428 words/s, in_qsize 7, out_qsize 0\n",
            "2019-03-12 02:12:32,867 : INFO : EPOCH 2 - PROGRESS: at 73.60% examples, 231315 words/s, in_qsize 7, out_qsize 0\n",
            "2019-03-12 02:12:33,899 : INFO : EPOCH 2 - PROGRESS: at 74.21% examples, 231372 words/s, in_qsize 7, out_qsize 0\n",
            "2019-03-12 02:12:34,925 : INFO : EPOCH 2 - PROGRESS: at 74.82% examples, 231364 words/s, in_qsize 7, out_qsize 0\n",
            "2019-03-12 02:12:35,952 : INFO : EPOCH 2 - PROGRESS: at 75.42% examples, 231345 words/s, in_qsize 8, out_qsize 1\n",
            "2019-03-12 02:12:36,984 : INFO : EPOCH 2 - PROGRESS: at 76.04% examples, 231427 words/s, in_qsize 8, out_qsize 0\n",
            "2019-03-12 02:12:38,055 : INFO : EPOCH 2 - PROGRESS: at 76.63% examples, 231277 words/s, in_qsize 4, out_qsize 3\n",
            "2019-03-12 02:12:39,087 : INFO : EPOCH 2 - PROGRESS: at 77.28% examples, 231323 words/s, in_qsize 7, out_qsize 0\n",
            "2019-03-12 02:12:40,118 : INFO : EPOCH 2 - PROGRESS: at 77.92% examples, 231367 words/s, in_qsize 6, out_qsize 1\n",
            "2019-03-12 02:12:41,151 : INFO : EPOCH 2 - PROGRESS: at 78.50% examples, 231340 words/s, in_qsize 7, out_qsize 0\n",
            "2019-03-12 02:12:42,182 : INFO : EPOCH 2 - PROGRESS: at 79.12% examples, 231392 words/s, in_qsize 7, out_qsize 0\n",
            "2019-03-12 02:12:43,201 : INFO : EPOCH 2 - PROGRESS: at 79.69% examples, 231385 words/s, in_qsize 7, out_qsize 0\n",
            "2019-03-12 02:12:44,205 : INFO : EPOCH 2 - PROGRESS: at 80.30% examples, 231398 words/s, in_qsize 8, out_qsize 0\n",
            "2019-03-12 02:12:45,242 : INFO : EPOCH 2 - PROGRESS: at 80.91% examples, 231424 words/s, in_qsize 7, out_qsize 0\n",
            "2019-03-12 02:12:46,273 : INFO : EPOCH 2 - PROGRESS: at 81.50% examples, 231374 words/s, in_qsize 7, out_qsize 0\n",
            "2019-03-12 02:12:47,302 : INFO : EPOCH 2 - PROGRESS: at 82.11% examples, 231433 words/s, in_qsize 7, out_qsize 0\n",
            "2019-03-12 02:12:48,380 : INFO : EPOCH 2 - PROGRESS: at 82.74% examples, 231398 words/s, in_qsize 7, out_qsize 0\n",
            "2019-03-12 02:12:49,397 : INFO : EPOCH 2 - PROGRESS: at 83.34% examples, 231390 words/s, in_qsize 6, out_qsize 1\n",
            "2019-03-12 02:12:50,404 : INFO : EPOCH 2 - PROGRESS: at 83.93% examples, 231399 words/s, in_qsize 7, out_qsize 0\n",
            "2019-03-12 02:12:51,439 : INFO : EPOCH 2 - PROGRESS: at 84.57% examples, 231434 words/s, in_qsize 7, out_qsize 0\n",
            "2019-03-12 02:12:52,446 : INFO : EPOCH 2 - PROGRESS: at 85.18% examples, 231448 words/s, in_qsize 7, out_qsize 0\n",
            "2019-03-12 02:12:53,454 : INFO : EPOCH 2 - PROGRESS: at 85.77% examples, 231461 words/s, in_qsize 7, out_qsize 0\n",
            "2019-03-12 02:12:54,474 : INFO : EPOCH 2 - PROGRESS: at 86.36% examples, 231463 words/s, in_qsize 7, out_qsize 0\n",
            "2019-03-12 02:12:55,494 : INFO : EPOCH 2 - PROGRESS: at 87.01% examples, 231523 words/s, in_qsize 7, out_qsize 0\n",
            "2019-03-12 02:12:56,510 : INFO : EPOCH 2 - PROGRESS: at 87.62% examples, 231590 words/s, in_qsize 8, out_qsize 0\n",
            "2019-03-12 02:12:57,530 : INFO : EPOCH 2 - PROGRESS: at 88.19% examples, 231506 words/s, in_qsize 7, out_qsize 0\n",
            "2019-03-12 02:12:58,549 : INFO : EPOCH 2 - PROGRESS: at 88.81% examples, 231622 words/s, in_qsize 8, out_qsize 0\n",
            "2019-03-12 02:12:59,558 : INFO : EPOCH 2 - PROGRESS: at 89.41% examples, 231636 words/s, in_qsize 7, out_qsize 0\n",
            "2019-03-12 02:13:00,580 : INFO : EPOCH 2 - PROGRESS: at 90.03% examples, 231630 words/s, in_qsize 8, out_qsize 0\n",
            "2019-03-12 02:13:01,636 : INFO : EPOCH 2 - PROGRESS: at 90.61% examples, 231548 words/s, in_qsize 7, out_qsize 0\n",
            "2019-03-12 02:13:02,650 : INFO : EPOCH 2 - PROGRESS: at 91.27% examples, 231667 words/s, in_qsize 7, out_qsize 0\n",
            "2019-03-12 02:13:03,656 : INFO : EPOCH 2 - PROGRESS: at 91.86% examples, 231618 words/s, in_qsize 7, out_qsize 0\n",
            "2019-03-12 02:13:04,686 : INFO : EPOCH 2 - PROGRESS: at 92.46% examples, 231645 words/s, in_qsize 8, out_qsize 0\n",
            "2019-03-12 02:13:05,704 : INFO : EPOCH 2 - PROGRESS: at 93.07% examples, 231701 words/s, in_qsize 7, out_qsize 0\n",
            "2019-03-12 02:13:06,726 : INFO : EPOCH 2 - PROGRESS: at 93.65% examples, 231628 words/s, in_qsize 7, out_qsize 0\n",
            "2019-03-12 02:13:07,817 : INFO : EPOCH 2 - PROGRESS: at 94.31% examples, 231637 words/s, in_qsize 7, out_qsize 0\n",
            "2019-03-12 02:13:08,817 : INFO : EPOCH 2 - PROGRESS: at 94.94% examples, 231666 words/s, in_qsize 7, out_qsize 0\n",
            "2019-03-12 02:13:09,863 : INFO : EPOCH 2 - PROGRESS: at 95.58% examples, 231686 words/s, in_qsize 7, out_qsize 0\n",
            "2019-03-12 02:13:10,906 : INFO : EPOCH 2 - PROGRESS: at 96.19% examples, 231696 words/s, in_qsize 7, out_qsize 0\n",
            "2019-03-12 02:13:12,009 : INFO : EPOCH 2 - PROGRESS: at 96.89% examples, 231749 words/s, in_qsize 7, out_qsize 0\n",
            "2019-03-12 02:13:13,030 : INFO : EPOCH 2 - PROGRESS: at 97.51% examples, 231799 words/s, in_qsize 7, out_qsize 0\n",
            "2019-03-12 02:13:14,105 : INFO : EPOCH 2 - PROGRESS: at 98.16% examples, 231764 words/s, in_qsize 8, out_qsize 1\n",
            "2019-03-12 02:13:15,133 : INFO : EPOCH 2 - PROGRESS: at 98.80% examples, 231810 words/s, in_qsize 8, out_qsize 0\n",
            "2019-03-12 02:13:16,157 : INFO : EPOCH 2 - PROGRESS: at 99.36% examples, 231739 words/s, in_qsize 7, out_qsize 0\n",
            "2019-03-12 02:13:17,029 : INFO : worker thread finished; awaiting finish of 3 more threads\n",
            "2019-03-12 02:13:17,070 : INFO : worker thread finished; awaiting finish of 2 more threads\n",
            "2019-03-12 02:13:17,104 : INFO : worker thread finished; awaiting finish of 1 more threads\n",
            "2019-03-12 02:13:17,122 : INFO : worker thread finished; awaiting finish of 0 more threads\n",
            "2019-03-12 02:13:17,124 : INFO : EPOCH - 2 : training on 39058382 raw words (39024147 effective words) took 168.3s, 231913 effective words/s\n",
            "2019-03-12 02:13:18,170 : INFO : EPOCH 3 - PROGRESS: at 0.61% examples, 225934 words/s, in_qsize 7, out_qsize 0\n",
            "2019-03-12 02:13:19,193 : INFO : EPOCH 3 - PROGRESS: at 1.23% examples, 232431 words/s, in_qsize 7, out_qsize 0\n",
            "2019-03-12 02:13:20,200 : INFO : EPOCH 3 - PROGRESS: at 1.82% examples, 232425 words/s, in_qsize 7, out_qsize 0\n",
            "2019-03-12 02:13:21,241 : INFO : EPOCH 3 - PROGRESS: at 2.44% examples, 234022 words/s, in_qsize 7, out_qsize 1\n",
            "2019-03-12 02:13:22,257 : INFO : EPOCH 3 - PROGRESS: at 3.06% examples, 232446 words/s, in_qsize 6, out_qsize 1\n",
            "2019-03-12 02:13:23,291 : INFO : EPOCH 3 - PROGRESS: at 3.68% examples, 232924 words/s, in_qsize 7, out_qsize 0\n",
            "2019-03-12 02:13:24,356 : INFO : EPOCH 3 - PROGRESS: at 4.33% examples, 233462 words/s, in_qsize 8, out_qsize 0\n",
            "2019-03-12 02:13:25,412 : INFO : EPOCH 3 - PROGRESS: at 4.97% examples, 234366 words/s, in_qsize 7, out_qsize 0\n",
            "2019-03-12 02:13:26,472 : INFO : EPOCH 3 - PROGRESS: at 5.63% examples, 234725 words/s, in_qsize 7, out_qsize 0\n",
            "2019-03-12 02:13:27,498 : INFO : EPOCH 3 - PROGRESS: at 6.20% examples, 234099 words/s, in_qsize 8, out_qsize 0\n",
            "2019-03-12 02:13:28,503 : INFO : EPOCH 3 - PROGRESS: at 6.82% examples, 233965 words/s, in_qsize 6, out_qsize 1\n",
            "2019-03-12 02:13:29,548 : INFO : EPOCH 3 - PROGRESS: at 7.44% examples, 234033 words/s, in_qsize 7, out_qsize 0\n",
            "2019-03-12 02:13:30,574 : INFO : EPOCH 3 - PROGRESS: at 8.01% examples, 233551 words/s, in_qsize 7, out_qsize 0\n",
            "2019-03-12 02:13:31,605 : INFO : EPOCH 3 - PROGRESS: at 8.64% examples, 233991 words/s, in_qsize 7, out_qsize 0\n",
            "2019-03-12 02:13:32,620 : INFO : EPOCH 3 - PROGRESS: at 9.26% examples, 233631 words/s, in_qsize 7, out_qsize 0\n",
            "2019-03-12 02:13:33,626 : INFO : EPOCH 3 - PROGRESS: at 9.89% examples, 233677 words/s, in_qsize 8, out_qsize 0\n",
            "2019-03-12 02:13:34,692 : INFO : EPOCH 3 - PROGRESS: at 10.50% examples, 233433 words/s, in_qsize 7, out_qsize 0\n",
            "2019-03-12 02:13:35,715 : INFO : EPOCH 3 - PROGRESS: at 11.10% examples, 233164 words/s, in_qsize 7, out_qsize 0\n",
            "2019-03-12 02:13:36,772 : INFO : EPOCH 3 - PROGRESS: at 11.73% examples, 233330 words/s, in_qsize 8, out_qsize 0\n",
            "2019-03-12 02:13:37,838 : INFO : EPOCH 3 - PROGRESS: at 12.34% examples, 233065 words/s, in_qsize 7, out_qsize 0\n",
            "2019-03-12 02:13:38,842 : INFO : EPOCH 3 - PROGRESS: at 12.96% examples, 233055 words/s, in_qsize 7, out_qsize 0\n",
            "2019-03-12 02:13:39,864 : INFO : EPOCH 3 - PROGRESS: at 13.59% examples, 233303 words/s, in_qsize 7, out_qsize 0\n",
            "2019-03-12 02:13:40,908 : INFO : EPOCH 3 - PROGRESS: at 14.21% examples, 233333 words/s, in_qsize 8, out_qsize 0\n",
            "2019-03-12 02:13:41,928 : INFO : EPOCH 3 - PROGRESS: at 14.79% examples, 233402 words/s, in_qsize 7, out_qsize 0\n",
            "2019-03-12 02:13:42,948 : INFO : EPOCH 3 - PROGRESS: at 15.41% examples, 233479 words/s, in_qsize 7, out_qsize 0\n",
            "2019-03-12 02:13:43,962 : INFO : EPOCH 3 - PROGRESS: at 16.01% examples, 233384 words/s, in_qsize 7, out_qsize 0\n",
            "2019-03-12 02:13:44,977 : INFO : EPOCH 3 - PROGRESS: at 16.62% examples, 233301 words/s, in_qsize 7, out_qsize 0\n",
            "2019-03-12 02:13:46,033 : INFO : EPOCH 3 - PROGRESS: at 17.26% examples, 233234 words/s, in_qsize 7, out_qsize 0\n",
            "2019-03-12 02:13:47,045 : INFO : EPOCH 3 - PROGRESS: at 17.89% examples, 233221 words/s, in_qsize 7, out_qsize 0\n",
            "2019-03-12 02:13:48,102 : INFO : EPOCH 3 - PROGRESS: at 18.50% examples, 233087 words/s, in_qsize 7, out_qsize 0\n",
            "2019-03-12 02:13:49,119 : INFO : EPOCH 3 - PROGRESS: at 19.13% examples, 233337 words/s, in_qsize 8, out_qsize 0\n",
            "2019-03-12 02:13:50,135 : INFO : EPOCH 3 - PROGRESS: at 19.71% examples, 232977 words/s, in_qsize 8, out_qsize 0\n",
            "2019-03-12 02:13:51,173 : INFO : EPOCH 3 - PROGRESS: at 20.34% examples, 233062 words/s, in_qsize 7, out_qsize 0\n",
            "2019-03-12 02:13:52,205 : INFO : EPOCH 3 - PROGRESS: at 20.98% examples, 233189 words/s, in_qsize 7, out_qsize 0\n",
            "2019-03-12 02:13:53,286 : INFO : EPOCH 3 - PROGRESS: at 21.60% examples, 233023 words/s, in_qsize 7, out_qsize 0\n",
            "2019-03-12 02:13:54,311 : INFO : EPOCH 3 - PROGRESS: at 22.25% examples, 233216 words/s, in_qsize 7, out_qsize 0\n",
            "2019-03-12 02:13:55,315 : INFO : EPOCH 3 - PROGRESS: at 22.85% examples, 233275 words/s, in_qsize 7, out_qsize 0\n",
            "2019-03-12 02:13:56,366 : INFO : EPOCH 3 - PROGRESS: at 23.48% examples, 233284 words/s, in_qsize 7, out_qsize 0\n",
            "2019-03-12 02:13:57,387 : INFO : EPOCH 3 - PROGRESS: at 24.09% examples, 233207 words/s, in_qsize 7, out_qsize 0\n",
            "2019-03-12 02:13:58,436 : INFO : EPOCH 3 - PROGRESS: at 24.75% examples, 233446 words/s, in_qsize 7, out_qsize 0\n",
            "2019-03-12 02:13:59,478 : INFO : EPOCH 3 - PROGRESS: at 25.36% examples, 233362 words/s, in_qsize 7, out_qsize 0\n",
            "2019-03-12 02:14:00,477 : INFO : EPOCH 3 - PROGRESS: at 25.98% examples, 233505 words/s, in_qsize 7, out_qsize 0\n",
            "2019-03-12 02:14:01,484 : INFO : EPOCH 3 - PROGRESS: at 26.57% examples, 233286 words/s, in_qsize 7, out_qsize 0\n",
            "2019-03-12 02:14:02,560 : INFO : EPOCH 3 - PROGRESS: at 27.25% examples, 233382 words/s, in_qsize 7, out_qsize 0\n",
            "2019-03-12 02:14:03,561 : INFO : EPOCH 3 - PROGRESS: at 27.90% examples, 233641 words/s, in_qsize 7, out_qsize 0\n",
            "2019-03-12 02:14:04,604 : INFO : EPOCH 3 - PROGRESS: at 28.54% examples, 233644 words/s, in_qsize 7, out_qsize 0\n",
            "2019-03-12 02:14:05,619 : INFO : EPOCH 3 - PROGRESS: at 29.16% examples, 233797 words/s, in_qsize 7, out_qsize 0\n",
            "2019-03-12 02:14:06,632 : INFO : EPOCH 3 - PROGRESS: at 29.72% examples, 233572 words/s, in_qsize 6, out_qsize 1\n",
            "2019-03-12 02:14:07,705 : INFO : EPOCH 3 - PROGRESS: at 30.33% examples, 233535 words/s, in_qsize 7, out_qsize 0\n",
            "2019-03-12 02:14:08,696 : INFO : EPOCH 3 - PROGRESS: at 30.98% examples, 233708 words/s, in_qsize 8, out_qsize 0\n",
            "2019-03-12 02:14:09,700 : INFO : EPOCH 3 - PROGRESS: at 31.56% examples, 233718 words/s, in_qsize 6, out_qsize 1\n",
            "2019-03-12 02:14:10,730 : INFO : EPOCH 3 - PROGRESS: at 32.16% examples, 233604 words/s, in_qsize 6, out_qsize 1\n",
            "2019-03-12 02:14:11,743 : INFO : EPOCH 3 - PROGRESS: at 32.78% examples, 233667 words/s, in_qsize 7, out_qsize 0\n",
            "2019-03-12 02:14:12,747 : INFO : EPOCH 3 - PROGRESS: at 33.37% examples, 233650 words/s, in_qsize 7, out_qsize 0\n",
            "2019-03-12 02:14:13,812 : INFO : EPOCH 3 - PROGRESS: at 34.00% examples, 233653 words/s, in_qsize 8, out_qsize 1\n",
            "2019-03-12 02:14:14,874 : INFO : EPOCH 3 - PROGRESS: at 34.67% examples, 233555 words/s, in_qsize 6, out_qsize 1\n",
            "2019-03-12 02:14:15,907 : INFO : EPOCH 3 - PROGRESS: at 35.29% examples, 233610 words/s, in_qsize 7, out_qsize 0\n",
            "2019-03-12 02:14:16,988 : INFO : EPOCH 3 - PROGRESS: at 35.94% examples, 233668 words/s, in_qsize 7, out_qsize 0\n",
            "2019-03-12 02:14:18,044 : INFO : EPOCH 3 - PROGRESS: at 36.58% examples, 233657 words/s, in_qsize 7, out_qsize 0\n",
            "2019-03-12 02:14:19,047 : INFO : EPOCH 3 - PROGRESS: at 37.19% examples, 233673 words/s, in_qsize 7, out_qsize 0\n",
            "2019-03-12 02:14:20,087 : INFO : EPOCH 3 - PROGRESS: at 37.82% examples, 233715 words/s, in_qsize 7, out_qsize 0\n",
            "2019-03-12 02:14:21,123 : INFO : EPOCH 3 - PROGRESS: at 38.43% examples, 233620 words/s, in_qsize 6, out_qsize 1\n",
            "2019-03-12 02:14:22,159 : INFO : EPOCH 3 - PROGRESS: at 39.06% examples, 233661 words/s, in_qsize 7, out_qsize 0\n",
            "2019-03-12 02:14:23,167 : INFO : EPOCH 3 - PROGRESS: at 39.67% examples, 233646 words/s, in_qsize 7, out_qsize 0\n",
            "2019-03-12 02:14:24,204 : INFO : EPOCH 3 - PROGRESS: at 40.31% examples, 233687 words/s, in_qsize 7, out_qsize 0\n",
            "2019-03-12 02:14:25,234 : INFO : EPOCH 3 - PROGRESS: at 40.91% examples, 233579 words/s, in_qsize 7, out_qsize 0\n",
            "2019-03-12 02:14:26,238 : INFO : EPOCH 3 - PROGRESS: at 41.53% examples, 233702 words/s, in_qsize 7, out_qsize 0\n",
            "2019-03-12 02:14:27,252 : INFO : EPOCH 3 - PROGRESS: at 42.12% examples, 233686 words/s, in_qsize 7, out_qsize 0\n",
            "2019-03-12 02:14:28,253 : INFO : EPOCH 3 - PROGRESS: at 42.71% examples, 233802 words/s, in_qsize 7, out_qsize 0\n",
            "2019-03-12 02:14:29,267 : INFO : EPOCH 3 - PROGRESS: at 43.27% examples, 233628 words/s, in_qsize 7, out_qsize 0\n",
            "2019-03-12 02:14:30,280 : INFO : EPOCH 3 - PROGRESS: at 43.88% examples, 233603 words/s, in_qsize 7, out_qsize 0\n",
            "2019-03-12 02:14:31,330 : INFO : EPOCH 3 - PROGRESS: at 44.50% examples, 233571 words/s, in_qsize 7, out_qsize 0\n",
            "2019-03-12 02:14:32,350 : INFO : EPOCH 3 - PROGRESS: at 45.11% examples, 233523 words/s, in_qsize 6, out_qsize 1\n",
            "2019-03-12 02:14:33,370 : INFO : EPOCH 3 - PROGRESS: at 45.68% examples, 233459 words/s, in_qsize 8, out_qsize 1\n",
            "2019-03-12 02:14:34,398 : INFO : EPOCH 3 - PROGRESS: at 46.33% examples, 233639 words/s, in_qsize 7, out_qsize 0\n",
            "2019-03-12 02:14:35,403 : INFO : EPOCH 3 - PROGRESS: at 46.88% examples, 233507 words/s, in_qsize 7, out_qsize 0\n",
            "2019-03-12 02:14:36,416 : INFO : EPOCH 3 - PROGRESS: at 47.51% examples, 233492 words/s, in_qsize 7, out_qsize 0\n",
            "2019-03-12 02:14:37,465 : INFO : EPOCH 3 - PROGRESS: at 48.14% examples, 233506 words/s, in_qsize 7, out_qsize 0\n",
            "2019-03-12 02:14:38,535 : INFO : EPOCH 3 - PROGRESS: at 48.77% examples, 233440 words/s, in_qsize 7, out_qsize 0\n",
            "2019-03-12 02:14:39,595 : INFO : EPOCH 3 - PROGRESS: at 49.41% examples, 233412 words/s, in_qsize 7, out_qsize 0\n",
            "2019-03-12 02:14:40,624 : INFO : EPOCH 3 - PROGRESS: at 50.04% examples, 233480 words/s, in_qsize 7, out_qsize 0\n",
            "2019-03-12 02:14:41,638 : INFO : EPOCH 3 - PROGRESS: at 50.65% examples, 233451 words/s, in_qsize 7, out_qsize 0\n",
            "2019-03-12 02:14:42,640 : INFO : EPOCH 3 - PROGRESS: at 51.25% examples, 233473 words/s, in_qsize 6, out_qsize 1\n",
            "2019-03-12 02:14:43,718 : INFO : EPOCH 3 - PROGRESS: at 51.89% examples, 233496 words/s, in_qsize 7, out_qsize 0\n",
            "2019-03-12 02:14:44,736 : INFO : EPOCH 3 - PROGRESS: at 52.50% examples, 233585 words/s, in_qsize 7, out_qsize 0\n",
            "2019-03-12 02:14:45,764 : INFO : EPOCH 3 - PROGRESS: at 53.10% examples, 233543 words/s, in_qsize 7, out_qsize 0\n",
            "2019-03-12 02:14:46,764 : INFO : EPOCH 3 - PROGRESS: at 53.73% examples, 233662 words/s, in_qsize 7, out_qsize 0\n",
            "2019-03-12 02:14:47,778 : INFO : EPOCH 3 - PROGRESS: at 54.32% examples, 233547 words/s, in_qsize 8, out_qsize 0\n",
            "2019-03-12 02:14:48,785 : INFO : EPOCH 3 - PROGRESS: at 54.93% examples, 233553 words/s, in_qsize 7, out_qsize 0\n",
            "2019-03-12 02:14:49,799 : INFO : EPOCH 3 - PROGRESS: at 55.52% examples, 233556 words/s, in_qsize 7, out_qsize 0\n",
            "2019-03-12 02:14:50,825 : INFO : EPOCH 3 - PROGRESS: at 56.12% examples, 233507 words/s, in_qsize 7, out_qsize 0\n",
            "2019-03-12 02:14:51,862 : INFO : EPOCH 3 - PROGRESS: at 56.75% examples, 233542 words/s, in_qsize 7, out_qsize 0\n",
            "2019-03-12 02:14:52,882 : INFO : EPOCH 3 - PROGRESS: at 57.35% examples, 233510 words/s, in_qsize 7, out_qsize 0\n",
            "2019-03-12 02:14:53,887 : INFO : EPOCH 3 - PROGRESS: at 57.95% examples, 233517 words/s, in_qsize 7, out_qsize 0\n",
            "2019-03-12 02:14:54,897 : INFO : EPOCH 3 - PROGRESS: at 58.57% examples, 233524 words/s, in_qsize 7, out_qsize 0\n",
            "2019-03-12 02:14:55,940 : INFO : EPOCH 3 - PROGRESS: at 59.22% examples, 233600 words/s, in_qsize 8, out_qsize 0\n",
            "2019-03-12 02:14:57,036 : INFO : EPOCH 3 - PROGRESS: at 59.84% examples, 233494 words/s, in_qsize 8, out_qsize 0\n",
            "2019-03-12 02:14:58,120 : INFO : EPOCH 3 - PROGRESS: at 60.49% examples, 233498 words/s, in_qsize 7, out_qsize 0\n",
            "2019-03-12 02:14:59,161 : INFO : EPOCH 3 - PROGRESS: at 61.12% examples, 233560 words/s, in_qsize 7, out_qsize 0\n",
            "2019-03-12 02:15:00,192 : INFO : EPOCH 3 - PROGRESS: at 61.72% examples, 233464 words/s, in_qsize 7, out_qsize 0\n",
            "2019-03-12 02:15:01,251 : INFO : EPOCH 3 - PROGRESS: at 62.37% examples, 233444 words/s, in_qsize 4, out_qsize 3\n",
            "2019-03-12 02:15:02,286 : INFO : EPOCH 3 - PROGRESS: at 63.02% examples, 233481 words/s, in_qsize 7, out_qsize 0\n",
            "2019-03-12 02:15:03,289 : INFO : EPOCH 3 - PROGRESS: at 63.63% examples, 233489 words/s, in_qsize 7, out_qsize 1\n",
            "2019-03-12 02:15:04,307 : INFO : EPOCH 3 - PROGRESS: at 64.26% examples, 233558 words/s, in_qsize 6, out_qsize 1\n",
            "2019-03-12 02:15:05,309 : INFO : EPOCH 3 - PROGRESS: at 64.83% examples, 233490 words/s, in_qsize 7, out_qsize 1\n",
            "2019-03-12 02:15:06,337 : INFO : EPOCH 3 - PROGRESS: at 65.47% examples, 233586 words/s, in_qsize 7, out_qsize 0\n",
            "2019-03-12 02:15:07,404 : INFO : EPOCH 3 - PROGRESS: at 66.08% examples, 233516 words/s, in_qsize 7, out_qsize 0\n",
            "2019-03-12 02:15:08,416 : INFO : EPOCH 3 - PROGRESS: at 66.71% examples, 233584 words/s, in_qsize 7, out_qsize 0\n",
            "2019-03-12 02:15:09,438 : INFO : EPOCH 3 - PROGRESS: at 67.33% examples, 233684 words/s, in_qsize 7, out_qsize 0\n",
            "2019-03-12 02:15:10,466 : INFO : EPOCH 3 - PROGRESS: at 67.97% examples, 233732 words/s, in_qsize 8, out_qsize 0\n",
            "2019-03-12 02:15:11,502 : INFO : EPOCH 3 - PROGRESS: at 68.55% examples, 233590 words/s, in_qsize 7, out_qsize 0\n",
            "2019-03-12 02:15:12,514 : INFO : EPOCH 3 - PROGRESS: at 69.17% examples, 233580 words/s, in_qsize 7, out_qsize 0\n",
            "2019-03-12 02:15:13,576 : INFO : EPOCH 3 - PROGRESS: at 69.83% examples, 233636 words/s, in_qsize 6, out_qsize 1\n",
            "2019-03-12 02:15:14,633 : INFO : EPOCH 3 - PROGRESS: at 70.45% examples, 233617 words/s, in_qsize 6, out_qsize 1\n",
            "2019-03-12 02:15:15,653 : INFO : EPOCH 3 - PROGRESS: at 71.07% examples, 233675 words/s, in_qsize 7, out_qsize 0\n",
            "2019-03-12 02:15:16,663 : INFO : EPOCH 3 - PROGRESS: at 71.69% examples, 233674 words/s, in_qsize 7, out_qsize 0\n",
            "2019-03-12 02:15:17,681 : INFO : EPOCH 3 - PROGRESS: at 72.29% examples, 233651 words/s, in_qsize 8, out_qsize 1\n",
            "2019-03-12 02:15:18,694 : INFO : EPOCH 3 - PROGRESS: at 72.89% examples, 233643 words/s, in_qsize 7, out_qsize 0\n",
            "2019-03-12 02:15:19,722 : INFO : EPOCH 3 - PROGRESS: at 73.51% examples, 233678 words/s, in_qsize 7, out_qsize 0\n",
            "2019-03-12 02:15:20,760 : INFO : EPOCH 3 - PROGRESS: at 74.11% examples, 233707 words/s, in_qsize 7, out_qsize 0\n",
            "2019-03-12 02:15:21,780 : INFO : EPOCH 3 - PROGRESS: at 74.72% examples, 233691 words/s, in_qsize 6, out_qsize 1\n",
            "2019-03-12 02:15:22,824 : INFO : EPOCH 3 - PROGRESS: at 75.35% examples, 233734 words/s, in_qsize 7, out_qsize 1\n",
            "2019-03-12 02:15:23,888 : INFO : EPOCH 3 - PROGRESS: at 76.00% examples, 233773 words/s, in_qsize 7, out_qsize 0\n",
            "2019-03-12 02:15:24,883 : INFO : EPOCH 3 - PROGRESS: at 76.59% examples, 233746 words/s, in_qsize 7, out_qsize 0\n",
            "2019-03-12 02:15:25,945 : INFO : EPOCH 3 - PROGRESS: at 77.23% examples, 233719 words/s, in_qsize 7, out_qsize 0\n",
            "2019-03-12 02:15:26,986 : INFO : EPOCH 3 - PROGRESS: at 77.86% examples, 233730 words/s, in_qsize 7, out_qsize 0\n",
            "2019-03-12 02:15:28,005 : INFO : EPOCH 3 - PROGRESS: at 78.46% examples, 233709 words/s, in_qsize 7, out_qsize 0\n",
            "2019-03-12 02:15:29,019 : INFO : EPOCH 3 - PROGRESS: at 79.10% examples, 233848 words/s, in_qsize 7, out_qsize 0\n",
            "2019-03-12 02:15:30,066 : INFO : EPOCH 3 - PROGRESS: at 79.69% examples, 233847 words/s, in_qsize 7, out_qsize 0\n",
            "2019-03-12 02:15:31,066 : INFO : EPOCH 3 - PROGRESS: at 80.28% examples, 233774 words/s, in_qsize 8, out_qsize 0\n",
            "2019-03-12 02:15:32,099 : INFO : EPOCH 3 - PROGRESS: at 80.89% examples, 233822 words/s, in_qsize 7, out_qsize 0\n",
            "2019-03-12 02:15:33,087 : INFO : EPOCH 3 - PROGRESS: at 81.46% examples, 233749 words/s, in_qsize 7, out_qsize 0\n",
            "2019-03-12 02:15:34,118 : INFO : EPOCH 3 - PROGRESS: at 82.06% examples, 233759 words/s, in_qsize 7, out_qsize 0\n",
            "2019-03-12 02:15:35,149 : INFO : EPOCH 3 - PROGRESS: at 82.69% examples, 233786 words/s, in_qsize 7, out_qsize 0\n",
            "2019-03-12 02:15:36,165 : INFO : EPOCH 3 - PROGRESS: at 83.29% examples, 233764 words/s, in_qsize 6, out_qsize 1\n",
            "2019-03-12 02:15:37,204 : INFO : EPOCH 3 - PROGRESS: at 83.91% examples, 233806 words/s, in_qsize 7, out_qsize 0\n",
            "2019-03-12 02:15:38,199 : INFO : EPOCH 3 - PROGRESS: at 84.51% examples, 233786 words/s, in_qsize 6, out_qsize 1\n",
            "2019-03-12 02:15:39,215 : INFO : EPOCH 3 - PROGRESS: at 85.16% examples, 233838 words/s, in_qsize 7, out_qsize 0\n",
            "2019-03-12 02:15:40,267 : INFO : EPOCH 3 - PROGRESS: at 85.77% examples, 233830 words/s, in_qsize 7, out_qsize 0\n",
            "2019-03-12 02:15:41,268 : INFO : EPOCH 3 - PROGRESS: at 86.36% examples, 233847 words/s, in_qsize 7, out_qsize 0\n",
            "2019-03-12 02:15:42,303 : INFO : EPOCH 3 - PROGRESS: at 87.01% examples, 233866 words/s, in_qsize 7, out_qsize 0\n",
            "2019-03-12 02:15:43,352 : INFO : EPOCH 3 - PROGRESS: at 87.62% examples, 233866 words/s, in_qsize 6, out_qsize 1\n",
            "2019-03-12 02:15:44,382 : INFO : EPOCH 3 - PROGRESS: at 88.23% examples, 233884 words/s, in_qsize 6, out_qsize 1\n",
            "2019-03-12 02:15:45,435 : INFO : EPOCH 3 - PROGRESS: at 88.86% examples, 233927 words/s, in_qsize 7, out_qsize 0\n",
            "2019-03-12 02:15:46,446 : INFO : EPOCH 3 - PROGRESS: at 89.46% examples, 233918 words/s, in_qsize 7, out_qsize 0\n",
            "2019-03-12 02:15:47,465 : INFO : EPOCH 3 - PROGRESS: at 90.07% examples, 233903 words/s, in_qsize 7, out_qsize 0\n",
            "2019-03-12 02:15:48,480 : INFO : EPOCH 3 - PROGRESS: at 90.69% examples, 233939 words/s, in_qsize 7, out_qsize 0\n",
            "2019-03-12 02:15:49,485 : INFO : EPOCH 3 - PROGRESS: at 91.30% examples, 233925 words/s, in_qsize 7, out_qsize 0\n",
            "2019-03-12 02:15:50,504 : INFO : EPOCH 3 - PROGRESS: at 91.92% examples, 233907 words/s, in_qsize 6, out_qsize 1\n",
            "2019-03-12 02:15:51,511 : INFO : EPOCH 3 - PROGRESS: at 92.49% examples, 233890 words/s, in_qsize 7, out_qsize 0\n",
            "2019-03-12 02:15:52,518 : INFO : EPOCH 3 - PROGRESS: at 93.07% examples, 233885 words/s, in_qsize 6, out_qsize 1\n",
            "2019-03-12 02:15:53,555 : INFO : EPOCH 3 - PROGRESS: at 93.71% examples, 233901 words/s, in_qsize 7, out_qsize 0\n",
            "2019-03-12 02:15:54,562 : INFO : EPOCH 3 - PROGRESS: at 94.31% examples, 233893 words/s, in_qsize 7, out_qsize 1\n",
            "2019-03-12 02:15:55,568 : INFO : EPOCH 3 - PROGRESS: at 94.96% examples, 233962 words/s, in_qsize 7, out_qsize 0\n",
            "2019-03-12 02:15:56,609 : INFO : EPOCH 3 - PROGRESS: at 95.61% examples, 233974 words/s, in_qsize 7, out_qsize 0\n",
            "2019-03-12 02:15:57,629 : INFO : EPOCH 3 - PROGRESS: at 96.21% examples, 234002 words/s, in_qsize 7, out_qsize 0\n",
            "2019-03-12 02:15:58,699 : INFO : EPOCH 3 - PROGRESS: at 96.89% examples, 234053 words/s, in_qsize 8, out_qsize 1\n",
            "2019-03-12 02:15:59,690 : INFO : EPOCH 3 - PROGRESS: at 97.51% examples, 234106 words/s, in_qsize 8, out_qsize 0\n",
            "2019-03-12 02:16:00,755 : INFO : EPOCH 3 - PROGRESS: at 98.18% examples, 234131 words/s, in_qsize 7, out_qsize 0\n",
            "2019-03-12 02:16:01,783 : INFO : EPOCH 3 - PROGRESS: at 98.83% examples, 234162 words/s, in_qsize 7, out_qsize 0\n",
            "2019-03-12 02:16:02,790 : INFO : EPOCH 3 - PROGRESS: at 99.43% examples, 234217 words/s, in_qsize 7, out_qsize 0\n",
            "2019-03-12 02:16:03,558 : INFO : worker thread finished; awaiting finish of 3 more threads\n",
            "2019-03-12 02:16:03,578 : INFO : worker thread finished; awaiting finish of 2 more threads\n",
            "2019-03-12 02:16:03,644 : INFO : worker thread finished; awaiting finish of 1 more threads\n",
            "2019-03-12 02:16:03,655 : INFO : worker thread finished; awaiting finish of 0 more threads\n",
            "2019-03-12 02:16:03,656 : INFO : EPOCH - 3 : training on 39058382 raw words (39024147 effective words) took 166.5s, 234344 effective words/s\n",
            "2019-03-12 02:16:04,709 : INFO : EPOCH 4 - PROGRESS: at 0.61% examples, 224335 words/s, in_qsize 6, out_qsize 1\n",
            "2019-03-12 02:16:05,729 : INFO : EPOCH 4 - PROGRESS: at 1.26% examples, 236658 words/s, in_qsize 7, out_qsize 0\n",
            "2019-03-12 02:16:06,737 : INFO : EPOCH 4 - PROGRESS: at 1.84% examples, 235052 words/s, in_qsize 6, out_qsize 1\n",
            "2019-03-12 02:16:07,785 : INFO : EPOCH 4 - PROGRESS: at 2.47% examples, 234247 words/s, in_qsize 6, out_qsize 1\n",
            "2019-03-12 02:16:08,812 : INFO : EPOCH 4 - PROGRESS: at 3.11% examples, 236121 words/s, in_qsize 7, out_qsize 0\n",
            "2019-03-12 02:16:09,822 : INFO : EPOCH 4 - PROGRESS: at 3.71% examples, 234550 words/s, in_qsize 7, out_qsize 0\n",
            "2019-03-12 02:16:10,851 : INFO : EPOCH 4 - PROGRESS: at 4.33% examples, 234657 words/s, in_qsize 7, out_qsize 0\n",
            "2019-03-12 02:16:11,864 : INFO : EPOCH 4 - PROGRESS: at 4.93% examples, 234241 words/s, in_qsize 7, out_qsize 0\n",
            "2019-03-12 02:16:12,873 : INFO : EPOCH 4 - PROGRESS: at 5.55% examples, 234915 words/s, in_qsize 7, out_qsize 0\n",
            "2019-03-12 02:16:13,880 : INFO : EPOCH 4 - PROGRESS: at 6.17% examples, 236556 words/s, in_qsize 7, out_qsize 0\n",
            "2019-03-12 02:16:14,924 : INFO : EPOCH 4 - PROGRESS: at 6.77% examples, 234538 words/s, in_qsize 5, out_qsize 2\n",
            "2019-03-12 02:16:15,976 : INFO : EPOCH 4 - PROGRESS: at 7.41% examples, 235217 words/s, in_qsize 7, out_qsize 0\n",
            "2019-03-12 02:16:16,982 : INFO : EPOCH 4 - PROGRESS: at 8.01% examples, 235719 words/s, in_qsize 7, out_qsize 0\n",
            "2019-03-12 02:16:18,071 : INFO : EPOCH 4 - PROGRESS: at 8.67% examples, 235423 words/s, in_qsize 7, out_qsize 0\n",
            "2019-03-12 02:16:19,098 : INFO : EPOCH 4 - PROGRESS: at 9.31% examples, 235731 words/s, in_qsize 7, out_qsize 0\n",
            "2019-03-12 02:16:20,114 : INFO : EPOCH 4 - PROGRESS: at 9.96% examples, 236073 words/s, in_qsize 7, out_qsize 0\n",
            "2019-03-12 02:16:21,132 : INFO : EPOCH 4 - PROGRESS: at 10.58% examples, 236293 words/s, in_qsize 7, out_qsize 0\n",
            "2019-03-12 02:16:22,160 : INFO : EPOCH 4 - PROGRESS: at 11.20% examples, 236288 words/s, in_qsize 7, out_qsize 0\n",
            "2019-03-12 02:16:23,194 : INFO : EPOCH 4 - PROGRESS: at 11.84% examples, 236641 words/s, in_qsize 7, out_qsize 0\n",
            "2019-03-12 02:16:24,202 : INFO : EPOCH 4 - PROGRESS: at 12.41% examples, 236405 words/s, in_qsize 7, out_qsize 0\n",
            "2019-03-12 02:16:25,212 : INFO : EPOCH 4 - PROGRESS: at 13.04% examples, 236125 words/s, in_qsize 5, out_qsize 2\n",
            "2019-03-12 02:16:26,270 : INFO : EPOCH 4 - PROGRESS: at 13.70% examples, 236341 words/s, in_qsize 6, out_qsize 1\n",
            "2019-03-12 02:16:27,298 : INFO : EPOCH 4 - PROGRESS: at 14.28% examples, 235967 words/s, in_qsize 7, out_qsize 0\n",
            "2019-03-12 02:16:28,315 : INFO : EPOCH 4 - PROGRESS: at 14.91% examples, 236591 words/s, in_qsize 7, out_qsize 0\n",
            "2019-03-12 02:16:29,353 : INFO : EPOCH 4 - PROGRESS: at 15.52% examples, 236152 words/s, in_qsize 5, out_qsize 2\n",
            "2019-03-12 02:16:30,379 : INFO : EPOCH 4 - PROGRESS: at 16.14% examples, 236183 words/s, in_qsize 7, out_qsize 0\n",
            "2019-03-12 02:16:31,386 : INFO : EPOCH 4 - PROGRESS: at 16.75% examples, 236118 words/s, in_qsize 7, out_qsize 0\n",
            "2019-03-12 02:16:32,414 : INFO : EPOCH 4 - PROGRESS: at 17.41% examples, 236187 words/s, in_qsize 7, out_qsize 1\n",
            "2019-03-12 02:16:33,421 : INFO : EPOCH 4 - PROGRESS: at 18.01% examples, 236037 words/s, in_qsize 6, out_qsize 1\n",
            "2019-03-12 02:16:34,465 : INFO : EPOCH 4 - PROGRESS: at 18.64% examples, 236280 words/s, in_qsize 7, out_qsize 0\n",
            "2019-03-12 02:16:35,468 : INFO : EPOCH 4 - PROGRESS: at 19.26% examples, 236234 words/s, in_qsize 7, out_qsize 0\n",
            "2019-03-12 02:16:36,492 : INFO : EPOCH 4 - PROGRESS: at 19.90% examples, 236325 words/s, in_qsize 7, out_qsize 0\n",
            "2019-03-12 02:16:37,521 : INFO : EPOCH 4 - PROGRESS: at 20.49% examples, 236063 words/s, in_qsize 6, out_qsize 1\n",
            "2019-03-12 02:16:38,617 : INFO : EPOCH 4 - PROGRESS: at 21.17% examples, 236251 words/s, in_qsize 6, out_qsize 1\n",
            "2019-03-12 02:16:39,617 : INFO : EPOCH 4 - PROGRESS: at 21.79% examples, 236231 words/s, in_qsize 6, out_qsize 1\n",
            "2019-03-12 02:16:40,663 : INFO : EPOCH 4 - PROGRESS: at 22.45% examples, 236482 words/s, in_qsize 7, out_qsize 0\n",
            "2019-03-12 02:16:41,740 : INFO : EPOCH 4 - PROGRESS: at 23.10% examples, 236506 words/s, in_qsize 7, out_qsize 0\n",
            "2019-03-12 02:16:42,754 : INFO : EPOCH 4 - PROGRESS: at 23.73% examples, 236630 words/s, in_qsize 7, out_qsize 0\n",
            "2019-03-12 02:16:43,781 : INFO : EPOCH 4 - PROGRESS: at 24.33% examples, 236438 words/s, in_qsize 7, out_qsize 0\n",
            "2019-03-12 02:16:44,807 : INFO : EPOCH 4 - PROGRESS: at 24.97% examples, 236494 words/s, in_qsize 6, out_qsize 1\n",
            "2019-03-12 02:16:45,844 : INFO : EPOCH 4 - PROGRESS: at 25.63% examples, 236692 words/s, in_qsize 7, out_qsize 0\n",
            "2019-03-12 02:16:46,877 : INFO : EPOCH 4 - PROGRESS: at 26.26% examples, 236723 words/s, in_qsize 7, out_qsize 0\n",
            "2019-03-12 02:16:47,881 : INFO : EPOCH 4 - PROGRESS: at 26.89% examples, 236655 words/s, in_qsize 7, out_qsize 0\n",
            "2019-03-12 02:16:48,911 : INFO : EPOCH 4 - PROGRESS: at 27.55% examples, 236709 words/s, in_qsize 7, out_qsize 0\n",
            "2019-03-12 02:16:49,913 : INFO : EPOCH 4 - PROGRESS: at 28.16% examples, 236657 words/s, in_qsize 7, out_qsize 0\n",
            "2019-03-12 02:16:50,954 : INFO : EPOCH 4 - PROGRESS: at 28.79% examples, 236613 words/s, in_qsize 6, out_qsize 1\n",
            "2019-03-12 02:16:51,994 : INFO : EPOCH 4 - PROGRESS: at 29.40% examples, 236577 words/s, in_qsize 7, out_qsize 0\n",
            "2019-03-12 02:16:53,033 : INFO : EPOCH 4 - PROGRESS: at 30.01% examples, 236555 words/s, in_qsize 7, out_qsize 0\n",
            "2019-03-12 02:16:54,052 : INFO : EPOCH 4 - PROGRESS: at 30.65% examples, 236646 words/s, in_qsize 7, out_qsize 0\n",
            "2019-03-12 02:16:55,084 : INFO : EPOCH 4 - PROGRESS: at 31.28% examples, 236665 words/s, in_qsize 7, out_qsize 0\n",
            "2019-03-12 02:16:56,098 : INFO : EPOCH 4 - PROGRESS: at 31.87% examples, 236550 words/s, in_qsize 7, out_qsize 0\n",
            "2019-03-12 02:16:57,138 : INFO : EPOCH 4 - PROGRESS: at 32.50% examples, 236629 words/s, in_qsize 7, out_qsize 0\n",
            "2019-03-12 02:16:58,138 : INFO : EPOCH 4 - PROGRESS: at 33.10% examples, 236552 words/s, in_qsize 7, out_qsize 0\n",
            "2019-03-12 02:16:59,148 : INFO : EPOCH 4 - PROGRESS: at 33.69% examples, 236503 words/s, in_qsize 6, out_qsize 1\n",
            "2019-03-12 02:17:00,192 : INFO : EPOCH 4 - PROGRESS: at 34.36% examples, 236651 words/s, in_qsize 7, out_qsize 0\n",
            "2019-03-12 02:17:01,235 : INFO : EPOCH 4 - PROGRESS: at 35.03% examples, 236625 words/s, in_qsize 7, out_qsize 0\n",
            "2019-03-12 02:17:02,235 : INFO : EPOCH 4 - PROGRESS: at 35.61% examples, 236605 words/s, in_qsize 7, out_qsize 0\n",
            "2019-03-12 02:17:03,254 : INFO : EPOCH 4 - PROGRESS: at 36.23% examples, 236528 words/s, in_qsize 6, out_qsize 1\n",
            "2019-03-12 02:17:04,263 : INFO : EPOCH 4 - PROGRESS: at 36.86% examples, 236655 words/s, in_qsize 7, out_qsize 0\n",
            "2019-03-12 02:17:05,278 : INFO : EPOCH 4 - PROGRESS: at 37.48% examples, 236726 words/s, in_qsize 8, out_qsize 0\n",
            "2019-03-12 02:17:06,351 : INFO : EPOCH 4 - PROGRESS: at 38.11% examples, 236586 words/s, in_qsize 7, out_qsize 0\n",
            "2019-03-12 02:17:07,371 : INFO : EPOCH 4 - PROGRESS: at 38.76% examples, 236660 words/s, in_qsize 7, out_qsize 0\n",
            "2019-03-12 02:17:08,386 : INFO : EPOCH 4 - PROGRESS: at 39.37% examples, 236587 words/s, in_qsize 7, out_qsize 0\n",
            "2019-03-12 02:17:09,397 : INFO : EPOCH 4 - PROGRESS: at 39.97% examples, 236507 words/s, in_qsize 7, out_qsize 0\n",
            "2019-03-12 02:17:10,411 : INFO : EPOCH 4 - PROGRESS: at 40.61% examples, 236587 words/s, in_qsize 7, out_qsize 0\n",
            "2019-03-12 02:17:11,431 : INFO : EPOCH 4 - PROGRESS: at 41.23% examples, 236585 words/s, in_qsize 7, out_qsize 0\n",
            "2019-03-12 02:17:12,483 : INFO : EPOCH 4 - PROGRESS: at 41.84% examples, 236523 words/s, in_qsize 7, out_qsize 0\n",
            "2019-03-12 02:17:13,534 : INFO : EPOCH 4 - PROGRESS: at 42.46% examples, 236468 words/s, in_qsize 7, out_qsize 0\n",
            "2019-03-12 02:17:14,590 : INFO : EPOCH 4 - PROGRESS: at 43.09% examples, 236516 words/s, in_qsize 7, out_qsize 0\n",
            "2019-03-12 02:17:15,647 : INFO : EPOCH 4 - PROGRESS: at 43.71% examples, 236431 words/s, in_qsize 7, out_qsize 0\n",
            "2019-03-12 02:17:16,701 : INFO : EPOCH 4 - PROGRESS: at 44.33% examples, 236347 words/s, in_qsize 6, out_qsize 1\n",
            "2019-03-12 02:17:17,734 : INFO : EPOCH 4 - PROGRESS: at 44.98% examples, 236483 words/s, in_qsize 7, out_qsize 0\n",
            "2019-03-12 02:17:18,777 : INFO : EPOCH 4 - PROGRESS: at 45.58% examples, 236447 words/s, in_qsize 6, out_qsize 1\n",
            "2019-03-12 02:17:19,851 : INFO : EPOCH 4 - PROGRESS: at 46.24% examples, 236447 words/s, in_qsize 7, out_qsize 0\n",
            "2019-03-12 02:17:20,893 : INFO : EPOCH 4 - PROGRESS: at 46.84% examples, 236402 words/s, in_qsize 7, out_qsize 0\n",
            "2019-03-12 02:17:21,905 : INFO : EPOCH 4 - PROGRESS: at 47.46% examples, 236355 words/s, in_qsize 7, out_qsize 0\n",
            "2019-03-12 02:17:22,932 : INFO : EPOCH 4 - PROGRESS: at 48.09% examples, 236397 words/s, in_qsize 7, out_qsize 0\n",
            "2019-03-12 02:17:23,974 : INFO : EPOCH 4 - PROGRESS: at 48.73% examples, 236375 words/s, in_qsize 6, out_qsize 1\n",
            "2019-03-12 02:17:25,018 : INFO : EPOCH 4 - PROGRESS: at 49.35% examples, 236349 words/s, in_qsize 7, out_qsize 0\n",
            "2019-03-12 02:17:26,067 : INFO : EPOCH 4 - PROGRESS: at 49.99% examples, 236328 words/s, in_qsize 7, out_qsize 0\n",
            "2019-03-12 02:17:27,149 : INFO : EPOCH 4 - PROGRESS: at 50.65% examples, 236307 words/s, in_qsize 7, out_qsize 0\n",
            "2019-03-12 02:17:28,173 : INFO : EPOCH 4 - PROGRESS: at 51.28% examples, 236344 words/s, in_qsize 6, out_qsize 1\n",
            "2019-03-12 02:17:29,204 : INFO : EPOCH 4 - PROGRESS: at 51.89% examples, 236350 words/s, in_qsize 6, out_qsize 1\n",
            "2019-03-12 02:17:30,206 : INFO : EPOCH 4 - PROGRESS: at 52.50% examples, 236450 words/s, in_qsize 8, out_qsize 0\n",
            "2019-03-12 02:17:31,256 : INFO : EPOCH 4 - PROGRESS: at 53.13% examples, 236427 words/s, in_qsize 7, out_qsize 0\n",
            "2019-03-12 02:17:32,281 : INFO : EPOCH 4 - PROGRESS: at 53.73% examples, 236339 words/s, in_qsize 7, out_qsize 0\n",
            "2019-03-12 02:17:33,319 : INFO : EPOCH 4 - PROGRESS: at 54.35% examples, 236240 words/s, in_qsize 7, out_qsize 0\n",
            "2019-03-12 02:17:34,319 : INFO : EPOCH 4 - PROGRESS: at 54.96% examples, 236233 words/s, in_qsize 6, out_qsize 1\n",
            "2019-03-12 02:17:35,381 : INFO : EPOCH 4 - PROGRESS: at 55.57% examples, 236190 words/s, in_qsize 7, out_qsize 0\n",
            "2019-03-12 02:17:36,443 : INFO : EPOCH 4 - PROGRESS: at 56.22% examples, 236226 words/s, in_qsize 6, out_qsize 1\n",
            "2019-03-12 02:17:37,475 : INFO : EPOCH 4 - PROGRESS: at 56.83% examples, 236141 words/s, in_qsize 8, out_qsize 0\n",
            "2019-03-12 02:17:38,573 : INFO : EPOCH 4 - PROGRESS: at 57.50% examples, 236198 words/s, in_qsize 8, out_qsize 0\n",
            "2019-03-12 02:17:39,608 : INFO : EPOCH 4 - PROGRESS: at 58.13% examples, 236208 words/s, in_qsize 7, out_qsize 0\n",
            "2019-03-12 02:17:40,612 : INFO : EPOCH 4 - PROGRESS: at 58.75% examples, 236196 words/s, in_qsize 7, out_qsize 0\n",
            "2019-03-12 02:17:41,646 : INFO : EPOCH 4 - PROGRESS: at 59.37% examples, 236170 words/s, in_qsize 8, out_qsize 0\n",
            "2019-03-12 02:17:42,658 : INFO : EPOCH 4 - PROGRESS: at 60.00% examples, 236236 words/s, in_qsize 7, out_qsize 0\n",
            "2019-03-12 02:17:43,662 : INFO : EPOCH 4 - PROGRESS: at 60.59% examples, 236198 words/s, in_qsize 8, out_qsize 0\n",
            "2019-03-12 02:17:44,699 : INFO : EPOCH 4 - PROGRESS: at 61.20% examples, 236104 words/s, in_qsize 6, out_qsize 1\n",
            "2019-03-12 02:17:45,732 : INFO : EPOCH 4 - PROGRESS: at 61.83% examples, 236115 words/s, in_qsize 7, out_qsize 0\n",
            "2019-03-12 02:17:46,836 : INFO : EPOCH 4 - PROGRESS: at 62.51% examples, 236064 words/s, in_qsize 7, out_qsize 0\n",
            "2019-03-12 02:17:47,842 : INFO : EPOCH 4 - PROGRESS: at 63.15% examples, 236131 words/s, in_qsize 7, out_qsize 0\n",
            "2019-03-12 02:17:48,861 : INFO : EPOCH 4 - PROGRESS: at 63.75% examples, 236084 words/s, in_qsize 7, out_qsize 0\n",
            "2019-03-12 02:17:49,865 : INFO : EPOCH 4 - PROGRESS: at 64.36% examples, 236072 words/s, in_qsize 7, out_qsize 0\n",
            "2019-03-12 02:17:50,876 : INFO : EPOCH 4 - PROGRESS: at 64.96% examples, 236046 words/s, in_qsize 7, out_qsize 0\n",
            "2019-03-12 02:17:51,967 : INFO : EPOCH 4 - PROGRESS: at 65.61% examples, 236039 words/s, in_qsize 8, out_qsize 0\n",
            "2019-03-12 02:17:52,982 : INFO : EPOCH 4 - PROGRESS: at 66.23% examples, 236090 words/s, in_qsize 7, out_qsize 0\n",
            "2019-03-12 02:17:53,984 : INFO : EPOCH 4 - PROGRESS: at 66.82% examples, 236065 words/s, in_qsize 7, out_qsize 0\n",
            "2019-03-12 02:17:55,020 : INFO : EPOCH 4 - PROGRESS: at 67.46% examples, 236119 words/s, in_qsize 7, out_qsize 0\n",
            "2019-03-12 02:17:56,073 : INFO : EPOCH 4 - PROGRESS: at 68.12% examples, 236180 words/s, in_qsize 7, out_qsize 0\n",
            "2019-03-12 02:17:57,111 : INFO : EPOCH 4 - PROGRESS: at 68.76% examples, 236178 words/s, in_qsize 7, out_qsize 0\n",
            "2019-03-12 02:17:58,180 : INFO : EPOCH 4 - PROGRESS: at 69.40% examples, 236117 words/s, in_qsize 7, out_qsize 0\n",
            "2019-03-12 02:17:59,201 : INFO : EPOCH 4 - PROGRESS: at 70.03% examples, 236145 words/s, in_qsize 8, out_qsize 0\n",
            "2019-03-12 02:18:00,205 : INFO : EPOCH 4 - PROGRESS: at 70.62% examples, 236131 words/s, in_qsize 7, out_qsize 0\n",
            "2019-03-12 02:18:01,244 : INFO : EPOCH 4 - PROGRESS: at 71.25% examples, 236134 words/s, in_qsize 7, out_qsize 0\n",
            "2019-03-12 02:18:02,247 : INFO : EPOCH 4 - PROGRESS: at 71.87% examples, 236125 words/s, in_qsize 7, out_qsize 0\n",
            "2019-03-12 02:18:03,271 : INFO : EPOCH 4 - PROGRESS: at 72.49% examples, 236149 words/s, in_qsize 7, out_qsize 0\n",
            "2019-03-12 02:18:04,291 : INFO : EPOCH 4 - PROGRESS: at 73.09% examples, 236105 words/s, in_qsize 7, out_qsize 0\n",
            "2019-03-12 02:18:05,314 : INFO : EPOCH 4 - PROGRESS: at 73.70% examples, 236131 words/s, in_qsize 7, out_qsize 0\n",
            "2019-03-12 02:18:06,342 : INFO : EPOCH 4 - PROGRESS: at 74.31% examples, 236155 words/s, in_qsize 7, out_qsize 0\n",
            "2019-03-12 02:18:07,352 : INFO : EPOCH 4 - PROGRESS: at 74.92% examples, 236138 words/s, in_qsize 8, out_qsize 0\n",
            "2019-03-12 02:18:08,458 : INFO : EPOCH 4 - PROGRESS: at 75.58% examples, 236085 words/s, in_qsize 7, out_qsize 0\n",
            "2019-03-12 02:18:09,524 : INFO : EPOCH 4 - PROGRESS: at 76.20% examples, 236099 words/s, in_qsize 7, out_qsize 0\n",
            "2019-03-12 02:18:10,574 : INFO : EPOCH 4 - PROGRESS: at 76.85% examples, 236065 words/s, in_qsize 7, out_qsize 0\n",
            "2019-03-12 02:18:11,574 : INFO : EPOCH 4 - PROGRESS: at 77.46% examples, 236057 words/s, in_qsize 8, out_qsize 0\n",
            "2019-03-12 02:18:12,597 : INFO : EPOCH 4 - PROGRESS: at 78.08% examples, 236087 words/s, in_qsize 6, out_qsize 1\n",
            "2019-03-12 02:18:13,646 : INFO : EPOCH 4 - PROGRESS: at 78.73% examples, 236144 words/s, in_qsize 7, out_qsize 0\n",
            "2019-03-12 02:18:14,704 : INFO : EPOCH 4 - PROGRESS: at 79.32% examples, 236033 words/s, in_qsize 7, out_qsize 0\n",
            "2019-03-12 02:18:15,750 : INFO : EPOCH 4 - PROGRESS: at 79.94% examples, 236087 words/s, in_qsize 8, out_qsize 0\n",
            "2019-03-12 02:18:16,827 : INFO : EPOCH 4 - PROGRESS: at 80.56% examples, 236041 words/s, in_qsize 7, out_qsize 3\n",
            "2019-03-12 02:18:17,818 : INFO : EPOCH 4 - PROGRESS: at 81.19% examples, 236085 words/s, in_qsize 7, out_qsize 0\n",
            "2019-03-12 02:18:18,867 : INFO : EPOCH 4 - PROGRESS: at 81.79% examples, 236037 words/s, in_qsize 7, out_qsize 0\n",
            "2019-03-12 02:18:19,930 : INFO : EPOCH 4 - PROGRESS: at 82.44% examples, 236071 words/s, in_qsize 7, out_qsize 0\n",
            "2019-03-12 02:18:20,948 : INFO : EPOCH 4 - PROGRESS: at 83.10% examples, 236168 words/s, in_qsize 7, out_qsize 0\n",
            "2019-03-12 02:18:21,975 : INFO : EPOCH 4 - PROGRESS: at 83.69% examples, 236114 words/s, in_qsize 7, out_qsize 0\n",
            "2019-03-12 02:18:22,977 : INFO : EPOCH 4 - PROGRESS: at 84.29% examples, 236099 words/s, in_qsize 7, out_qsize 0\n",
            "2019-03-12 02:18:24,041 : INFO : EPOCH 4 - PROGRESS: at 84.92% examples, 236053 words/s, in_qsize 7, out_qsize 0\n",
            "2019-03-12 02:18:25,042 : INFO : EPOCH 4 - PROGRESS: at 85.53% examples, 236046 words/s, in_qsize 8, out_qsize 0\n",
            "2019-03-12 02:18:26,045 : INFO : EPOCH 4 - PROGRESS: at 86.14% examples, 236107 words/s, in_qsize 7, out_qsize 0\n",
            "2019-03-12 02:18:27,103 : INFO : EPOCH 4 - PROGRESS: at 86.77% examples, 236071 words/s, in_qsize 7, out_qsize 0\n",
            "2019-03-12 02:18:28,149 : INFO : EPOCH 4 - PROGRESS: at 87.40% examples, 236063 words/s, in_qsize 8, out_qsize 1\n",
            "2019-03-12 02:18:29,171 : INFO : EPOCH 4 - PROGRESS: at 88.00% examples, 236077 words/s, in_qsize 7, out_qsize 0\n",
            "2019-03-12 02:18:30,207 : INFO : EPOCH 4 - PROGRESS: at 88.62% examples, 236079 words/s, in_qsize 8, out_qsize 0\n",
            "2019-03-12 02:18:31,280 : INFO : EPOCH 4 - PROGRESS: at 89.24% examples, 236056 words/s, in_qsize 8, out_qsize 1\n",
            "2019-03-12 02:18:32,310 : INFO : EPOCH 4 - PROGRESS: at 89.90% examples, 236102 words/s, in_qsize 6, out_qsize 1\n",
            "2019-03-12 02:18:33,325 : INFO : EPOCH 4 - PROGRESS: at 90.52% examples, 236120 words/s, in_qsize 8, out_qsize 0\n",
            "2019-03-12 02:18:34,340 : INFO : EPOCH 4 - PROGRESS: at 91.14% examples, 236146 words/s, in_qsize 7, out_qsize 0\n",
            "2019-03-12 02:18:35,343 : INFO : EPOCH 4 - PROGRESS: at 91.73% examples, 236062 words/s, in_qsize 7, out_qsize 0\n",
            "2019-03-12 02:18:36,347 : INFO : EPOCH 4 - PROGRESS: at 92.34% examples, 236112 words/s, in_qsize 7, out_qsize 0\n",
            "2019-03-12 02:18:37,361 : INFO : EPOCH 4 - PROGRESS: at 92.93% examples, 236073 words/s, in_qsize 7, out_qsize 0\n",
            "2019-03-12 02:18:38,422 : INFO : EPOCH 4 - PROGRESS: at 93.58% examples, 236098 words/s, in_qsize 8, out_qsize 0\n",
            "2019-03-12 02:18:39,472 : INFO : EPOCH 4 - PROGRESS: at 94.21% examples, 236076 words/s, in_qsize 7, out_qsize 0\n",
            "2019-03-12 02:18:40,549 : INFO : EPOCH 4 - PROGRESS: at 94.89% examples, 236086 words/s, in_qsize 6, out_qsize 1\n",
            "2019-03-12 02:18:41,574 : INFO : EPOCH 4 - PROGRESS: at 95.56% examples, 236170 words/s, in_qsize 7, out_qsize 0\n",
            "2019-03-12 02:18:42,603 : INFO : EPOCH 4 - PROGRESS: at 96.17% examples, 236172 words/s, in_qsize 7, out_qsize 0\n",
            "2019-03-12 02:18:43,622 : INFO : EPOCH 4 - PROGRESS: at 96.79% examples, 236139 words/s, in_qsize 7, out_qsize 0\n",
            "2019-03-12 02:18:44,699 : INFO : EPOCH 4 - PROGRESS: at 97.41% examples, 236073 words/s, in_qsize 8, out_qsize 1\n",
            "2019-03-12 02:18:45,771 : INFO : EPOCH 4 - PROGRESS: at 98.11% examples, 236139 words/s, in_qsize 8, out_qsize 0\n",
            "2019-03-12 02:18:46,792 : INFO : EPOCH 4 - PROGRESS: at 98.76% examples, 236167 words/s, in_qsize 7, out_qsize 0\n",
            "2019-03-12 02:18:47,793 : INFO : EPOCH 4 - PROGRESS: at 99.34% examples, 236161 words/s, in_qsize 7, out_qsize 0\n",
            "2019-03-12 02:18:48,767 : INFO : worker thread finished; awaiting finish of 3 more threads\n",
            "2019-03-12 02:18:48,812 : INFO : EPOCH 4 - PROGRESS: at 99.95% examples, 236180 words/s, in_qsize 2, out_qsize 1\n",
            "2019-03-12 02:18:48,815 : INFO : worker thread finished; awaiting finish of 2 more threads\n",
            "2019-03-12 02:18:48,821 : INFO : worker thread finished; awaiting finish of 1 more threads\n",
            "2019-03-12 02:18:48,863 : INFO : worker thread finished; awaiting finish of 0 more threads\n",
            "2019-03-12 02:18:48,865 : INFO : EPOCH - 4 : training on 39058382 raw words (39024147 effective words) took 165.2s, 236221 effective words/s\n",
            "2019-03-12 02:18:49,878 : INFO : EPOCH 5 - PROGRESS: at 0.59% examples, 223667 words/s, in_qsize 8, out_qsize 1\n",
            "2019-03-12 02:18:50,882 : INFO : EPOCH 5 - PROGRESS: at 1.20% examples, 233590 words/s, in_qsize 7, out_qsize 0\n",
            "2019-03-12 02:18:51,885 : INFO : EPOCH 5 - PROGRESS: at 1.79% examples, 233554 words/s, in_qsize 7, out_qsize 0\n",
            "2019-03-12 02:18:52,909 : INFO : EPOCH 5 - PROGRESS: at 2.42% examples, 234432 words/s, in_qsize 8, out_qsize 0\n",
            "2019-03-12 02:18:53,921 : INFO : EPOCH 5 - PROGRESS: at 3.06% examples, 236081 words/s, in_qsize 7, out_qsize 0\n",
            "2019-03-12 02:18:54,942 : INFO : EPOCH 5 - PROGRESS: at 3.68% examples, 236411 words/s, in_qsize 8, out_qsize 0\n",
            "2019-03-12 02:18:55,998 : INFO : EPOCH 5 - PROGRESS: at 4.31% examples, 235383 words/s, in_qsize 8, out_qsize 0\n",
            "2019-03-12 02:18:57,037 : INFO : EPOCH 5 - PROGRESS: at 4.93% examples, 235299 words/s, in_qsize 7, out_qsize 0\n",
            "2019-03-12 02:18:58,093 : INFO : EPOCH 5 - PROGRESS: at 5.60% examples, 236830 words/s, in_qsize 7, out_qsize 0\n",
            "2019-03-12 02:18:59,151 : INFO : EPOCH 5 - PROGRESS: at 6.20% examples, 236135 words/s, in_qsize 7, out_qsize 0\n",
            "2019-03-12 02:19:00,229 : INFO : EPOCH 5 - PROGRESS: at 6.86% examples, 236000 words/s, in_qsize 7, out_qsize 0\n",
            "2019-03-12 02:19:01,233 : INFO : EPOCH 5 - PROGRESS: at 7.49% examples, 236704 words/s, in_qsize 7, out_qsize 0\n",
            "2019-03-12 02:19:02,259 : INFO : EPOCH 5 - PROGRESS: at 8.05% examples, 236007 words/s, in_qsize 7, out_qsize 1\n",
            "2019-03-12 02:19:03,322 : INFO : EPOCH 5 - PROGRESS: at 8.72% examples, 236111 words/s, in_qsize 7, out_qsize 0\n",
            "2019-03-12 02:19:04,353 : INFO : EPOCH 5 - PROGRESS: at 9.36% examples, 236793 words/s, in_qsize 7, out_qsize 0\n",
            "2019-03-12 02:19:05,354 : INFO : EPOCH 5 - PROGRESS: at 9.98% examples, 236213 words/s, in_qsize 7, out_qsize 0\n",
            "2019-03-12 02:19:06,397 : INFO : EPOCH 5 - PROGRESS: at 10.63% examples, 236669 words/s, in_qsize 8, out_qsize 0\n",
            "2019-03-12 02:19:07,449 : INFO : EPOCH 5 - PROGRESS: at 11.24% examples, 236578 words/s, in_qsize 7, out_qsize 0\n",
            "2019-03-12 02:19:08,517 : INFO : EPOCH 5 - PROGRESS: at 11.89% examples, 236262 words/s, in_qsize 8, out_qsize 0\n",
            "2019-03-12 02:19:09,586 : INFO : EPOCH 5 - PROGRESS: at 12.52% examples, 236307 words/s, in_qsize 7, out_qsize 0\n",
            "2019-03-12 02:19:10,634 : INFO : EPOCH 5 - PROGRESS: at 13.19% examples, 236752 words/s, in_qsize 7, out_qsize 0\n",
            "2019-03-12 02:19:11,683 : INFO : EPOCH 5 - PROGRESS: at 13.81% examples, 236620 words/s, in_qsize 7, out_qsize 0\n",
            "2019-03-12 02:19:12,664 : INFO : EPOCH 5 - PROGRESS: at 14.40% examples, 236497 words/s, in_qsize 8, out_qsize 0\n",
            "2019-03-12 02:19:13,714 : INFO : EPOCH 5 - PROGRESS: at 15.01% examples, 236344 words/s, in_qsize 8, out_qsize 0\n",
            "2019-03-12 02:19:14,726 : INFO : EPOCH 5 - PROGRESS: at 15.64% examples, 236552 words/s, in_qsize 7, out_qsize 0\n",
            "2019-03-12 02:19:15,752 : INFO : EPOCH 5 - PROGRESS: at 16.26% examples, 236583 words/s, in_qsize 7, out_qsize 0\n",
            "2019-03-12 02:19:16,776 : INFO : EPOCH 5 - PROGRESS: at 16.91% examples, 236708 words/s, in_qsize 8, out_qsize 0\n",
            "2019-03-12 02:19:17,799 : INFO : EPOCH 5 - PROGRESS: at 17.58% examples, 237119 words/s, in_qsize 7, out_qsize 0\n",
            "2019-03-12 02:19:18,843 : INFO : EPOCH 5 - PROGRESS: at 18.18% examples, 236632 words/s, in_qsize 7, out_qsize 0\n",
            "2019-03-12 02:19:19,914 : INFO : EPOCH 5 - PROGRESS: at 18.79% examples, 236381 words/s, in_qsize 7, out_qsize 0\n",
            "2019-03-12 02:19:20,928 : INFO : EPOCH 5 - PROGRESS: at 19.44% examples, 236520 words/s, in_qsize 7, out_qsize 0\n",
            "2019-03-12 02:19:21,931 : INFO : EPOCH 5 - PROGRESS: at 20.07% examples, 236755 words/s, in_qsize 7, out_qsize 0\n",
            "2019-03-12 02:19:22,933 : INFO : EPOCH 5 - PROGRESS: at 20.65% examples, 236399 words/s, in_qsize 7, out_qsize 0\n",
            "2019-03-12 02:19:23,948 : INFO : EPOCH 5 - PROGRESS: at 21.30% examples, 236821 words/s, in_qsize 7, out_qsize 0\n",
            "2019-03-12 02:19:25,042 : INFO : EPOCH 5 - PROGRESS: at 21.95% examples, 236471 words/s, in_qsize 7, out_qsize 0\n",
            "2019-03-12 02:19:26,114 : INFO : EPOCH 5 - PROGRESS: at 22.60% examples, 236535 words/s, in_qsize 7, out_qsize 0\n",
            "2019-03-12 02:19:27,117 : INFO : EPOCH 5 - PROGRESS: at 23.20% examples, 236505 words/s, in_qsize 6, out_qsize 1\n",
            "2019-03-12 02:19:28,166 : INFO : EPOCH 5 - PROGRESS: at 23.83% examples, 236421 words/s, in_qsize 7, out_qsize 0\n",
            "2019-03-12 02:19:29,215 : INFO : EPOCH 5 - PROGRESS: at 24.49% examples, 236591 words/s, in_qsize 7, out_qsize 0\n",
            "2019-03-12 02:19:30,218 : INFO : EPOCH 5 - PROGRESS: at 25.10% examples, 236533 words/s, in_qsize 8, out_qsize 1\n",
            "2019-03-12 02:19:31,235 : INFO : EPOCH 5 - PROGRESS: at 25.76% examples, 236848 words/s, in_qsize 7, out_qsize 0\n",
            "2019-03-12 02:19:32,242 : INFO : EPOCH 5 - PROGRESS: at 26.34% examples, 236552 words/s, in_qsize 7, out_qsize 0\n",
            "2019-03-12 02:19:33,270 : INFO : EPOCH 5 - PROGRESS: at 27.01% examples, 236800 words/s, in_qsize 7, out_qsize 0\n",
            "2019-03-12 02:19:34,292 : INFO : EPOCH 5 - PROGRESS: at 27.64% examples, 236679 words/s, in_qsize 7, out_qsize 0\n",
            "2019-03-12 02:19:35,328 : INFO : EPOCH 5 - PROGRESS: at 28.28% examples, 236661 words/s, in_qsize 7, out_qsize 0\n",
            "2019-03-12 02:19:36,379 : INFO : EPOCH 5 - PROGRESS: at 28.91% examples, 236583 words/s, in_qsize 7, out_qsize 0\n",
            "2019-03-12 02:19:37,382 : INFO : EPOCH 5 - PROGRESS: at 29.50% examples, 236525 words/s, in_qsize 7, out_qsize 0\n",
            "2019-03-12 02:19:38,446 : INFO : EPOCH 5 - PROGRESS: at 30.13% examples, 236588 words/s, in_qsize 7, out_qsize 0\n",
            "2019-03-12 02:19:39,483 : INFO : EPOCH 5 - PROGRESS: at 30.77% examples, 236708 words/s, in_qsize 7, out_qsize 0\n",
            "2019-03-12 02:19:40,472 : INFO : EPOCH 5 - PROGRESS: at 31.37% examples, 236613 words/s, in_qsize 7, out_qsize 0\n",
            "2019-03-12 02:19:41,518 : INFO : EPOCH 5 - PROGRESS: at 31.99% examples, 236537 words/s, in_qsize 7, out_qsize 0\n",
            "2019-03-12 02:19:42,518 : INFO : EPOCH 5 - PROGRESS: at 32.60% examples, 236620 words/s, in_qsize 7, out_qsize 0\n",
            "2019-03-12 02:19:43,557 : INFO : EPOCH 5 - PROGRESS: at 33.24% examples, 236736 words/s, in_qsize 7, out_qsize 0\n",
            "2019-03-12 02:19:44,574 : INFO : EPOCH 5 - PROGRESS: at 33.87% examples, 236817 words/s, in_qsize 7, out_qsize 0\n",
            "2019-03-12 02:19:45,574 : INFO : EPOCH 5 - PROGRESS: at 34.48% examples, 236633 words/s, in_qsize 7, out_qsize 0\n",
            "2019-03-12 02:19:46,619 : INFO : EPOCH 5 - PROGRESS: at 35.12% examples, 236599 words/s, in_qsize 8, out_qsize 1\n",
            "2019-03-12 02:19:47,634 : INFO : EPOCH 5 - PROGRESS: at 35.74% examples, 236688 words/s, in_qsize 7, out_qsize 0\n",
            "2019-03-12 02:19:48,650 : INFO : EPOCH 5 - PROGRESS: at 36.39% examples, 236779 words/s, in_qsize 7, out_qsize 0\n",
            "2019-03-12 02:19:49,718 : INFO : EPOCH 5 - PROGRESS: at 36.98% examples, 236495 words/s, in_qsize 5, out_qsize 2\n",
            "2019-03-12 02:19:50,735 : INFO : EPOCH 5 - PROGRESS: at 37.61% examples, 236577 words/s, in_qsize 7, out_qsize 0\n",
            "2019-03-12 02:19:51,762 : INFO : EPOCH 5 - PROGRESS: at 38.24% examples, 236675 words/s, in_qsize 7, out_qsize 0\n",
            "2019-03-12 02:19:52,809 : INFO : EPOCH 5 - PROGRESS: at 38.88% examples, 236582 words/s, in_qsize 7, out_qsize 0\n",
            "2019-03-12 02:19:53,842 : INFO : EPOCH 5 - PROGRESS: at 39.54% examples, 236745 words/s, in_qsize 7, out_qsize 0\n",
            "2019-03-12 02:19:54,933 : INFO : EPOCH 5 - PROGRESS: at 40.17% examples, 236525 words/s, in_qsize 7, out_qsize 0\n",
            "2019-03-12 02:19:55,940 : INFO : EPOCH 5 - PROGRESS: at 40.85% examples, 236746 words/s, in_qsize 7, out_qsize 0\n",
            "2019-03-12 02:19:56,976 : INFO : EPOCH 5 - PROGRESS: at 41.43% examples, 236572 words/s, in_qsize 7, out_qsize 0\n",
            "2019-03-12 02:19:57,988 : INFO : EPOCH 5 - PROGRESS: at 42.04% examples, 236660 words/s, in_qsize 7, out_qsize 0\n",
            "2019-03-12 02:19:58,997 : INFO : EPOCH 5 - PROGRESS: at 42.62% examples, 236573 words/s, in_qsize 7, out_qsize 0\n",
            "2019-03-12 02:20:00,044 : INFO : EPOCH 5 - PROGRESS: at 43.24% examples, 236662 words/s, in_qsize 7, out_qsize 0\n",
            "2019-03-12 02:20:01,056 : INFO : EPOCH 5 - PROGRESS: at 43.86% examples, 236595 words/s, in_qsize 6, out_qsize 1\n",
            "2019-03-12 02:20:02,057 : INFO : EPOCH 5 - PROGRESS: at 44.50% examples, 236811 words/s, in_qsize 7, out_qsize 0\n",
            "2019-03-12 02:20:03,065 : INFO : EPOCH 5 - PROGRESS: at 45.11% examples, 236758 words/s, in_qsize 8, out_qsize 0\n",
            "2019-03-12 02:20:04,094 : INFO : EPOCH 5 - PROGRESS: at 45.68% examples, 236621 words/s, in_qsize 7, out_qsize 0\n",
            "2019-03-12 02:20:05,122 : INFO : EPOCH 5 - PROGRESS: at 46.30% examples, 236639 words/s, in_qsize 7, out_qsize 0\n",
            "2019-03-12 02:20:06,241 : INFO : EPOCH 5 - PROGRESS: at 46.93% examples, 236491 words/s, in_qsize 7, out_qsize 0\n",
            "2019-03-12 02:20:07,249 : INFO : EPOCH 5 - PROGRESS: at 47.59% examples, 236579 words/s, in_qsize 7, out_qsize 0\n",
            "2019-03-12 02:20:08,279 : INFO : EPOCH 5 - PROGRESS: at 48.22% examples, 236608 words/s, in_qsize 7, out_qsize 0\n",
            "2019-03-12 02:20:09,340 : INFO : EPOCH 5 - PROGRESS: at 48.88% examples, 236640 words/s, in_qsize 7, out_qsize 0\n",
            "2019-03-12 02:20:10,361 : INFO : EPOCH 5 - PROGRESS: at 49.48% examples, 236564 words/s, in_qsize 7, out_qsize 1\n",
            "2019-03-12 02:20:11,403 : INFO : EPOCH 5 - PROGRESS: at 50.11% examples, 236561 words/s, in_qsize 7, out_qsize 0\n",
            "2019-03-12 02:20:12,445 : INFO : EPOCH 5 - PROGRESS: at 50.74% examples, 236593 words/s, in_qsize 7, out_qsize 0\n",
            "2019-03-12 02:20:13,452 : INFO : EPOCH 5 - PROGRESS: at 51.38% examples, 236617 words/s, in_qsize 8, out_qsize 0\n",
            "2019-03-12 02:20:14,493 : INFO : EPOCH 5 - PROGRESS: at 51.99% examples, 236597 words/s, in_qsize 7, out_qsize 0\n",
            "2019-03-12 02:20:15,574 : INFO : EPOCH 5 - PROGRESS: at 52.60% examples, 236480 words/s, in_qsize 7, out_qsize 0\n",
            "2019-03-12 02:20:16,600 : INFO : EPOCH 5 - PROGRESS: at 53.23% examples, 236513 words/s, in_qsize 8, out_qsize 1\n",
            "2019-03-12 02:20:17,602 : INFO : EPOCH 5 - PROGRESS: at 53.83% examples, 236485 words/s, in_qsize 7, out_qsize 0\n",
            "2019-03-12 02:20:18,625 : INFO : EPOCH 5 - PROGRESS: at 54.48% examples, 236526 words/s, in_qsize 7, out_qsize 0\n",
            "2019-03-12 02:20:19,640 : INFO : EPOCH 5 - PROGRESS: at 55.08% examples, 236492 words/s, in_qsize 7, out_qsize 0\n",
            "2019-03-12 02:20:20,641 : INFO : EPOCH 5 - PROGRESS: at 55.67% examples, 236493 words/s, in_qsize 7, out_qsize 0\n",
            "2019-03-12 02:20:21,693 : INFO : EPOCH 5 - PROGRESS: at 56.30% examples, 236443 words/s, in_qsize 7, out_qsize 0\n",
            "2019-03-12 02:20:22,713 : INFO : EPOCH 5 - PROGRESS: at 56.90% examples, 236388 words/s, in_qsize 8, out_qsize 0\n",
            "2019-03-12 02:20:23,762 : INFO : EPOCH 5 - PROGRESS: at 57.53% examples, 236355 words/s, in_qsize 7, out_qsize 0\n",
            "2019-03-12 02:20:24,774 : INFO : EPOCH 5 - PROGRESS: at 58.14% examples, 236319 words/s, in_qsize 7, out_qsize 0\n",
            "2019-03-12 02:20:25,832 : INFO : EPOCH 5 - PROGRESS: at 58.80% examples, 236379 words/s, in_qsize 7, out_qsize 0\n",
            "2019-03-12 02:20:26,833 : INFO : EPOCH 5 - PROGRESS: at 59.40% examples, 236328 words/s, in_qsize 7, out_qsize 0\n",
            "2019-03-12 02:20:27,848 : INFO : EPOCH 5 - PROGRESS: at 60.03% examples, 236382 words/s, in_qsize 7, out_qsize 0\n",
            "2019-03-12 02:20:28,927 : INFO : EPOCH 5 - PROGRESS: at 60.64% examples, 236269 words/s, in_qsize 7, out_qsize 0\n",
            "2019-03-12 02:20:29,946 : INFO : EPOCH 5 - PROGRESS: at 61.27% examples, 236312 words/s, in_qsize 7, out_qsize 0\n",
            "2019-03-12 02:20:30,986 : INFO : EPOCH 5 - PROGRESS: at 61.88% examples, 236206 words/s, in_qsize 7, out_qsize 0\n",
            "2019-03-12 02:20:32,003 : INFO : EPOCH 5 - PROGRESS: at 62.54% examples, 236259 words/s, in_qsize 7, out_qsize 0\n",
            "2019-03-12 02:20:33,055 : INFO : EPOCH 5 - PROGRESS: at 63.20% examples, 236314 words/s, in_qsize 7, out_qsize 0\n",
            "2019-03-12 02:20:34,114 : INFO : EPOCH 5 - PROGRESS: at 63.83% examples, 236266 words/s, in_qsize 7, out_qsize 0\n",
            "2019-03-12 02:20:35,115 : INFO : EPOCH 5 - PROGRESS: at 64.41% examples, 236166 words/s, in_qsize 7, out_qsize 0\n",
            "2019-03-12 02:20:36,170 : INFO : EPOCH 5 - PROGRESS: at 65.06% examples, 236231 words/s, in_qsize 7, out_qsize 0\n",
            "2019-03-12 02:20:37,185 : INFO : EPOCH 5 - PROGRESS: at 65.66% examples, 236204 words/s, in_qsize 7, out_qsize 0\n",
            "2019-03-12 02:20:38,209 : INFO : EPOCH 5 - PROGRESS: at 66.29% examples, 236234 words/s, in_qsize 7, out_qsize 0\n",
            "2019-03-12 02:20:39,261 : INFO : EPOCH 5 - PROGRESS: at 66.90% examples, 236186 words/s, in_qsize 7, out_qsize 0\n",
            "2019-03-12 02:20:40,268 : INFO : EPOCH 5 - PROGRESS: at 67.52% examples, 236219 words/s, in_qsize 7, out_qsize 0\n",
            "2019-03-12 02:20:41,272 : INFO : EPOCH 5 - PROGRESS: at 68.12% examples, 236204 words/s, in_qsize 8, out_qsize 0\n",
            "2019-03-12 02:20:42,322 : INFO : EPOCH 5 - PROGRESS: at 68.75% examples, 236177 words/s, in_qsize 7, out_qsize 0\n",
            "2019-03-12 02:20:43,345 : INFO : EPOCH 5 - PROGRESS: at 69.37% examples, 236127 words/s, in_qsize 7, out_qsize 0\n",
            "2019-03-12 02:20:44,387 : INFO : EPOCH 5 - PROGRESS: at 70.03% examples, 236196 words/s, in_qsize 7, out_qsize 0\n",
            "2019-03-12 02:20:45,401 : INFO : EPOCH 5 - PROGRESS: at 70.65% examples, 236248 words/s, in_qsize 7, out_qsize 0\n",
            "2019-03-12 02:20:46,444 : INFO : EPOCH 5 - PROGRESS: at 71.25% examples, 236152 words/s, in_qsize 7, out_qsize 0\n",
            "2019-03-12 02:20:47,450 : INFO : EPOCH 5 - PROGRESS: at 71.87% examples, 236140 words/s, in_qsize 7, out_qsize 0\n",
            "2019-03-12 02:20:48,478 : INFO : EPOCH 5 - PROGRESS: at 72.49% examples, 236157 words/s, in_qsize 7, out_qsize 0\n",
            "2019-03-12 02:20:49,509 : INFO : EPOCH 5 - PROGRESS: at 73.11% examples, 236172 words/s, in_qsize 8, out_qsize 0\n",
            "2019-03-12 02:20:50,561 : INFO : EPOCH 5 - PROGRESS: at 73.72% examples, 236142 words/s, in_qsize 6, out_qsize 1\n",
            "2019-03-12 02:20:51,585 : INFO : EPOCH 5 - PROGRESS: at 74.34% examples, 236173 words/s, in_qsize 7, out_qsize 0\n",
            "2019-03-12 02:20:52,597 : INFO : EPOCH 5 - PROGRESS: at 74.94% examples, 236152 words/s, in_qsize 7, out_qsize 0\n",
            "2019-03-12 02:20:53,619 : INFO : EPOCH 5 - PROGRESS: at 75.58% examples, 236177 words/s, in_qsize 7, out_qsize 0\n",
            "2019-03-12 02:20:54,690 : INFO : EPOCH 5 - PROGRESS: at 76.21% examples, 236183 words/s, in_qsize 7, out_qsize 0\n",
            "2019-03-12 02:20:55,726 : INFO : EPOCH 5 - PROGRESS: at 76.85% examples, 236174 words/s, in_qsize 7, out_qsize 0\n",
            "2019-03-12 02:20:56,729 : INFO : EPOCH 5 - PROGRESS: at 77.46% examples, 236161 words/s, in_qsize 8, out_qsize 0\n",
            "2019-03-12 02:20:57,731 : INFO : EPOCH 5 - PROGRESS: at 78.06% examples, 236149 words/s, in_qsize 7, out_qsize 0\n",
            "2019-03-12 02:20:58,773 : INFO : EPOCH 5 - PROGRESS: at 78.70% examples, 236220 words/s, in_qsize 7, out_qsize 0\n",
            "2019-03-12 02:20:59,840 : INFO : EPOCH 5 - PROGRESS: at 79.30% examples, 236093 words/s, in_qsize 5, out_qsize 2\n",
            "2019-03-12 02:21:00,857 : INFO : EPOCH 5 - PROGRESS: at 79.91% examples, 236197 words/s, in_qsize 7, out_qsize 0\n",
            "2019-03-12 02:21:01,932 : INFO : EPOCH 5 - PROGRESS: at 80.56% examples, 236193 words/s, in_qsize 7, out_qsize 0\n",
            "2019-03-12 02:21:02,950 : INFO : EPOCH 5 - PROGRESS: at 81.19% examples, 236224 words/s, in_qsize 7, out_qsize 0\n",
            "2019-03-12 02:21:04,025 : INFO : EPOCH 5 - PROGRESS: at 81.78% examples, 236129 words/s, in_qsize 7, out_qsize 0\n",
            "2019-03-12 02:21:05,054 : INFO : EPOCH 5 - PROGRESS: at 82.42% examples, 236149 words/s, in_qsize 7, out_qsize 0\n",
            "2019-03-12 02:21:06,092 : INFO : EPOCH 5 - PROGRESS: at 83.08% examples, 236210 words/s, in_qsize 8, out_qsize 0\n",
            "2019-03-12 02:21:07,129 : INFO : EPOCH 5 - PROGRESS: at 83.69% examples, 236209 words/s, in_qsize 7, out_qsize 0\n",
            "2019-03-12 02:21:08,165 : INFO : EPOCH 5 - PROGRESS: at 84.32% examples, 236237 words/s, in_qsize 7, out_qsize 0\n",
            "2019-03-12 02:21:09,191 : INFO : EPOCH 5 - PROGRESS: at 84.97% examples, 236294 words/s, in_qsize 7, out_qsize 0\n",
            "2019-03-12 02:21:10,214 : INFO : EPOCH 5 - PROGRESS: at 85.61% examples, 236319 words/s, in_qsize 7, out_qsize 0\n",
            "2019-03-12 02:21:11,258 : INFO : EPOCH 5 - PROGRESS: at 86.21% examples, 236310 words/s, in_qsize 6, out_qsize 1\n",
            "2019-03-12 02:21:12,292 : INFO : EPOCH 5 - PROGRESS: at 86.87% examples, 236383 words/s, in_qsize 7, out_qsize 0\n",
            "2019-03-12 02:21:13,349 : INFO : EPOCH 5 - PROGRESS: at 87.52% examples, 236418 words/s, in_qsize 7, out_qsize 0\n",
            "2019-03-12 02:21:14,392 : INFO : EPOCH 5 - PROGRESS: at 88.13% examples, 236396 words/s, in_qsize 8, out_qsize 0\n",
            "2019-03-12 02:21:15,418 : INFO : EPOCH 5 - PROGRESS: at 88.76% examples, 236471 words/s, in_qsize 7, out_qsize 0\n",
            "2019-03-12 02:21:16,495 : INFO : EPOCH 5 - PROGRESS: at 89.38% examples, 236408 words/s, in_qsize 7, out_qsize 0\n",
            "2019-03-12 02:21:17,521 : INFO : EPOCH 5 - PROGRESS: at 90.03% examples, 236431 words/s, in_qsize 7, out_qsize 1\n",
            "2019-03-12 02:21:18,549 : INFO : EPOCH 5 - PROGRESS: at 90.64% examples, 236456 words/s, in_qsize 7, out_qsize 0\n",
            "2019-03-12 02:21:19,562 : INFO : EPOCH 5 - PROGRESS: at 91.27% examples, 236446 words/s, in_qsize 7, out_qsize 0\n",
            "2019-03-12 02:21:20,620 : INFO : EPOCH 5 - PROGRESS: at 91.92% examples, 236414 words/s, in_qsize 6, out_qsize 1\n",
            "2019-03-12 02:21:21,678 : INFO : EPOCH 5 - PROGRESS: at 92.54% examples, 236431 words/s, in_qsize 7, out_qsize 0\n",
            "2019-03-12 02:21:22,719 : INFO : EPOCH 5 - PROGRESS: at 93.17% examples, 236483 words/s, in_qsize 7, out_qsize 0\n",
            "2019-03-12 02:21:23,723 : INFO : EPOCH 5 - PROGRESS: at 93.76% examples, 236406 words/s, in_qsize 7, out_qsize 0\n",
            "2019-03-12 02:21:24,728 : INFO : EPOCH 5 - PROGRESS: at 94.41% examples, 236509 words/s, in_qsize 7, out_qsize 0\n",
            "2019-03-12 02:21:25,749 : INFO : EPOCH 5 - PROGRESS: at 95.04% examples, 236475 words/s, in_qsize 7, out_qsize 0\n",
            "2019-03-12 02:21:26,808 : INFO : EPOCH 5 - PROGRESS: at 95.68% examples, 236445 words/s, in_qsize 6, out_qsize 1\n",
            "2019-03-12 02:21:27,852 : INFO : EPOCH 5 - PROGRESS: at 96.31% examples, 236484 words/s, in_qsize 7, out_qsize 0\n",
            "2019-03-12 02:21:28,855 : INFO : EPOCH 5 - PROGRESS: at 96.94% examples, 236472 words/s, in_qsize 6, out_qsize 1\n",
            "2019-03-12 02:21:29,896 : INFO : EPOCH 5 - PROGRESS: at 97.57% examples, 236458 words/s, in_qsize 6, out_qsize 1\n",
            "2019-03-12 02:21:30,923 : INFO : EPOCH 5 - PROGRESS: at 98.21% examples, 236465 words/s, in_qsize 7, out_qsize 0\n",
            "2019-03-12 02:21:31,968 : INFO : EPOCH 5 - PROGRESS: at 98.85% examples, 236458 words/s, in_qsize 7, out_qsize 0\n",
            "2019-03-12 02:21:32,992 : INFO : EPOCH 5 - PROGRESS: at 99.45% examples, 236475 words/s, in_qsize 8, out_qsize 0\n",
            "2019-03-12 02:21:33,759 : INFO : worker thread finished; awaiting finish of 3 more threads\n",
            "2019-03-12 02:21:33,805 : INFO : worker thread finished; awaiting finish of 2 more threads\n",
            "2019-03-12 02:21:33,835 : INFO : worker thread finished; awaiting finish of 1 more threads\n",
            "2019-03-12 02:21:33,844 : INFO : worker thread finished; awaiting finish of 0 more threads\n",
            "2019-03-12 02:21:33,845 : INFO : EPOCH - 5 : training on 39058382 raw words (39024147 effective words) took 165.0s, 236552 effective words/s\n",
            "2019-03-12 02:21:33,847 : INFO : training on a 195291910 raw words (195120735 effective words) took 838.4s, 232733 effective words/s\n",
            "2019-03-12 02:21:33,849 : INFO : saving Word2Vec object under 300features_10minwords_10context, separately None\n",
            "2019-03-12 02:21:33,851 : INFO : storing np array 'vectors' to 300features_10minwords_10context.wv.vectors.npy\n",
            "2019-03-12 02:21:34,119 : INFO : not storing attribute vectors_norm\n",
            "2019-03-12 02:21:34,125 : INFO : storing np array 'syn1neg' to 300features_10minwords_10context.trainables.syn1neg.npy\n",
            "2019-03-12 02:21:35,281 : INFO : not storing attribute cum_table\n",
            "2019-03-12 02:21:35,692 : INFO : saved 300features_10minwords_10context\n"
          ],
          "name": "stderr"
        }
      ]
    },
    {
      "metadata": {
        "id": "GSTQy8NP5Vj5",
        "colab_type": "text"
      },
      "cell_type": "markdown",
      "source": [
        "**Vector Average for each row**\n",
        "\n",
        "\n",
        "\n"
      ]
    },
    {
      "metadata": {
        "id": "o71nHxygi5SF",
        "colab_type": "code",
        "colab": {}
      },
      "cell_type": "code",
      "source": [
        "import numpy as np"
      ],
      "execution_count": 0,
      "outputs": []
    },
    {
      "metadata": {
        "id": "86JtDQvii5SH",
        "colab_type": "code",
        "colab": {}
      },
      "cell_type": "code",
      "source": [
        "# Function to average all word vectors in a paragraph\n",
        "def featureVecMethod(words, model, num_features):\n",
        "    # Pre-initialising empty numpy array for speed\n",
        "    featureVec = np.zeros(num_features,dtype=\"float32\")\n",
        "    nwords = 0\n",
        "    \n",
        "    #Converting Index2Word which is a list to a set for better speed in the execution.\n",
        "    index2word_set = set(model.wv.index2word)\n",
        "    \n",
        "    for word in  words:\n",
        "        if word in index2word_set:\n",
        "            nwords = nwords + 1\n",
        "            featureVec = np.add(featureVec,model[word])\n",
        "    \n",
        "    # Dividing the result by number of words to get average\n",
        "    featureVec = np.divide(featureVec, nwords)\n",
        "    return featureVec"
      ],
      "execution_count": 0,
      "outputs": []
    },
    {
      "metadata": {
        "id": "32RMkAwli5SJ",
        "colab_type": "code",
        "colab": {}
      },
      "cell_type": "code",
      "source": [
        "def getAvgFeatureVecs(reviews, model, num_features):\n",
        "    counter = 0\n",
        "    reviewFeatureVecs = np.zeros((len(reviews),num_features),dtype=\"float32\")\n",
        "    for review in reviews:\n",
        "        # Printing a status message every 1000th review\n",
        "        if counter%1000 == 0:\n",
        "            print(\"Review %d of %d\"%(counter,len(reviews)))\n",
        "            \n",
        "        reviewFeatureVecs[counter] = featureVecMethod(review, model, num_features)\n",
        "        counter = counter+1\n",
        "        \n",
        "    return reviewFeatureVecs"
      ],
      "execution_count": 0,
      "outputs": []
    },
    {
      "metadata": {
        "id": "xF3B8wSPi5SN",
        "colab_type": "code",
        "colab": {
          "base_uri": "https://localhost:8080/",
          "height": 1618
        },
        "outputId": "6d6a7a60-01c3-48aa-8c2f-27f9a9f03256"
      },
      "cell_type": "code",
      "source": [
        "# Calculating average feature vector for training set\n",
        "clean_train_reviews = []\n",
        "for review in X_train:\n",
        "    clean_train_reviews.append(review_to_wordlist(review))\n",
        "    \n",
        "trainDataVecs = getAvgFeatureVecs(clean_train_reviews, model, num_features)"
      ],
      "execution_count": 41,
      "outputs": [
        {
          "output_type": "stream",
          "text": [
            "Review 0 of 91000\n"
          ],
          "name": "stdout"
        },
        {
          "output_type": "stream",
          "text": [
            "/usr/local/lib/python3.6/dist-packages/ipykernel_launcher.py:12: DeprecationWarning: Call to deprecated `__getitem__` (Method will be removed in 4.0.0, use self.wv.__getitem__() instead).\n",
            "  if sys.path[0] == '':\n"
          ],
          "name": "stderr"
        },
        {
          "output_type": "stream",
          "text": [
            "Review 1000 of 91000\n",
            "Review 2000 of 91000\n",
            "Review 3000 of 91000\n",
            "Review 4000 of 91000\n",
            "Review 5000 of 91000\n",
            "Review 6000 of 91000\n",
            "Review 7000 of 91000\n",
            "Review 8000 of 91000\n",
            "Review 9000 of 91000\n",
            "Review 10000 of 91000\n",
            "Review 11000 of 91000\n",
            "Review 12000 of 91000\n",
            "Review 13000 of 91000\n",
            "Review 14000 of 91000\n",
            "Review 15000 of 91000\n",
            "Review 16000 of 91000\n",
            "Review 17000 of 91000\n",
            "Review 18000 of 91000\n",
            "Review 19000 of 91000\n",
            "Review 20000 of 91000\n",
            "Review 21000 of 91000\n",
            "Review 22000 of 91000\n",
            "Review 23000 of 91000\n",
            "Review 24000 of 91000\n",
            "Review 25000 of 91000\n",
            "Review 26000 of 91000\n",
            "Review 27000 of 91000\n",
            "Review 28000 of 91000\n",
            "Review 29000 of 91000\n",
            "Review 30000 of 91000\n",
            "Review 31000 of 91000\n",
            "Review 32000 of 91000\n",
            "Review 33000 of 91000\n",
            "Review 34000 of 91000\n",
            "Review 35000 of 91000\n",
            "Review 36000 of 91000\n",
            "Review 37000 of 91000\n",
            "Review 38000 of 91000\n",
            "Review 39000 of 91000\n",
            "Review 40000 of 91000\n",
            "Review 41000 of 91000\n",
            "Review 42000 of 91000\n",
            "Review 43000 of 91000\n",
            "Review 44000 of 91000\n",
            "Review 45000 of 91000\n",
            "Review 46000 of 91000\n",
            "Review 47000 of 91000\n",
            "Review 48000 of 91000\n",
            "Review 49000 of 91000\n",
            "Review 50000 of 91000\n",
            "Review 51000 of 91000\n",
            "Review 52000 of 91000\n",
            "Review 53000 of 91000\n",
            "Review 54000 of 91000\n",
            "Review 55000 of 91000\n",
            "Review 56000 of 91000\n",
            "Review 57000 of 91000\n",
            "Review 58000 of 91000\n",
            "Review 59000 of 91000\n",
            "Review 60000 of 91000\n",
            "Review 61000 of 91000\n",
            "Review 62000 of 91000\n",
            "Review 63000 of 91000\n",
            "Review 64000 of 91000\n",
            "Review 65000 of 91000\n",
            "Review 66000 of 91000\n",
            "Review 67000 of 91000\n",
            "Review 68000 of 91000\n",
            "Review 69000 of 91000\n",
            "Review 70000 of 91000\n",
            "Review 71000 of 91000\n",
            "Review 72000 of 91000\n",
            "Review 73000 of 91000\n",
            "Review 74000 of 91000\n",
            "Review 75000 of 91000\n",
            "Review 76000 of 91000\n",
            "Review 77000 of 91000\n",
            "Review 78000 of 91000\n",
            "Review 79000 of 91000\n",
            "Review 80000 of 91000\n",
            "Review 81000 of 91000\n",
            "Review 82000 of 91000\n",
            "Review 83000 of 91000\n",
            "Review 84000 of 91000\n",
            "Review 85000 of 91000\n",
            "Review 86000 of 91000\n",
            "Review 87000 of 91000\n",
            "Review 88000 of 91000\n",
            "Review 89000 of 91000\n",
            "Review 90000 of 91000\n"
          ],
          "name": "stdout"
        }
      ]
    },
    {
      "metadata": {
        "id": "-b-zrBjOi5SY",
        "colab_type": "code",
        "colab": {
          "base_uri": "https://localhost:8080/",
          "height": 1618
        },
        "outputId": "56ad988e-cf73-4fd1-a4ba-cb8cd9531039"
      },
      "cell_type": "code",
      "source": [
        "trainDataVecs = getAvgFeatureVecs( clean_train_reviews, model, num_features )\n"
      ],
      "execution_count": 42,
      "outputs": [
        {
          "output_type": "stream",
          "text": [
            "Review 0 of 91000\n"
          ],
          "name": "stdout"
        },
        {
          "output_type": "stream",
          "text": [
            "/usr/local/lib/python3.6/dist-packages/ipykernel_launcher.py:12: DeprecationWarning: Call to deprecated `__getitem__` (Method will be removed in 4.0.0, use self.wv.__getitem__() instead).\n",
            "  if sys.path[0] == '':\n"
          ],
          "name": "stderr"
        },
        {
          "output_type": "stream",
          "text": [
            "Review 1000 of 91000\n",
            "Review 2000 of 91000\n",
            "Review 3000 of 91000\n",
            "Review 4000 of 91000\n",
            "Review 5000 of 91000\n",
            "Review 6000 of 91000\n",
            "Review 7000 of 91000\n",
            "Review 8000 of 91000\n",
            "Review 9000 of 91000\n",
            "Review 10000 of 91000\n",
            "Review 11000 of 91000\n",
            "Review 12000 of 91000\n",
            "Review 13000 of 91000\n",
            "Review 14000 of 91000\n",
            "Review 15000 of 91000\n",
            "Review 16000 of 91000\n",
            "Review 17000 of 91000\n",
            "Review 18000 of 91000\n",
            "Review 19000 of 91000\n",
            "Review 20000 of 91000\n",
            "Review 21000 of 91000\n",
            "Review 22000 of 91000\n",
            "Review 23000 of 91000\n",
            "Review 24000 of 91000\n",
            "Review 25000 of 91000\n",
            "Review 26000 of 91000\n",
            "Review 27000 of 91000\n",
            "Review 28000 of 91000\n",
            "Review 29000 of 91000\n",
            "Review 30000 of 91000\n",
            "Review 31000 of 91000\n",
            "Review 32000 of 91000\n",
            "Review 33000 of 91000\n",
            "Review 34000 of 91000\n",
            "Review 35000 of 91000\n",
            "Review 36000 of 91000\n",
            "Review 37000 of 91000\n",
            "Review 38000 of 91000\n",
            "Review 39000 of 91000\n",
            "Review 40000 of 91000\n",
            "Review 41000 of 91000\n",
            "Review 42000 of 91000\n",
            "Review 43000 of 91000\n",
            "Review 44000 of 91000\n",
            "Review 45000 of 91000\n",
            "Review 46000 of 91000\n",
            "Review 47000 of 91000\n",
            "Review 48000 of 91000\n",
            "Review 49000 of 91000\n",
            "Review 50000 of 91000\n",
            "Review 51000 of 91000\n",
            "Review 52000 of 91000\n",
            "Review 53000 of 91000\n",
            "Review 54000 of 91000\n",
            "Review 55000 of 91000\n",
            "Review 56000 of 91000\n",
            "Review 57000 of 91000\n",
            "Review 58000 of 91000\n",
            "Review 59000 of 91000\n",
            "Review 60000 of 91000\n",
            "Review 61000 of 91000\n",
            "Review 62000 of 91000\n",
            "Review 63000 of 91000\n",
            "Review 64000 of 91000\n",
            "Review 65000 of 91000\n",
            "Review 66000 of 91000\n",
            "Review 67000 of 91000\n",
            "Review 68000 of 91000\n",
            "Review 69000 of 91000\n",
            "Review 70000 of 91000\n",
            "Review 71000 of 91000\n",
            "Review 72000 of 91000\n",
            "Review 73000 of 91000\n",
            "Review 74000 of 91000\n",
            "Review 75000 of 91000\n",
            "Review 76000 of 91000\n",
            "Review 77000 of 91000\n",
            "Review 78000 of 91000\n",
            "Review 79000 of 91000\n",
            "Review 80000 of 91000\n",
            "Review 81000 of 91000\n",
            "Review 82000 of 91000\n",
            "Review 83000 of 91000\n",
            "Review 84000 of 91000\n",
            "Review 85000 of 91000\n",
            "Review 86000 of 91000\n",
            "Review 87000 of 91000\n",
            "Review 88000 of 91000\n",
            "Review 89000 of 91000\n",
            "Review 90000 of 91000\n"
          ],
          "name": "stdout"
        }
      ]
    },
    {
      "metadata": {
        "id": "5PPl15Mwi5Sd",
        "colab_type": "code",
        "colab": {
          "base_uri": "https://localhost:8080/",
          "height": 751
        },
        "outputId": "536ff049-8a0b-484d-fe56-48128cd2ac65"
      },
      "cell_type": "code",
      "source": [
        "print (\"Creating average feature vecs for test reviews\")\n",
        "clean_test_reviews = []\n",
        "for review in X_test:\n",
        "    clean_test_reviews.append( review_to_wordlist( review))\n",
        "        \n",
        "\n",
        "testDataVecs = getAvgFeatureVecs( clean_test_reviews, model, num_features )"
      ],
      "execution_count": 46,
      "outputs": [
        {
          "output_type": "stream",
          "text": [
            "Creating average feature vecs for test reviews\n",
            "Review 0 of 39000\n"
          ],
          "name": "stdout"
        },
        {
          "output_type": "stream",
          "text": [
            "/usr/local/lib/python3.6/dist-packages/ipykernel_launcher.py:12: DeprecationWarning: Call to deprecated `__getitem__` (Method will be removed in 4.0.0, use self.wv.__getitem__() instead).\n",
            "  if sys.path[0] == '':\n"
          ],
          "name": "stderr"
        },
        {
          "output_type": "stream",
          "text": [
            "Review 1000 of 39000\n",
            "Review 2000 of 39000\n",
            "Review 3000 of 39000\n",
            "Review 4000 of 39000\n",
            "Review 5000 of 39000\n",
            "Review 6000 of 39000\n",
            "Review 7000 of 39000\n",
            "Review 8000 of 39000\n",
            "Review 9000 of 39000\n",
            "Review 10000 of 39000\n",
            "Review 11000 of 39000\n",
            "Review 12000 of 39000\n",
            "Review 13000 of 39000\n",
            "Review 14000 of 39000\n",
            "Review 15000 of 39000\n",
            "Review 16000 of 39000\n",
            "Review 17000 of 39000\n",
            "Review 18000 of 39000\n",
            "Review 19000 of 39000\n",
            "Review 20000 of 39000\n",
            "Review 21000 of 39000\n",
            "Review 22000 of 39000\n",
            "Review 23000 of 39000\n",
            "Review 24000 of 39000\n",
            "Review 25000 of 39000\n",
            "Review 26000 of 39000\n",
            "Review 27000 of 39000\n",
            "Review 28000 of 39000\n",
            "Review 29000 of 39000\n",
            "Review 30000 of 39000\n",
            "Review 31000 of 39000\n",
            "Review 32000 of 39000\n",
            "Review 33000 of 39000\n",
            "Review 34000 of 39000\n",
            "Review 35000 of 39000\n",
            "Review 36000 of 39000\n",
            "Review 37000 of 39000\n",
            "Review 38000 of 39000\n"
          ],
          "name": "stdout"
        }
      ]
    },
    {
      "metadata": {
        "id": "I4Zo9wMxi5Sh",
        "colab_type": "code",
        "colab": {
          "base_uri": "https://localhost:8080/",
          "height": 34
        },
        "outputId": "30337d0f-a0b2-4526-92e9-61d75ad0575b"
      },
      "cell_type": "code",
      "source": [
        "# Fit a random forest to the training data, using 100 trees\n",
        "from sklearn.ensemble import RandomForestClassifier\n",
        "forest = RandomForestClassifier( n_estimators = 100 )\n",
        "\n",
        "print (\"Fitting a random forest to labeled training data...\")\n",
        "forest = forest.fit(trainDataVecs, y_train )\n",
        "\n",
        "# Test & extract results \n",
        "result = forest.predict(testDataVecs )\n"
      ],
      "execution_count": 47,
      "outputs": [
        {
          "output_type": "stream",
          "text": [
            "Fitting a random forest to labeled training data...\n"
          ],
          "name": "stdout"
        }
      ]
    },
    {
      "metadata": {
        "id": "l4FVsuEGi5So",
        "colab_type": "code",
        "colab": {}
      },
      "cell_type": "code",
      "source": [
        "from sklearn.metrics import classification_report, confusion_matrix, accuracy_score\n"
      ],
      "execution_count": 0,
      "outputs": []
    },
    {
      "metadata": {
        "id": "QKBV-tp7i5Su",
        "colab_type": "code",
        "colab": {
          "base_uri": "https://localhost:8080/",
          "height": 34
        },
        "outputId": "ce09b6b6-66e3-4761-a534-a99936487dcc"
      },
      "cell_type": "code",
      "source": [
        "print(accuracy_score(y_test, result))"
      ],
      "execution_count": 50,
      "outputs": [
        {
          "output_type": "stream",
          "text": [
            "0.9357435897435897\n"
          ],
          "name": "stdout"
        }
      ]
    },
    {
      "metadata": {
        "id": "GqbbO3uYC0K7",
        "colab_type": "text"
      },
      "cell_type": "markdown",
      "source": [
        "**Logistic Regression**"
      ]
    },
    {
      "metadata": {
        "id": "dW3dGkvsi5S0",
        "colab_type": "code",
        "colab": {}
      },
      "cell_type": "code",
      "source": [
        "from sklearn.linear_model import LogisticRegression"
      ],
      "execution_count": 0,
      "outputs": []
    },
    {
      "metadata": {
        "id": "NcUxsMAUi5S2",
        "colab_type": "code",
        "colab": {
          "base_uri": "https://localhost:8080/",
          "height": 105
        },
        "outputId": "9d1ee492-d59b-45e5-896c-86ff3eb0e6dc"
      },
      "cell_type": "code",
      "source": [
        "lg = LogisticRegression().fit(trainDataVecs, y_train)"
      ],
      "execution_count": 52,
      "outputs": [
        {
          "output_type": "stream",
          "text": [
            "/usr/local/lib/python3.6/dist-packages/sklearn/linear_model/logistic.py:433: FutureWarning: Default solver will be changed to 'lbfgs' in 0.22. Specify a solver to silence this warning.\n",
            "  FutureWarning)\n",
            "/usr/local/lib/python3.6/dist-packages/sklearn/linear_model/logistic.py:460: FutureWarning: Default multi_class will be changed to 'auto' in 0.22. Specify the multi_class option to silence this warning.\n",
            "  \"this warning.\", FutureWarning)\n"
          ],
          "name": "stderr"
        }
      ]
    },
    {
      "metadata": {
        "id": "J-TSqK8Ui5S6",
        "colab_type": "code",
        "colab": {}
      },
      "cell_type": "code",
      "source": [
        "yhattt = lg.predict(testDataVecs)"
      ],
      "execution_count": 0,
      "outputs": []
    },
    {
      "metadata": {
        "id": "KJS1Vgc3i5S9",
        "colab_type": "code",
        "colab": {
          "base_uri": "https://localhost:8080/",
          "height": 34
        },
        "outputId": "de26ce2c-1ce7-4c2d-cb5c-0d3c205d600b"
      },
      "cell_type": "code",
      "source": [
        "print(accuracy_score(y_test, yhattt))"
      ],
      "execution_count": 54,
      "outputs": [
        {
          "output_type": "stream",
          "text": [
            "0.5733589743589743\n"
          ],
          "name": "stdout"
        }
      ]
    },
    {
      "metadata": {
        "id": "ELnCcG-OCwS0",
        "colab_type": "text"
      },
      "cell_type": "markdown",
      "source": [
        "### This model (word2vec) for protein classifications has many improvements to be done.\n",
        "* The number of n grams needs to be tuned for it. It might be that 4 or 3 grams may work well, because it might not captures the essence of the function. May be try longer ones\n",
        "\n",
        "* Train the whole DF, since  this only contains randomly selected 120000 rows\n",
        "\n",
        "* Literature review suggests, few research have tried word2vec to tackle protein classification. \n",
        "\n",
        "* Word2vec works really well with pretrained data. People used google pretrained words to make vectors which have similar and semantic realtionship. We dont have a pretrained dataset for proteins that captures functional relationship based on n grams that we have used.\n",
        "\n",
        "* This is very much numerically demanding process. Since it depends on the length of the proteins and after creating n grams, it just increases the number of features too much as compared to when analyzing sentiment or review analysis(which could be trained with pretrained data)\n",
        "\n",
        "* Nevertheless word2vec is a powerful tool to learn to tackle problems related to real world texts"
      ]
    },
    {
      "metadata": {
        "id": "MW47cBFgi5V6",
        "colab_type": "code",
        "colab": {}
      },
      "cell_type": "code",
      "source": [
        ""
      ],
      "execution_count": 0,
      "outputs": []
    },
    {
      "metadata": {
        "id": "DO6QUz7pi5V8",
        "colab_type": "code",
        "colab": {}
      },
      "cell_type": "code",
      "source": [
        ""
      ],
      "execution_count": 0,
      "outputs": []
    },
    {
      "metadata": {
        "id": "SHIrfUEli5V9",
        "colab_type": "code",
        "colab": {}
      },
      "cell_type": "code",
      "source": [
        ""
      ],
      "execution_count": 0,
      "outputs": []
    },
    {
      "metadata": {
        "id": "Ux0YsTEUi5V-",
        "colab_type": "code",
        "colab": {}
      },
      "cell_type": "code",
      "source": [
        ""
      ],
      "execution_count": 0,
      "outputs": []
    },
    {
      "metadata": {
        "id": "pEyVv7ROi5V_",
        "colab_type": "code",
        "colab": {}
      },
      "cell_type": "code",
      "source": [
        ""
      ],
      "execution_count": 0,
      "outputs": []
    },
    {
      "metadata": {
        "id": "wZwkXppJi5WA",
        "colab_type": "code",
        "colab": {}
      },
      "cell_type": "code",
      "source": [
        ""
      ],
      "execution_count": 0,
      "outputs": []
    },
    {
      "metadata": {
        "id": "wV-1EUmLi5WF",
        "colab_type": "code",
        "colab": {}
      },
      "cell_type": "code",
      "source": [
        ""
      ],
      "execution_count": 0,
      "outputs": []
    },
    {
      "metadata": {
        "id": "zpLzsfVTi5WI",
        "colab_type": "code",
        "colab": {}
      },
      "cell_type": "code",
      "source": [
        ""
      ],
      "execution_count": 0,
      "outputs": []
    },
    {
      "metadata": {
        "id": "q4Zx3z_bi5WJ",
        "colab_type": "code",
        "colab": {}
      },
      "cell_type": "code",
      "source": [
        ""
      ],
      "execution_count": 0,
      "outputs": []
    },
    {
      "metadata": {
        "id": "Nh-gLoj4i5WN",
        "colab_type": "code",
        "colab": {}
      },
      "cell_type": "code",
      "source": [
        ""
      ],
      "execution_count": 0,
      "outputs": []
    },
    {
      "metadata": {
        "id": "fFzTKZWii5WO",
        "colab_type": "code",
        "colab": {}
      },
      "cell_type": "code",
      "source": [
        ""
      ],
      "execution_count": 0,
      "outputs": []
    },
    {
      "metadata": {
        "id": "wa6E8CY4i5WQ",
        "colab_type": "code",
        "colab": {}
      },
      "cell_type": "code",
      "source": [
        ""
      ],
      "execution_count": 0,
      "outputs": []
    },
    {
      "metadata": {
        "id": "mfg0-PNni5WS",
        "colab_type": "code",
        "colab": {}
      },
      "cell_type": "code",
      "source": [
        ""
      ],
      "execution_count": 0,
      "outputs": []
    },
    {
      "metadata": {
        "id": "Ebu_JNl6i5WT",
        "colab_type": "code",
        "colab": {}
      },
      "cell_type": "code",
      "source": [
        ""
      ],
      "execution_count": 0,
      "outputs": []
    },
    {
      "metadata": {
        "id": "N9iSTEOmi5WW",
        "colab_type": "code",
        "colab": {}
      },
      "cell_type": "code",
      "source": [
        ""
      ],
      "execution_count": 0,
      "outputs": []
    },
    {
      "metadata": {
        "id": "BtRyg9eji5YZ",
        "colab_type": "code",
        "colab": {}
      },
      "cell_type": "code",
      "source": [
        ""
      ],
      "execution_count": 0,
      "outputs": []
    },
    {
      "metadata": {
        "id": "rgTf3eiwi5Z1",
        "colab_type": "code",
        "colab": {}
      },
      "cell_type": "code",
      "source": [
        ""
      ],
      "execution_count": 0,
      "outputs": []
    },
    {
      "metadata": {
        "id": "0SLvP8T3i5Z2",
        "colab_type": "code",
        "colab": {}
      },
      "cell_type": "code",
      "source": [
        ""
      ],
      "execution_count": 0,
      "outputs": []
    },
    {
      "metadata": {
        "id": "hgi1N4WPi5Z4",
        "colab_type": "code",
        "colab": {}
      },
      "cell_type": "code",
      "source": [
        ""
      ],
      "execution_count": 0,
      "outputs": []
    },
    {
      "metadata": {
        "id": "BCCg6-wwi5Z5",
        "colab_type": "code",
        "colab": {}
      },
      "cell_type": "code",
      "source": [
        ""
      ],
      "execution_count": 0,
      "outputs": []
    },
    {
      "metadata": {
        "id": "GRIz6Ri5i5Z6",
        "colab_type": "code",
        "colab": {}
      },
      "cell_type": "code",
      "source": [
        ""
      ],
      "execution_count": 0,
      "outputs": []
    },
    {
      "metadata": {
        "id": "S4PtLJBwi5aa",
        "colab_type": "code",
        "colab": {}
      },
      "cell_type": "code",
      "source": [
        ""
      ],
      "execution_count": 0,
      "outputs": []
    },
    {
      "metadata": {
        "id": "8-9B0qdDi5as",
        "colab_type": "code",
        "colab": {}
      },
      "cell_type": "code",
      "source": [
        ""
      ],
      "execution_count": 0,
      "outputs": []
    },
    {
      "metadata": {
        "id": "JbxtZ2v_i5at",
        "colab_type": "code",
        "colab": {}
      },
      "cell_type": "code",
      "source": [
        ""
      ],
      "execution_count": 0,
      "outputs": []
    },
    {
      "metadata": {
        "id": "KVBgVCMGi5av",
        "colab_type": "code",
        "colab": {}
      },
      "cell_type": "code",
      "source": [
        ""
      ],
      "execution_count": 0,
      "outputs": []
    }
  ]
}